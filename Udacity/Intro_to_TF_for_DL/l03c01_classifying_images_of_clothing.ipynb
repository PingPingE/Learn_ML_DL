{
  "nbformat": 4,
  "nbformat_minor": 0,
  "metadata": {
    "accelerator": "GPU",
    "colab": {
      "name": "l03c01_classifying_images_of_clothing.ipynb의 사본",
      "provenance": [],
      "collapsed_sections": [
        "punL79CN7Ox6"
      ],
      "include_colab_link": true
    },
    "kernelspec": {
      "display_name": "Python 3",
      "name": "python3"
    }
  },
  "cells": [
    {
      "cell_type": "markdown",
      "metadata": {
        "id": "view-in-github",
        "colab_type": "text"
      },
      "source": [
        "<a href=\"https://colab.research.google.com/github/PingPingE/Learn_Tensorflow/blob/main/Udacity/Intro_to_TF_for_DL/l03c01_classifying_images_of_clothing.ipynb\" target=\"_parent\"><img src=\"https://colab.research.google.com/assets/colab-badge.svg\" alt=\"Open In Colab\"/></a>"
      ]
    },
    {
      "cell_type": "markdown",
      "metadata": {
        "id": "punL79CN7Ox6"
      },
      "source": [
        "##### Copyright 2018 The TensorFlow Authors."
      ]
    },
    {
      "cell_type": "code",
      "metadata": {
        "cellView": "form",
        "id": "_ckMIh7O7s6D"
      },
      "source": [
        "#@title Licensed under the Apache License, Version 2.0 (the \"License\");\n",
        "# you may not use this file except in compliance with the License.\n",
        "# You may obtain a copy of the License at\n",
        "#\n",
        "# https://www.apache.org/licenses/LICENSE-2.0\n",
        "#\n",
        "# Unless required by applicable law or agreed to in writing, software\n",
        "# distributed under the License is distributed on an \"AS IS\" BASIS,\n",
        "# WITHOUT WARRANTIES OR CONDITIONS OF ANY KIND, either express or implied.\n",
        "# See the License for the specific language governing permissions and\n",
        "# limitations under the License."
      ],
      "execution_count": 1,
      "outputs": []
    },
    {
      "cell_type": "code",
      "metadata": {
        "cellView": "form",
        "id": "vasWnqRgy1H4"
      },
      "source": [
        "#@title MIT License\n",
        "#\n",
        "# Copyright (c) 2017 François Chollet\n",
        "#\n",
        "# Permission is hereby granted, free of charge, to any person obtaining a\n",
        "# copy of this software and associated documentation files (the \"Software\"),\n",
        "# to deal in the Software without restriction, including without limitation\n",
        "# the rights to use, copy, modify, merge, publish, distribute, sublicense,\n",
        "# and/or sell copies of the Software, and to permit persons to whom the\n",
        "# Software is furnished to do so, subject to the following conditions:\n",
        "#\n",
        "# The above copyright notice and this permission notice shall be included in\n",
        "# all copies or substantial portions of the Software.\n",
        "#\n",
        "# THE SOFTWARE IS PROVIDED \"AS IS\", WITHOUT WARRANTY OF ANY KIND, EXPRESS OR\n",
        "# IMPLIED, INCLUDING BUT NOT LIMITED TO THE WARRANTIES OF MERCHANTABILITY,\n",
        "# FITNESS FOR A PARTICULAR PURPOSE AND NONINFRINGEMENT. IN NO EVENT SHALL\n",
        "# THE AUTHORS OR COPYRIGHT HOLDERS BE LIABLE FOR ANY CLAIM, DAMAGES OR OTHER\n",
        "# LIABILITY, WHETHER IN AN ACTION OF CONTRACT, TORT OR OTHERWISE, ARISING\n",
        "# FROM, OUT OF OR IN CONNECTION WITH THE SOFTWARE OR THE USE OR OTHER\n",
        "# DEALINGS IN THE SOFTWARE."
      ],
      "execution_count": 2,
      "outputs": []
    },
    {
      "cell_type": "markdown",
      "metadata": {
        "id": "jYysdyb-CaWM"
      },
      "source": [
        "# Classifying Images of Clothing"
      ]
    },
    {
      "cell_type": "markdown",
      "metadata": {
        "id": "S5Uhzt6vVIB2"
      },
      "source": [
        "<table class=\"tfo-notebook-buttons\" align=\"left\">\n",
        "  <td>\n",
        "    <a target=\"_blank\" href=\"https://colab.research.google.com/github/tensorflow/examples/blob/master/courses/udacity_intro_to_tensorflow_for_deep_learning/l03c01_classifying_images_of_clothing.ipynb\"><img src=\"https://www.tensorflow.org/images/colab_logo_32px.png\" />Run in Google Colab</a>\n",
        "  </td>\n",
        "  <td>\n",
        "    <a target=\"_blank\" href=\"https://github.com/tensorflow/examples/blob/master/courses/udacity_intro_to_tensorflow_for_deep_learning/l03c01_classifying_images_of_clothing.ipynb\"><img src=\"https://www.tensorflow.org/images/GitHub-Mark-32px.png\" />View source on GitHub</a>\n",
        "  </td>\n",
        "</table>"
      ]
    },
    {
      "cell_type": "markdown",
      "metadata": {
        "id": "FbVhjPpzn6BM"
      },
      "source": [
        "In this tutorial, we'll build and train a neural network to classify images of clothing, like sneakers and shirts.\n",
        "\n",
        "It's okay if you don't understand everything. This is a fast-paced overview of a complete TensorFlow program, with explanations along the way. The goal is to get the general sense of a TensorFlow project, not to catch every detail.\n",
        "\n",
        "This guide uses [tf.keras](https://www.tensorflow.org/guide/keras), a high-level API to build and train models in TensorFlow."
      ]
    },
    {
      "cell_type": "markdown",
      "metadata": {
        "id": "H0tMfX2vR0uD"
      },
      "source": [
        "## Install and import dependencies\n",
        "\n",
        "We'll need [TensorFlow Datasets](https://www.tensorflow.org/datasets/), an API that simplifies downloading and accessing datasets, and provides several sample datasets to work with. We're also using a few helper libraries."
      ]
    },
    {
      "cell_type": "code",
      "metadata": {
        "id": "P7mUJVqcINSM",
        "colab": {
          "base_uri": "https://localhost:8080/"
        },
        "outputId": "ed437366-6e08-48f2-c1dd-947e1b52b355"
      },
      "source": [
        "!pip install -U tensorflow_datasets"
      ],
      "execution_count": 3,
      "outputs": [
        {
          "output_type": "stream",
          "text": [
            "Collecting tensorflow_datasets\n",
            "\u001b[?25l  Downloading https://files.pythonhosted.org/packages/8b/02/c1260ff4caf483c01ce36ca45a63f05417f732d94ec42cce292355dc7ea4/tensorflow_datasets-4.1.0-py3-none-any.whl (3.6MB)\n",
            "\r\u001b[K     |                                | 10kB 21.5MB/s eta 0:00:01\r\u001b[K     |▏                               | 20kB 27.9MB/s eta 0:00:01\r\u001b[K     |▎                               | 30kB 33.0MB/s eta 0:00:01\r\u001b[K     |▍                               | 40kB 28.8MB/s eta 0:00:01\r\u001b[K     |▌                               | 51kB 27.2MB/s eta 0:00:01\r\u001b[K     |▌                               | 61kB 21.9MB/s eta 0:00:01\r\u001b[K     |▋                               | 71kB 18.3MB/s eta 0:00:01\r\u001b[K     |▊                               | 81kB 17.5MB/s eta 0:00:01\r\u001b[K     |▉                               | 92kB 17.9MB/s eta 0:00:01\r\u001b[K     |█                               | 102kB 17.2MB/s eta 0:00:01\r\u001b[K     |█                               | 112kB 17.2MB/s eta 0:00:01\r\u001b[K     |█                               | 122kB 17.2MB/s eta 0:00:01\r\u001b[K     |█▏                              | 133kB 17.2MB/s eta 0:00:01\r\u001b[K     |█▎                              | 143kB 17.2MB/s eta 0:00:01\r\u001b[K     |█▍                              | 153kB 17.2MB/s eta 0:00:01\r\u001b[K     |█▌                              | 163kB 17.2MB/s eta 0:00:01\r\u001b[K     |█▌                              | 174kB 17.2MB/s eta 0:00:01\r\u001b[K     |█▋                              | 184kB 17.2MB/s eta 0:00:01\r\u001b[K     |█▊                              | 194kB 17.2MB/s eta 0:00:01\r\u001b[K     |█▉                              | 204kB 17.2MB/s eta 0:00:01\r\u001b[K     |██                              | 215kB 17.2MB/s eta 0:00:01\r\u001b[K     |██                              | 225kB 17.2MB/s eta 0:00:01\r\u001b[K     |██                              | 235kB 17.2MB/s eta 0:00:01\r\u001b[K     |██▏                             | 245kB 17.2MB/s eta 0:00:01\r\u001b[K     |██▎                             | 256kB 17.2MB/s eta 0:00:01\r\u001b[K     |██▍                             | 266kB 17.2MB/s eta 0:00:01\r\u001b[K     |██▌                             | 276kB 17.2MB/s eta 0:00:01\r\u001b[K     |██▌                             | 286kB 17.2MB/s eta 0:00:01\r\u001b[K     |██▋                             | 296kB 17.2MB/s eta 0:00:01\r\u001b[K     |██▊                             | 307kB 17.2MB/s eta 0:00:01\r\u001b[K     |██▉                             | 317kB 17.2MB/s eta 0:00:01\r\u001b[K     |███                             | 327kB 17.2MB/s eta 0:00:01\r\u001b[K     |███                             | 337kB 17.2MB/s eta 0:00:01\r\u001b[K     |███                             | 348kB 17.2MB/s eta 0:00:01\r\u001b[K     |███▏                            | 358kB 17.2MB/s eta 0:00:01\r\u001b[K     |███▎                            | 368kB 17.2MB/s eta 0:00:01\r\u001b[K     |███▍                            | 378kB 17.2MB/s eta 0:00:01\r\u001b[K     |███▍                            | 389kB 17.2MB/s eta 0:00:01\r\u001b[K     |███▌                            | 399kB 17.2MB/s eta 0:00:01\r\u001b[K     |███▋                            | 409kB 17.2MB/s eta 0:00:01\r\u001b[K     |███▊                            | 419kB 17.2MB/s eta 0:00:01\r\u001b[K     |███▉                            | 430kB 17.2MB/s eta 0:00:01\r\u001b[K     |████                            | 440kB 17.2MB/s eta 0:00:01\r\u001b[K     |████                            | 450kB 17.2MB/s eta 0:00:01\r\u001b[K     |████                            | 460kB 17.2MB/s eta 0:00:01\r\u001b[K     |████▏                           | 471kB 17.2MB/s eta 0:00:01\r\u001b[K     |████▎                           | 481kB 17.2MB/s eta 0:00:01\r\u001b[K     |████▍                           | 491kB 17.2MB/s eta 0:00:01\r\u001b[K     |████▍                           | 501kB 17.2MB/s eta 0:00:01\r\u001b[K     |████▌                           | 512kB 17.2MB/s eta 0:00:01\r\u001b[K     |████▋                           | 522kB 17.2MB/s eta 0:00:01\r\u001b[K     |████▊                           | 532kB 17.2MB/s eta 0:00:01\r\u001b[K     |████▉                           | 542kB 17.2MB/s eta 0:00:01\r\u001b[K     |█████                           | 552kB 17.2MB/s eta 0:00:01\r\u001b[K     |█████                           | 563kB 17.2MB/s eta 0:00:01\r\u001b[K     |█████                           | 573kB 17.2MB/s eta 0:00:01\r\u001b[K     |█████▏                          | 583kB 17.2MB/s eta 0:00:01\r\u001b[K     |█████▎                          | 593kB 17.2MB/s eta 0:00:01\r\u001b[K     |█████▍                          | 604kB 17.2MB/s eta 0:00:01\r\u001b[K     |█████▍                          | 614kB 17.2MB/s eta 0:00:01\r\u001b[K     |█████▌                          | 624kB 17.2MB/s eta 0:00:01\r\u001b[K     |█████▋                          | 634kB 17.2MB/s eta 0:00:01\r\u001b[K     |█████▊                          | 645kB 17.2MB/s eta 0:00:01\r\u001b[K     |█████▉                          | 655kB 17.2MB/s eta 0:00:01\r\u001b[K     |█████▉                          | 665kB 17.2MB/s eta 0:00:01\r\u001b[K     |██████                          | 675kB 17.2MB/s eta 0:00:01\r\u001b[K     |██████                          | 686kB 17.2MB/s eta 0:00:01\r\u001b[K     |██████▏                         | 696kB 17.2MB/s eta 0:00:01\r\u001b[K     |██████▎                         | 706kB 17.2MB/s eta 0:00:01\r\u001b[K     |██████▍                         | 716kB 17.2MB/s eta 0:00:01\r\u001b[K     |██████▍                         | 727kB 17.2MB/s eta 0:00:01\r\u001b[K     |██████▌                         | 737kB 17.2MB/s eta 0:00:01\r\u001b[K     |██████▋                         | 747kB 17.2MB/s eta 0:00:01\r\u001b[K     |██████▊                         | 757kB 17.2MB/s eta 0:00:01\r\u001b[K     |██████▉                         | 768kB 17.2MB/s eta 0:00:01\r\u001b[K     |██████▉                         | 778kB 17.2MB/s eta 0:00:01\r\u001b[K     |███████                         | 788kB 17.2MB/s eta 0:00:01\r\u001b[K     |███████                         | 798kB 17.2MB/s eta 0:00:01\r\u001b[K     |███████▏                        | 808kB 17.2MB/s eta 0:00:01\r\u001b[K     |███████▎                        | 819kB 17.2MB/s eta 0:00:01\r\u001b[K     |███████▍                        | 829kB 17.2MB/s eta 0:00:01\r\u001b[K     |███████▍                        | 839kB 17.2MB/s eta 0:00:01\r\u001b[K     |███████▌                        | 849kB 17.2MB/s eta 0:00:01\r\u001b[K     |███████▋                        | 860kB 17.2MB/s eta 0:00:01\r\u001b[K     |███████▊                        | 870kB 17.2MB/s eta 0:00:01\r\u001b[K     |███████▉                        | 880kB 17.2MB/s eta 0:00:01\r\u001b[K     |███████▉                        | 890kB 17.2MB/s eta 0:00:01\r\u001b[K     |████████                        | 901kB 17.2MB/s eta 0:00:01\r\u001b[K     |████████                        | 911kB 17.2MB/s eta 0:00:01\r\u001b[K     |████████▏                       | 921kB 17.2MB/s eta 0:00:01\r\u001b[K     |████████▎                       | 931kB 17.2MB/s eta 0:00:01\r\u001b[K     |████████▎                       | 942kB 17.2MB/s eta 0:00:01\r\u001b[K     |████████▍                       | 952kB 17.2MB/s eta 0:00:01\r\u001b[K     |████████▌                       | 962kB 17.2MB/s eta 0:00:01\r\u001b[K     |████████▋                       | 972kB 17.2MB/s eta 0:00:01\r\u001b[K     |████████▊                       | 983kB 17.2MB/s eta 0:00:01\r\u001b[K     |████████▉                       | 993kB 17.2MB/s eta 0:00:01\r\u001b[K     |████████▉                       | 1.0MB 17.2MB/s eta 0:00:01\r\u001b[K     |█████████                       | 1.0MB 17.2MB/s eta 0:00:01\r\u001b[K     |█████████                       | 1.0MB 17.2MB/s eta 0:00:01\r\u001b[K     |█████████▏                      | 1.0MB 17.2MB/s eta 0:00:01\r\u001b[K     |█████████▎                      | 1.0MB 17.2MB/s eta 0:00:01\r\u001b[K     |█████████▎                      | 1.1MB 17.2MB/s eta 0:00:01\r\u001b[K     |█████████▍                      | 1.1MB 17.2MB/s eta 0:00:01\r\u001b[K     |█████████▌                      | 1.1MB 17.2MB/s eta 0:00:01\r\u001b[K     |█████████▋                      | 1.1MB 17.2MB/s eta 0:00:01\r\u001b[K     |█████████▊                      | 1.1MB 17.2MB/s eta 0:00:01\r\u001b[K     |█████████▉                      | 1.1MB 17.2MB/s eta 0:00:01\r\u001b[K     |█████████▉                      | 1.1MB 17.2MB/s eta 0:00:01\r\u001b[K     |██████████                      | 1.1MB 17.2MB/s eta 0:00:01\r\u001b[K     |██████████                      | 1.1MB 17.2MB/s eta 0:00:01\r\u001b[K     |██████████▏                     | 1.1MB 17.2MB/s eta 0:00:01\r\u001b[K     |██████████▎                     | 1.2MB 17.2MB/s eta 0:00:01\r\u001b[K     |██████████▎                     | 1.2MB 17.2MB/s eta 0:00:01\r\u001b[K     |██████████▍                     | 1.2MB 17.2MB/s eta 0:00:01\r\u001b[K     |██████████▌                     | 1.2MB 17.2MB/s eta 0:00:01\r\u001b[K     |██████████▋                     | 1.2MB 17.2MB/s eta 0:00:01\r\u001b[K     |██████████▊                     | 1.2MB 17.2MB/s eta 0:00:01\r\u001b[K     |██████████▊                     | 1.2MB 17.2MB/s eta 0:00:01\r\u001b[K     |██████████▉                     | 1.2MB 17.2MB/s eta 0:00:01\r\u001b[K     |███████████                     | 1.2MB 17.2MB/s eta 0:00:01\r\u001b[K     |███████████                     | 1.2MB 17.2MB/s eta 0:00:01\r\u001b[K     |███████████▏                    | 1.3MB 17.2MB/s eta 0:00:01\r\u001b[K     |███████████▎                    | 1.3MB 17.2MB/s eta 0:00:01\r\u001b[K     |███████████▎                    | 1.3MB 17.2MB/s eta 0:00:01\r\u001b[K     |███████████▍                    | 1.3MB 17.2MB/s eta 0:00:01\r\u001b[K     |███████████▌                    | 1.3MB 17.2MB/s eta 0:00:01\r\u001b[K     |███████████▋                    | 1.3MB 17.2MB/s eta 0:00:01\r\u001b[K     |███████████▊                    | 1.3MB 17.2MB/s eta 0:00:01\r\u001b[K     |███████████▊                    | 1.3MB 17.2MB/s eta 0:00:01\r\u001b[K     |███████████▉                    | 1.3MB 17.2MB/s eta 0:00:01\r\u001b[K     |████████████                    | 1.4MB 17.2MB/s eta 0:00:01\r\u001b[K     |████████████                    | 1.4MB 17.2MB/s eta 0:00:01\r\u001b[K     |████████████▏                   | 1.4MB 17.2MB/s eta 0:00:01\r\u001b[K     |████████████▎                   | 1.4MB 17.2MB/s eta 0:00:01\r\u001b[K     |████████████▎                   | 1.4MB 17.2MB/s eta 0:00:01\r\u001b[K     |████████████▍                   | 1.4MB 17.2MB/s eta 0:00:01\r\u001b[K     |████████████▌                   | 1.4MB 17.2MB/s eta 0:00:01\r\u001b[K     |████████████▋                   | 1.4MB 17.2MB/s eta 0:00:01\r\u001b[K     |████████████▊                   | 1.4MB 17.2MB/s eta 0:00:01\r\u001b[K     |████████████▊                   | 1.4MB 17.2MB/s eta 0:00:01\r\u001b[K     |████████████▉                   | 1.5MB 17.2MB/s eta 0:00:01\r\u001b[K     |█████████████                   | 1.5MB 17.2MB/s eta 0:00:01\r\u001b[K     |█████████████                   | 1.5MB 17.2MB/s eta 0:00:01\r\u001b[K     |█████████████▏                  | 1.5MB 17.2MB/s eta 0:00:01\r\u001b[K     |█████████████▏                  | 1.5MB 17.2MB/s eta 0:00:01\r\u001b[K     |█████████████▎                  | 1.5MB 17.2MB/s eta 0:00:01\r\u001b[K     |█████████████▍                  | 1.5MB 17.2MB/s eta 0:00:01\r\u001b[K     |█████████████▌                  | 1.5MB 17.2MB/s eta 0:00:01\r\u001b[K     |█████████████▋                  | 1.5MB 17.2MB/s eta 0:00:01\r\u001b[K     |█████████████▊                  | 1.5MB 17.2MB/s eta 0:00:01\r\u001b[K     |█████████████▊                  | 1.6MB 17.2MB/s eta 0:00:01\r\u001b[K     |█████████████▉                  | 1.6MB 17.2MB/s eta 0:00:01\r\u001b[K     |██████████████                  | 1.6MB 17.2MB/s eta 0:00:01\r\u001b[K     |██████████████                  | 1.6MB 17.2MB/s eta 0:00:01\r\u001b[K     |██████████████▏                 | 1.6MB 17.2MB/s eta 0:00:01\r\u001b[K     |██████████████▏                 | 1.6MB 17.2MB/s eta 0:00:01\r\u001b[K     |██████████████▎                 | 1.6MB 17.2MB/s eta 0:00:01\r\u001b[K     |██████████████▍                 | 1.6MB 17.2MB/s eta 0:00:01\r\u001b[K     |██████████████▌                 | 1.6MB 17.2MB/s eta 0:00:01\r\u001b[K     |██████████████▋                 | 1.6MB 17.2MB/s eta 0:00:01\r\u001b[K     |██████████████▊                 | 1.7MB 17.2MB/s eta 0:00:01\r\u001b[K     |██████████████▊                 | 1.7MB 17.2MB/s eta 0:00:01\r\u001b[K     |██████████████▉                 | 1.7MB 17.2MB/s eta 0:00:01\r\u001b[K     |███████████████                 | 1.7MB 17.2MB/s eta 0:00:01\r\u001b[K     |███████████████                 | 1.7MB 17.2MB/s eta 0:00:01\r\u001b[K     |███████████████▏                | 1.7MB 17.2MB/s eta 0:00:01\r\u001b[K     |███████████████▏                | 1.7MB 17.2MB/s eta 0:00:01\r\u001b[K     |███████████████▎                | 1.7MB 17.2MB/s eta 0:00:01\r\u001b[K     |███████████████▍                | 1.7MB 17.2MB/s eta 0:00:01\r\u001b[K     |███████████████▌                | 1.8MB 17.2MB/s eta 0:00:01\r\u001b[K     |███████████████▋                | 1.8MB 17.2MB/s eta 0:00:01\r\u001b[K     |███████████████▋                | 1.8MB 17.2MB/s eta 0:00:01\r\u001b[K     |███████████████▊                | 1.8MB 17.2MB/s eta 0:00:01\r\u001b[K     |███████████████▉                | 1.8MB 17.2MB/s eta 0:00:01\r\u001b[K     |████████████████                | 1.8MB 17.2MB/s eta 0:00:01\r\u001b[K     |████████████████                | 1.8MB 17.2MB/s eta 0:00:01\r\u001b[K     |████████████████▏               | 1.8MB 17.2MB/s eta 0:00:01\r\u001b[K     |████████████████▏               | 1.8MB 17.2MB/s eta 0:00:01\r\u001b[K     |████████████████▎               | 1.8MB 17.2MB/s eta 0:00:01\r\u001b[K     |████████████████▍               | 1.9MB 17.2MB/s eta 0:00:01\r\u001b[K     |████████████████▌               | 1.9MB 17.2MB/s eta 0:00:01\r\u001b[K     |████████████████▋               | 1.9MB 17.2MB/s eta 0:00:01\r\u001b[K     |████████████████▋               | 1.9MB 17.2MB/s eta 0:00:01\r\u001b[K     |████████████████▊               | 1.9MB 17.2MB/s eta 0:00:01\r\u001b[K     |████████████████▉               | 1.9MB 17.2MB/s eta 0:00:01\r\u001b[K     |█████████████████               | 1.9MB 17.2MB/s eta 0:00:01\r\u001b[K     |█████████████████               | 1.9MB 17.2MB/s eta 0:00:01\r\u001b[K     |█████████████████▏              | 1.9MB 17.2MB/s eta 0:00:01\r\u001b[K     |█████████████████▏              | 1.9MB 17.2MB/s eta 0:00:01\r\u001b[K     |█████████████████▎              | 2.0MB 17.2MB/s eta 0:00:01\r\u001b[K     |█████████████████▍              | 2.0MB 17.2MB/s eta 0:00:01\r\u001b[K     |█████████████████▌              | 2.0MB 17.2MB/s eta 0:00:01\r\u001b[K     |█████████████████▋              | 2.0MB 17.2MB/s eta 0:00:01\r\u001b[K     |█████████████████▋              | 2.0MB 17.2MB/s eta 0:00:01\r\u001b[K     |█████████████████▊              | 2.0MB 17.2MB/s eta 0:00:01\r\u001b[K     |█████████████████▉              | 2.0MB 17.2MB/s eta 0:00:01\r\u001b[K     |██████████████████              | 2.0MB 17.2MB/s eta 0:00:01\r\u001b[K     |██████████████████              | 2.0MB 17.2MB/s eta 0:00:01\r\u001b[K     |██████████████████              | 2.0MB 17.2MB/s eta 0:00:01\r\u001b[K     |██████████████████▏             | 2.1MB 17.2MB/s eta 0:00:01\r\u001b[K     |██████████████████▎             | 2.1MB 17.2MB/s eta 0:00:01\r\u001b[K     |██████████████████▍             | 2.1MB 17.2MB/s eta 0:00:01\r\u001b[K     |██████████████████▌             | 2.1MB 17.2MB/s eta 0:00:01\r\u001b[K     |██████████████████▋             | 2.1MB 17.2MB/s eta 0:00:01\r\u001b[K     |██████████████████▋             | 2.1MB 17.2MB/s eta 0:00:01\r\u001b[K     |██████████████████▊             | 2.1MB 17.2MB/s eta 0:00:01\r\u001b[K     |██████████████████▉             | 2.1MB 17.2MB/s eta 0:00:01\r\u001b[K     |███████████████████             | 2.1MB 17.2MB/s eta 0:00:01\r\u001b[K     |███████████████████             | 2.2MB 17.2MB/s eta 0:00:01\r\u001b[K     |███████████████████             | 2.2MB 17.2MB/s eta 0:00:01\r\u001b[K     |███████████████████▏            | 2.2MB 17.2MB/s eta 0:00:01\r\u001b[K     |███████████████████▎            | 2.2MB 17.2MB/s eta 0:00:01\r\u001b[K     |███████████████████▍            | 2.2MB 17.2MB/s eta 0:00:01\r\u001b[K     |███████████████████▌            | 2.2MB 17.2MB/s eta 0:00:01\r\u001b[K     |███████████████████▋            | 2.2MB 17.2MB/s eta 0:00:01\r\u001b[K     |███████████████████▋            | 2.2MB 17.2MB/s eta 0:00:01\r\u001b[K     |███████████████████▊            | 2.2MB 17.2MB/s eta 0:00:01\r\u001b[K     |███████████████████▉            | 2.2MB 17.2MB/s eta 0:00:01\r\u001b[K     |████████████████████            | 2.3MB 17.2MB/s eta 0:00:01\r\u001b[K     |████████████████████            | 2.3MB 17.2MB/s eta 0:00:01\r\u001b[K     |████████████████████            | 2.3MB 17.2MB/s eta 0:00:01\r\u001b[K     |████████████████████▏           | 2.3MB 17.2MB/s eta 0:00:01\r\u001b[K     |████████████████████▎           | 2.3MB 17.2MB/s eta 0:00:01\r\u001b[K     |████████████████████▍           | 2.3MB 17.2MB/s eta 0:00:01\r\u001b[K     |████████████████████▌           | 2.3MB 17.2MB/s eta 0:00:01\r\u001b[K     |████████████████████▌           | 2.3MB 17.2MB/s eta 0:00:01\r\u001b[K     |████████████████████▋           | 2.3MB 17.2MB/s eta 0:00:01\r\u001b[K     |████████████████████▊           | 2.3MB 17.2MB/s eta 0:00:01\r\u001b[K     |████████████████████▉           | 2.4MB 17.2MB/s eta 0:00:01\r\u001b[K     |█████████████████████           | 2.4MB 17.2MB/s eta 0:00:01\r\u001b[K     |█████████████████████           | 2.4MB 17.2MB/s eta 0:00:01\r\u001b[K     |█████████████████████           | 2.4MB 17.2MB/s eta 0:00:01\r\u001b[K     |█████████████████████▏          | 2.4MB 17.2MB/s eta 0:00:01\r\u001b[K     |█████████████████████▎          | 2.4MB 17.2MB/s eta 0:00:01\r\u001b[K     |█████████████████████▍          | 2.4MB 17.2MB/s eta 0:00:01\r\u001b[K     |█████████████████████▌          | 2.4MB 17.2MB/s eta 0:00:01\r\u001b[K     |█████████████████████▌          | 2.4MB 17.2MB/s eta 0:00:01\r\u001b[K     |█████████████████████▋          | 2.4MB 17.2MB/s eta 0:00:01\r\u001b[K     |█████████████████████▊          | 2.5MB 17.2MB/s eta 0:00:01\r\u001b[K     |█████████████████████▉          | 2.5MB 17.2MB/s eta 0:00:01\r\u001b[K     |██████████████████████          | 2.5MB 17.2MB/s eta 0:00:01\r\u001b[K     |██████████████████████          | 2.5MB 17.2MB/s eta 0:00:01\r\u001b[K     |██████████████████████          | 2.5MB 17.2MB/s eta 0:00:01\r\u001b[K     |██████████████████████▏         | 2.5MB 17.2MB/s eta 0:00:01\r\u001b[K     |██████████████████████▎         | 2.5MB 17.2MB/s eta 0:00:01\r\u001b[K     |██████████████████████▍         | 2.5MB 17.2MB/s eta 0:00:01\r\u001b[K     |██████████████████████▌         | 2.5MB 17.2MB/s eta 0:00:01\r\u001b[K     |██████████████████████▌         | 2.5MB 17.2MB/s eta 0:00:01\r\u001b[K     |██████████████████████▋         | 2.6MB 17.2MB/s eta 0:00:01\r\u001b[K     |██████████████████████▊         | 2.6MB 17.2MB/s eta 0:00:01\r\u001b[K     |██████████████████████▉         | 2.6MB 17.2MB/s eta 0:00:01\r\u001b[K     |███████████████████████         | 2.6MB 17.2MB/s eta 0:00:01\r\u001b[K     |███████████████████████         | 2.6MB 17.2MB/s eta 0:00:01\r\u001b[K     |███████████████████████         | 2.6MB 17.2MB/s eta 0:00:01\r\u001b[K     |███████████████████████▏        | 2.6MB 17.2MB/s eta 0:00:01\r\u001b[K     |███████████████████████▎        | 2.6MB 17.2MB/s eta 0:00:01\r\u001b[K     |███████████████████████▍        | 2.6MB 17.2MB/s eta 0:00:01\r\u001b[K     |███████████████████████▌        | 2.7MB 17.2MB/s eta 0:00:01\r\u001b[K     |███████████████████████▌        | 2.7MB 17.2MB/s eta 0:00:01\r\u001b[K     |███████████████████████▋        | 2.7MB 17.2MB/s eta 0:00:01\r\u001b[K     |███████████████████████▊        | 2.7MB 17.2MB/s eta 0:00:01\r\u001b[K     |███████████████████████▉        | 2.7MB 17.2MB/s eta 0:00:01\r\u001b[K     |████████████████████████        | 2.7MB 17.2MB/s eta 0:00:01\r\u001b[K     |████████████████████████        | 2.7MB 17.2MB/s eta 0:00:01\r\u001b[K     |████████████████████████        | 2.7MB 17.2MB/s eta 0:00:01\r\u001b[K     |████████████████████████▏       | 2.7MB 17.2MB/s eta 0:00:01\r\u001b[K     |████████████████████████▎       | 2.7MB 17.2MB/s eta 0:00:01\r\u001b[K     |████████████████████████▍       | 2.8MB 17.2MB/s eta 0:00:01\r\u001b[K     |████████████████████████▌       | 2.8MB 17.2MB/s eta 0:00:01\r\u001b[K     |████████████████████████▌       | 2.8MB 17.2MB/s eta 0:00:01\r\u001b[K     |████████████████████████▋       | 2.8MB 17.2MB/s eta 0:00:01\r\u001b[K     |████████████████████████▊       | 2.8MB 17.2MB/s eta 0:00:01\r\u001b[K     |████████████████████████▉       | 2.8MB 17.2MB/s eta 0:00:01\r\u001b[K     |█████████████████████████       | 2.8MB 17.2MB/s eta 0:00:01\r\u001b[K     |█████████████████████████       | 2.8MB 17.2MB/s eta 0:00:01\r\u001b[K     |█████████████████████████       | 2.8MB 17.2MB/s eta 0:00:01\r\u001b[K     |█████████████████████████▏      | 2.8MB 17.2MB/s eta 0:00:01\r\u001b[K     |█████████████████████████▎      | 2.9MB 17.2MB/s eta 0:00:01\r\u001b[K     |█████████████████████████▍      | 2.9MB 17.2MB/s eta 0:00:01\r\u001b[K     |█████████████████████████▍      | 2.9MB 17.2MB/s eta 0:00:01\r\u001b[K     |█████████████████████████▌      | 2.9MB 17.2MB/s eta 0:00:01\r\u001b[K     |█████████████████████████▋      | 2.9MB 17.2MB/s eta 0:00:01\r\u001b[K     |█████████████████████████▊      | 2.9MB 17.2MB/s eta 0:00:01\r\u001b[K     |█████████████████████████▉      | 2.9MB 17.2MB/s eta 0:00:01\r\u001b[K     |██████████████████████████      | 2.9MB 17.2MB/s eta 0:00:01\r\u001b[K     |██████████████████████████      | 2.9MB 17.2MB/s eta 0:00:01\r\u001b[K     |██████████████████████████      | 2.9MB 17.2MB/s eta 0:00:01\r\u001b[K     |██████████████████████████▏     | 3.0MB 17.2MB/s eta 0:00:01\r\u001b[K     |██████████████████████████▎     | 3.0MB 17.2MB/s eta 0:00:01\r\u001b[K     |██████████████████████████▍     | 3.0MB 17.2MB/s eta 0:00:01\r\u001b[K     |██████████████████████████▍     | 3.0MB 17.2MB/s eta 0:00:01\r\u001b[K     |██████████████████████████▌     | 3.0MB 17.2MB/s eta 0:00:01\r\u001b[K     |██████████████████████████▋     | 3.0MB 17.2MB/s eta 0:00:01\r\u001b[K     |██████████████████████████▊     | 3.0MB 17.2MB/s eta 0:00:01\r\u001b[K     |██████████████████████████▉     | 3.0MB 17.2MB/s eta 0:00:01\r\u001b[K     |███████████████████████████     | 3.0MB 17.2MB/s eta 0:00:01\r\u001b[K     |███████████████████████████     | 3.1MB 17.2MB/s eta 0:00:01\r\u001b[K     |███████████████████████████     | 3.1MB 17.2MB/s eta 0:00:01\r\u001b[K     |███████████████████████████▏    | 3.1MB 17.2MB/s eta 0:00:01\r\u001b[K     |███████████████████████████▎    | 3.1MB 17.2MB/s eta 0:00:01\r\u001b[K     |███████████████████████████▍    | 3.1MB 17.2MB/s eta 0:00:01\r\u001b[K     |███████████████████████████▍    | 3.1MB 17.2MB/s eta 0:00:01\r\u001b[K     |███████████████████████████▌    | 3.1MB 17.2MB/s eta 0:00:01\r\u001b[K     |███████████████████████████▋    | 3.1MB 17.2MB/s eta 0:00:01\r\u001b[K     |███████████████████████████▊    | 3.1MB 17.2MB/s eta 0:00:01\r\u001b[K     |███████████████████████████▉    | 3.1MB 17.2MB/s eta 0:00:01\r\u001b[K     |███████████████████████████▉    | 3.2MB 17.2MB/s eta 0:00:01\r\u001b[K     |████████████████████████████    | 3.2MB 17.2MB/s eta 0:00:01\r\u001b[K     |████████████████████████████    | 3.2MB 17.2MB/s eta 0:00:01\r\u001b[K     |████████████████████████████▏   | 3.2MB 17.2MB/s eta 0:00:01\r\u001b[K     |████████████████████████████▎   | 3.2MB 17.2MB/s eta 0:00:01\r\u001b[K     |████████████████████████████▍   | 3.2MB 17.2MB/s eta 0:00:01\r\u001b[K     |████████████████████████████▍   | 3.2MB 17.2MB/s eta 0:00:01\r\u001b[K     |████████████████████████████▌   | 3.2MB 17.2MB/s eta 0:00:01\r\u001b[K     |████████████████████████████▋   | 3.2MB 17.2MB/s eta 0:00:01\r\u001b[K     |████████████████████████████▊   | 3.2MB 17.2MB/s eta 0:00:01\r\u001b[K     |████████████████████████████▉   | 3.3MB 17.2MB/s eta 0:00:01\r\u001b[K     |████████████████████████████▉   | 3.3MB 17.2MB/s eta 0:00:01\r\u001b[K     |█████████████████████████████   | 3.3MB 17.2MB/s eta 0:00:01\r\u001b[K     |█████████████████████████████   | 3.3MB 17.2MB/s eta 0:00:01\r\u001b[K     |█████████████████████████████▏  | 3.3MB 17.2MB/s eta 0:00:01\r\u001b[K     |█████████████████████████████▎  | 3.3MB 17.2MB/s eta 0:00:01\r\u001b[K     |█████████████████████████████▍  | 3.3MB 17.2MB/s eta 0:00:01\r\u001b[K     |█████████████████████████████▍  | 3.3MB 17.2MB/s eta 0:00:01\r\u001b[K     |█████████████████████████████▌  | 3.3MB 17.2MB/s eta 0:00:01\r\u001b[K     |█████████████████████████████▋  | 3.3MB 17.2MB/s eta 0:00:01\r\u001b[K     |█████████████████████████████▊  | 3.4MB 17.2MB/s eta 0:00:01\r\u001b[K     |█████████████████████████████▉  | 3.4MB 17.2MB/s eta 0:00:01\r\u001b[K     |█████████████████████████████▉  | 3.4MB 17.2MB/s eta 0:00:01\r\u001b[K     |██████████████████████████████  | 3.4MB 17.2MB/s eta 0:00:01\r\u001b[K     |██████████████████████████████  | 3.4MB 17.2MB/s eta 0:00:01\r\u001b[K     |██████████████████████████████▏ | 3.4MB 17.2MB/s eta 0:00:01\r\u001b[K     |██████████████████████████████▎ | 3.4MB 17.2MB/s eta 0:00:01\r\u001b[K     |██████████████████████████████▎ | 3.4MB 17.2MB/s eta 0:00:01\r\u001b[K     |██████████████████████████████▍ | 3.4MB 17.2MB/s eta 0:00:01\r\u001b[K     |██████████████████████████████▌ | 3.5MB 17.2MB/s eta 0:00:01\r\u001b[K     |██████████████████████████████▋ | 3.5MB 17.2MB/s eta 0:00:01\r\u001b[K     |██████████████████████████████▊ | 3.5MB 17.2MB/s eta 0:00:01\r\u001b[K     |██████████████████████████████▉ | 3.5MB 17.2MB/s eta 0:00:01\r\u001b[K     |██████████████████████████████▉ | 3.5MB 17.2MB/s eta 0:00:01\r\u001b[K     |███████████████████████████████ | 3.5MB 17.2MB/s eta 0:00:01\r\u001b[K     |███████████████████████████████ | 3.5MB 17.2MB/s eta 0:00:01\r\u001b[K     |███████████████████████████████▏| 3.5MB 17.2MB/s eta 0:00:01\r\u001b[K     |███████████████████████████████▎| 3.5MB 17.2MB/s eta 0:00:01\r\u001b[K     |███████████████████████████████▎| 3.5MB 17.2MB/s eta 0:00:01\r\u001b[K     |███████████████████████████████▍| 3.6MB 17.2MB/s eta 0:00:01\r\u001b[K     |███████████████████████████████▌| 3.6MB 17.2MB/s eta 0:00:01\r\u001b[K     |███████████████████████████████▋| 3.6MB 17.2MB/s eta 0:00:01\r\u001b[K     |███████████████████████████████▊| 3.6MB 17.2MB/s eta 0:00:01\r\u001b[K     |███████████████████████████████▉| 3.6MB 17.2MB/s eta 0:00:01\r\u001b[K     |███████████████████████████████▉| 3.6MB 17.2MB/s eta 0:00:01\r\u001b[K     |████████████████████████████████| 3.6MB 17.2MB/s eta 0:00:01\r\u001b[K     |████████████████████████████████| 3.6MB 17.2MB/s \n",
            "\u001b[?25hRequirement already satisfied, skipping upgrade: requests>=2.19.0 in /usr/local/lib/python3.6/dist-packages (from tensorflow_datasets) (2.23.0)\n",
            "Requirement already satisfied, skipping upgrade: future in /usr/local/lib/python3.6/dist-packages (from tensorflow_datasets) (0.16.0)\n",
            "Requirement already satisfied, skipping upgrade: importlib-resources; python_version < \"3.9\" in /usr/local/lib/python3.6/dist-packages (from tensorflow_datasets) (3.3.0)\n",
            "Requirement already satisfied, skipping upgrade: tqdm in /usr/local/lib/python3.6/dist-packages (from tensorflow_datasets) (4.41.1)\n",
            "Requirement already satisfied, skipping upgrade: termcolor in /usr/local/lib/python3.6/dist-packages (from tensorflow_datasets) (1.1.0)\n",
            "Requirement already satisfied, skipping upgrade: dill in /usr/local/lib/python3.6/dist-packages (from tensorflow_datasets) (0.3.3)\n",
            "Requirement already satisfied, skipping upgrade: absl-py in /usr/local/lib/python3.6/dist-packages (from tensorflow_datasets) (0.10.0)\n",
            "Requirement already satisfied, skipping upgrade: numpy in /usr/local/lib/python3.6/dist-packages (from tensorflow_datasets) (1.19.4)\n",
            "Requirement already satisfied, skipping upgrade: typing-extensions; python_version < \"3.8\" in /usr/local/lib/python3.6/dist-packages (from tensorflow_datasets) (3.7.4.3)\n",
            "Requirement already satisfied, skipping upgrade: six in /usr/local/lib/python3.6/dist-packages (from tensorflow_datasets) (1.15.0)\n",
            "Requirement already satisfied, skipping upgrade: dataclasses; python_version < \"3.7\" in /usr/local/lib/python3.6/dist-packages (from tensorflow_datasets) (0.8)\n",
            "Requirement already satisfied, skipping upgrade: promise in /usr/local/lib/python3.6/dist-packages (from tensorflow_datasets) (2.3)\n",
            "Requirement already satisfied, skipping upgrade: attrs>=18.1.0 in /usr/local/lib/python3.6/dist-packages (from tensorflow_datasets) (20.3.0)\n",
            "Requirement already satisfied, skipping upgrade: protobuf>=3.6.1 in /usr/local/lib/python3.6/dist-packages (from tensorflow_datasets) (3.12.4)\n",
            "Requirement already satisfied, skipping upgrade: tensorflow-metadata in /usr/local/lib/python3.6/dist-packages (from tensorflow_datasets) (0.26.0)\n",
            "Requirement already satisfied, skipping upgrade: idna<3,>=2.5 in /usr/local/lib/python3.6/dist-packages (from requests>=2.19.0->tensorflow_datasets) (2.10)\n",
            "Requirement already satisfied, skipping upgrade: chardet<4,>=3.0.2 in /usr/local/lib/python3.6/dist-packages (from requests>=2.19.0->tensorflow_datasets) (3.0.4)\n",
            "Requirement already satisfied, skipping upgrade: certifi>=2017.4.17 in /usr/local/lib/python3.6/dist-packages (from requests>=2.19.0->tensorflow_datasets) (2020.12.5)\n",
            "Requirement already satisfied, skipping upgrade: urllib3!=1.25.0,!=1.25.1,<1.26,>=1.21.1 in /usr/local/lib/python3.6/dist-packages (from requests>=2.19.0->tensorflow_datasets) (1.24.3)\n",
            "Requirement already satisfied, skipping upgrade: zipp>=0.4; python_version < \"3.8\" in /usr/local/lib/python3.6/dist-packages (from importlib-resources; python_version < \"3.9\"->tensorflow_datasets) (3.4.0)\n",
            "Requirement already satisfied, skipping upgrade: setuptools in /usr/local/lib/python3.6/dist-packages (from protobuf>=3.6.1->tensorflow_datasets) (51.0.0)\n",
            "Requirement already satisfied, skipping upgrade: googleapis-common-protos<2,>=1.52.0 in /usr/local/lib/python3.6/dist-packages (from tensorflow-metadata->tensorflow_datasets) (1.52.0)\n",
            "Installing collected packages: tensorflow-datasets\n",
            "  Found existing installation: tensorflow-datasets 4.0.1\n",
            "    Uninstalling tensorflow-datasets-4.0.1:\n",
            "      Successfully uninstalled tensorflow-datasets-4.0.1\n",
            "Successfully installed tensorflow-datasets-4.1.0\n"
          ],
          "name": "stdout"
        }
      ]
    },
    {
      "cell_type": "code",
      "metadata": {
        "id": "_FxXYSCXGQqQ"
      },
      "source": [
        "import tensorflow as tf"
      ],
      "execution_count": 4,
      "outputs": []
    },
    {
      "cell_type": "code",
      "metadata": {
        "id": "1UbK0Uq7GWaO"
      },
      "source": [
        "# Import TensorFlow Datasets\n",
        "import tensorflow_datasets as tfds\n",
        "tfds.disable_progress_bar()\n",
        "\n",
        "# Helper libraries\n",
        "import math\n",
        "import numpy as np\n",
        "import matplotlib.pyplot as plt"
      ],
      "execution_count": 5,
      "outputs": []
    },
    {
      "cell_type": "code",
      "metadata": {
        "id": "590z76KRGtKk"
      },
      "source": [
        "import logging\n",
        "logger = tf.get_logger()\n",
        "logger.setLevel(logging.ERROR)"
      ],
      "execution_count": 6,
      "outputs": []
    },
    {
      "cell_type": "markdown",
      "metadata": {
        "id": "yR0EdgrLCaWR"
      },
      "source": [
        "## Import the Fashion MNIST dataset"
      ]
    },
    {
      "cell_type": "markdown",
      "metadata": {
        "id": "DLdCchMdCaWQ"
      },
      "source": [
        "This guide uses the [Fashion MNIST](https://github.com/zalandoresearch/fashion-mnist) dataset, which contains 70,000 grayscale images in 10 categories. The images show individual articles of clothing at low resolution (28 $\\times$ 28 pixels), as seen here:\n",
        "\n",
        "<table>\n",
        "  <tr><td>\n",
        "    <img src=\"https://tensorflow.org/images/fashion-mnist-sprite.png\"\n",
        "         alt=\"Fashion MNIST sprite\" width=\"600\">\n",
        "  </td></tr>\n",
        "  <tr><td align=\"center\">\n",
        "    <b>Figure 1.</b> <a href=\"https://github.com/zalandoresearch/fashion-mnist\">Fashion-MNIST samples</a> (by Zalando, MIT License).<br/>&nbsp;\n",
        "  </td></tr>\n",
        "</table>\n",
        "\n",
        "Fashion MNIST is intended as a drop-in replacement for the classic [MNIST](http://yann.lecun.com/exdb/mnist/) dataset—often used as the \"Hello, World\" of machine learning programs for computer vision. The MNIST dataset contains images of handwritten digits (0, 1, 2, etc) in an identical format to the articles of clothing we'll use here.\n",
        "\n",
        "This guide uses Fashion MNIST for variety, and because it's a slightly more challenging problem than regular MNIST. Both datasets are relatively small and are used to verify that an algorithm works as expected. They're good starting points to test and debug code.\n",
        "\n",
        "We will use 60,000 images to train the network and 10,000 images to evaluate how accurately the network learned to classify images. You can access the Fashion MNIST directly from TensorFlow, using the [Datasets](https://www.tensorflow.org/datasets) API:"
      ]
    },
    {
      "cell_type": "code",
      "metadata": {
        "id": "7MqDQO0KCaWS",
        "colab": {
          "base_uri": "https://localhost:8080/"
        },
        "outputId": "3e6ea8f3-c824-4ea9-8d02-379407513e56"
      },
      "source": [
        "dataset, metadata = tfds.load('fashion_mnist', as_supervised=True, with_info=True)\n",
        "train_dataset, test_dataset = dataset['train'], dataset['test']"
      ],
      "execution_count": 7,
      "outputs": [
        {
          "output_type": "stream",
          "text": [
            "\u001b[1mDownloading and preparing dataset fashion_mnist/3.0.1 (download: 29.45 MiB, generated: 36.42 MiB, total: 65.87 MiB) to /root/tensorflow_datasets/fashion_mnist/3.0.1...\u001b[0m\n",
            "Shuffling and writing examples to /root/tensorflow_datasets/fashion_mnist/3.0.1.incompleteP7BD7A/fashion_mnist-train.tfrecord\n",
            "Shuffling and writing examples to /root/tensorflow_datasets/fashion_mnist/3.0.1.incompleteP7BD7A/fashion_mnist-test.tfrecord\n",
            "\u001b[1mDataset fashion_mnist downloaded and prepared to /root/tensorflow_datasets/fashion_mnist/3.0.1. Subsequent calls will reuse this data.\u001b[0m\n"
          ],
          "name": "stdout"
        }
      ]
    },
    {
      "cell_type": "markdown",
      "metadata": {
        "id": "t9FDsUlxCaWW"
      },
      "source": [
        "Loading the dataset returns metadata as well as a *training dataset* and *test dataset*.\n",
        "\n",
        "* The model is trained using `train_dataset`.\n",
        "* The model is tested against `test_dataset`.\n",
        "\n",
        "The images are 28 $\\times$ 28 arrays, with pixel values in the range `[0, 255]`. The *labels* are an array of integers, in the range `[0, 9]`. These correspond to the *class* of clothing the image represents:\n",
        "\n",
        "<table>\n",
        "  <tr>\n",
        "    <th>Label</th>\n",
        "    <th>Class</th>\n",
        "  </tr>\n",
        "  <tr>\n",
        "    <td>0</td>\n",
        "    <td>T-shirt/top</td>\n",
        "  </tr>\n",
        "  <tr>\n",
        "    <td>1</td>\n",
        "    <td>Trouser</td>\n",
        "  </tr>\n",
        "    <tr>\n",
        "    <td>2</td>\n",
        "    <td>Pullover</td>\n",
        "  </tr>\n",
        "    <tr>\n",
        "    <td>3</td>\n",
        "    <td>Dress</td>\n",
        "  </tr>\n",
        "    <tr>\n",
        "    <td>4</td>\n",
        "    <td>Coat</td>\n",
        "  </tr>\n",
        "    <tr>\n",
        "    <td>5</td>\n",
        "    <td>Sandal</td>\n",
        "  </tr>\n",
        "    <tr>\n",
        "    <td>6</td>\n",
        "    <td>Shirt</td>\n",
        "  </tr>\n",
        "    <tr>\n",
        "    <td>7</td>\n",
        "    <td>Sneaker</td>\n",
        "  </tr>\n",
        "    <tr>\n",
        "    <td>8</td>\n",
        "    <td>Bag</td>\n",
        "  </tr>\n",
        "    <tr>\n",
        "    <td>9</td>\n",
        "    <td>Ankle boot</td>\n",
        "  </tr>\n",
        "</table>\n",
        "\n",
        "Each image is mapped to a single label. Since the *class names* are not included with the dataset, store them here to use later when plotting the images:"
      ]
    },
    {
      "cell_type": "code",
      "metadata": {
        "id": "IjnLH5S2CaWx",
        "colab": {
          "base_uri": "https://localhost:8080/"
        },
        "outputId": "40bed9f2-4c11-46d5-cc59-e73c6a7d40c8"
      },
      "source": [
        "class_names = metadata.features['label'].names\n",
        "print(\"Class names: {}\".format(class_names))"
      ],
      "execution_count": 8,
      "outputs": [
        {
          "output_type": "stream",
          "text": [
            "Class names: ['T-shirt/top', 'Trouser', 'Pullover', 'Dress', 'Coat', 'Sandal', 'Shirt', 'Sneaker', 'Bag', 'Ankle boot']\n"
          ],
          "name": "stdout"
        }
      ]
    },
    {
      "cell_type": "markdown",
      "metadata": {
        "id": "Brm0b_KACaWX"
      },
      "source": [
        "### Explore the data\n",
        "\n",
        "Let's explore the format of the dataset before training the model. The following shows there are 60,000 images in the training set, and 10000 images in the test set:"
      ]
    },
    {
      "cell_type": "code",
      "metadata": {
        "id": "MaOTZxFzi48X",
        "colab": {
          "base_uri": "https://localhost:8080/"
        },
        "outputId": "19a9aa06-c76a-4d23-e76f-77feb70ff181"
      },
      "source": [
        "num_train_examples = metadata.splits['train'].num_examples\n",
        "num_test_examples = metadata.splits['test'].num_examples\n",
        "print(\"Number of training examples: {}\".format(num_train_examples))\n",
        "print(\"Number of test examples:     {}\".format(num_test_examples))"
      ],
      "execution_count": 9,
      "outputs": [
        {
          "output_type": "stream",
          "text": [
            "Number of training examples: 60000\n",
            "Number of test examples:     10000\n"
          ],
          "name": "stdout"
        }
      ]
    },
    {
      "cell_type": "markdown",
      "metadata": {
        "id": "ES6uQoLKCaWr"
      },
      "source": [
        "## Preprocess the data\n",
        "\n",
        "The value of each pixel in the image data is an integer in the range `[0,255]`. For the model to work properly, these values need to be normalized to the range `[0,1]`. So here we create a normalization function, and then apply it to each image in the test and train datasets."
      ]
    },
    {
      "cell_type": "code",
      "metadata": {
        "id": "nAsH3Zm-76pB"
      },
      "source": [
        "def normalize(images, labels):\n",
        "  images = tf.cast(images, tf.float32) #tf.cast: 새로운 형태로 변환 -> float타입으로 변환\n",
        "  images /= 255\n",
        "  return images, labels\n",
        "\n",
        "# The map function applies the normalize function to each element in the train\n",
        "# and test datasets\n",
        "train_dataset =  train_dataset.map(normalize)\n",
        "test_dataset  =  test_dataset.map(normalize)\n",
        "\n",
        "# The first time you use the dataset, the images will be loaded from disk\n",
        "# Caching will keep them in memory, making training faster\n",
        "train_dataset =  train_dataset.cache()\n",
        "test_dataset  =  test_dataset.cache()"
      ],
      "execution_count": null,
      "outputs": []
    },
    {
      "cell_type": "markdown",
      "metadata": {
        "id": "lIQbEiJGXM-q"
      },
      "source": [
        "### Explore the processed data\n",
        "\n",
        "Let's plot an image to see what it looks like."
      ]
    },
    {
      "cell_type": "code",
      "metadata": {
        "colab": {
          "base_uri": "https://localhost:8080/"
        },
        "id": "Wovv8-LhvS9c",
        "outputId": "4075cf90-adea-4082-fa72-5c42edcbb5ed"
      },
      "source": [
        "type(test_dataset)"
      ],
      "execution_count": 54,
      "outputs": [
        {
          "output_type": "execute_result",
          "data": {
            "text/plain": [
              "tensorflow.python.data.ops.dataset_ops.BatchDataset"
            ]
          },
          "metadata": {
            "tags": []
          },
          "execution_count": 54
        }
      ]
    },
    {
      "cell_type": "code",
      "metadata": {
        "id": "oSzE9l7PjHx0",
        "colab": {
          "base_uri": "https://localhost:8080/",
          "height": 265
        },
        "outputId": "d2430859-f206-40d6-e60c-1b0c626ab9a2"
      },
      "source": [
        "# Take a single image, and remove the color dimension by reshaping\n",
        "for image, label in test_dataset.take(1): #take: tf.data.Dataset 의 데이터 받아오기\n",
        "  break\n",
        "image = image.numpy().reshape((28,28))\n",
        "\n",
        "# Plot the image - voila a piece of fashion clothing\n",
        "plt.figure()\n",
        "plt.imshow(image, cmap=plt.cm.binary)\n",
        "plt.colorbar()\n",
        "plt.grid(False)\n",
        "plt.show()"
      ],
      "execution_count": 10,
      "outputs": [
        {
          "output_type": "display_data",
          "data": {
            "image/png": "[encoded data removed]",
            "text/plain": [
              "<Figure size 432x288 with 2 Axes>"
            ]
          },
          "metadata": {
            "tags": [],
            "needs_background": "light"
          }
        }
      ]
    },
    {
      "cell_type": "markdown",
      "metadata": {
        "id": "Ee638AlnCaWz"
      },
      "source": [
        "Display the first 25 images from the *training set* and display the class name below each image. Verify that the data is in the correct format and we're ready to build and train the network."
      ]
    },
    {
      "cell_type": "code",
      "metadata": {
        "id": "oZTImqg_CaW1",
        "colab": {
          "base_uri": "https://localhost:8080/",
          "height": 589
        },
        "outputId": "4f265734-8f63-4d63-b4b5-4d7fc9687b3f"
      },
      "source": [
        "plt.figure(figsize=(10,10))\n",
        "for i, (image, label) in enumerate(test_dataset.take(25)):\n",
        "    image = image.numpy().reshape((28,28))\n",
        "    plt.subplot(5,5,i+1)\n",
        "    plt.xticks([])\n",
        "    plt.yticks([])\n",
        "    plt.grid(False)\n",
        "    plt.imshow(image, cmap=plt.cm.binary)\n",
        "    plt.xlabel(class_names[label])\n",
        "plt.show()"
      ],
      "execution_count": 11,
      "outputs": [
        {
          "output_type": "display_data",
          "data": {
            "image/png": "[encoded data removed]",
            "text/plain": [
              "<Figure size 720x720 with 25 Axes>"
            ]
          },
          "metadata": {
            "tags": []
          }
        }
      ]
    },
    {
      "cell_type": "markdown",
      "metadata": {
        "id": "59veuiEZCaW4"
      },
      "source": [
        "## Build the model\n",
        "\n",
        "Building the neural network requires configuring the layers of the model, then compiling the model."
      ]
    },
    {
      "cell_type": "markdown",
      "metadata": {
        "id": "Gxg1XGm0eOBy"
      },
      "source": [
        "### Setup the layers\n",
        "\n",
        "The basic building block of a neural network is the *layer*. A layer extracts a representation from the data fed into it. Hopefully, a series of connected layers results in a representation that is meaningful for the problem at hand.\n",
        "\n",
        "Much of deep learning consists of chaining together simple layers. Most layers, like `tf.keras.layers.Dense`, have internal parameters which are adjusted (\"learned\") during training."
      ]
    },
    {
      "cell_type": "code",
      "metadata": {
        "id": "9ODch-OFCaW4"
      },
      "source": [
        "model = tf.keras.Sequential([\n",
        "    tf.keras.layers.Flatten(input_shape=(28, 28, 1)), #784개의 원소를 가진 1d array로 변환\n",
        "    tf.keras.layers.Dense(128, activation=tf.nn.relu),\n",
        "    tf.keras.layers.Dense(10, activation=tf.nn.softmax)\n",
        "])"
      ],
      "execution_count": 12,
      "outputs": []
    },
    {
      "cell_type": "markdown",
      "metadata": {
        "id": "gut8A_7rCaW6"
      },
      "source": [
        "This network has three layers:\n",
        "\n",
        "* **input** `tf.keras.layers.Flatten` — This layer transforms the images from a 2d-array of 28 $\\times$ 28 pixels, to a 1d-array of 784 pixels (28\\*28). Think of this layer as unstacking rows of pixels in the image and lining them up. This layer has no parameters to learn, as it only reformats the data.\n",
        "\n",
        "* **\"hidden\"** `tf.keras.layers.Dense`— A densely connected layer of 128 neurons. Each neuron (or node) takes input from all 784 nodes in the previous layer, weighting that input according to hidden parameters which will be learned during training, and outputs a single value to the next layer.\n",
        "\n",
        "* **output**  `tf.keras.layers.Dense` — A 128-neuron, followed by 10-node *softmax* layer. Each node represents a class of clothing. As in the previous layer, the final layer takes input from the 128 nodes in the layer before it, and outputs a value in the range `[0, 1]`, representing the probability that the image belongs to that class. The sum of all 10 node values is 1.\n",
        "\n",
        "> Note: Using `softmax` activation and `SparseCategoricalCrossentropy()` has issues and which are patched by the `tf.keras` model. A safer approach, in general, is to use a linear output (no activation function) with `SparseCategoricalCrossentropy(from_logits=True)`.\n",
        "\n",
        "\n",
        "### Compile the model\n",
        "\n",
        "Before the model is ready for training, it needs a few more settings. These are added during the model's *compile* step:\n",
        "\n",
        "\n",
        "* *Loss function* — An algorithm for measuring how far the model's outputs are from the desired output. The goal of training is this measures loss.\n",
        "* *Optimizer* —An algorithm for adjusting the inner parameters of the model in order to minimize loss.\n",
        "* *Metrics* —Used to monitor the training and testing steps. The following example uses *accuracy*, the fraction of the images that are correctly classified."
      ]
    },
    {
      "cell_type": "code",
      "metadata": {
        "id": "Lhan11blCaW7"
      },
      "source": [
        "model.compile(optimizer='adam',\n",
        "              loss=tf.keras.losses.SparseCategoricalCrossentropy(),\n",
        "              metrics=['accuracy'])"
      ],
      "execution_count": 13,
      "outputs": []
    },
    {
      "cell_type": "markdown",
      "metadata": {
        "id": "qKF6uW-BCaW-"
      },
      "source": [
        "## Train the model\n",
        "\n",
        "First, we define the iteration behavior for the train dataset:\n",
        "1. Repeat forever by specifying `dataset.repeat()` (the `epochs` parameter described below limits how long we perform training).\n",
        "2. The `dataset.shuffle(60000)` randomizes the order so our model cannot learn anything from the order of the examples.\n",
        "3. And `dataset.batch(32)` tells `model.fit` to use batches of 32 images and labels when updating the model variables.\n",
        "\n",
        "Training is performed by calling the `model.fit` method:\n",
        "1. Feed the training data to the model using `train_dataset`.\n",
        "2. The model learns to associate images and labels.\n",
        "3. The `epochs=5` parameter limits training to 5 full iterations of the training dataset, so a total of 5 * 60000 = 300000 examples.\n",
        "\n",
        "(Don't worry about `steps_per_epoch`, the requirement to have this flag will soon be removed.)"
      ]
    },
    {
      "cell_type": "code",
      "metadata": {
        "id": "o_Dp8971McQ1"
      },
      "source": [
        "BATCH_SIZE = 32\n",
        "train_dataset = train_dataset.cache().repeat().shuffle(num_train_examples).batch(BATCH_SIZE)\n",
        "test_dataset = test_dataset.cache().batch(BATCH_SIZE)"
      ],
      "execution_count": 14,
      "outputs": []
    },
    {
      "cell_type": "code",
      "metadata": {
        "id": "xvwvpA64CaW_",
        "colab": {
          "base_uri": "https://localhost:8080/"
        },
        "outputId": "e720b99e-8c18-4915-ac1b-7848151c4220"
      },
      "source": [
        "model.fit(train_dataset, epochs=5, steps_per_epoch=math.ceil(num_train_examples/BATCH_SIZE))"
      ],
      "execution_count": 15,
      "outputs": [
        {
          "output_type": "stream",
          "text": [
            "Epoch 1/5\n",
            "1875/1875 [==============================] - 8s 2ms/step - loss: 11.7046 - accuracy: 0.6532\n",
            "Epoch 2/5\n",
            "1875/1875 [==============================] - 3s 2ms/step - loss: 0.8251 - accuracy: 0.7159\n",
            "Epoch 3/5\n",
            "1875/1875 [==============================] - 4s 2ms/step - loss: 0.6724 - accuracy: 0.7622\n",
            "Epoch 4/5\n",
            "1875/1875 [==============================] - 3s 2ms/step - loss: 0.6057 - accuracy: 0.7865\n",
            "Epoch 5/5\n",
            "1875/1875 [==============================] - 4s 2ms/step - loss: 0.5650 - accuracy: 0.7955\n"
          ],
          "name": "stdout"
        },
        {
          "output_type": "execute_result",
          "data": {
            "text/plain": [
              "<tensorflow.python.keras.callbacks.History at 0x7fb9204e2e10>"
            ]
          },
          "metadata": {
            "tags": []
          },
          "execution_count": 15
        }
      ]
    },
    {
      "cell_type": "markdown",
      "metadata": {
        "id": "W3ZVOhugCaXA"
      },
      "source": [
        "As the model trains, the loss and accuracy metrics are displayed. This model reaches an accuracy of about 0.88 (or 88%) on the training data."
      ]
    },
    {
      "cell_type": "markdown",
      "metadata": {
        "id": "oEw4bZgGCaXB"
      },
      "source": [
        "## Evaluate accuracy\n",
        "\n",
        "Next, compare how the model performs on the test dataset. Use all examples we have in the test dataset to assess accuracy."
      ]
    },
    {
      "cell_type": "code",
      "metadata": {
        "id": "VflXLEeECaXC",
        "colab": {
          "base_uri": "https://localhost:8080/"
        },
        "outputId": "cdcb57c5-7f07-45e9-cf53-d6a08689bed2"
      },
      "source": [
        "test_loss, test_accuracy = model.evaluate(test_dataset, steps=math.ceil(num_test_examples/32))\n",
        "print('Accuracy on test dataset:', test_accuracy)"
      ],
      "execution_count": 16,
      "outputs": [
        {
          "output_type": "stream",
          "text": [
            "313/313 [==============================] - 1s 4ms/step - loss: 0.6415 - accuracy: 0.7649\n",
            "Accuracy on test dataset: 0.7649000287055969\n"
          ],
          "name": "stdout"
        }
      ]
    },
    {
      "cell_type": "markdown",
      "metadata": {
        "id": "yWfgsmVXCaXG"
      },
      "source": [
        "As it turns out, the accuracy on the test dataset is smaller than the accuracy on the training dataset. This is completely normal, since the model was trained on the `train_dataset`. When the model sees images it has never seen during training, (that is, from the `test_dataset`), we can expect performance to go down. "
      ]
    },
    {
      "cell_type": "markdown",
      "metadata": {
        "id": "xsoS7CPDCaXH"
      },
      "source": [
        "## Make predictions and explore\n",
        "\n",
        "With the model trained, we can use it to make predictions about some images."
      ]
    },
    {
      "cell_type": "code",
      "metadata": {
        "id": "Ccoz4conNCpl"
      },
      "source": [
        "for test_images, test_labels in test_dataset.take(1):\n",
        "  test_images = test_images.numpy()\n",
        "  test_labels = test_labels.numpy()\n",
        "  predictions = model.predict(test_images)"
      ],
      "execution_count": 17,
      "outputs": []
    },
    {
      "cell_type": "code",
      "metadata": {
        "id": "Gl91RPhdCaXI",
        "colab": {
          "base_uri": "https://localhost:8080/"
        },
        "outputId": "e325492e-f882-498d-b756-825fa1b5d944"
      },
      "source": [
        "predictions.shape\n"
      ],
      "execution_count": 18,
      "outputs": [
        {
          "output_type": "execute_result",
          "data": {
            "text/plain": [
              "(32, 10)"
            ]
          },
          "metadata": {
            "tags": []
          },
          "execution_count": 18
        }
      ]
    },
    {
      "cell_type": "markdown",
      "metadata": {
        "id": "x9Kk1voUCaXJ"
      },
      "source": [
        "Here, the model has predicted the label for each image in the testing set. Let's take a look at the first prediction:"
      ]
    },
    {
      "cell_type": "code",
      "metadata": {
        "id": "3DmJEUinCaXK",
        "colab": {
          "base_uri": "https://localhost:8080/"
        },
        "outputId": "1d6cf1d0-603a-4d4c-f957-d42ba4aac410"
      },
      "source": [
        "predictions[0]"
      ],
      "execution_count": 19,
      "outputs": [
        {
          "output_type": "execute_result",
          "data": {
            "text/plain": [
              "array([2.69601325e-04, 2.61622590e-05, 1.18131921e-01, 1.99668407e-02,\n",
              "       4.31665450e-01, 9.72025758e-12, 4.29416180e-01, 1.21516658e-28,\n",
              "       5.23844850e-04, 1.05627265e-13], dtype=float32)"
            ]
          },
          "metadata": {
            "tags": []
          },
          "execution_count": 19
        }
      ]
    },
    {
      "cell_type": "markdown",
      "metadata": {
        "id": "8B1YP0Q6rVDK"
      },
      "source": [
        "---> 4번째 class 가 가장 확률이 높음(43%) 하지만 6번째 class와 별 차이가 없음(42.9%)"
      ]
    },
    {
      "cell_type": "markdown",
      "metadata": {
        "id": "-hw1hgeSCaXN"
      },
      "source": [
        "A prediction is an array of 10 numbers. These describe the \"confidence\" of the model that the image corresponds to each of the 10 different articles of clothing. We can see which label has the highest confidence value:"
      ]
    },
    {
      "cell_type": "code",
      "metadata": {
        "id": "qsqenuPnCaXO",
        "colab": {
          "base_uri": "https://localhost:8080/"
        },
        "outputId": "4442d945-491c-4030-f227-3e65f49febe3"
      },
      "source": [
        "np.argmax(predictions[0])#가장 확률이 높은 클래스"
      ],
      "execution_count": 20,
      "outputs": [
        {
          "output_type": "execute_result",
          "data": {
            "text/plain": [
              "4"
            ]
          },
          "metadata": {
            "tags": []
          },
          "execution_count": 20
        }
      ]
    },
    {
      "cell_type": "markdown",
      "metadata": {
        "id": "E51yS7iCCaXO"
      },
      "source": [
        "So the model is most confident that this image is a shirt, or `class_names[6]`. And we can check the test label to see this is correct:"
      ]
    },
    {
      "cell_type": "code",
      "metadata": {
        "id": "Sd7Pgsu6CaXP",
        "colab": {
          "base_uri": "https://localhost:8080/"
        },
        "outputId": "4b169cc3-494e-4a31-972f-9dcfb6c3cdd6"
      },
      "source": [
        "test_labels[0]#정답은? -> 정답!"
      ],
      "execution_count": 21,
      "outputs": [
        {
          "output_type": "execute_result",
          "data": {
            "text/plain": [
              "4"
            ]
          },
          "metadata": {
            "tags": []
          },
          "execution_count": 21
        }
      ]
    },
    {
      "cell_type": "markdown",
      "metadata": {
        "id": "ygh2yYC972ne"
      },
      "source": [
        "We can graph this to look at the full set of 10 class predictions"
      ]
    },
    {
      "cell_type": "code",
      "metadata": {
        "id": "DvYmmrpIy6Y1"
      },
      "source": [
        "def plot_image(i, predictions_array, true_labels, images):\n",
        "  predictions_array, true_label, img = predictions_array[i], true_labels[i], images[i]\n",
        "  plt.grid(False)\n",
        "  plt.xticks([])\n",
        "  plt.yticks([])\n",
        "  \n",
        "  plt.imshow(img[...,0], cmap=plt.cm.binary)\n",
        "\n",
        "  predicted_label = np.argmax(predictions_array)\n",
        "  if predicted_label == true_label: #정답이면 blue로 라벨 표시\n",
        "    color = 'blue'\n",
        "  else: #오답이면 red로 표시\n",
        "    color = 'red'\n",
        "  \n",
        "  plt.xlabel(\"{} {:2.0f}% ({})\".format(class_names[predicted_label],\n",
        "                                100*np.max(predictions_array),\n",
        "                                class_names[true_label]),\n",
        "                                color=color)\n",
        "\n",
        "def plot_value_array(i, predictions_array, true_label):\n",
        "  predictions_array, true_label = predictions_array[i], true_label[i]\n",
        "  plt.grid(False)\n",
        "  plt.xticks([])\n",
        "  plt.yticks([])\n",
        "  thisplot = plt.bar(range(10), predictions_array, color=\"#777777\")\n",
        "  plt.ylim([0, 1]) \n",
        "  predicted_label = np.argmax(predictions_array)\n",
        "  \n",
        "  thisplot[predicted_label].set_color('red')\n",
        "  thisplot[true_label].set_color('blue')"
      ],
      "execution_count": 22,
      "outputs": []
    },
    {
      "cell_type": "markdown",
      "metadata": {
        "id": "d4Ov9OFDMmOD"
      },
      "source": [
        "Let's look at the 0th image, predictions, and prediction array. "
      ]
    },
    {
      "cell_type": "code",
      "metadata": {
        "id": "HV5jw-5HwSmO",
        "colab": {
          "base_uri": "https://localhost:8080/",
          "height": 203
        },
        "outputId": "a6aaddd5-e387-4a96-eda0-77c47f58662d"
      },
      "source": [
        "i = 0\n",
        "plt.figure(figsize=(6,3))\n",
        "plt.subplot(1,2,1)\n",
        "plot_image(i, predictions, test_labels, test_images)\n",
        "plt.subplot(1,2,2)\n",
        "plot_value_array(i, predictions, test_labels)"
      ],
      "execution_count": 23,
      "outputs": [
        {
          "output_type": "display_data",
          "data": {
            "image/png": "[encoded data removed]",
            "text/plain": [
              "<Figure size 432x216 with 2 Axes>"
            ]
          },
          "metadata": {
            "tags": []
          }
        }
      ]
    },
    {
      "cell_type": "code",
      "metadata": {
        "id": "Ko-uzOufSCSe",
        "colab": {
          "base_uri": "https://localhost:8080/",
          "height": 203
        },
        "outputId": "8a924226-ee51-4535-a333-c511b9c85d69"
      },
      "source": [
        "i = 12\n",
        "plt.figure(figsize=(6,3))\n",
        "plt.subplot(1,2,1)\n",
        "plot_image(i, predictions, test_labels, test_images)\n",
        "plt.subplot(1,2,2)\n",
        "plot_value_array(i, predictions, test_labels)"
      ],
      "execution_count": 24,
      "outputs": [
        {
          "output_type": "display_data",
          "data": {
            "image/png": "[encoded data removed]",
            "text/plain": [
              "<Figure size 432x216 with 2 Axes>"
            ]
          },
          "metadata": {
            "tags": []
          }
        }
      ]
    },
    {
      "cell_type": "markdown",
      "metadata": {
        "id": "kgdvGD52CaXR"
      },
      "source": [
        "Let's plot several images with their predictions. Correct prediction labels are blue and incorrect prediction labels are red. The number gives the percent (out of 100) for the predicted label. Note that it can be wrong even when very confident. "
      ]
    },
    {
      "cell_type": "code",
      "metadata": {
        "id": "hQlnbqaw2Qu_",
        "colab": {
          "base_uri": "https://localhost:8080/",
          "height": 589
        },
        "outputId": "a6f96224-9f18-44c6-d076-91793f21a905"
      },
      "source": [
        "# Plot the first X test images, their predicted label, and the true label\n",
        "# Color correct predictions in blue, incorrect predictions in red\n",
        "num_rows = 5\n",
        "num_cols = 3\n",
        "num_images = num_rows*num_cols\n",
        "plt.figure(figsize=(2*2*num_cols, 2*num_rows))\n",
        "for i in range(num_images):\n",
        "  plt.subplot(num_rows, 2*num_cols, 2*i+1)\n",
        "  plot_image(i, predictions, test_labels, test_images)\n",
        "  plt.subplot(num_rows, 2*num_cols, 2*i+2)\n",
        "  plot_value_array(i, predictions, test_labels)\n"
      ],
      "execution_count": 25,
      "outputs": [
        {
          "output_type": "display_data",
          "data": {
            "image/png": "[encoded data removed]",
            "text/plain": [
              "<Figure size 864x720 with 30 Axes>"
            ]
          },
          "metadata": {
            "tags": []
          }
        }
      ]
    },
    {
      "cell_type": "markdown",
      "metadata": {
        "id": "R32zteKHCaXT"
      },
      "source": [
        "Finally, use the trained model to make a prediction about a single image. "
      ]
    },
    {
      "cell_type": "code",
      "metadata": {
        "id": "yRJ7JU7JCaXT",
        "colab": {
          "base_uri": "https://localhost:8080/"
        },
        "outputId": "7920eeb7-0acf-4bc8-da70-14feec0cd3c3"
      },
      "source": [
        "# Grab an image from the test dataset\n",
        "img = test_images[0]\n",
        "\n",
        "print(img.shape)"
      ],
      "execution_count": 26,
      "outputs": [
        {
          "output_type": "stream",
          "text": [
            "(28, 28, 1)\n"
          ],
          "name": "stdout"
        }
      ]
    },
    {
      "cell_type": "markdown",
      "metadata": {
        "id": "vz3bVp21CaXV"
      },
      "source": [
        "`tf.keras` models are optimized to make predictions on a *batch*, or collection, of examples at once. So even though we're using a single image, we need to add it to a list:"
      ]
    },
    {
      "cell_type": "code",
      "metadata": {
        "id": "lDFh5yF_CaXW",
        "colab": {
          "base_uri": "https://localhost:8080/"
        },
        "outputId": "bdcd99b2-2677-4e09-8607-fc11c72d854f"
      },
      "source": [
        "# Add the image to a batch where it's the only member.\n",
        "img = np.array([img])\n",
        "\n",
        "print(img.shape)"
      ],
      "execution_count": 27,
      "outputs": [
        {
          "output_type": "stream",
          "text": [
            "(1, 28, 28, 1)\n"
          ],
          "name": "stdout"
        }
      ]
    },
    {
      "cell_type": "markdown",
      "metadata": {
        "id": "EQ5wLTkcCaXY"
      },
      "source": [
        "Now predict the image:"
      ]
    },
    {
      "cell_type": "code",
      "metadata": {
        "id": "o_rzNSdrCaXY",
        "colab": {
          "base_uri": "https://localhost:8080/"
        },
        "outputId": "5a08a0fd-393a-4afc-83d2-5cfc9ee69ee7"
      },
      "source": [
        "predictions_single = model.predict(img)\n",
        "\n",
        "print(predictions_single)"
      ],
      "execution_count": 28,
      "outputs": [
        {
          "output_type": "stream",
          "text": [
            "[[2.69601325e-04 2.61622590e-05 1.18131921e-01 1.99668407e-02\n",
            "  4.31665450e-01 9.72025758e-12 4.29416180e-01 1.21516658e-28\n",
            "  5.23844850e-04 1.05627265e-13]]\n"
          ],
          "name": "stdout"
        }
      ]
    },
    {
      "cell_type": "code",
      "metadata": {
        "id": "6Ai-cpLjO-3A",
        "colab": {
          "base_uri": "https://localhost:8080/",
          "height": 300
        },
        "outputId": "bfbcaa0e-005e-4f20-966f-981a93ca8ef3"
      },
      "source": [
        "plot_value_array(0, predictions_single, test_labels)\n",
        "_ = plt.xticks(range(10), class_names, rotation=45)"
      ],
      "execution_count": 29,
      "outputs": [
        {
          "output_type": "display_data",
          "data": {
            "image/png": "[encoded data removed]",
            "text/plain": [
              "<Figure size 432x288 with 1 Axes>"
            ]
          },
          "metadata": {
            "tags": [],
            "needs_background": "light"
          }
        }
      ]
    },
    {
      "cell_type": "markdown",
      "metadata": {
        "id": "cU1Y2OAMCaXb"
      },
      "source": [
        "`model.predict` returns a list of lists, one for each image in the batch of data. Grab the predictions for our (only) image in the batch:"
      ]
    },
    {
      "cell_type": "code",
      "metadata": {
        "id": "2tRmdq_8CaXb",
        "colab": {
          "base_uri": "https://localhost:8080/"
        },
        "outputId": "8731b092-4271-472a-fa08-b4239c9def70"
      },
      "source": [
        "np.argmax(predictions_single[0])"
      ],
      "execution_count": 30,
      "outputs": [
        {
          "output_type": "execute_result",
          "data": {
            "text/plain": [
              "4"
            ]
          },
          "metadata": {
            "tags": []
          },
          "execution_count": 30
        }
      ]
    },
    {
      "cell_type": "markdown",
      "metadata": {
        "id": "YFc2HbEVCaXd"
      },
      "source": [
        "And, as before, the model predicts a label of 6 (shirt)."
      ]
    },
    {
      "cell_type": "markdown",
      "metadata": {
        "id": "-KtnHECKZni_"
      },
      "source": [
        "# Exercises\n",
        "\n",
        "Experiment with different models and see how the accuracy results differ. In particular change the following parameters:\n",
        "*   Set training epochs set to 1\n",
        "*   Number of neurons in the Dense layer following the Flatten one. For example, go really low (e.g. 10) in ranges up to 512 and see how accuracy changes\n",
        "*   Add additional Dense layers between the Flatten and the final `Dense(10)`, experiment with different units in these layers\n",
        "*   Don't normalize the pixel values, and see the effect that has\n",
        "\n",
        "\n",
        "Remember to enable GPU to make everything run faster (Runtime -> Change runtime type -> Hardware accelerator -> GPU).\n",
        "Also, if you run into trouble, simply reset the entire environment and start from the beginning:\n",
        "*   Edit -> Clear all outputs\n",
        "*   Runtime -> Reset all runtimes"
      ]
    }
  ]
}