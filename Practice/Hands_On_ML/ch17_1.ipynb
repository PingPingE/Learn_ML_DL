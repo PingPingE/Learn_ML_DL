{
  "nbformat": 4,
  "nbformat_minor": 0,
  "metadata": {
    "colab": {
      "name": "ch17-1.ipynb",
      "provenance": [],
      "toc_visible": true,
      "authorship_tag": "ABX9TyOITz/hZ8m/RQtrSk839o/Q",
      "include_colab_link": true
    },
    "kernelspec": {
      "name": "python3",
      "display_name": "Python 3"
    },
    "language_info": {
      "name": "python"
    }
  },
  "cells": [
    {
      "cell_type": "markdown",
      "metadata": {
        "id": "view-in-github",
        "colab_type": "text"
      },
      "source": [
        "<a href=\"https://colab.research.google.com/github/PingPingE/Learn_ML_DL/blob/main/Practice/Hands_On_ML/ch17_1.ipynb\" target=\"_parent\"><img src=\"https://colab.research.google.com/assets/colab-badge.svg\" alt=\"Open In Colab\"/></a>"
      ]
    },
    {
      "cell_type": "code",
      "metadata": {
        "id": "Sm0TG17JEpsj"
      },
      "source": [
        "import numpy as np\n",
        "import tensorflow as tf\n",
        "import tensorflow.keras as keras\n",
        "import matplotlib.pyplot as plt\n",
        "import pandas as pd"
      ],
      "execution_count": 1,
      "outputs": []
    },
    {
      "cell_type": "markdown",
      "metadata": {
        "id": "VHjYxIpLFBjP"
      },
      "source": [
        "# 오토인코더와 GAN을 사용한 표현 학습과 생성적 학습\n",
        "- <strong>오토인코더</strong>: 어떤 지도 없이도 잠재 표현 또는 입력 데이터의 밀집 표현(코딩)을 학습할 수 있는 인공 신경망\n",
        "  - 강력한 특성 추출기처럼 작동하므로 심층 신경망의 비지도 사전훈련에 사용될 수 있다.\n",
        "  - 훈련데이터와 매우 비슷한 새로운 데이터를 생성할 수 있다.(하지만 흐릿하고 실제 이미지 같진 않음)\n",
        "\n",
        "\n",
        "- <strong>GAN(Generative Adversarial Networks)</strong>: 다음과 같은 일을 할 수 있는 인공 신경망\n",
        "  - 초해상도(이미지 해상도 높이기)\n",
        "  - 강력한 이미지 편집(배경 바꾸기)\n",
        "  - 간단한 스케치를 실제 같은 이미지로 바꾸기\n",
        "  - 동영상에서 다음 프레임 예측하기\n",
        "  - (텍스트, 오디오, 시계열 같은) 여러 다른 종류의 데이터 생성\n",
        "  - 다른 모델의 취약점을 식별하고 개선하기 \n"
      ]
    },
    {
      "cell_type": "markdown",
      "metadata": {
        "id": "YiJfTsDIX-aJ"
      },
      "source": [
        "# 오토인코더\n",
        "\n",
        "  <img src=\"https://gaussian37.github.io/assets/img/dl/concept/autoencoder1/autoencoder.png\" width=50% height=50%/>\n",
        "\n",
        "- 두 부분으로 구성\n",
        "  - <strong>인코더(또는 인지 네트워크)</strong>: 입력을 내부 표현으로 바꿈\n",
        "  - <strong>디코더(또는 생성 네트워크)</strong>: 내부 표현을 출력으로 바꿈"
      ]
    },
    {
      "cell_type": "markdown",
      "metadata": {
        "id": "3s0OaEjeVuMc"
      },
      "source": [
        "## 효율적인 데이터 표현\n"
      ]
    },
    {
      "cell_type": "markdown",
      "metadata": {
        "id": "cK1tO9nSXwUy"
      },
      "source": [
        "## 과소완전 선평 오토인코더로 PCA 수행하기"
      ]
    },
    {
      "cell_type": "markdown",
      "metadata": {
        "id": "aB_vm48BYOjW"
      },
      "source": [
        "# GAN\n",
        "<img src=\"https://kjhov195.github.io/post_img/200309/image.png\" width=50%/>\n",
        "\n",
        "- 다음 두 개의 신경망으로 구성\n",
        "  - <strong>생성자</strong>: 훈련 데이터와 비슷해 보이는 데이터를 생성하는 신경망\n",
        "  - <strong>판별자</strong>: 데이터와 진짜 데이터를 구별하는 신경망"
      ]
    }
  ]
}