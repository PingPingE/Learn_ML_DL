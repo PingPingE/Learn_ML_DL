{
  "nbformat": 4,
  "nbformat_minor": 0,
  "metadata": {
    "colab": {
      "name": "ch16-2.ipynb",
      "provenance": [],
      "collapsed_sections": [],
      "toc_visible": true,
      "authorship_tag": "ABX9TyP/rspA7fIxlHMkIKzGgxDW",
      "include_colab_link": true
    },
    "kernelspec": {
      "name": "python3",
      "display_name": "Python 3"
    },
    "language_info": {
      "name": "python"
    },
    "widgets": {
      "application/vnd.jupyter.widget-state+json": {
        "f9b17eb0138549f0a865b6a31c6f5c87": {
          "model_module": "@jupyter-widgets/controls",
          "model_name": "HBoxModel",
          "state": {
            "_view_name": "HBoxView",
            "_dom_classes": [],
            "_model_name": "HBoxModel",
            "_view_module": "@jupyter-widgets/controls",
            "_model_module_version": "1.5.0",
            "_view_count": null,
            "_view_module_version": "1.5.0",
            "box_style": "",
            "layout": "IPY_MODEL_9725719f29554e14900cf71979029bbd",
            "_model_module": "@jupyter-widgets/controls",
            "children": [
              "IPY_MODEL_85ca43eb5ded4168908476b88b143122",
              "IPY_MODEL_bc010aff21e54b3fad4951d84157d8fa"
            ]
          }
        },
        "9725719f29554e14900cf71979029bbd": {
          "model_module": "@jupyter-widgets/base",
          "model_name": "LayoutModel",
          "state": {
            "_view_name": "LayoutView",
            "grid_template_rows": null,
            "right": null,
            "justify_content": null,
            "_view_module": "@jupyter-widgets/base",
            "overflow": null,
            "_model_module_version": "1.2.0",
            "_view_count": null,
            "flex_flow": null,
            "width": null,
            "min_width": null,
            "border": null,
            "align_items": null,
            "bottom": null,
            "_model_module": "@jupyter-widgets/base",
            "top": null,
            "grid_column": null,
            "overflow_y": null,
            "overflow_x": null,
            "grid_auto_flow": null,
            "grid_area": null,
            "grid_template_columns": null,
            "flex": null,
            "_model_name": "LayoutModel",
            "justify_items": null,
            "grid_row": null,
            "max_height": null,
            "align_content": null,
            "visibility": null,
            "align_self": null,
            "height": null,
            "min_height": null,
            "padding": null,
            "grid_auto_rows": null,
            "grid_gap": null,
            "max_width": null,
            "order": null,
            "_view_module_version": "1.2.0",
            "grid_template_areas": null,
            "object_position": null,
            "object_fit": null,
            "grid_auto_columns": null,
            "margin": null,
            "display": null,
            "left": null
          }
        },
        "85ca43eb5ded4168908476b88b143122": {
          "model_module": "@jupyter-widgets/controls",
          "model_name": "FloatProgressModel",
          "state": {
            "_view_name": "ProgressView",
            "style": "IPY_MODEL_ebbf8fe5e64c47b5a04cf964a1934e5d",
            "_dom_classes": [],
            "description": "Dl Completed...: 100%",
            "_model_name": "FloatProgressModel",
            "bar_style": "success",
            "max": 1,
            "_view_module": "@jupyter-widgets/controls",
            "_model_module_version": "1.5.0",
            "value": 1,
            "_view_count": null,
            "_view_module_version": "1.5.0",
            "orientation": "horizontal",
            "min": 0,
            "description_tooltip": null,
            "_model_module": "@jupyter-widgets/controls",
            "layout": "IPY_MODEL_a7d4eab50c1f4c29ad9b4f1db397d9a8"
          }
        },
        "bc010aff21e54b3fad4951d84157d8fa": {
          "model_module": "@jupyter-widgets/controls",
          "model_name": "HTMLModel",
          "state": {
            "_view_name": "HTMLView",
            "style": "IPY_MODEL_5b472e35980044188006974f2659cbda",
            "_dom_classes": [],
            "description": "",
            "_model_name": "HTMLModel",
            "placeholder": "​",
            "_view_module": "@jupyter-widgets/controls",
            "_model_module_version": "1.5.0",
            "value": " 1/1 [00:01&lt;00:00,  1.89s/ url]",
            "_view_count": null,
            "_view_module_version": "1.5.0",
            "description_tooltip": null,
            "_model_module": "@jupyter-widgets/controls",
            "layout": "IPY_MODEL_86ba019da6d34d7a9fa4c6f6eaa59af2"
          }
        },
        "ebbf8fe5e64c47b5a04cf964a1934e5d": {
          "model_module": "@jupyter-widgets/controls",
          "model_name": "ProgressStyleModel",
          "state": {
            "_view_name": "StyleView",
            "_model_name": "ProgressStyleModel",
            "description_width": "initial",
            "_view_module": "@jupyter-widgets/base",
            "_model_module_version": "1.5.0",
            "_view_count": null,
            "_view_module_version": "1.2.0",
            "bar_color": null,
            "_model_module": "@jupyter-widgets/controls"
          }
        },
        "a7d4eab50c1f4c29ad9b4f1db397d9a8": {
          "model_module": "@jupyter-widgets/base",
          "model_name": "LayoutModel",
          "state": {
            "_view_name": "LayoutView",
            "grid_template_rows": null,
            "right": null,
            "justify_content": null,
            "_view_module": "@jupyter-widgets/base",
            "overflow": null,
            "_model_module_version": "1.2.0",
            "_view_count": null,
            "flex_flow": null,
            "width": null,
            "min_width": null,
            "border": null,
            "align_items": null,
            "bottom": null,
            "_model_module": "@jupyter-widgets/base",
            "top": null,
            "grid_column": null,
            "overflow_y": null,
            "overflow_x": null,
            "grid_auto_flow": null,
            "grid_area": null,
            "grid_template_columns": null,
            "flex": null,
            "_model_name": "LayoutModel",
            "justify_items": null,
            "grid_row": null,
            "max_height": null,
            "align_content": null,
            "visibility": null,
            "align_self": null,
            "height": null,
            "min_height": null,
            "padding": null,
            "grid_auto_rows": null,
            "grid_gap": null,
            "max_width": null,
            "order": null,
            "_view_module_version": "1.2.0",
            "grid_template_areas": null,
            "object_position": null,
            "object_fit": null,
            "grid_auto_columns": null,
            "margin": null,
            "display": null,
            "left": null
          }
        },
        "5b472e35980044188006974f2659cbda": {
          "model_module": "@jupyter-widgets/controls",
          "model_name": "DescriptionStyleModel",
          "state": {
            "_view_name": "StyleView",
            "_model_name": "DescriptionStyleModel",
            "description_width": "",
            "_view_module": "@jupyter-widgets/base",
            "_model_module_version": "1.5.0",
            "_view_count": null,
            "_view_module_version": "1.2.0",
            "_model_module": "@jupyter-widgets/controls"
          }
        },
        "86ba019da6d34d7a9fa4c6f6eaa59af2": {
          "model_module": "@jupyter-widgets/base",
          "model_name": "LayoutModel",
          "state": {
            "_view_name": "LayoutView",
            "grid_template_rows": null,
            "right": null,
            "justify_content": null,
            "_view_module": "@jupyter-widgets/base",
            "overflow": null,
            "_model_module_version": "1.2.0",
            "_view_count": null,
            "flex_flow": null,
            "width": null,
            "min_width": null,
            "border": null,
            "align_items": null,
            "bottom": null,
            "_model_module": "@jupyter-widgets/base",
            "top": null,
            "grid_column": null,
            "overflow_y": null,
            "overflow_x": null,
            "grid_auto_flow": null,
            "grid_area": null,
            "grid_template_columns": null,
            "flex": null,
            "_model_name": "LayoutModel",
            "justify_items": null,
            "grid_row": null,
            "max_height": null,
            "align_content": null,
            "visibility": null,
            "align_self": null,
            "height": null,
            "min_height": null,
            "padding": null,
            "grid_auto_rows": null,
            "grid_gap": null,
            "max_width": null,
            "order": null,
            "_view_module_version": "1.2.0",
            "grid_template_areas": null,
            "object_position": null,
            "object_fit": null,
            "grid_auto_columns": null,
            "margin": null,
            "display": null,
            "left": null
          }
        },
        "eb0682c05dec4f4e8dc158b9a6577c74": {
          "model_module": "@jupyter-widgets/controls",
          "model_name": "HBoxModel",
          "state": {
            "_view_name": "HBoxView",
            "_dom_classes": [],
            "_model_name": "HBoxModel",
            "_view_module": "@jupyter-widgets/controls",
            "_model_module_version": "1.5.0",
            "_view_count": null,
            "_view_module_version": "1.5.0",
            "box_style": "",
            "layout": "IPY_MODEL_7e3e44595dfd4ebf8ffdf65ac9711c16",
            "_model_module": "@jupyter-widgets/controls",
            "children": [
              "IPY_MODEL_0ca0e6c4cd174cf283f5a1c8caeb15c1",
              "IPY_MODEL_097de9cac3974dd3bcd667fb2c367d9d"
            ]
          }
        },
        "7e3e44595dfd4ebf8ffdf65ac9711c16": {
          "model_module": "@jupyter-widgets/base",
          "model_name": "LayoutModel",
          "state": {
            "_view_name": "LayoutView",
            "grid_template_rows": null,
            "right": null,
            "justify_content": null,
            "_view_module": "@jupyter-widgets/base",
            "overflow": null,
            "_model_module_version": "1.2.0",
            "_view_count": null,
            "flex_flow": null,
            "width": null,
            "min_width": null,
            "border": null,
            "align_items": null,
            "bottom": null,
            "_model_module": "@jupyter-widgets/base",
            "top": null,
            "grid_column": null,
            "overflow_y": null,
            "overflow_x": null,
            "grid_auto_flow": null,
            "grid_area": null,
            "grid_template_columns": null,
            "flex": null,
            "_model_name": "LayoutModel",
            "justify_items": null,
            "grid_row": null,
            "max_height": null,
            "align_content": null,
            "visibility": null,
            "align_self": null,
            "height": null,
            "min_height": null,
            "padding": null,
            "grid_auto_rows": null,
            "grid_gap": null,
            "max_width": null,
            "order": null,
            "_view_module_version": "1.2.0",
            "grid_template_areas": null,
            "object_position": null,
            "object_fit": null,
            "grid_auto_columns": null,
            "margin": null,
            "display": null,
            "left": null
          }
        },
        "0ca0e6c4cd174cf283f5a1c8caeb15c1": {
          "model_module": "@jupyter-widgets/controls",
          "model_name": "FloatProgressModel",
          "state": {
            "_view_name": "ProgressView",
            "style": "IPY_MODEL_2b26ad595cf943baa34b79519dc2a430",
            "_dom_classes": [],
            "description": "Dl Size...: 100%",
            "_model_name": "FloatProgressModel",
            "bar_style": "success",
            "max": 1,
            "_view_module": "@jupyter-widgets/controls",
            "_model_module_version": "1.5.0",
            "value": 1,
            "_view_count": null,
            "_view_module_version": "1.5.0",
            "orientation": "horizontal",
            "min": 0,
            "description_tooltip": null,
            "_model_module": "@jupyter-widgets/controls",
            "layout": "IPY_MODEL_166bf90a0a9f464e97aed37f4ff9e647"
          }
        },
        "097de9cac3974dd3bcd667fb2c367d9d": {
          "model_module": "@jupyter-widgets/controls",
          "model_name": "HTMLModel",
          "state": {
            "_view_name": "HTMLView",
            "style": "IPY_MODEL_cc70664610ad49439981f783209df3d9",
            "_dom_classes": [],
            "description": "",
            "_model_name": "HTMLModel",
            "placeholder": "​",
            "_view_module": "@jupyter-widgets/controls",
            "_model_module_version": "1.5.0",
            "value": " 80/80 [00:01&lt;00:00, 43.35 MiB/s]",
            "_view_count": null,
            "_view_module_version": "1.5.0",
            "description_tooltip": null,
            "_model_module": "@jupyter-widgets/controls",
            "layout": "IPY_MODEL_b8040944b482437ba14b77d5be10576c"
          }
        },
        "2b26ad595cf943baa34b79519dc2a430": {
          "model_module": "@jupyter-widgets/controls",
          "model_name": "ProgressStyleModel",
          "state": {
            "_view_name": "StyleView",
            "_model_name": "ProgressStyleModel",
            "description_width": "initial",
            "_view_module": "@jupyter-widgets/base",
            "_model_module_version": "1.5.0",
            "_view_count": null,
            "_view_module_version": "1.2.0",
            "bar_color": null,
            "_model_module": "@jupyter-widgets/controls"
          }
        },
        "166bf90a0a9f464e97aed37f4ff9e647": {
          "model_module": "@jupyter-widgets/base",
          "model_name": "LayoutModel",
          "state": {
            "_view_name": "LayoutView",
            "grid_template_rows": null,
            "right": null,
            "justify_content": null,
            "_view_module": "@jupyter-widgets/base",
            "overflow": null,
            "_model_module_version": "1.2.0",
            "_view_count": null,
            "flex_flow": null,
            "width": null,
            "min_width": null,
            "border": null,
            "align_items": null,
            "bottom": null,
            "_model_module": "@jupyter-widgets/base",
            "top": null,
            "grid_column": null,
            "overflow_y": null,
            "overflow_x": null,
            "grid_auto_flow": null,
            "grid_area": null,
            "grid_template_columns": null,
            "flex": null,
            "_model_name": "LayoutModel",
            "justify_items": null,
            "grid_row": null,
            "max_height": null,
            "align_content": null,
            "visibility": null,
            "align_self": null,
            "height": null,
            "min_height": null,
            "padding": null,
            "grid_auto_rows": null,
            "grid_gap": null,
            "max_width": null,
            "order": null,
            "_view_module_version": "1.2.0",
            "grid_template_areas": null,
            "object_position": null,
            "object_fit": null,
            "grid_auto_columns": null,
            "margin": null,
            "display": null,
            "left": null
          }
        },
        "cc70664610ad49439981f783209df3d9": {
          "model_module": "@jupyter-widgets/controls",
          "model_name": "DescriptionStyleModel",
          "state": {
            "_view_name": "StyleView",
            "_model_name": "DescriptionStyleModel",
            "description_width": "",
            "_view_module": "@jupyter-widgets/base",
            "_model_module_version": "1.5.0",
            "_view_count": null,
            "_view_module_version": "1.2.0",
            "_model_module": "@jupyter-widgets/controls"
          }
        },
        "b8040944b482437ba14b77d5be10576c": {
          "model_module": "@jupyter-widgets/base",
          "model_name": "LayoutModel",
          "state": {
            "_view_name": "LayoutView",
            "grid_template_rows": null,
            "right": null,
            "justify_content": null,
            "_view_module": "@jupyter-widgets/base",
            "overflow": null,
            "_model_module_version": "1.2.0",
            "_view_count": null,
            "flex_flow": null,
            "width": null,
            "min_width": null,
            "border": null,
            "align_items": null,
            "bottom": null,
            "_model_module": "@jupyter-widgets/base",
            "top": null,
            "grid_column": null,
            "overflow_y": null,
            "overflow_x": null,
            "grid_auto_flow": null,
            "grid_area": null,
            "grid_template_columns": null,
            "flex": null,
            "_model_name": "LayoutModel",
            "justify_items": null,
            "grid_row": null,
            "max_height": null,
            "align_content": null,
            "visibility": null,
            "align_self": null,
            "height": null,
            "min_height": null,
            "padding": null,
            "grid_auto_rows": null,
            "grid_gap": null,
            "max_width": null,
            "order": null,
            "_view_module_version": "1.2.0",
            "grid_template_areas": null,
            "object_position": null,
            "object_fit": null,
            "grid_auto_columns": null,
            "margin": null,
            "display": null,
            "left": null
          }
        },
        "5ca042a746054341814424a20a9d5b5b": {
          "model_module": "@jupyter-widgets/controls",
          "model_name": "HBoxModel",
          "state": {
            "_view_name": "HBoxView",
            "_dom_classes": [],
            "_model_name": "HBoxModel",
            "_view_module": "@jupyter-widgets/controls",
            "_model_module_version": "1.5.0",
            "_view_count": null,
            "_view_module_version": "1.5.0",
            "box_style": "",
            "layout": "IPY_MODEL_d64c4a47494b44fdafb139aaf25cb341",
            "_model_module": "@jupyter-widgets/controls",
            "children": [
              "IPY_MODEL_0c75b73c010d40fbb15c1b453a076a5b",
              "IPY_MODEL_434c8641c2fa4d77b105c38e61f04b2a"
            ]
          }
        },
        "d64c4a47494b44fdafb139aaf25cb341": {
          "model_module": "@jupyter-widgets/base",
          "model_name": "LayoutModel",
          "state": {
            "_view_name": "LayoutView",
            "grid_template_rows": null,
            "right": null,
            "justify_content": null,
            "_view_module": "@jupyter-widgets/base",
            "overflow": null,
            "_model_module_version": "1.2.0",
            "_view_count": null,
            "flex_flow": null,
            "width": null,
            "min_width": null,
            "border": null,
            "align_items": null,
            "bottom": null,
            "_model_module": "@jupyter-widgets/base",
            "top": null,
            "grid_column": null,
            "overflow_y": null,
            "overflow_x": null,
            "grid_auto_flow": null,
            "grid_area": null,
            "grid_template_columns": null,
            "flex": null,
            "_model_name": "LayoutModel",
            "justify_items": null,
            "grid_row": null,
            "max_height": null,
            "align_content": null,
            "visibility": null,
            "align_self": null,
            "height": null,
            "min_height": null,
            "padding": null,
            "grid_auto_rows": null,
            "grid_gap": null,
            "max_width": null,
            "order": null,
            "_view_module_version": "1.2.0",
            "grid_template_areas": null,
            "object_position": null,
            "object_fit": null,
            "grid_auto_columns": null,
            "margin": null,
            "display": null,
            "left": null
          }
        },
        "0c75b73c010d40fbb15c1b453a076a5b": {
          "model_module": "@jupyter-widgets/controls",
          "model_name": "FloatProgressModel",
          "state": {
            "_view_name": "ProgressView",
            "style": "IPY_MODEL_372b9a56df77412dbfd36f8653df74bc",
            "_dom_classes": [],
            "description": "",
            "_model_name": "FloatProgressModel",
            "bar_style": "info",
            "max": 1,
            "_view_module": "@jupyter-widgets/controls",
            "_model_module_version": "1.5.0",
            "value": 1,
            "_view_count": null,
            "_view_module_version": "1.5.0",
            "orientation": "horizontal",
            "min": 0,
            "description_tooltip": null,
            "_model_module": "@jupyter-widgets/controls",
            "layout": "IPY_MODEL_85af4e5743224bedafa07126a5fbcaeb"
          }
        },
        "434c8641c2fa4d77b105c38e61f04b2a": {
          "model_module": "@jupyter-widgets/controls",
          "model_name": "HTMLModel",
          "state": {
            "_view_name": "HTMLView",
            "style": "IPY_MODEL_a6ef0eafc2594a2d987ff04f4fe9c12e",
            "_dom_classes": [],
            "description": "",
            "_model_name": "HTMLModel",
            "placeholder": "​",
            "_view_module": "@jupyter-widgets/controls",
            "_model_module_version": "1.5.0",
            "value": " 25000/0 [00:15&lt;00:00, 3130.93 examples/s]",
            "_view_count": null,
            "_view_module_version": "1.5.0",
            "description_tooltip": null,
            "_model_module": "@jupyter-widgets/controls",
            "layout": "IPY_MODEL_afa065a2edc84bc5b205292e63119b91"
          }
        },
        "372b9a56df77412dbfd36f8653df74bc": {
          "model_module": "@jupyter-widgets/controls",
          "model_name": "ProgressStyleModel",
          "state": {
            "_view_name": "StyleView",
            "_model_name": "ProgressStyleModel",
            "description_width": "initial",
            "_view_module": "@jupyter-widgets/base",
            "_model_module_version": "1.5.0",
            "_view_count": null,
            "_view_module_version": "1.2.0",
            "bar_color": null,
            "_model_module": "@jupyter-widgets/controls"
          }
        },
        "85af4e5743224bedafa07126a5fbcaeb": {
          "model_module": "@jupyter-widgets/base",
          "model_name": "LayoutModel",
          "state": {
            "_view_name": "LayoutView",
            "grid_template_rows": null,
            "right": null,
            "justify_content": null,
            "_view_module": "@jupyter-widgets/base",
            "overflow": null,
            "_model_module_version": "1.2.0",
            "_view_count": null,
            "flex_flow": null,
            "width": null,
            "min_width": null,
            "border": null,
            "align_items": null,
            "bottom": null,
            "_model_module": "@jupyter-widgets/base",
            "top": null,
            "grid_column": null,
            "overflow_y": null,
            "overflow_x": null,
            "grid_auto_flow": null,
            "grid_area": null,
            "grid_template_columns": null,
            "flex": null,
            "_model_name": "LayoutModel",
            "justify_items": null,
            "grid_row": null,
            "max_height": null,
            "align_content": null,
            "visibility": null,
            "align_self": null,
            "height": null,
            "min_height": null,
            "padding": null,
            "grid_auto_rows": null,
            "grid_gap": null,
            "max_width": null,
            "order": null,
            "_view_module_version": "1.2.0",
            "grid_template_areas": null,
            "object_position": null,
            "object_fit": null,
            "grid_auto_columns": null,
            "margin": null,
            "display": null,
            "left": null
          }
        },
        "a6ef0eafc2594a2d987ff04f4fe9c12e": {
          "model_module": "@jupyter-widgets/controls",
          "model_name": "DescriptionStyleModel",
          "state": {
            "_view_name": "StyleView",
            "_model_name": "DescriptionStyleModel",
            "description_width": "",
            "_view_module": "@jupyter-widgets/base",
            "_model_module_version": "1.5.0",
            "_view_count": null,
            "_view_module_version": "1.2.0",
            "_model_module": "@jupyter-widgets/controls"
          }
        },
        "afa065a2edc84bc5b205292e63119b91": {
          "model_module": "@jupyter-widgets/base",
          "model_name": "LayoutModel",
          "state": {
            "_view_name": "LayoutView",
            "grid_template_rows": null,
            "right": null,
            "justify_content": null,
            "_view_module": "@jupyter-widgets/base",
            "overflow": null,
            "_model_module_version": "1.2.0",
            "_view_count": null,
            "flex_flow": null,
            "width": null,
            "min_width": null,
            "border": null,
            "align_items": null,
            "bottom": null,
            "_model_module": "@jupyter-widgets/base",
            "top": null,
            "grid_column": null,
            "overflow_y": null,
            "overflow_x": null,
            "grid_auto_flow": null,
            "grid_area": null,
            "grid_template_columns": null,
            "flex": null,
            "_model_name": "LayoutModel",
            "justify_items": null,
            "grid_row": null,
            "max_height": null,
            "align_content": null,
            "visibility": null,
            "align_self": null,
            "height": null,
            "min_height": null,
            "padding": null,
            "grid_auto_rows": null,
            "grid_gap": null,
            "max_width": null,
            "order": null,
            "_view_module_version": "1.2.0",
            "grid_template_areas": null,
            "object_position": null,
            "object_fit": null,
            "grid_auto_columns": null,
            "margin": null,
            "display": null,
            "left": null
          }
        },
        "0ce0113f83994e4fab18f9e41bd3eab2": {
          "model_module": "@jupyter-widgets/controls",
          "model_name": "HBoxModel",
          "state": {
            "_view_name": "HBoxView",
            "_dom_classes": [],
            "_model_name": "HBoxModel",
            "_view_module": "@jupyter-widgets/controls",
            "_model_module_version": "1.5.0",
            "_view_count": null,
            "_view_module_version": "1.5.0",
            "box_style": "",
            "layout": "IPY_MODEL_00035b3eaf1b4348a921fd7c2b18d9c4",
            "_model_module": "@jupyter-widgets/controls",
            "children": [
              "IPY_MODEL_6c51b50138cc4cc5b8d21a5240b0b21a",
              "IPY_MODEL_66c3257298af40eb8290e87ae3a94b08"
            ]
          }
        },
        "00035b3eaf1b4348a921fd7c2b18d9c4": {
          "model_module": "@jupyter-widgets/base",
          "model_name": "LayoutModel",
          "state": {
            "_view_name": "LayoutView",
            "grid_template_rows": null,
            "right": null,
            "justify_content": null,
            "_view_module": "@jupyter-widgets/base",
            "overflow": null,
            "_model_module_version": "1.2.0",
            "_view_count": null,
            "flex_flow": null,
            "width": null,
            "min_width": null,
            "border": null,
            "align_items": null,
            "bottom": null,
            "_model_module": "@jupyter-widgets/base",
            "top": null,
            "grid_column": null,
            "overflow_y": null,
            "overflow_x": null,
            "grid_auto_flow": null,
            "grid_area": null,
            "grid_template_columns": null,
            "flex": null,
            "_model_name": "LayoutModel",
            "justify_items": null,
            "grid_row": null,
            "max_height": null,
            "align_content": null,
            "visibility": null,
            "align_self": null,
            "height": null,
            "min_height": null,
            "padding": null,
            "grid_auto_rows": null,
            "grid_gap": null,
            "max_width": null,
            "order": null,
            "_view_module_version": "1.2.0",
            "grid_template_areas": null,
            "object_position": null,
            "object_fit": null,
            "grid_auto_columns": null,
            "margin": null,
            "display": null,
            "left": null
          }
        },
        "6c51b50138cc4cc5b8d21a5240b0b21a": {
          "model_module": "@jupyter-widgets/controls",
          "model_name": "FloatProgressModel",
          "state": {
            "_view_name": "ProgressView",
            "style": "IPY_MODEL_20cb9f40113742f49fcd9390608006fa",
            "_dom_classes": [],
            "description": " 32%",
            "_model_name": "FloatProgressModel",
            "bar_style": "danger",
            "max": 25000,
            "_view_module": "@jupyter-widgets/controls",
            "_model_module_version": "1.5.0",
            "value": 7938,
            "_view_count": null,
            "_view_module_version": "1.5.0",
            "orientation": "horizontal",
            "min": 0,
            "description_tooltip": null,
            "_model_module": "@jupyter-widgets/controls",
            "layout": "IPY_MODEL_54e1232c0199454b8d8344988a5ad33c"
          }
        },
        "66c3257298af40eb8290e87ae3a94b08": {
          "model_module": "@jupyter-widgets/controls",
          "model_name": "HTMLModel",
          "state": {
            "_view_name": "HTMLView",
            "style": "IPY_MODEL_9e1e65e4f7764a2bbab32d241914b1d1",
            "_dom_classes": [],
            "description": "",
            "_model_name": "HTMLModel",
            "placeholder": "​",
            "_view_module": "@jupyter-widgets/controls",
            "_model_module_version": "1.5.0",
            "value": " 7938/25000 [00:00&lt;00:00, 79377.62 examples/s]",
            "_view_count": null,
            "_view_module_version": "1.5.0",
            "description_tooltip": null,
            "_model_module": "@jupyter-widgets/controls",
            "layout": "IPY_MODEL_97ace0c4465b4ab48d61f74918f28be2"
          }
        },
        "20cb9f40113742f49fcd9390608006fa": {
          "model_module": "@jupyter-widgets/controls",
          "model_name": "ProgressStyleModel",
          "state": {
            "_view_name": "StyleView",
            "_model_name": "ProgressStyleModel",
            "description_width": "initial",
            "_view_module": "@jupyter-widgets/base",
            "_model_module_version": "1.5.0",
            "_view_count": null,
            "_view_module_version": "1.2.0",
            "bar_color": null,
            "_model_module": "@jupyter-widgets/controls"
          }
        },
        "54e1232c0199454b8d8344988a5ad33c": {
          "model_module": "@jupyter-widgets/base",
          "model_name": "LayoutModel",
          "state": {
            "_view_name": "LayoutView",
            "grid_template_rows": null,
            "right": null,
            "justify_content": null,
            "_view_module": "@jupyter-widgets/base",
            "overflow": null,
            "_model_module_version": "1.2.0",
            "_view_count": null,
            "flex_flow": null,
            "width": null,
            "min_width": null,
            "border": null,
            "align_items": null,
            "bottom": null,
            "_model_module": "@jupyter-widgets/base",
            "top": null,
            "grid_column": null,
            "overflow_y": null,
            "overflow_x": null,
            "grid_auto_flow": null,
            "grid_area": null,
            "grid_template_columns": null,
            "flex": null,
            "_model_name": "LayoutModel",
            "justify_items": null,
            "grid_row": null,
            "max_height": null,
            "align_content": null,
            "visibility": null,
            "align_self": null,
            "height": null,
            "min_height": null,
            "padding": null,
            "grid_auto_rows": null,
            "grid_gap": null,
            "max_width": null,
            "order": null,
            "_view_module_version": "1.2.0",
            "grid_template_areas": null,
            "object_position": null,
            "object_fit": null,
            "grid_auto_columns": null,
            "margin": null,
            "display": null,
            "left": null
          }
        },
        "9e1e65e4f7764a2bbab32d241914b1d1": {
          "model_module": "@jupyter-widgets/controls",
          "model_name": "DescriptionStyleModel",
          "state": {
            "_view_name": "StyleView",
            "_model_name": "DescriptionStyleModel",
            "description_width": "",
            "_view_module": "@jupyter-widgets/base",
            "_model_module_version": "1.5.0",
            "_view_count": null,
            "_view_module_version": "1.2.0",
            "_model_module": "@jupyter-widgets/controls"
          }
        },
        "97ace0c4465b4ab48d61f74918f28be2": {
          "model_module": "@jupyter-widgets/base",
          "model_name": "LayoutModel",
          "state": {
            "_view_name": "LayoutView",
            "grid_template_rows": null,
            "right": null,
            "justify_content": null,
            "_view_module": "@jupyter-widgets/base",
            "overflow": null,
            "_model_module_version": "1.2.0",
            "_view_count": null,
            "flex_flow": null,
            "width": null,
            "min_width": null,
            "border": null,
            "align_items": null,
            "bottom": null,
            "_model_module": "@jupyter-widgets/base",
            "top": null,
            "grid_column": null,
            "overflow_y": null,
            "overflow_x": null,
            "grid_auto_flow": null,
            "grid_area": null,
            "grid_template_columns": null,
            "flex": null,
            "_model_name": "LayoutModel",
            "justify_items": null,
            "grid_row": null,
            "max_height": null,
            "align_content": null,
            "visibility": null,
            "align_self": null,
            "height": null,
            "min_height": null,
            "padding": null,
            "grid_auto_rows": null,
            "grid_gap": null,
            "max_width": null,
            "order": null,
            "_view_module_version": "1.2.0",
            "grid_template_areas": null,
            "object_position": null,
            "object_fit": null,
            "grid_auto_columns": null,
            "margin": null,
            "display": null,
            "left": null
          }
        },
        "bd3c7e66f74e460aa271f2340acc93ae": {
          "model_module": "@jupyter-widgets/controls",
          "model_name": "HBoxModel",
          "state": {
            "_view_name": "HBoxView",
            "_dom_classes": [],
            "_model_name": "HBoxModel",
            "_view_module": "@jupyter-widgets/controls",
            "_model_module_version": "1.5.0",
            "_view_count": null,
            "_view_module_version": "1.5.0",
            "box_style": "",
            "layout": "IPY_MODEL_10420cc3745a4fe896f0686119f45b34",
            "_model_module": "@jupyter-widgets/controls",
            "children": [
              "IPY_MODEL_0914335c282e45528ea175efd0c98dbe",
              "IPY_MODEL_67ff507f63354612a06b5ce0473693b3"
            ]
          }
        },
        "10420cc3745a4fe896f0686119f45b34": {
          "model_module": "@jupyter-widgets/base",
          "model_name": "LayoutModel",
          "state": {
            "_view_name": "LayoutView",
            "grid_template_rows": null,
            "right": null,
            "justify_content": null,
            "_view_module": "@jupyter-widgets/base",
            "overflow": null,
            "_model_module_version": "1.2.0",
            "_view_count": null,
            "flex_flow": null,
            "width": null,
            "min_width": null,
            "border": null,
            "align_items": null,
            "bottom": null,
            "_model_module": "@jupyter-widgets/base",
            "top": null,
            "grid_column": null,
            "overflow_y": null,
            "overflow_x": null,
            "grid_auto_flow": null,
            "grid_area": null,
            "grid_template_columns": null,
            "flex": null,
            "_model_name": "LayoutModel",
            "justify_items": null,
            "grid_row": null,
            "max_height": null,
            "align_content": null,
            "visibility": null,
            "align_self": null,
            "height": null,
            "min_height": null,
            "padding": null,
            "grid_auto_rows": null,
            "grid_gap": null,
            "max_width": null,
            "order": null,
            "_view_module_version": "1.2.0",
            "grid_template_areas": null,
            "object_position": null,
            "object_fit": null,
            "grid_auto_columns": null,
            "margin": null,
            "display": null,
            "left": null
          }
        },
        "0914335c282e45528ea175efd0c98dbe": {
          "model_module": "@jupyter-widgets/controls",
          "model_name": "FloatProgressModel",
          "state": {
            "_view_name": "ProgressView",
            "style": "IPY_MODEL_c581e478c4d64ad097549653e5020d49",
            "_dom_classes": [],
            "description": "",
            "_model_name": "FloatProgressModel",
            "bar_style": "info",
            "max": 1,
            "_view_module": "@jupyter-widgets/controls",
            "_model_module_version": "1.5.0",
            "value": 1,
            "_view_count": null,
            "_view_module_version": "1.5.0",
            "orientation": "horizontal",
            "min": 0,
            "description_tooltip": null,
            "_model_module": "@jupyter-widgets/controls",
            "layout": "IPY_MODEL_75eab1e0ff284b2da8bed83ede93ad9b"
          }
        },
        "67ff507f63354612a06b5ce0473693b3": {
          "model_module": "@jupyter-widgets/controls",
          "model_name": "HTMLModel",
          "state": {
            "_view_name": "HTMLView",
            "style": "IPY_MODEL_9c3a0171aeec43fe9875d90fd1d2a677",
            "_dom_classes": [],
            "description": "",
            "_model_name": "HTMLModel",
            "placeholder": "​",
            "_view_module": "@jupyter-widgets/controls",
            "_model_module_version": "1.5.0",
            "value": " 25000/0 [00:15&lt;00:00, 3263.78 examples/s]",
            "_view_count": null,
            "_view_module_version": "1.5.0",
            "description_tooltip": null,
            "_model_module": "@jupyter-widgets/controls",
            "layout": "IPY_MODEL_cae002962cfe4fe28ad3ed04c3e9cb0f"
          }
        },
        "c581e478c4d64ad097549653e5020d49": {
          "model_module": "@jupyter-widgets/controls",
          "model_name": "ProgressStyleModel",
          "state": {
            "_view_name": "StyleView",
            "_model_name": "ProgressStyleModel",
            "description_width": "initial",
            "_view_module": "@jupyter-widgets/base",
            "_model_module_version": "1.5.0",
            "_view_count": null,
            "_view_module_version": "1.2.0",
            "bar_color": null,
            "_model_module": "@jupyter-widgets/controls"
          }
        },
        "75eab1e0ff284b2da8bed83ede93ad9b": {
          "model_module": "@jupyter-widgets/base",
          "model_name": "LayoutModel",
          "state": {
            "_view_name": "LayoutView",
            "grid_template_rows": null,
            "right": null,
            "justify_content": null,
            "_view_module": "@jupyter-widgets/base",
            "overflow": null,
            "_model_module_version": "1.2.0",
            "_view_count": null,
            "flex_flow": null,
            "width": null,
            "min_width": null,
            "border": null,
            "align_items": null,
            "bottom": null,
            "_model_module": "@jupyter-widgets/base",
            "top": null,
            "grid_column": null,
            "overflow_y": null,
            "overflow_x": null,
            "grid_auto_flow": null,
            "grid_area": null,
            "grid_template_columns": null,
            "flex": null,
            "_model_name": "LayoutModel",
            "justify_items": null,
            "grid_row": null,
            "max_height": null,
            "align_content": null,
            "visibility": null,
            "align_self": null,
            "height": null,
            "min_height": null,
            "padding": null,
            "grid_auto_rows": null,
            "grid_gap": null,
            "max_width": null,
            "order": null,
            "_view_module_version": "1.2.0",
            "grid_template_areas": null,
            "object_position": null,
            "object_fit": null,
            "grid_auto_columns": null,
            "margin": null,
            "display": null,
            "left": null
          }
        },
        "9c3a0171aeec43fe9875d90fd1d2a677": {
          "model_module": "@jupyter-widgets/controls",
          "model_name": "DescriptionStyleModel",
          "state": {
            "_view_name": "StyleView",
            "_model_name": "DescriptionStyleModel",
            "description_width": "",
            "_view_module": "@jupyter-widgets/base",
            "_model_module_version": "1.5.0",
            "_view_count": null,
            "_view_module_version": "1.2.0",
            "_model_module": "@jupyter-widgets/controls"
          }
        },
        "cae002962cfe4fe28ad3ed04c3e9cb0f": {
          "model_module": "@jupyter-widgets/base",
          "model_name": "LayoutModel",
          "state": {
            "_view_name": "LayoutView",
            "grid_template_rows": null,
            "right": null,
            "justify_content": null,
            "_view_module": "@jupyter-widgets/base",
            "overflow": null,
            "_model_module_version": "1.2.0",
            "_view_count": null,
            "flex_flow": null,
            "width": null,
            "min_width": null,
            "border": null,
            "align_items": null,
            "bottom": null,
            "_model_module": "@jupyter-widgets/base",
            "top": null,
            "grid_column": null,
            "overflow_y": null,
            "overflow_x": null,
            "grid_auto_flow": null,
            "grid_area": null,
            "grid_template_columns": null,
            "flex": null,
            "_model_name": "LayoutModel",
            "justify_items": null,
            "grid_row": null,
            "max_height": null,
            "align_content": null,
            "visibility": null,
            "align_self": null,
            "height": null,
            "min_height": null,
            "padding": null,
            "grid_auto_rows": null,
            "grid_gap": null,
            "max_width": null,
            "order": null,
            "_view_module_version": "1.2.0",
            "grid_template_areas": null,
            "object_position": null,
            "object_fit": null,
            "grid_auto_columns": null,
            "margin": null,
            "display": null,
            "left": null
          }
        },
        "7e542d53dec9447c957dbf42850a2968": {
          "model_module": "@jupyter-widgets/controls",
          "model_name": "HBoxModel",
          "state": {
            "_view_name": "HBoxView",
            "_dom_classes": [],
            "_model_name": "HBoxModel",
            "_view_module": "@jupyter-widgets/controls",
            "_model_module_version": "1.5.0",
            "_view_count": null,
            "_view_module_version": "1.5.0",
            "box_style": "",
            "layout": "IPY_MODEL_96f9f9fee62e40ea9ec428d8b49938f8",
            "_model_module": "@jupyter-widgets/controls",
            "children": [
              "IPY_MODEL_8a32cd595aa547508ec7121ebceb6af8",
              "IPY_MODEL_d77acb05b0a6418dbc45e8a6bb103fc5"
            ]
          }
        },
        "96f9f9fee62e40ea9ec428d8b49938f8": {
          "model_module": "@jupyter-widgets/base",
          "model_name": "LayoutModel",
          "state": {
            "_view_name": "LayoutView",
            "grid_template_rows": null,
            "right": null,
            "justify_content": null,
            "_view_module": "@jupyter-widgets/base",
            "overflow": null,
            "_model_module_version": "1.2.0",
            "_view_count": null,
            "flex_flow": null,
            "width": null,
            "min_width": null,
            "border": null,
            "align_items": null,
            "bottom": null,
            "_model_module": "@jupyter-widgets/base",
            "top": null,
            "grid_column": null,
            "overflow_y": null,
            "overflow_x": null,
            "grid_auto_flow": null,
            "grid_area": null,
            "grid_template_columns": null,
            "flex": null,
            "_model_name": "LayoutModel",
            "justify_items": null,
            "grid_row": null,
            "max_height": null,
            "align_content": null,
            "visibility": null,
            "align_self": null,
            "height": null,
            "min_height": null,
            "padding": null,
            "grid_auto_rows": null,
            "grid_gap": null,
            "max_width": null,
            "order": null,
            "_view_module_version": "1.2.0",
            "grid_template_areas": null,
            "object_position": null,
            "object_fit": null,
            "grid_auto_columns": null,
            "margin": null,
            "display": null,
            "left": null
          }
        },
        "8a32cd595aa547508ec7121ebceb6af8": {
          "model_module": "@jupyter-widgets/controls",
          "model_name": "FloatProgressModel",
          "state": {
            "_view_name": "ProgressView",
            "style": "IPY_MODEL_ddd1b036d59e4aecaf05fb5291a2a77b",
            "_dom_classes": [],
            "description": " 30%",
            "_model_name": "FloatProgressModel",
            "bar_style": "danger",
            "max": 25000,
            "_view_module": "@jupyter-widgets/controls",
            "_model_module_version": "1.5.0",
            "value": 7591,
            "_view_count": null,
            "_view_module_version": "1.5.0",
            "orientation": "horizontal",
            "min": 0,
            "description_tooltip": null,
            "_model_module": "@jupyter-widgets/controls",
            "layout": "IPY_MODEL_d11d06b5dc29468aa79c0c0b63c7d046"
          }
        },
        "d77acb05b0a6418dbc45e8a6bb103fc5": {
          "model_module": "@jupyter-widgets/controls",
          "model_name": "HTMLModel",
          "state": {
            "_view_name": "HTMLView",
            "style": "IPY_MODEL_2dd3b45fce754cb2b4714c1b325f0acd",
            "_dom_classes": [],
            "description": "",
            "_model_name": "HTMLModel",
            "placeholder": "​",
            "_view_module": "@jupyter-widgets/controls",
            "_model_module_version": "1.5.0",
            "value": " 7591/25000 [00:00&lt;00:00, 75907.18 examples/s]",
            "_view_count": null,
            "_view_module_version": "1.5.0",
            "description_tooltip": null,
            "_model_module": "@jupyter-widgets/controls",
            "layout": "IPY_MODEL_572b1ebd4f5645d0b8242cfb890a9084"
          }
        },
        "ddd1b036d59e4aecaf05fb5291a2a77b": {
          "model_module": "@jupyter-widgets/controls",
          "model_name": "ProgressStyleModel",
          "state": {
            "_view_name": "StyleView",
            "_model_name": "ProgressStyleModel",
            "description_width": "initial",
            "_view_module": "@jupyter-widgets/base",
            "_model_module_version": "1.5.0",
            "_view_count": null,
            "_view_module_version": "1.2.0",
            "bar_color": null,
            "_model_module": "@jupyter-widgets/controls"
          }
        },
        "d11d06b5dc29468aa79c0c0b63c7d046": {
          "model_module": "@jupyter-widgets/base",
          "model_name": "LayoutModel",
          "state": {
            "_view_name": "LayoutView",
            "grid_template_rows": null,
            "right": null,
            "justify_content": null,
            "_view_module": "@jupyter-widgets/base",
            "overflow": null,
            "_model_module_version": "1.2.0",
            "_view_count": null,
            "flex_flow": null,
            "width": null,
            "min_width": null,
            "border": null,
            "align_items": null,
            "bottom": null,
            "_model_module": "@jupyter-widgets/base",
            "top": null,
            "grid_column": null,
            "overflow_y": null,
            "overflow_x": null,
            "grid_auto_flow": null,
            "grid_area": null,
            "grid_template_columns": null,
            "flex": null,
            "_model_name": "LayoutModel",
            "justify_items": null,
            "grid_row": null,
            "max_height": null,
            "align_content": null,
            "visibility": null,
            "align_self": null,
            "height": null,
            "min_height": null,
            "padding": null,
            "grid_auto_rows": null,
            "grid_gap": null,
            "max_width": null,
            "order": null,
            "_view_module_version": "1.2.0",
            "grid_template_areas": null,
            "object_position": null,
            "object_fit": null,
            "grid_auto_columns": null,
            "margin": null,
            "display": null,
            "left": null
          }
        },
        "2dd3b45fce754cb2b4714c1b325f0acd": {
          "model_module": "@jupyter-widgets/controls",
          "model_name": "DescriptionStyleModel",
          "state": {
            "_view_name": "StyleView",
            "_model_name": "DescriptionStyleModel",
            "description_width": "",
            "_view_module": "@jupyter-widgets/base",
            "_model_module_version": "1.5.0",
            "_view_count": null,
            "_view_module_version": "1.2.0",
            "_model_module": "@jupyter-widgets/controls"
          }
        },
        "572b1ebd4f5645d0b8242cfb890a9084": {
          "model_module": "@jupyter-widgets/base",
          "model_name": "LayoutModel",
          "state": {
            "_view_name": "LayoutView",
            "grid_template_rows": null,
            "right": null,
            "justify_content": null,
            "_view_module": "@jupyter-widgets/base",
            "overflow": null,
            "_model_module_version": "1.2.0",
            "_view_count": null,
            "flex_flow": null,
            "width": null,
            "min_width": null,
            "border": null,
            "align_items": null,
            "bottom": null,
            "_model_module": "@jupyter-widgets/base",
            "top": null,
            "grid_column": null,
            "overflow_y": null,
            "overflow_x": null,
            "grid_auto_flow": null,
            "grid_area": null,
            "grid_template_columns": null,
            "flex": null,
            "_model_name": "LayoutModel",
            "justify_items": null,
            "grid_row": null,
            "max_height": null,
            "align_content": null,
            "visibility": null,
            "align_self": null,
            "height": null,
            "min_height": null,
            "padding": null,
            "grid_auto_rows": null,
            "grid_gap": null,
            "max_width": null,
            "order": null,
            "_view_module_version": "1.2.0",
            "grid_template_areas": null,
            "object_position": null,
            "object_fit": null,
            "grid_auto_columns": null,
            "margin": null,
            "display": null,
            "left": null
          }
        },
        "7e62ef8f077a489d8d422548719e3201": {
          "model_module": "@jupyter-widgets/controls",
          "model_name": "HBoxModel",
          "state": {
            "_view_name": "HBoxView",
            "_dom_classes": [],
            "_model_name": "HBoxModel",
            "_view_module": "@jupyter-widgets/controls",
            "_model_module_version": "1.5.0",
            "_view_count": null,
            "_view_module_version": "1.5.0",
            "box_style": "",
            "layout": "IPY_MODEL_3b5eff48f7804259807a7a107a6a5af3",
            "_model_module": "@jupyter-widgets/controls",
            "children": [
              "IPY_MODEL_80f9e04452514b579bb097a3ecaecfac",
              "IPY_MODEL_327ae54b0fde43ae926d055c9dd84fb6"
            ]
          }
        },
        "3b5eff48f7804259807a7a107a6a5af3": {
          "model_module": "@jupyter-widgets/base",
          "model_name": "LayoutModel",
          "state": {
            "_view_name": "LayoutView",
            "grid_template_rows": null,
            "right": null,
            "justify_content": null,
            "_view_module": "@jupyter-widgets/base",
            "overflow": null,
            "_model_module_version": "1.2.0",
            "_view_count": null,
            "flex_flow": null,
            "width": null,
            "min_width": null,
            "border": null,
            "align_items": null,
            "bottom": null,
            "_model_module": "@jupyter-widgets/base",
            "top": null,
            "grid_column": null,
            "overflow_y": null,
            "overflow_x": null,
            "grid_auto_flow": null,
            "grid_area": null,
            "grid_template_columns": null,
            "flex": null,
            "_model_name": "LayoutModel",
            "justify_items": null,
            "grid_row": null,
            "max_height": null,
            "align_content": null,
            "visibility": null,
            "align_self": null,
            "height": null,
            "min_height": null,
            "padding": null,
            "grid_auto_rows": null,
            "grid_gap": null,
            "max_width": null,
            "order": null,
            "_view_module_version": "1.2.0",
            "grid_template_areas": null,
            "object_position": null,
            "object_fit": null,
            "grid_auto_columns": null,
            "margin": null,
            "display": null,
            "left": null
          }
        },
        "80f9e04452514b579bb097a3ecaecfac": {
          "model_module": "@jupyter-widgets/controls",
          "model_name": "FloatProgressModel",
          "state": {
            "_view_name": "ProgressView",
            "style": "IPY_MODEL_e263b88761a346069a611a55b9766658",
            "_dom_classes": [],
            "description": "",
            "_model_name": "FloatProgressModel",
            "bar_style": "info",
            "max": 1,
            "_view_module": "@jupyter-widgets/controls",
            "_model_module_version": "1.5.0",
            "value": 1,
            "_view_count": null,
            "_view_module_version": "1.5.0",
            "orientation": "horizontal",
            "min": 0,
            "description_tooltip": null,
            "_model_module": "@jupyter-widgets/controls",
            "layout": "IPY_MODEL_df30925f8d284c43abfc71339456b268"
          }
        },
        "327ae54b0fde43ae926d055c9dd84fb6": {
          "model_module": "@jupyter-widgets/controls",
          "model_name": "HTMLModel",
          "state": {
            "_view_name": "HTMLView",
            "style": "IPY_MODEL_910edb012b224a5ea3eec403b53f0422",
            "_dom_classes": [],
            "description": "",
            "_model_name": "HTMLModel",
            "placeholder": "​",
            "_view_module": "@jupyter-widgets/controls",
            "_model_module_version": "1.5.0",
            "value": " 50000/0 [00:21&lt;00:00, 3152.60 examples/s]",
            "_view_count": null,
            "_view_module_version": "1.5.0",
            "description_tooltip": null,
            "_model_module": "@jupyter-widgets/controls",
            "layout": "IPY_MODEL_9a492966f1c24043a041c11924324672"
          }
        },
        "e263b88761a346069a611a55b9766658": {
          "model_module": "@jupyter-widgets/controls",
          "model_name": "ProgressStyleModel",
          "state": {
            "_view_name": "StyleView",
            "_model_name": "ProgressStyleModel",
            "description_width": "initial",
            "_view_module": "@jupyter-widgets/base",
            "_model_module_version": "1.5.0",
            "_view_count": null,
            "_view_module_version": "1.2.0",
            "bar_color": null,
            "_model_module": "@jupyter-widgets/controls"
          }
        },
        "df30925f8d284c43abfc71339456b268": {
          "model_module": "@jupyter-widgets/base",
          "model_name": "LayoutModel",
          "state": {
            "_view_name": "LayoutView",
            "grid_template_rows": null,
            "right": null,
            "justify_content": null,
            "_view_module": "@jupyter-widgets/base",
            "overflow": null,
            "_model_module_version": "1.2.0",
            "_view_count": null,
            "flex_flow": null,
            "width": null,
            "min_width": null,
            "border": null,
            "align_items": null,
            "bottom": null,
            "_model_module": "@jupyter-widgets/base",
            "top": null,
            "grid_column": null,
            "overflow_y": null,
            "overflow_x": null,
            "grid_auto_flow": null,
            "grid_area": null,
            "grid_template_columns": null,
            "flex": null,
            "_model_name": "LayoutModel",
            "justify_items": null,
            "grid_row": null,
            "max_height": null,
            "align_content": null,
            "visibility": null,
            "align_self": null,
            "height": null,
            "min_height": null,
            "padding": null,
            "grid_auto_rows": null,
            "grid_gap": null,
            "max_width": null,
            "order": null,
            "_view_module_version": "1.2.0",
            "grid_template_areas": null,
            "object_position": null,
            "object_fit": null,
            "grid_auto_columns": null,
            "margin": null,
            "display": null,
            "left": null
          }
        },
        "910edb012b224a5ea3eec403b53f0422": {
          "model_module": "@jupyter-widgets/controls",
          "model_name": "DescriptionStyleModel",
          "state": {
            "_view_name": "StyleView",
            "_model_name": "DescriptionStyleModel",
            "description_width": "",
            "_view_module": "@jupyter-widgets/base",
            "_model_module_version": "1.5.0",
            "_view_count": null,
            "_view_module_version": "1.2.0",
            "_model_module": "@jupyter-widgets/controls"
          }
        },
        "9a492966f1c24043a041c11924324672": {
          "model_module": "@jupyter-widgets/base",
          "model_name": "LayoutModel",
          "state": {
            "_view_name": "LayoutView",
            "grid_template_rows": null,
            "right": null,
            "justify_content": null,
            "_view_module": "@jupyter-widgets/base",
            "overflow": null,
            "_model_module_version": "1.2.0",
            "_view_count": null,
            "flex_flow": null,
            "width": null,
            "min_width": null,
            "border": null,
            "align_items": null,
            "bottom": null,
            "_model_module": "@jupyter-widgets/base",
            "top": null,
            "grid_column": null,
            "overflow_y": null,
            "overflow_x": null,
            "grid_auto_flow": null,
            "grid_area": null,
            "grid_template_columns": null,
            "flex": null,
            "_model_name": "LayoutModel",
            "justify_items": null,
            "grid_row": null,
            "max_height": null,
            "align_content": null,
            "visibility": null,
            "align_self": null,
            "height": null,
            "min_height": null,
            "padding": null,
            "grid_auto_rows": null,
            "grid_gap": null,
            "max_width": null,
            "order": null,
            "_view_module_version": "1.2.0",
            "grid_template_areas": null,
            "object_position": null,
            "object_fit": null,
            "grid_auto_columns": null,
            "margin": null,
            "display": null,
            "left": null
          }
        },
        "c6917cc74f964fadb928cad29887ea4e": {
          "model_module": "@jupyter-widgets/controls",
          "model_name": "HBoxModel",
          "state": {
            "_view_name": "HBoxView",
            "_dom_classes": [],
            "_model_name": "HBoxModel",
            "_view_module": "@jupyter-widgets/controls",
            "_model_module_version": "1.5.0",
            "_view_count": null,
            "_view_module_version": "1.5.0",
            "box_style": "",
            "layout": "IPY_MODEL_0074cc6ee3774455a2a40e5a8b10f538",
            "_model_module": "@jupyter-widgets/controls",
            "children": [
              "IPY_MODEL_2dacc7a08af64ebc9e4fbf09b111d5cd",
              "IPY_MODEL_531e5109aa9d473ebaf3443da78b17da"
            ]
          }
        },
        "0074cc6ee3774455a2a40e5a8b10f538": {
          "model_module": "@jupyter-widgets/base",
          "model_name": "LayoutModel",
          "state": {
            "_view_name": "LayoutView",
            "grid_template_rows": null,
            "right": null,
            "justify_content": null,
            "_view_module": "@jupyter-widgets/base",
            "overflow": null,
            "_model_module_version": "1.2.0",
            "_view_count": null,
            "flex_flow": null,
            "width": null,
            "min_width": null,
            "border": null,
            "align_items": null,
            "bottom": null,
            "_model_module": "@jupyter-widgets/base",
            "top": null,
            "grid_column": null,
            "overflow_y": null,
            "overflow_x": null,
            "grid_auto_flow": null,
            "grid_area": null,
            "grid_template_columns": null,
            "flex": null,
            "_model_name": "LayoutModel",
            "justify_items": null,
            "grid_row": null,
            "max_height": null,
            "align_content": null,
            "visibility": null,
            "align_self": null,
            "height": null,
            "min_height": null,
            "padding": null,
            "grid_auto_rows": null,
            "grid_gap": null,
            "max_width": null,
            "order": null,
            "_view_module_version": "1.2.0",
            "grid_template_areas": null,
            "object_position": null,
            "object_fit": null,
            "grid_auto_columns": null,
            "margin": null,
            "display": null,
            "left": null
          }
        },
        "2dacc7a08af64ebc9e4fbf09b111d5cd": {
          "model_module": "@jupyter-widgets/controls",
          "model_name": "FloatProgressModel",
          "state": {
            "_view_name": "ProgressView",
            "style": "IPY_MODEL_71f673d28ac24a2c82dc078be2a97f98",
            "_dom_classes": [],
            "description": " 82%",
            "_model_name": "FloatProgressModel",
            "bar_style": "danger",
            "max": 50000,
            "_view_module": "@jupyter-widgets/controls",
            "_model_module_version": "1.5.0",
            "value": 41228,
            "_view_count": null,
            "_view_module_version": "1.5.0",
            "orientation": "horizontal",
            "min": 0,
            "description_tooltip": null,
            "_model_module": "@jupyter-widgets/controls",
            "layout": "IPY_MODEL_ef1bcf145e364648bc4367eddf74c101"
          }
        },
        "531e5109aa9d473ebaf3443da78b17da": {
          "model_module": "@jupyter-widgets/controls",
          "model_name": "HTMLModel",
          "state": {
            "_view_name": "HTMLView",
            "style": "IPY_MODEL_0ec748833b994f1eacdefc95d3502d0b",
            "_dom_classes": [],
            "description": "",
            "_model_name": "HTMLModel",
            "placeholder": "​",
            "_view_module": "@jupyter-widgets/controls",
            "_model_module_version": "1.5.0",
            "value": " 41228/50000 [00:00&lt;00:01, 8235.67 examples/s]",
            "_view_count": null,
            "_view_module_version": "1.5.0",
            "description_tooltip": null,
            "_model_module": "@jupyter-widgets/controls",
            "layout": "IPY_MODEL_aaac8955574b4c929ebec10e0ee8d5f1"
          }
        },
        "71f673d28ac24a2c82dc078be2a97f98": {
          "model_module": "@jupyter-widgets/controls",
          "model_name": "ProgressStyleModel",
          "state": {
            "_view_name": "StyleView",
            "_model_name": "ProgressStyleModel",
            "description_width": "initial",
            "_view_module": "@jupyter-widgets/base",
            "_model_module_version": "1.5.0",
            "_view_count": null,
            "_view_module_version": "1.2.0",
            "bar_color": null,
            "_model_module": "@jupyter-widgets/controls"
          }
        },
        "ef1bcf145e364648bc4367eddf74c101": {
          "model_module": "@jupyter-widgets/base",
          "model_name": "LayoutModel",
          "state": {
            "_view_name": "LayoutView",
            "grid_template_rows": null,
            "right": null,
            "justify_content": null,
            "_view_module": "@jupyter-widgets/base",
            "overflow": null,
            "_model_module_version": "1.2.0",
            "_view_count": null,
            "flex_flow": null,
            "width": null,
            "min_width": null,
            "border": null,
            "align_items": null,
            "bottom": null,
            "_model_module": "@jupyter-widgets/base",
            "top": null,
            "grid_column": null,
            "overflow_y": null,
            "overflow_x": null,
            "grid_auto_flow": null,
            "grid_area": null,
            "grid_template_columns": null,
            "flex": null,
            "_model_name": "LayoutModel",
            "justify_items": null,
            "grid_row": null,
            "max_height": null,
            "align_content": null,
            "visibility": null,
            "align_self": null,
            "height": null,
            "min_height": null,
            "padding": null,
            "grid_auto_rows": null,
            "grid_gap": null,
            "max_width": null,
            "order": null,
            "_view_module_version": "1.2.0",
            "grid_template_areas": null,
            "object_position": null,
            "object_fit": null,
            "grid_auto_columns": null,
            "margin": null,
            "display": null,
            "left": null
          }
        },
        "0ec748833b994f1eacdefc95d3502d0b": {
          "model_module": "@jupyter-widgets/controls",
          "model_name": "DescriptionStyleModel",
          "state": {
            "_view_name": "StyleView",
            "_model_name": "DescriptionStyleModel",
            "description_width": "",
            "_view_module": "@jupyter-widgets/base",
            "_model_module_version": "1.5.0",
            "_view_count": null,
            "_view_module_version": "1.2.0",
            "_model_module": "@jupyter-widgets/controls"
          }
        },
        "aaac8955574b4c929ebec10e0ee8d5f1": {
          "model_module": "@jupyter-widgets/base",
          "model_name": "LayoutModel",
          "state": {
            "_view_name": "LayoutView",
            "grid_template_rows": null,
            "right": null,
            "justify_content": null,
            "_view_module": "@jupyter-widgets/base",
            "overflow": null,
            "_model_module_version": "1.2.0",
            "_view_count": null,
            "flex_flow": null,
            "width": null,
            "min_width": null,
            "border": null,
            "align_items": null,
            "bottom": null,
            "_model_module": "@jupyter-widgets/base",
            "top": null,
            "grid_column": null,
            "overflow_y": null,
            "overflow_x": null,
            "grid_auto_flow": null,
            "grid_area": null,
            "grid_template_columns": null,
            "flex": null,
            "_model_name": "LayoutModel",
            "justify_items": null,
            "grid_row": null,
            "max_height": null,
            "align_content": null,
            "visibility": null,
            "align_self": null,
            "height": null,
            "min_height": null,
            "padding": null,
            "grid_auto_rows": null,
            "grid_gap": null,
            "max_width": null,
            "order": null,
            "_view_module_version": "1.2.0",
            "grid_template_areas": null,
            "object_position": null,
            "object_fit": null,
            "grid_auto_columns": null,
            "margin": null,
            "display": null,
            "left": null
          }
        }
      }
    }
  },
  "cells": [
    {
      "cell_type": "markdown",
      "metadata": {
        "id": "view-in-github",
        "colab_type": "text"
      },
      "source": [
        "<a href=\"https://colab.research.google.com/github/PingPingE/Learn_ML_DL/blob/main/Practice/Hands_On_ML/ch16-2.ipynb\" target=\"_parent\"><img src=\"https://colab.research.google.com/assets/colab-badge.svg\" alt=\"Open In Colab\"/></a>"
      ]
    },
    {
      "cell_type": "code",
      "metadata": {
        "id": "oaym8VKrzCJq"
      },
      "source": [
        "import numpy as np\n",
        "import tensorflow as tf\n",
        "import tensorflow.keras as keras\n",
        "import matplotlib.pyplot as plt\n",
        "import pandas as pd"
      ],
      "execution_count": 1,
      "outputs": []
    },
    {
      "cell_type": "markdown",
      "metadata": {
        "id": "0PKzlJfzzF2Q"
      },
      "source": [
        "# 감성 분석\n",
        "- 데이터셋: IMDb 리뷰 데이터셋(자연어 처리계의 'hello world')\n",
        "  - IMDb: Internet Movie Database\n"
      ]
    },
    {
      "cell_type": "code",
      "metadata": {
        "colab": {
          "base_uri": "https://localhost:8080/"
        },
        "id": "IbEoj13IziOX",
        "outputId": "49c7bd56-c4c4-4438-d3ee-55e3ea19130a"
      },
      "source": [
        "(X_train, y_train), (X_test, y_test) = keras.datasets.imdb.load_data()"
      ],
      "execution_count": null,
      "outputs": [
        {
          "output_type": "stream",
          "text": [
            "<string>:6: VisibleDeprecationWarning: Creating an ndarray from ragged nested sequences (which is a list-or-tuple of lists-or-tuples-or ndarrays with different lengths or shapes) is deprecated. If you meant to do this, you must specify 'dtype=object' when creating the ndarray\n",
            "/usr/local/lib/python3.7/dist-packages/tensorflow/python/keras/datasets/imdb.py:159: VisibleDeprecationWarning: Creating an ndarray from ragged nested sequences (which is a list-or-tuple of lists-or-tuples-or ndarrays with different lengths or shapes) is deprecated. If you meant to do this, you must specify 'dtype=object' when creating the ndarray\n",
            "  x_train, y_train = np.array(xs[:idx]), np.array(labels[:idx])\n",
            "/usr/local/lib/python3.7/dist-packages/tensorflow/python/keras/datasets/imdb.py:160: VisibleDeprecationWarning: Creating an ndarray from ragged nested sequences (which is a list-or-tuple of lists-or-tuples-or ndarrays with different lengths or shapes) is deprecated. If you meant to do this, you must specify 'dtype=object' when creating the ndarray\n",
            "  x_test, y_test = np.array(xs[idx:]), np.array(labels[idx:])\n"
          ],
          "name": "stderr"
        }
      ]
    },
    {
      "cell_type": "code",
      "metadata": {
        "colab": {
          "base_uri": "https://localhost:8080/"
        },
        "id": "082vb3NOz0Ju",
        "outputId": "60fc875f-4053-49fb-82dc-ac934cb78d87"
      },
      "source": [
        "X_train.shape"
      ],
      "execution_count": null,
      "outputs": [
        {
          "output_type": "execute_result",
          "data": {
            "text/plain": [
              "(25000,)"
            ]
          },
          "metadata": {
            "tags": []
          },
          "execution_count": 40
        }
      ]
    },
    {
      "cell_type": "code",
      "metadata": {
        "colab": {
          "base_uri": "https://localhost:8080/"
        },
        "id": "a7ShIMJ7z9GI",
        "outputId": "0f50b158-503d-4252-f6c2-7e77a8a00e14"
      },
      "source": [
        "X_test.shape"
      ],
      "execution_count": null,
      "outputs": [
        {
          "output_type": "execute_result",
          "data": {
            "text/plain": [
              "(25000,)"
            ]
          },
          "metadata": {
            "tags": []
          },
          "execution_count": 41
        }
      ]
    },
    {
      "cell_type": "code",
      "metadata": {
        "colab": {
          "base_uri": "https://localhost:8080/"
        },
        "id": "zLkX-Xvdzv-u",
        "outputId": "f838fa94-4c9e-441d-b6f9-f268ae4cc089"
      },
      "source": [
        "X_train[0][:10]"
      ],
      "execution_count": null,
      "outputs": [
        {
          "output_type": "execute_result",
          "data": {
            "text/plain": [
              "[1, 14, 22, 16, 43, 530, 973, 1622, 1385, 65]"
            ]
          },
          "metadata": {
            "tags": []
          },
          "execution_count": 42
        }
      ]
    },
    {
      "cell_type": "markdown",
      "metadata": {
        "id": "ru1g6DZy0EVS"
      },
      "source": [
        "-----\n",
        "- 이미 전처리 되어있음\n",
        "- X_train은 리뷰들의 리스트이고, 각 리뷰는 넘파이 정수 배열로 표현\n",
        "- 각 정수는 하나의 단어\n",
        "  - 처리 과정\n",
        "    - 구두점 제거\n",
        "    - 모두 소문자\n",
        "    - 공백으로 나누어 빈도에 따라 인덱싱\n",
        "  - 정수 0,1,2는 알 수 없는 단어를 의미"
      ]
    },
    {
      "cell_type": "code",
      "metadata": {
        "id": "7UE6WWqZ0tWJ"
      },
      "source": [
        "word_index=keras.datasets.imdb.get_word_index()\n",
        "id_to_word = {id_ +3: word for word, id_ in word_index.items()}"
      ],
      "execution_count": null,
      "outputs": []
    },
    {
      "cell_type": "code",
      "metadata": {
        "colab": {
          "base_uri": "https://localhost:8080/"
        },
        "id": "wPvQuQoV11IA",
        "outputId": "f6e0c68d-94cb-45e4-d28d-f8ccf9d24ead"
      },
      "source": [
        "len(id_to_word) #===단어 개수"
      ],
      "execution_count": null,
      "outputs": [
        {
          "output_type": "execute_result",
          "data": {
            "text/plain": [
              "88584"
            ]
          },
          "metadata": {
            "tags": []
          },
          "execution_count": 44
        }
      ]
    },
    {
      "cell_type": "code",
      "metadata": {
        "colab": {
          "base_uri": "https://localhost:8080/",
          "height": 35
        },
        "id": "Nc223-N-1GZF",
        "outputId": "9e55e486-bff7-449f-befe-5761c70152fc"
      },
      "source": [
        "id_to_word[123] #===무작위로 함 추출해봄"
      ],
      "execution_count": null,
      "outputs": [
        {
          "output_type": "execute_result",
          "data": {
            "application/vnd.google.colaboratory.intrinsic+json": {
              "type": "string"
            },
            "text/plain": [
              "'show'"
            ]
          },
          "metadata": {
            "tags": []
          },
          "execution_count": 45
        }
      ]
    },
    {
      "cell_type": "code",
      "metadata": {
        "colab": {
          "base_uri": "https://localhost:8080/",
          "height": 35
        },
        "id": "YBWcVKbt1yur",
        "outputId": "168fa0f4-e738-4e3e-c33d-18fe1ffeccc5"
      },
      "source": [
        "id_to_word[456]"
      ],
      "execution_count": null,
      "outputs": [
        {
          "output_type": "execute_result",
          "data": {
            "application/vnd.google.colaboratory.intrinsic+json": {
              "type": "string"
            },
            "text/plain": [
              "'lives'"
            ]
          },
          "metadata": {
            "tags": []
          },
          "execution_count": 46
        }
      ]
    },
    {
      "cell_type": "code",
      "metadata": {
        "colab": {
          "base_uri": "https://localhost:8080/",
          "height": 35
        },
        "id": "2XVz5OaE18HO",
        "outputId": "960bc257-7113-4ddc-e5a1-63c35dc1f048"
      },
      "source": [
        "id_to_word[4]"
      ],
      "execution_count": null,
      "outputs": [
        {
          "output_type": "execute_result",
          "data": {
            "application/vnd.google.colaboratory.intrinsic+json": {
              "type": "string"
            },
            "text/plain": [
              "'the'"
            ]
          },
          "metadata": {
            "tags": []
          },
          "execution_count": 47
        }
      ]
    },
    {
      "cell_type": "markdown",
      "metadata": {
        "id": "Y7Pr5cpf4KTj"
      },
      "source": [
        "- 0,1,2에 단어 추가 해보기"
      ]
    },
    {
      "cell_type": "code",
      "metadata": {
        "id": "Ud3XNaHN07kS"
      },
      "source": [
        "for id_, token in enumerate((\"<pad>\", \"<sos>\", \"<unk>\")):\n",
        "  id_to_word[id_]=token"
      ],
      "execution_count": null,
      "outputs": []
    },
    {
      "cell_type": "code",
      "metadata": {
        "colab": {
          "base_uri": "https://localhost:8080/"
        },
        "id": "sxgwHG132I5x",
        "outputId": "8636c1f6-4ef3-4e36-9fd1-11c566feaf16"
      },
      "source": [
        "print(id_to_word[0],id_to_word[1], id_to_word[2])"
      ],
      "execution_count": null,
      "outputs": [
        {
          "output_type": "stream",
          "text": [
            "<pad> <sos> <unk>\n"
          ],
          "name": "stdout"
        }
      ]
    },
    {
      "cell_type": "markdown",
      "metadata": {
        "id": "bsFa7o-j2YDC"
      },
      "source": [
        "- X_train 일부 디코딩"
      ]
    },
    {
      "cell_type": "code",
      "metadata": {
        "colab": {
          "base_uri": "https://localhost:8080/",
          "height": 35
        },
        "id": "PacLM49y2PWu",
        "outputId": "12a2a3e9-1e77-47c8-8872-c260db52a034"
      },
      "source": [
        "\" \".join([id_to_word[id_] for id_ in X_train[0][:10]])"
      ],
      "execution_count": null,
      "outputs": [
        {
          "output_type": "execute_result",
          "data": {
            "application/vnd.google.colaboratory.intrinsic+json": {
              "type": "string"
            },
            "text/plain": [
              "'<sos> this film was just brilliant casting location scenery story'"
            ]
          },
          "metadata": {
            "tags": []
          },
          "execution_count": 50
        }
      ]
    },
    {
      "cell_type": "markdown",
      "metadata": {
        "id": "7q0hYnas4sE7"
      },
      "source": [
        "## 텍스트 전처리 방법\n",
        "- 보통 단어를 인코딩할 때는 구두점, 줄바꿈, 탭 등 많은 글자가 제외됨\n",
        "- 그리고 공백을 사용해 단어 경계를 구분함\n",
        "- 하지만 이게 최선은 아님\n",
        "  - 중국어는 단어 사이에 공백을 사용하지 X\n",
        "  - 독일어는 여러 단어를 공백 없이 붙여씀\n",
        "  - 영어도 'San Francisco', 'ILoveDeepLearning'같은 경우가 있음\n",
        "- 그럼 어떻게?\n",
        "  - 다쿠 구도가 제안: <strong>부분 단어</strong> 수준으로 텍스트를 토큰화 or 복원하는 비지도 학습 방법\n",
        "    - 이 방법은 공백을 하나의 문자로 취급하므로 언어 독립적임"
      ]
    },
    {
      "cell_type": "code",
      "metadata": {
        "colab": {
          "base_uri": "https://localhost:8080/",
          "height": 380,
          "referenced_widgets": [
            "f9b17eb0138549f0a865b6a31c6f5c87",
            "9725719f29554e14900cf71979029bbd",
            "85ca43eb5ded4168908476b88b143122",
            "bc010aff21e54b3fad4951d84157d8fa",
            "ebbf8fe5e64c47b5a04cf964a1934e5d",
            "a7d4eab50c1f4c29ad9b4f1db397d9a8",
            "5b472e35980044188006974f2659cbda",
            "86ba019da6d34d7a9fa4c6f6eaa59af2",
            "eb0682c05dec4f4e8dc158b9a6577c74",
            "7e3e44595dfd4ebf8ffdf65ac9711c16",
            "0ca0e6c4cd174cf283f5a1c8caeb15c1",
            "097de9cac3974dd3bcd667fb2c367d9d",
            "2b26ad595cf943baa34b79519dc2a430",
            "166bf90a0a9f464e97aed37f4ff9e647",
            "cc70664610ad49439981f783209df3d9",
            "b8040944b482437ba14b77d5be10576c",
            "5ca042a746054341814424a20a9d5b5b",
            "d64c4a47494b44fdafb139aaf25cb341",
            "0c75b73c010d40fbb15c1b453a076a5b",
            "434c8641c2fa4d77b105c38e61f04b2a",
            "372b9a56df77412dbfd36f8653df74bc",
            "85af4e5743224bedafa07126a5fbcaeb",
            "a6ef0eafc2594a2d987ff04f4fe9c12e",
            "afa065a2edc84bc5b205292e63119b91",
            "0ce0113f83994e4fab18f9e41bd3eab2",
            "00035b3eaf1b4348a921fd7c2b18d9c4",
            "6c51b50138cc4cc5b8d21a5240b0b21a",
            "66c3257298af40eb8290e87ae3a94b08",
            "20cb9f40113742f49fcd9390608006fa",
            "54e1232c0199454b8d8344988a5ad33c",
            "9e1e65e4f7764a2bbab32d241914b1d1",
            "97ace0c4465b4ab48d61f74918f28be2",
            "bd3c7e66f74e460aa271f2340acc93ae",
            "10420cc3745a4fe896f0686119f45b34",
            "0914335c282e45528ea175efd0c98dbe",
            "67ff507f63354612a06b5ce0473693b3",
            "c581e478c4d64ad097549653e5020d49",
            "75eab1e0ff284b2da8bed83ede93ad9b",
            "9c3a0171aeec43fe9875d90fd1d2a677",
            "cae002962cfe4fe28ad3ed04c3e9cb0f",
            "7e542d53dec9447c957dbf42850a2968",
            "96f9f9fee62e40ea9ec428d8b49938f8",
            "8a32cd595aa547508ec7121ebceb6af8",
            "d77acb05b0a6418dbc45e8a6bb103fc5",
            "ddd1b036d59e4aecaf05fb5291a2a77b",
            "d11d06b5dc29468aa79c0c0b63c7d046",
            "2dd3b45fce754cb2b4714c1b325f0acd",
            "572b1ebd4f5645d0b8242cfb890a9084",
            "7e62ef8f077a489d8d422548719e3201",
            "3b5eff48f7804259807a7a107a6a5af3",
            "80f9e04452514b579bb097a3ecaecfac",
            "327ae54b0fde43ae926d055c9dd84fb6",
            "e263b88761a346069a611a55b9766658",
            "df30925f8d284c43abfc71339456b268",
            "910edb012b224a5ea3eec403b53f0422",
            "9a492966f1c24043a041c11924324672",
            "c6917cc74f964fadb928cad29887ea4e",
            "0074cc6ee3774455a2a40e5a8b10f538",
            "2dacc7a08af64ebc9e4fbf09b111d5cd",
            "531e5109aa9d473ebaf3443da78b17da",
            "71f673d28ac24a2c82dc078be2a97f98",
            "ef1bcf145e364648bc4367eddf74c101",
            "0ec748833b994f1eacdefc95d3502d0b",
            "aaac8955574b4c929ebec10e0ee8d5f1"
          ]
        },
        "id": "-6I5Znk24Qqk",
        "outputId": "5e7ed5e4-e0cd-4206-bb14-07de9aae4efc"
      },
      "source": [
        "import tensorflow_datasets as tfds\n",
        "datasets, info = tfds.load(\"imdb_reviews\", as_supervised=True, with_info=True)\n",
        "train_size=info.splits[\"train\"].num_examples"
      ],
      "execution_count": null,
      "outputs": [
        {
          "output_type": "stream",
          "text": [
            "\u001b[1mDownloading and preparing dataset imdb_reviews/plain_text/1.0.0 (download: 80.23 MiB, generated: Unknown size, total: 80.23 MiB) to /root/tensorflow_datasets/imdb_reviews/plain_text/1.0.0...\u001b[0m\n"
          ],
          "name": "stdout"
        },
        {
          "output_type": "display_data",
          "data": {
            "application/vnd.jupyter.widget-view+json": {
              "model_id": "f9b17eb0138549f0a865b6a31c6f5c87",
              "version_minor": 0,
              "version_major": 2
            },
            "text/plain": [
              "HBox(children=(FloatProgress(value=1.0, bar_style='info', description='Dl Completed...', max=1.0, style=Progre…"
            ]
          },
          "metadata": {
            "tags": []
          }
        },
        {
          "output_type": "display_data",
          "data": {
            "application/vnd.jupyter.widget-view+json": {
              "model_id": "eb0682c05dec4f4e8dc158b9a6577c74",
              "version_minor": 0,
              "version_major": 2
            },
            "text/plain": [
              "HBox(children=(FloatProgress(value=1.0, bar_style='info', description='Dl Size...', max=1.0, style=ProgressSty…"
            ]
          },
          "metadata": {
            "tags": []
          }
        },
        {
          "output_type": "stream",
          "text": [
            "\n",
            "\n",
            "\n",
            "\n"
          ],
          "name": "stdout"
        },
        {
          "output_type": "display_data",
          "data": {
            "application/vnd.jupyter.widget-view+json": {
              "model_id": "5ca042a746054341814424a20a9d5b5b",
              "version_minor": 0,
              "version_major": 2
            },
            "text/plain": [
              "HBox(children=(FloatProgress(value=1.0, bar_style='info', max=1.0), HTML(value='')))"
            ]
          },
          "metadata": {
            "tags": []
          }
        },
        {
          "output_type": "stream",
          "text": [
            "\rShuffling and writing examples to /root/tensorflow_datasets/imdb_reviews/plain_text/1.0.0.incomplete3LHCK6/imdb_reviews-train.tfrecord\n"
          ],
          "name": "stdout"
        },
        {
          "output_type": "display_data",
          "data": {
            "application/vnd.jupyter.widget-view+json": {
              "model_id": "0ce0113f83994e4fab18f9e41bd3eab2",
              "version_minor": 0,
              "version_major": 2
            },
            "text/plain": [
              "HBox(children=(FloatProgress(value=0.0, max=25000.0), HTML(value='')))"
            ]
          },
          "metadata": {
            "tags": []
          }
        },
        {
          "output_type": "stream",
          "text": [
            "\r"
          ],
          "name": "stdout"
        },
        {
          "output_type": "display_data",
          "data": {
            "application/vnd.jupyter.widget-view+json": {
              "model_id": "bd3c7e66f74e460aa271f2340acc93ae",
              "version_minor": 0,
              "version_major": 2
            },
            "text/plain": [
              "HBox(children=(FloatProgress(value=1.0, bar_style='info', max=1.0), HTML(value='')))"
            ]
          },
          "metadata": {
            "tags": []
          }
        },
        {
          "output_type": "stream",
          "text": [
            "\rShuffling and writing examples to /root/tensorflow_datasets/imdb_reviews/plain_text/1.0.0.incomplete3LHCK6/imdb_reviews-test.tfrecord\n"
          ],
          "name": "stdout"
        },
        {
          "output_type": "display_data",
          "data": {
            "application/vnd.jupyter.widget-view+json": {
              "model_id": "7e542d53dec9447c957dbf42850a2968",
              "version_minor": 0,
              "version_major": 2
            },
            "text/plain": [
              "HBox(children=(FloatProgress(value=0.0, max=25000.0), HTML(value='')))"
            ]
          },
          "metadata": {
            "tags": []
          }
        },
        {
          "output_type": "stream",
          "text": [
            "\r"
          ],
          "name": "stdout"
        },
        {
          "output_type": "display_data",
          "data": {
            "application/vnd.jupyter.widget-view+json": {
              "model_id": "7e62ef8f077a489d8d422548719e3201",
              "version_minor": 0,
              "version_major": 2
            },
            "text/plain": [
              "HBox(children=(FloatProgress(value=1.0, bar_style='info', max=1.0), HTML(value='')))"
            ]
          },
          "metadata": {
            "tags": []
          }
        },
        {
          "output_type": "stream",
          "text": [
            "\rShuffling and writing examples to /root/tensorflow_datasets/imdb_reviews/plain_text/1.0.0.incomplete3LHCK6/imdb_reviews-unsupervised.tfrecord\n"
          ],
          "name": "stdout"
        },
        {
          "output_type": "display_data",
          "data": {
            "application/vnd.jupyter.widget-view+json": {
              "model_id": "c6917cc74f964fadb928cad29887ea4e",
              "version_minor": 0,
              "version_major": 2
            },
            "text/plain": [
              "HBox(children=(FloatProgress(value=0.0, max=50000.0), HTML(value='')))"
            ]
          },
          "metadata": {
            "tags": []
          }
        },
        {
          "output_type": "stream",
          "text": [
            "WARNING:absl:Dataset is using deprecated text encoder API which will be removed soon. Please use the plain_text version of the dataset and migrate to `tensorflow_text`.\n"
          ],
          "name": "stderr"
        },
        {
          "output_type": "stream",
          "text": [
            "\u001b[1mDataset imdb_reviews downloaded and prepared to /root/tensorflow_datasets/imdb_reviews/plain_text/1.0.0. Subsequent calls will reuse this data.\u001b[0m\n",
            "\r"
          ],
          "name": "stdout"
        }
      ]
    },
    {
      "cell_type": "markdown",
      "metadata": {
        "id": "Yd8Fa0RI6pj1"
      },
      "source": [
        "###기본 전처리 함수"
      ]
    },
    {
      "cell_type": "code",
      "metadata": {
        "id": "PEmB-Xc951It"
      },
      "source": [
        "def preprocess(X_batch, y_batch):\n",
        "  X_batch = tf.strings.substr(X_batch,0,300) #===처음 300글자만 남김 (substring)\n",
        "  #===정규식을 사용해서 일부 공백으로 변환\n",
        "  X_batch= tf.strings.regex_replace(X_batch, b\"<br\\\\s*/?>\", b\" \")\n",
        "  X_batch= tf.strings.regex_replace(X_batch, b\"[^a-zA-Z']\", b\" \")\n",
        "  #===리뷰를 공백으로 나눔 -> ragged tensor(중첩 가변 길이 list)반환\n",
        "  X_batch=tf.strings.split(X_batch)\n",
        "  return X_batch.to_tensor(default_value=b\"<pad>\"), y_batch #===밀집 텐서로 바꾸고 동일한 길이가 되도록 패딩 토큰 \"<pad>\"로 모든 리뷰 패딩 "
      ],
      "execution_count": null,
      "outputs": []
    },
    {
      "cell_type": "markdown",
      "metadata": {
        "id": "lOTLnqnv8CpZ"
      },
      "source": [
        "### 어휘 사전 구축"
      ]
    },
    {
      "cell_type": "code",
      "metadata": {
        "id": "OPwVSwjt61r2"
      },
      "source": [
        "from collections import Counter\n",
        "vocabulary =Counter()\n",
        "for X_batch, y_batch in datasets[\"train\"].batch(32).map(preprocess):\n",
        "  for review in X_batch:\n",
        "    vocabulary.update(list(review.numpy()))"
      ],
      "execution_count": null,
      "outputs": []
    },
    {
      "cell_type": "code",
      "metadata": {
        "colab": {
          "base_uri": "https://localhost:8080/"
        },
        "id": "uLP0uerO8E4s",
        "outputId": "10057fee-54e4-4f7b-cd10-a6976499a5b4"
      },
      "source": [
        "vocabulary.most_common()[:3] #=== 가장 많이 등장하는 단어 세 개"
      ],
      "execution_count": null,
      "outputs": [
        {
          "output_type": "execute_result",
          "data": {
            "text/plain": [
              "[(b'<pad>', 214309), (b'the', 61137), (b'a', 38564)]"
            ]
          },
          "metadata": {
            "tags": []
          },
          "execution_count": 54
        }
      ]
    },
    {
      "cell_type": "markdown",
      "metadata": {
        "id": "VKK89d6M8rNw"
      },
      "source": [
        "- 일부만 추출"
      ]
    },
    {
      "cell_type": "code",
      "metadata": {
        "id": "Xum9nV1Y8TEP"
      },
      "source": [
        "vocab_size=10000\n",
        "truncated_vocabulary=[ word for word, count in vocabulary.most_common()[:vocab_size]]"
      ],
      "execution_count": null,
      "outputs": []
    },
    {
      "cell_type": "markdown",
      "metadata": {
        "id": "0jZXoNmf8yX9"
      },
      "source": [
        "### 각 단어 인덱싱\n",
        "  - 13장에서 한 것 처럼 oov(out-of-vocabulary)버킷을 사용하는 룩업 테이블을 만듦"
      ]
    },
    {
      "cell_type": "code",
      "metadata": {
        "id": "hzFSkOQY87n6"
      },
      "source": [
        "words=tf.constant(truncated_vocabulary)\n",
        "word_ids=tf.range(len(truncated_vocabulary), dtype=tf.int64)\n",
        "vocab_init=tf.lookup.KeyValueTensorInitializer(words, word_ids)\n",
        "num_oov_buckets=1000\n",
        "table=tf.lookup.StaticVocabularyTable(vocab_init, num_oov_buckets)"
      ],
      "execution_count": null,
      "outputs": []
    },
    {
      "cell_type": "code",
      "metadata": {
        "colab": {
          "base_uri": "https://localhost:8080/"
        },
        "id": "HKVMjfOh9P5_",
        "outputId": "36b76cc0-b39a-4add-d8f8-8120f9187eca"
      },
      "source": [
        "table.lookup(tf.constant([b\"This movie was faaaaaaantastic\".split()]))"
      ],
      "execution_count": null,
      "outputs": [
        {
          "output_type": "execute_result",
          "data": {
            "text/plain": [
              "<tf.Tensor: shape=(1, 4), dtype=int64, numpy=array([[   22,    12,    11, 10770]])>"
            ]
          },
          "metadata": {
            "tags": []
          },
          "execution_count": 59
        }
      ]
    },
    {
      "cell_type": "markdown",
      "metadata": {
        "id": "KnQ9tVOU9utJ"
      },
      "source": [
        "------\n",
        "-  'faaaaaaantastic'은 룩업 테이블에 없어서 oov버킷(10000~11000)에 매핑된 것을 확인 "
      ]
    },
    {
      "cell_type": "markdown",
      "metadata": {
        "id": "P5oSca2K9Zgk"
      },
      "source": [
        "## 최종 훈련 세트 만들기\n",
        "1. 리뷰를 배치로 묶고\n",
        "2. preprocess()함수를 사용해 짧은 시퀀스로 바꾸기\n",
        "3. 룩업 테이블을 사용해 단어 인코딩\n",
        "4. 배치 프리페치 "
      ]
    },
    {
      "cell_type": "code",
      "metadata": {
        "id": "TG1lRIj_-a1k"
      },
      "source": [
        "def encode_words(X_batch, y_batch):\n",
        "  return table.lookup(X_batch), y_batch\n"
      ],
      "execution_count": null,
      "outputs": []
    },
    {
      "cell_type": "code",
      "metadata": {
        "id": "wffC8kGb_bQl"
      },
      "source": [
        "train_set= datasets[\"train\"].batch(32).map(preprocess)\n",
        "train_set=train_set.map(encode_words).prefetch(1)"
      ],
      "execution_count": null,
      "outputs": []
    },
    {
      "cell_type": "markdown",
      "metadata": {
        "id": "RzKfJde5AKrs"
      },
      "source": [
        "## 모델 생성 및 훈련\n"
      ]
    },
    {
      "cell_type": "markdown",
      "metadata": {
        "id": "D5HdUHpVl-fo"
      },
      "source": [
        "### keras 임베딩 층 적용\n",
        "[keras_docs](https://keras.io/api/layers/core_layers/embedding/)"
      ]
    },
    {
      "cell_type": "code",
      "metadata": {
        "id": "YntonzED_PuY"
      },
      "source": [
        "embed_size=128 #==벡터 크기(하이퍼파라미터)\n",
        "model=keras.models.Sequential([\n",
        "                               keras.layers.Embedding(vocab_size+num_oov_buckets, embed_size, input_shape=[None]), #=== input: [배치 크기, 타임 스텝 수], output: [배치 크기, 타임 스텝 수, 임베딩 크기]\n",
        "                               keras.layers.GRU(128, return_sequences=True),\n",
        "                               keras.layers.GRU(128),#==시퀀스 반환 X 마지막 타임 스텝의 출력만 반환\n",
        "                               keras.layers.Dense(1,activation='sigmoid')\n",
        "])\n"
      ],
      "execution_count": null,
      "outputs": []
    },
    {
      "cell_type": "markdown",
      "metadata": {
        "id": "PJRmJZTurRwg"
      },
      "source": [
        "-----------\n",
        "- 만약 전처리 때 패딩을 했다면, Embedding층을 만들 때 mask_zero=True 매개변수를 추가해야함\n",
        "  - 그래야 학습할 땐 모델이 패딩 토큰\\<pad>을 무시하도록 할 수 있음\n"
      ]
    },
    {
      "cell_type": "code",
      "metadata": {
        "colab": {
          "base_uri": "https://localhost:8080/"
        },
        "id": "JQa9kJpB_6ta",
        "outputId": "74b7e433-5c93-4e55-eeb4-23a545c37a10"
      },
      "source": [
        "model.summary()"
      ],
      "execution_count": null,
      "outputs": [
        {
          "output_type": "stream",
          "text": [
            "Model: \"sequential\"\n",
            "_________________________________________________________________\n",
            "Layer (type)                 Output Shape              Param #   \n",
            "=================================================================\n",
            "embedding (Embedding)        (None, None, 128)         1408000   \n",
            "_________________________________________________________________\n",
            "gru (GRU)                    (None, None, 128)         99072     \n",
            "_________________________________________________________________\n",
            "gru_1 (GRU)                  (None, 128)               99072     \n",
            "_________________________________________________________________\n",
            "dense (Dense)                (None, 1)                 129       \n",
            "=================================================================\n",
            "Total params: 1,606,273\n",
            "Trainable params: 1,606,273\n",
            "Non-trainable params: 0\n",
            "_________________________________________________________________\n"
          ],
          "name": "stdout"
        }
      ]
    },
    {
      "cell_type": "code",
      "metadata": {
        "colab": {
          "base_uri": "https://localhost:8080/"
        },
        "id": "qANLzYBl_7wz",
        "outputId": "21297557-a1dc-47dc-e14c-17662db51ebd"
      },
      "source": [
        "model.compile(loss='binary_crossentropy', optimizer='adam', metrics=['accuracy'])\n",
        "history=model.fit(train_set, epochs=5)"
      ],
      "execution_count": null,
      "outputs": [
        {
          "output_type": "stream",
          "text": [
            "Epoch 1/5\n",
            "782/782 [==============================] - 100s 123ms/step - loss: 0.6940 - accuracy: 0.5116\n",
            "Epoch 2/5\n",
            "782/782 [==============================] - 95s 121ms/step - loss: 0.5232 - accuracy: 0.7413\n",
            "Epoch 3/5\n",
            "782/782 [==============================] - 95s 122ms/step - loss: 0.3304 - accuracy: 0.8593\n",
            "Epoch 4/5\n",
            "782/782 [==============================] - 95s 122ms/step - loss: 0.2357 - accuracy: 0.9085\n",
            "Epoch 5/5\n",
            "782/782 [==============================] - 96s 123ms/step - loss: 0.1656 - accuracy: 0.9399\n"
          ],
          "name": "stdout"
        }
      ]
    },
    {
      "cell_type": "markdown",
      "metadata": {
        "id": "HYlwE3rAxZBS"
      },
      "source": [
        "### 사전훈련된 임베딩 재사용하기\n",
        "- 위처럼 단어 임베딩을 직접 훈련할 수도 있지만, 사전 훈련된 임베딩을 재사용할 수도 있음\n",
        "- [TF 허브 저장소](https://tfhub.dev/)에서 원하는 모듈을 찾아서 활용하면됨\n",
        "  - tensorflow_hub.KerasLayer 층이 모듈과 사전 훈련된 가중치를 자동으로 다운해서 모델에 포함시켜줌\n",
        "    - 해당 층은 훈련되지 않음(근데 trainable=True하면 미세 조정할 순 있음)"
      ]
    },
    {
      "cell_type": "code",
      "metadata": {
        "id": "5mWVcBSRx02F"
      },
      "source": [
        "import tensorflow_hub as hub\n",
        "model_hub= keras.Sequential([\n",
        "                             hub.KerasLayer(\"https://tfhub.dev/google/tf2-preview/nnlm-en-dim50/1\", dtype=tf.string, input_shape=[], output_shape=[50]),\n",
        "                             keras.layers.Dense(128, activation=\"relu\"),\n",
        "                             keras.layers.Dense(1,activation=\"sigmoid\")\n",
        "                             \n",
        "])"
      ],
      "execution_count": null,
      "outputs": []
    },
    {
      "cell_type": "code",
      "metadata": {
        "colab": {
          "base_uri": "https://localhost:8080/"
        },
        "id": "kFjacjC4y-Tv",
        "outputId": "fd6b8467-19f4-4ef3-9314-899a8625e69b"
      },
      "source": [
        "model_hub.summary()"
      ],
      "execution_count": null,
      "outputs": [
        {
          "output_type": "stream",
          "text": [
            "Model: \"sequential\"\n",
            "_________________________________________________________________\n",
            "Layer (type)                 Output Shape              Param #   \n",
            "=================================================================\n",
            "keras_layer (KerasLayer)     (None, 50)                48190600  \n",
            "_________________________________________________________________\n",
            "dense (Dense)                (None, 128)               6528      \n",
            "_________________________________________________________________\n",
            "dense_1 (Dense)              (None, 1)                 129       \n",
            "=================================================================\n",
            "Total params: 48,197,257\n",
            "Trainable params: 6,657\n",
            "Non-trainable params: 48,190,600\n",
            "_________________________________________________________________\n"
          ],
          "name": "stdout"
        }
      ]
    },
    {
      "cell_type": "markdown",
      "metadata": {
        "id": "eTGIq7xm0kbV"
      },
      "source": [
        "# 신경망 기계 번역(NMT)을 위한 인코더-디코더 네트워크\n",
        "<img src=\"https://user-images.githubusercontent.com/13735079/34563713-d9b26bb6-f13a-11e7-8c12-a1830a397d78.png\"/>\n",
        "\n",
        "- 책에 있는 그림(위 그림)을 보면 인코더 input 주입 시에 <strong>문장을 뒤집어서</strong> 넣는 것을 알 수 있는데,\n",
        " - 책에선 '문장의 시작 부분을 인코더에 마지막으로 주입한다. 디코더가 번역할 첫 부분이기 때문이다'라고 하고 있음\n",
        "- 근데 인터넷을 찾아보면 뒤집어서 주입하는 경우를 찾아볼 수 없었음\n",
        "- 그 이유는, <strong>인코더에 어떤 RNN</strong>을 쓰느냐에 따라 다르기 때문\n",
        "  - <strong>Bi-Directional RNN</strong>\n",
        "    - 왼쪽 -> 오른쪽 \n",
        "    - 오른쪽 -> 왼쪽<br><br>\n",
        "    <img src=\"https://miro.medium.com/max/1088/1*sBZq013xGoFvyH5e0sXtdg.png\"/>\n",
        "<br><br>\n",
        "  - <strong>Uni-directional RNN</strong>\n",
        "    - 왼쪽 -> 오른쪽\n",
        "- 즉, 책에 있는 그림은 Uni-directional RNN이라서 뒤집어서 넣는게 의미가 있었던 것이고,\n",
        "- 주로 NMT에서 많이 쓰는건 Bi-Directional RNN이라서 인터넷에 굳이 input을 뒤집은게 안보인거였음\n",
        "\n",
        "참조)\n",
        "- [github_issues](https://github.com/tensorflow/nmt/issues/231)"
      ]
    },
    {
      "cell_type": "markdown",
      "metadata": {
        "id": "ZLKZL52x-i80"
      },
      "source": [
        "## 기본적인 인코더 - 디코더 모델"
      ]
    },
    {
      "cell_type": "markdown",
      "metadata": {
        "id": "BgrjxrO2mhSP"
      },
      "source": [
        "### 텐서플로 애드온(Addon)\n",
        "- 텐서플로우에서 제공하지 않는 기능을 제공하는 API\n",
        "  - 시퀀스 투 시퀀스 관련 모듈도 있음\n",
        "  - [seq2seq module](https://www.tensorflow.org/addons/api_docs/python/tfa/seq2seq)\n"
      ]
    },
    {
      "cell_type": "code",
      "metadata": {
        "colab": {
          "base_uri": "https://localhost:8080/"
        },
        "id": "xUZhKfu6_MdZ",
        "outputId": "9018a7f1-62b7-45f6-964f-4481904392f6"
      },
      "source": [
        "pip install tensorflow_addons"
      ],
      "execution_count": null,
      "outputs": [
        {
          "output_type": "stream",
          "text": [
            "Collecting tensorflow_addons\n",
            "\u001b[?25l  Downloading https://files.pythonhosted.org/packages/74/e3/56d2fe76f0bb7c88ed9b2a6a557e25e83e252aec08f13de34369cd850a0b/tensorflow_addons-0.12.1-cp37-cp37m-manylinux2010_x86_64.whl (703kB)\n",
            "\r\u001b[K     |▌                               | 10kB 10.7MB/s eta 0:00:01\r\u001b[K     |█                               | 20kB 13.6MB/s eta 0:00:01\r\u001b[K     |█▍                              | 30kB 14.7MB/s eta 0:00:01\r\u001b[K     |█▉                              | 40kB 16.5MB/s eta 0:00:01\r\u001b[K     |██▎                             | 51kB 8.8MB/s eta 0:00:01\r\u001b[K     |██▉                             | 61kB 9.7MB/s eta 0:00:01\r\u001b[K     |███▎                            | 71kB 7.7MB/s eta 0:00:01\r\u001b[K     |███▊                            | 81kB 8.3MB/s eta 0:00:01\r\u001b[K     |████▏                           | 92kB 6.6MB/s eta 0:00:01\r\u001b[K     |████▋                           | 102kB 7.2MB/s eta 0:00:01\r\u001b[K     |█████▏                          | 112kB 7.2MB/s eta 0:00:01\r\u001b[K     |█████▋                          | 122kB 7.2MB/s eta 0:00:01\r\u001b[K     |██████                          | 133kB 7.2MB/s eta 0:00:01\r\u001b[K     |██████▌                         | 143kB 7.2MB/s eta 0:00:01\r\u001b[K     |███████                         | 153kB 7.2MB/s eta 0:00:01\r\u001b[K     |███████▌                        | 163kB 7.2MB/s eta 0:00:01\r\u001b[K     |████████                        | 174kB 7.2MB/s eta 0:00:01\r\u001b[K     |████████▍                       | 184kB 7.2MB/s eta 0:00:01\r\u001b[K     |████████▉                       | 194kB 7.2MB/s eta 0:00:01\r\u001b[K     |█████████▎                      | 204kB 7.2MB/s eta 0:00:01\r\u001b[K     |█████████▉                      | 215kB 7.2MB/s eta 0:00:01\r\u001b[K     |██████████▎                     | 225kB 7.2MB/s eta 0:00:01\r\u001b[K     |██████████▊                     | 235kB 7.2MB/s eta 0:00:01\r\u001b[K     |███████████▏                    | 245kB 7.2MB/s eta 0:00:01\r\u001b[K     |███████████▋                    | 256kB 7.2MB/s eta 0:00:01\r\u001b[K     |████████████▏                   | 266kB 7.2MB/s eta 0:00:01\r\u001b[K     |████████████▋                   | 276kB 7.2MB/s eta 0:00:01\r\u001b[K     |█████████████                   | 286kB 7.2MB/s eta 0:00:01\r\u001b[K     |█████████████▌                  | 296kB 7.2MB/s eta 0:00:01\r\u001b[K     |██████████████                  | 307kB 7.2MB/s eta 0:00:01\r\u001b[K     |██████████████▍                 | 317kB 7.2MB/s eta 0:00:01\r\u001b[K     |███████████████                 | 327kB 7.2MB/s eta 0:00:01\r\u001b[K     |███████████████▍                | 337kB 7.2MB/s eta 0:00:01\r\u001b[K     |███████████████▉                | 348kB 7.2MB/s eta 0:00:01\r\u001b[K     |████████████████▎               | 358kB 7.2MB/s eta 0:00:01\r\u001b[K     |████████████████▊               | 368kB 7.2MB/s eta 0:00:01\r\u001b[K     |█████████████████▎              | 378kB 7.2MB/s eta 0:00:01\r\u001b[K     |█████████████████▊              | 389kB 7.2MB/s eta 0:00:01\r\u001b[K     |██████████████████▏             | 399kB 7.2MB/s eta 0:00:01\r\u001b[K     |██████████████████▋             | 409kB 7.2MB/s eta 0:00:01\r\u001b[K     |███████████████████             | 419kB 7.2MB/s eta 0:00:01\r\u001b[K     |███████████████████▋            | 430kB 7.2MB/s eta 0:00:01\r\u001b[K     |████████████████████            | 440kB 7.2MB/s eta 0:00:01\r\u001b[K     |████████████████████▌           | 450kB 7.2MB/s eta 0:00:01\r\u001b[K     |█████████████████████           | 460kB 7.2MB/s eta 0:00:01\r\u001b[K     |█████████████████████▍          | 471kB 7.2MB/s eta 0:00:01\r\u001b[K     |██████████████████████          | 481kB 7.2MB/s eta 0:00:01\r\u001b[K     |██████████████████████▍         | 491kB 7.2MB/s eta 0:00:01\r\u001b[K     |██████████████████████▉         | 501kB 7.2MB/s eta 0:00:01\r\u001b[K     |███████████████████████▎        | 512kB 7.2MB/s eta 0:00:01\r\u001b[K     |███████████████████████▊        | 522kB 7.2MB/s eta 0:00:01\r\u001b[K     |████████████████████████▎       | 532kB 7.2MB/s eta 0:00:01\r\u001b[K     |████████████████████████▊       | 542kB 7.2MB/s eta 0:00:01\r\u001b[K     |█████████████████████████▏      | 552kB 7.2MB/s eta 0:00:01\r\u001b[K     |█████████████████████████▋      | 563kB 7.2MB/s eta 0:00:01\r\u001b[K     |██████████████████████████      | 573kB 7.2MB/s eta 0:00:01\r\u001b[K     |██████████████████████████▋     | 583kB 7.2MB/s eta 0:00:01\r\u001b[K     |███████████████████████████     | 593kB 7.2MB/s eta 0:00:01\r\u001b[K     |███████████████████████████▌    | 604kB 7.2MB/s eta 0:00:01\r\u001b[K     |████████████████████████████    | 614kB 7.2MB/s eta 0:00:01\r\u001b[K     |████████████████████████████▍   | 624kB 7.2MB/s eta 0:00:01\r\u001b[K     |████████████████████████████▉   | 634kB 7.2MB/s eta 0:00:01\r\u001b[K     |█████████████████████████████▍  | 645kB 7.2MB/s eta 0:00:01\r\u001b[K     |█████████████████████████████▉  | 655kB 7.2MB/s eta 0:00:01\r\u001b[K     |██████████████████████████████▎ | 665kB 7.2MB/s eta 0:00:01\r\u001b[K     |██████████████████████████████▊ | 675kB 7.2MB/s eta 0:00:01\r\u001b[K     |███████████████████████████████▏| 686kB 7.2MB/s eta 0:00:01\r\u001b[K     |███████████████████████████████▊| 696kB 7.2MB/s eta 0:00:01\r\u001b[K     |████████████████████████████████| 706kB 7.2MB/s \n",
            "\u001b[?25hRequirement already satisfied: typeguard>=2.7 in /usr/local/lib/python3.7/dist-packages (from tensorflow_addons) (2.7.1)\n",
            "Installing collected packages: tensorflow-addons\n",
            "Successfully installed tensorflow-addons-0.12.1\n"
          ],
          "name": "stdout"
        }
      ]
    },
    {
      "cell_type": "code",
      "metadata": {
        "id": "Nc7GqkhYxLTG"
      },
      "source": [
        "import tensorflow_addons as tfa"
      ],
      "execution_count": null,
      "outputs": []
    },
    {
      "cell_type": "code",
      "metadata": {
        "id": "I8tz9PMW0hss"
      },
      "source": [
        "#===인풋 정의\n",
        "vocab_size, embed_size=10000, 128\n",
        "encoder_inputs=keras.layers.Input(shape=[None], dtype=np.int32)\n",
        "decoder_inputs=keras.layers.Input(shape=[None], dtype=np.int32)\n",
        "sequence_lengths=keras.layers.Input(shape=[], dtype=np.int32)\n",
        "\n",
        "#===임베딩 정의\n",
        "embeddings=keras.layers.Embedding(vocab_size, embed_size)\n",
        "encoder_embeddings= embeddings(encoder_inputs)\n",
        "decoder_embeddings=embeddings(decoder_inputs)\n",
        "\n",
        "#===인코더 정의\n",
        "encoder=keras.layers.LSTM(512, return_state=True) #최종 은닉 상태를 디코더로 보내기 위해 return_state=True\n",
        "encoder_output, state_h, state_c = encoder(encoder_embeddings)\n",
        "encoder_state=[state_h, state_c] #==단기 & 장기 은닉 상태\n",
        "\n",
        "#===샘플러의 역할: 각 스텝에서 디코더에게 이전 스텝의 출력이 무엇인지 알려줌\n",
        "sampler=tfa.seq2seq.sampler.TrainingSampler()\n",
        "\n",
        "#===디코더 정의\n",
        "decoder_cell=keras.layers.LSTMCell(512)\n",
        "output_layer=keras.layers.Dense(vocab_size)\n",
        "decoder=tfa.seq2seq.basic_decoder.BasicDecoder(decoder_cell, sampler, output_layer=output_layer)\n",
        "final_outputs, final_state, final_sequence_lengths = decoder(\n",
        "    decoder_embeddings, \n",
        "    initial_state=encoder_state,\n",
        "    sequence_length=sequence_lengths)\n",
        "\n",
        "Y_proba = tf.nn.softmax(final_outputs.rnn_output)\n",
        "\n",
        "model2 = keras.models.Model(\n",
        "    inputs=[encoder_inputs, decoder_inputs, sequence_lengths],\n",
        "    outputs=[Y_proba])"
      ],
      "execution_count": null,
      "outputs": []
    },
    {
      "cell_type": "code",
      "metadata": {
        "id": "pnKB6ZGbCMok",
        "colab": {
          "base_uri": "https://localhost:8080/"
        },
        "outputId": "d1632b12-99cc-4bd6-d67d-732266f81201"
      },
      "source": [
        "model2.summary()"
      ],
      "execution_count": null,
      "outputs": [
        {
          "output_type": "stream",
          "text": [
            "Model: \"model_2\"\n",
            "__________________________________________________________________________________________________\n",
            "Layer (type)                    Output Shape         Param #     Connected to                     \n",
            "==================================================================================================\n",
            "input_38 (InputLayer)           [(None, None)]       0                                            \n",
            "__________________________________________________________________________________________________\n",
            "input_37 (InputLayer)           [(None, None)]       0                                            \n",
            "__________________________________________________________________________________________________\n",
            "embedding_12 (Embedding)        (None, None, 128)    1280000     input_37[0][0]                   \n",
            "                                                                 input_38[0][0]                   \n",
            "__________________________________________________________________________________________________\n",
            "lstm_11 (LSTM)                  [(None, 512), (None, 1312768     embedding_12[0][0]               \n",
            "__________________________________________________________________________________________________\n",
            "input_39 (InputLayer)           [(None,)]            0                                            \n",
            "__________________________________________________________________________________________________\n",
            "basic_decoder_12 (BasicDecoder) (BasicDecoderOutput( 6442768     embedding_12[1][0]               \n",
            "                                                                 lstm_11[0][1]                    \n",
            "                                                                 lstm_11[0][2]                    \n",
            "                                                                 input_39[0][0]                   \n",
            "__________________________________________________________________________________________________\n",
            "tf.nn.softmax_2 (TFOpLambda)    (None, None, 10000)  0           basic_decoder_12[0][0]           \n",
            "==================================================================================================\n",
            "Total params: 9,035,536\n",
            "Trainable params: 9,035,536\n",
            "Non-trainable params: 0\n",
            "__________________________________________________________________________________________________\n"
          ],
          "name": "stdout"
        }
      ]
    },
    {
      "cell_type": "markdown",
      "metadata": {
        "id": "i_X57ORpmYBt"
      },
      "source": [
        "## 양방향(Bi-Directional) RNN\n",
        "-  위에서 살짝 다뤘음\n",
        "- <strong>일반적인 순환 층은 과거와 현재의 입력</strong>만 보고 출력을 생성\n",
        "  - 즉, <strong>미래</strong>를 볼 수 없음\n",
        "- 시계열 예측에는 괜찮지만, NMT같은 여러 NLP작업에는 적합하지 않음\n",
        "  - NLP작업은 주어진 단어를 인코딩하기 전에 <strong>다음 단어를 미리 봐야 문맥 이해 가능</strong>\n",
        "- 양방향 RNN은<strong> 과거 -> 미래</strong> 방향으로도 보고, <strong>미래 -> 과거</strong> 방향으로도 보는 것이다.\n",
        "\n",
        "<img src=\"https://i.imgur.com/XGpeu82.png\" width=60% height=60% />\n",
        "\n",
        "\n"
      ]
    },
    {
      "cell_type": "markdown",
      "metadata": {
        "id": "77Ps55KgxJ2d"
      },
      "source": [
        "### 구현"
      ]
    },
    {
      "cell_type": "code",
      "metadata": {
        "id": "QndLrcjrvS3r"
      },
      "source": [
        "#== 양방향 순환 층 구현 방법 -> Bidirectional 층으로 순환 층을 감싸면 됨\n",
        "keras.layers.Bidirectional(keras.layers.GRU(10\n",
        "                                            , return_sequences=True))"
      ],
      "execution_count": null,
      "outputs": []
    },
    {
      "cell_type": "markdown",
      "metadata": {
        "id": "tAi5R8y9vuYt"
      },
      "source": [
        "---------\n",
        "- Bidirectional층은 순환 층(여기선 GRU층)을 반대 방향으로 복사함\n",
        "- 그 다음 두 층에서 나온 출력을(여기선 타임 스텝마다 10 * 2개) 연결 "
      ]
    },
    {
      "cell_type": "markdown",
      "metadata": {
        "id": "mzme8J98wX3R"
      },
      "source": [
        "## 빔 검색\n",
        "- 디코더는 스텝마다 무조건 <strong>가장 가능성 있는 단어를 출력(greedy하게)</strong>함\n",
        "- 하지만 <strong>항상 최적</strong>의 번역을 만들진 못함\n",
        "- 모델의 <strong>앞선 실수</strong>를 고치게 하는 방법 중 하나:<strong> Beam Search</strong>\n",
        "  1. <strong>k개의 가능성 있는</strong>( ex) 상위 세 개) 문장의 리스트를 유지\n",
        "\n",
        "  2. 디코더 스텝마다 각 문장의 단어를 하나씩 생성하여 가능성 있는 k개의 문장을 만듦<br> \n",
        "    *k: 빔 너비(beam width) \n",
        "\n",
        "<br>\n",
        "\n",
        "ex) 프랑스어 'Comment vas-tu?'를 영어('How are you going?')로 번역하기, k=3   \n",
        "- 1 step: 최상위 k개(3개)의 문장을 담은 리스트 생성['How'(75% 추정 확률), 'What'(3%), 'You(1%)']\n",
        "- 2 step: 3개의 모델로 복사해서 각 문장의 다음 단어 찾기\n",
        "  - 모델1: 'How'문장 뒤에 이어질 단어 찾기 -> 'will(36%)', 'are(32%)', 'do(16%)'... <br> *어휘 사전에 있는 단어에 해당하는 추정확률을 모두 구함<br>\n",
        "  - 모델2: 'What' 문장 뒤에 이어질 단어 찾기<br>\n",
        "  - 모델3: 'You' 문장 뒤에 이어질 단어 찾기<br>\n",
        "- 3 step: 각 모델이 현재까지의 단어(두개의 단어)로 이루어진 문장에 대해 확률 계산 + 상위 k개(3개)만 추리기\n",
        "  - ex) 'How will' -> 0.75 * 0.36 = 0.27<br>\n",
        "    이런 식으로 구하면 'How will(27%)' >  'How are(24%)' > 'How do(12%)'로, <strong>'How are'이 배제되지 않음</strong><br> *기존의 방식대로 했으면 'How' 선택 후 'will'을 선택하고 넘어감\n",
        "- 위 과정 반복\n",
        "\n",
        "\n",
        "<br><br>\n",
        "참조)\n",
        "- [velog- Beam search in NLP](https://velog.io/@nawnoes/%EC%9E%90%EC%97%B0%EC%96%B4%EC%B2%98%EB%A6%AC-Beam-Search) "
      ]
    },
    {
      "cell_type": "markdown",
      "metadata": {
        "id": "ULAHamKXxMFD"
      },
      "source": [
        "### 구현"
      ]
    },
    {
      "cell_type": "code",
      "metadata": {
        "id": "QH6n8tXuxNF8"
      },
      "source": [
        "beam_width=10\n",
        "decoder=tfa.seq2seq.beam_search_decoder.BeamSearchDecoder(\n",
        "    cell=decoder_cell, beam_width=beam_width, output_layer=output_layer\n",
        ")\n",
        "\n",
        "decoder_initial_state= tfa.seq2seq.beam_search_decoder.tile_batch(\n",
        "    encoder_state, multiplier=beam_width\n",
        ")\n"
      ],
      "execution_count": null,
      "outputs": []
    },
    {
      "cell_type": "markdown",
      "metadata": {
        "id": "zxHW0a_a5aRB"
      },
      "source": [
        "# 어텐션 메커니즘\n",
        "-  인코더-디코더 네트워크의 문제점\n",
        "  - 빔 서치 등의 방법으로 성능을 개선하더라도 긴 문장에서는 성능이 나쁨\n",
        "    - 특히 인코딩 후 나오는 압축된 정보 때문\n",
        "\n",
        "- 따라서 <strong>중요한 단어에 집중</strong>해서 디코더에 전달하는 기법인 <strong>'어텐션'</strong> 등장 \n",
        "- 어텐션은 기존 방식보다 더 많은 데이터를 디코더에 전달함\n",
        "  - 입력 인코더의 마지막 은닉 상태만 디코더에 보내는 것이 아닌, \n",
        "  - 인코더의 <strong>모든 출력을 디코더로 전송함</strong>\n",
        "\n",
        "  <img src=\"https://miro.medium.com/max/3820/1*wnXVyE8LXPfODvB_Z5vu8A.jpeg\" width=80% height=80%/>\n",
        "\n",
        "  - 각 타임 스텝에서 디코더의 메모리 셀은 모든 인코더 출력의 가중치 합을 계산함\n",
        "    - 이 단계에서 주의를 집중할 단어를 결정함\n",
        "    - softmax 이후 나온 값(a)이 클 수록 더 많은 주의를 기울일 단어\n",
        "  - 위 어텐션 층은 인코더-디코더 모델의 나머지 부분과 함께 훈련됨\n",
        "  \n",
        "<br>\n",
        "\n",
        "- 장점\n",
        "  - 응용력\n",
        "    - 비주얼 어텐션\n",
        "      - NMT 외에도 이미지 캡션 생성 문제에도 적용 가능\n",
        "    - 트랜스포머 구조\n",
        "      - 순환층이나 합성곱을 사용하지 않고 어텐션 메커니즘만 사용한 모델(NMT문제에서 성능 크게 향상)\n",
        "    - etc. \n",
        "\n",
        "  - 설명 가능성\n",
        "    - 어텐션의 장점은 <strong>모델이 어떤 출력을 만들도록 이끄는 것이 무엇인지 이해하기 쉽다</strong>는 것\n",
        "    - 이는 모델이 올바르게 예측하지 못할 때 특히 유용<br>\n",
        "    ex) 눈 위를 걷는 강아지 사진에 '눈 위를 걷는 늑대'라는 캡션 생성 시, <br>'늑대'라는 단어를 출력할 때 초점을 맞춘 것이 무엇인지 확인할 수 있다.<br>(강아지 뿐만 아니라 눈에도 주의를 기울이고 있을지 모름)\n",
        "\n",
        "\n",
        "\n",
        "<br>\n",
        "\n",
        "  참조)\n",
        "  - 핸즈온 머신러닝\n",
        "  - 밑바닥부터 시작하는 딥러닝2\n",
        "  - [glee1228님 tistory](https://glee1228.tistory.com/3)\n",
        "  - [medium](https://medium.datadriveninvestor.com/attention-in-rnns-321fbcd64f05)"
      ]
    },
    {
      "cell_type": "markdown",
      "metadata": {
        "id": "U0Dnta5ijcaj"
      },
      "source": [
        "## 구현\n",
        "-  인코더-디코더 모델에 루옹 어텐션 추가하기\n",
        "  - 바흐다나우 어텐션(연결 어텐션), 루옹 어텐션 등 여러가지"
      ]
    },
    {
      "cell_type": "code",
      "metadata": {
        "id": "0GLCexKvy__p"
      },
      "source": [
        "def make_attention(units, n_units, encoder_sequence_length):\n",
        "  attention_mechanism = tfa.seq2seq.attention_wrapper.LuongAttention(\n",
        "      units, encoder_state, memory_sequence_length=encoder_sequence_length\n",
        "  )\n",
        "\n",
        "  attention_decoder_cell = tfa.seq2seq.attention_wrapper.AttentionWrapper(\n",
        "      decoder_cell, attention_mechanism, attention_layer_size=n_units\n",
        "  )\n",
        "  return [attention_mechanism, attention_decoder_cell]"
      ],
      "execution_count": null,
      "outputs": []
    },
    {
      "cell_type": "markdown",
      "metadata": {
        "id": "J3fPOOAqlj7w"
      },
      "source": [
        "# 트랜스포머 구조: 어텐션이 필요한 전부다\n",
        "- 어텐션 메커니즘만 사용해서 NMT문제에서 최고 수준 성능을 크게 향상시킴\n",
        "- 빠른 훈련 , 쉬운 병렬화\n",
        "\n",
        "<img src=\"https://blog.kakaocdn.net/dn/AbY3k/btqS1VZlsu0/a7YCVUTxAxF2mANkVZWoo0/img.png\" />\n",
        "\n",
        "- 모든 층은 타임 스텝에 독립적이다. 따라서 <strong>각 단어는 모든 다른 단어에 대해 독립적으로 처리</strong>된다.\n",
        "- <strong>하지만 어떻게 한 번에 한 단어씩 보면서 문장을 번역할까?</strong>\n",
        "  - 주요 구성 요소\n",
        "    - <strong>인코더의 멀티-헤드 어텐션</strong>\n",
        "      - 관련이 많은 단어에 더 많은 주의를 기울이며 <strong>각 단어와 동일한 문장에 있는 다른 단어의 관계</strong>를 인코딩함\n",
        "      - ex) 'They welcomed the Queen of the United Kingdom'\n",
        "        - 단어 'Queen'에 대해 'They'나 'welcomed'보단 'United'와 'Kingdom'에 더 주의를 기울인다.\n",
        "\n",
        "    - <strong>마스크드 멀티-헤드 어텐션</strong>\n",
        "      - 위 멀티-헤드 어텐션과 동일한 작업을 수행하지만, <strong>이전에 등장한 단어에만</strong> 주의를 기울인다.\n",
        "\n",
        "    - <strong>디코더의 위쪽 멀티-헤드 어텐션</strong> \n",
        "      - 디코더가 <strong>입력 문장에 있는 단어</strong>에 주의를 기울인다.\n",
        "      - ex) 디코더가 'Queen'을 번역할 때, 입력 문장에 있는 단어'Queen'에 가장 주의를 기울인다. \n",
        "\n",
        "    - <strong>위치 인코딩</strong>\n",
        "      - 문장에 있는 <strong>단어의 위치</strong>를 나타내는 단순한 밀집 벡터\n",
        "        - 멀티-헤드 어텐션 층은 단어 사이의 관계만 보고, 단어의 순서나 위치를 고려하지 않으므로 필요\n",
        "      - n번째 위치 인코딩이 각 문장에 있는 n번째 단어의 단어 임베딩에 더해짐\n",
        "        - 이를 통해 모델이 각 단어의 위치를 알 수 있음\n",
        "      "
      ]
    },
    {
      "cell_type": "markdown",
      "metadata": {
        "id": "vHB0By6poWHB"
      },
      "source": [
        "<br><br>\n",
        "# 연습문제"
      ]
    },
    {
      "cell_type": "markdown",
      "metadata": {
        "id": "G4EE46lY4qIt"
      },
      "source": [
        "## 상태가 없는 RNN 대비 상태가 있는 RNN의 장단점은 무엇인가요?\n",
        "- 장점\n",
        "  - <strong>장기 패턴</strong>을 감지할 수 있다.\n",
        "    - 상태가 없는 RNN은 훈련한 윈도우 크기와 같거나 작은 길이의 패턴만 감지 가능\n",
        "- 단점\n",
        "  - <strong>구현</strong>이 어렵다.\n",
        "  - <strong>데이터셋</strong>을 적절히 준비하는 것이 어렵다.\n",
        "  \n"
      ]
    },
    {
      "cell_type": "markdown",
      "metadata": {
        "id": "qjRRGbPx454r"
      },
      "source": [
        "## 왜 자동 변역에 시퀀스-투-시퀀스 RNN 대신 인코더-디코더 RNN을 사용하나요?\n",
        "- 일반적으로 <strong>문장을 읽으면서</strong> 단어 하나씩 번역하면 결과가 매우 좋지 않음 (시퀀스-투-시퀀스)\n",
        "- <strong>전체 문장을 읽고 난 후</strong> 번역하는 것이 훨씬 결과가 좋음 (인코더-디코더 RNN)"
      ]
    },
    {
      "cell_type": "markdown",
      "metadata": {
        "id": "Hfz-yuqV6kSV"
      },
      "source": [
        "## 가변 길이 입력 시퀀스를 어떻게 다룰 수 있나요? 가변 길이 출력 시퀀스는 어떤가요?\n",
        "- <strong>패딩</strong>\n",
        "  1. 배치에 있는 모든 시퀀스 길이가 동일하도록 짧은 시퀀스에 패딩을 추가한다.\n",
        "  2. RNN이 패딩 토큰을 무시하도록 마스킹 처리를 하도록 한다.\n",
        "\n",
        "- 더 좋은건, 길이가 <strong>비슷한 시퀀스를 모아</strong> 배치를 만드는 것"
      ]
    },
    {
      "cell_type": "markdown",
      "metadata": {
        "id": "AivZGMoW6zmY"
      },
      "source": [
        "## 빔 검색이 무엇인가요? 왜 사용해야 하나요? 이를 구현하기 위해 어떤 도구를 사용할 수 있나요?\n",
        "- 훈련된 인코더-디코더 모델의 성능을 향상하기 위해 사용하는 기술\n",
        "  - 하나의 문장을 늘리기 위해 각 스텝에서 가장 가능성 있는 다음 단어를 탐욕적으로 선택하기 보다,\n",
        "  -  <strong>가능성 있는 문장 k개를 동시에 탐색</strong> 가능\n",
        "    - 파라미터 k를 '빔 너비'라 부름\n",
        "    - k가 클수록 더 많은 연산 요구, 더 많은 메모리 차지\n",
        "    - 하지만 k가 클수록 더 정확한 시스템이 될 수 있을 것\n",
        "  - 해당 기법은 병렬화하기 쉬움\n",
        "- 텐서플로 애드온을 사용하면 빔 검색 구현이 쉬움"
      ]
    },
    {
      "cell_type": "markdown",
      "metadata": {
        "id": "HrX9jPTI66g4"
      },
      "source": [
        "## 어텐션 메커니즘이 무엇인가요? 어떤 장점이 있나요?\n",
        "- 디코더가 입력 시퀀스에 직접 접근하기 위해 사용된 기법\n",
        "- <strong>디코더 타임 스텝마다 현재 디코더의 상태와 인코더의 전체 출력을</strong> 정렬 모델(alignment model)이 처리하여 <strong>입력 타임스텝에 대한 정렬 점수</strong>를 출력\n",
        "  - 이 점수는 <strong>입력의 어느 부분이 현재 디코더의 타임 스텝에 가장 관련</strong>되어 있는지 나타냄\n",
        "  - 인코더 출력(정렬 점수로 가중치된)의 가중치 합이 디코더로 주입되어 다음 디코더 상태와 해당 스텝의 출력을 만듦\n",
        "\n",
        "- 장점\n",
        "  - <strong>긴 입력 시퀀스</strong>에 대한 성능 향상\n",
        "  - 정렬 점수 덕분에 모델을 <strong>디버깅</strong>하고 <strong>해석</strong>하기 용이\n",
        "  - 멀티-헤드 어텐션 층을 사용하는 <strong>트랜스포머 구조</strong>의 핵심\n"
      ]
    },
    {
      "cell_type": "markdown",
      "metadata": {
        "id": "HlV6t6zU685r"
      },
      "source": [
        "## 트랜스포머 구조에서 가장 중요한 층이 무엇인가요? 이 층의 목적이 무엇인가요?\n",
        "- 가장 중요한 층: <strong>멀티-헤드 어텐션 층</strong>\n",
        "  - 이 층의 목적: 모델이 <strong>어떤 단어가 서로 관련</strong>되어 있는지 구별하도록 돕는 것 -> 단어 표현 향상"
      ]
    }
  ]
}