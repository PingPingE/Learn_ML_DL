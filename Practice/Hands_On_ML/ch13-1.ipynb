{
  "nbformat": 4,
  "nbformat_minor": 0,
  "metadata": {
    "colab": {
      "name": "ch13-1.ipynb",
      "provenance": [],
      "collapsed_sections": [],
      "toc_visible": true,
      "authorship_tag": "ABX9TyOpvb3OCsXQYMjY5tg6udMp",
      "include_colab_link": true
    },
    "kernelspec": {
      "name": "python3",
      "display_name": "Python 3"
    }
  },
  "cells": [
    {
      "cell_type": "markdown",
      "metadata": {
        "id": "view-in-github",
        "colab_type": "text"
      },
      "source": [
        "<a href=\"https://colab.research.google.com/github/PingPingE/Learn_ML_DL/blob/main/Practice/Hands_On_ML/ch13-1.ipynb\" target=\"_parent\"><img src=\"https://colab.research.google.com/assets/colab-badge.svg\" alt=\"Open In Colab\"/></a>"
      ]
    },
    {
      "cell_type": "markdown",
      "metadata": {
        "id": "xJ9emFPiQaBI"
      },
      "source": [
        "# 텐서플로에서 데이터 적재와 전처리하기\r\n",
        "- 메모리 용량에 맞지 않는 큰 규모의 데이터셋으로 딥러닝 시스템을 훈련해야 하는 경우 -> 데이터 API\r\n",
        "- 데이터 API로 대규모의 데이터셋을 효율적으로 로드하고 전처리할 수 있다."
      ]
    },
    {
      "cell_type": "markdown",
      "metadata": {
        "id": "61rxirc15fmB"
      },
      "source": [
        "# 데이터 API\r\n",
        "- 전체적인 데이터 API의 중심에는 <strong>연속된 데이터 샘플인 Dataset</strong> 개념이 있다.\r\n",
        "- 일반적으로 <strong>디스크에서 데이터를 점진적으로 읽는</strong> 데이터셋을 사용한다.\r\n"
      ]
    },
    {
      "cell_type": "code",
      "metadata": {
        "id": "hrWxe9MF5v3c"
      },
      "source": [
        "import tensorflow as tf"
      ],
      "execution_count": 1,
      "outputs": []
    },
    {
      "cell_type": "markdown",
      "metadata": {
        "id": "HXnScon456ex"
      },
      "source": [
        "###  Dataset 객체를 만들고 데이터를 읽어 올 위치와 변환 방법을 지정하면 된다\r\n",
        "\r\n",
        "#### from_tensor_slices(): 텐서를 받아 X의 <strong>각 원소가 아이템으로 표현</strong>되는 <strong>tf.data.Dataset</strong>을 만든다. \r\n"
      ]
    },
    {
      "cell_type": "code",
      "metadata": {
        "colab": {
          "base_uri": "https://localhost:8080/"
        },
        "id": "EelfKOcI5x6a",
        "outputId": "6422fd95-d6ce-4723-8d01-c8fbe24ad6db"
      },
      "source": [
        "X=tf.range(10)\r\n",
        "dataset=tf.data.Dataset.from_tensor_slices(X)\r\n",
        "dataset # = tf.data.Dataset.range(10)"
      ],
      "execution_count": null,
      "outputs": [
        {
          "output_type": "execute_result",
          "data": {
            "text/plain": [
              "<TensorSliceDataset shapes: (), types: tf.int32>"
            ]
          },
          "metadata": {
            "tags": []
          },
          "execution_count": 2
        }
      ]
    },
    {
      "cell_type": "code",
      "metadata": {
        "colab": {
          "base_uri": "https://localhost:8080/"
        },
        "id": "4hkTgQ6-53Lv",
        "outputId": "04aba9be-041b-4e4b-85d3-469c855b1631"
      },
      "source": [
        "for item in dataset: #dataset의 각 원소를 '원소', '아이템', '슬라이스' 등으로 부름\r\n",
        "  print(item)"
      ],
      "execution_count": null,
      "outputs": [
        {
          "output_type": "stream",
          "text": [
            "tf.Tensor(0, shape=(), dtype=int32)\n",
            "tf.Tensor(1, shape=(), dtype=int32)\n",
            "tf.Tensor(2, shape=(), dtype=int32)\n",
            "tf.Tensor(3, shape=(), dtype=int32)\n",
            "tf.Tensor(4, shape=(), dtype=int32)\n",
            "tf.Tensor(5, shape=(), dtype=int32)\n",
            "tf.Tensor(6, shape=(), dtype=int32)\n",
            "tf.Tensor(7, shape=(), dtype=int32)\n",
            "tf.Tensor(8, shape=(), dtype=int32)\n",
            "tf.Tensor(9, shape=(), dtype=int32)\n"
          ],
          "name": "stdout"
        }
      ]
    },
    {
      "cell_type": "markdown",
      "metadata": {
        "id": "DvYRaCJ96p3u"
      },
      "source": [
        "### 연쇄 변환"
      ]
    },
    {
      "cell_type": "markdown",
      "metadata": {
        "id": "y6ePFPGb7xEt"
      },
      "source": [
        "#### repeat 및 batch 메서드"
      ]
    },
    {
      "cell_type": "code",
      "metadata": {
        "colab": {
          "base_uri": "https://localhost:8080/"
        },
        "id": "B2Bj2XUS6q1r",
        "outputId": "867e85be-63fc-44d8-8bdf-ebfb6b27cfa2"
      },
      "source": [
        "dataset=dataset.repeat(3).batch(7) #원본 dataset의 아이템을 세차례 반복하는 새로운 dataset반환, 7개 그룹으로 묶어서 새로운 dataset 반환\r\n",
        "for item in dataset:\r\n",
        "  print(item)"
      ],
      "execution_count": null,
      "outputs": [
        {
          "output_type": "stream",
          "text": [
            "tf.Tensor([0 1 2 3 4 5 6], shape=(7,), dtype=int32)\n",
            "tf.Tensor([7 8 9 0 1 2 3], shape=(7,), dtype=int32)\n",
            "tf.Tensor([4 5 6 7 8 9 0], shape=(7,), dtype=int32)\n",
            "tf.Tensor([1 2 3 4 5 6 7], shape=(7,), dtype=int32)\n",
            "tf.Tensor([8 9], shape=(2,), dtype=int32)\n"
          ],
          "name": "stdout"
        }
      ]
    },
    {
      "cell_type": "markdown",
      "metadata": {
        "id": "wspiMNU370CF"
      },
      "source": [
        "#### map 메서드: <strong>각 아이템</strong>에 변환 적용"
      ]
    },
    {
      "cell_type": "code",
      "metadata": {
        "id": "2lEQo41W6_O8"
      },
      "source": [
        "dataset=dataset.map(lambda x: x*2) "
      ],
      "execution_count": null,
      "outputs": []
    },
    {
      "cell_type": "code",
      "metadata": {
        "colab": {
          "base_uri": "https://localhost:8080/"
        },
        "id": "HZbkipQjXZgv",
        "outputId": "6ee6d5ff-8b84-4674-9dbf-bac02a221b05"
      },
      "source": [
        "for item in dataset:\r\n",
        "  print(item)"
      ],
      "execution_count": null,
      "outputs": [
        {
          "output_type": "stream",
          "text": [
            "tf.Tensor([ 0  2  4  6  8 10 12], shape=(7,), dtype=int32)\n",
            "tf.Tensor([14 16 18  0  2  4  6], shape=(7,), dtype=int32)\n",
            "tf.Tensor([ 8 10 12 14 16 18  0], shape=(7,), dtype=int32)\n",
            "tf.Tensor([ 2  4  6  8 10 12 14], shape=(7,), dtype=int32)\n",
            "tf.Tensor([16 18], shape=(2,), dtype=int32)\n"
          ],
          "name": "stdout"
        }
      ]
    },
    {
      "cell_type": "markdown",
      "metadata": {
        "id": "FC7K-a898WcK"
      },
      "source": [
        "#### apply 메서드: <strong>전체</strong>에 변환 적용"
      ]
    },
    {
      "cell_type": "code",
      "metadata": {
        "colab": {
          "base_uri": "https://localhost:8080/"
        },
        "id": "De0Lftxv72-P",
        "outputId": "e02c01f5-1265-482a-e01a-20d5d1406c2c"
      },
      "source": [
        "dataset=dataset.apply(tf.data.experimental.unbatch()) #unbatch함수를 적용하면 기존의 7개의 정수로 이루어진 배치가 아니라, 하나의 정수 텐서가 된다."
      ],
      "execution_count": null,
      "outputs": [
        {
          "output_type": "stream",
          "text": [
            "WARNING:tensorflow:From <ipython-input-7-05ea4651d273>:1: unbatch (from tensorflow.python.data.experimental.ops.batching) is deprecated and will be removed in a future version.\n",
            "Instructions for updating:\n",
            "Use `tf.data.Dataset.unbatch()`.\n"
          ],
          "name": "stdout"
        }
      ]
    },
    {
      "cell_type": "code",
      "metadata": {
        "colab": {
          "base_uri": "https://localhost:8080/"
        },
        "id": "AVMAX2bB8cEk",
        "outputId": "463cd1eb-758f-47d7-864b-82c933d2e7aa"
      },
      "source": [
        "for item in dataset:\r\n",
        "  print(item)"
      ],
      "execution_count": null,
      "outputs": [
        {
          "output_type": "stream",
          "text": [
            "tf.Tensor(0, shape=(), dtype=int32)\n",
            "tf.Tensor(2, shape=(), dtype=int32)\n",
            "tf.Tensor(4, shape=(), dtype=int32)\n",
            "tf.Tensor(6, shape=(), dtype=int32)\n",
            "tf.Tensor(8, shape=(), dtype=int32)\n",
            "tf.Tensor(10, shape=(), dtype=int32)\n",
            "tf.Tensor(12, shape=(), dtype=int32)\n",
            "tf.Tensor(14, shape=(), dtype=int32)\n",
            "tf.Tensor(16, shape=(), dtype=int32)\n",
            "tf.Tensor(18, shape=(), dtype=int32)\n",
            "tf.Tensor(0, shape=(), dtype=int32)\n",
            "tf.Tensor(2, shape=(), dtype=int32)\n",
            "tf.Tensor(4, shape=(), dtype=int32)\n",
            "tf.Tensor(6, shape=(), dtype=int32)\n",
            "tf.Tensor(8, shape=(), dtype=int32)\n",
            "tf.Tensor(10, shape=(), dtype=int32)\n",
            "tf.Tensor(12, shape=(), dtype=int32)\n",
            "tf.Tensor(14, shape=(), dtype=int32)\n",
            "tf.Tensor(16, shape=(), dtype=int32)\n",
            "tf.Tensor(18, shape=(), dtype=int32)\n",
            "tf.Tensor(0, shape=(), dtype=int32)\n",
            "tf.Tensor(2, shape=(), dtype=int32)\n",
            "tf.Tensor(4, shape=(), dtype=int32)\n",
            "tf.Tensor(6, shape=(), dtype=int32)\n",
            "tf.Tensor(8, shape=(), dtype=int32)\n",
            "tf.Tensor(10, shape=(), dtype=int32)\n",
            "tf.Tensor(12, shape=(), dtype=int32)\n",
            "tf.Tensor(14, shape=(), dtype=int32)\n",
            "tf.Tensor(16, shape=(), dtype=int32)\n",
            "tf.Tensor(18, shape=(), dtype=int32)\n"
          ],
          "name": "stdout"
        }
      ]
    },
    {
      "cell_type": "markdown",
      "metadata": {
        "id": "jwSpWv9v84vN"
      },
      "source": [
        "#### filter 메서드: 데이터셋 필터링"
      ]
    },
    {
      "cell_type": "code",
      "metadata": {
        "colab": {
          "base_uri": "https://localhost:8080/"
        },
        "id": "FiQYB1Ek85b1",
        "outputId": "844e1ec1-e118-46fe-b863-7af50584df1f"
      },
      "source": [
        "dataset=dataset.filter(lambda x: x<10)\r\n",
        "for item in dataset:\r\n",
        "  print(item)"
      ],
      "execution_count": null,
      "outputs": [
        {
          "output_type": "stream",
          "text": [
            "tf.Tensor(0, shape=(), dtype=int32)\n",
            "tf.Tensor(2, shape=(), dtype=int32)\n",
            "tf.Tensor(4, shape=(), dtype=int32)\n",
            "tf.Tensor(6, shape=(), dtype=int32)\n",
            "tf.Tensor(8, shape=(), dtype=int32)\n",
            "tf.Tensor(0, shape=(), dtype=int32)\n",
            "tf.Tensor(2, shape=(), dtype=int32)\n",
            "tf.Tensor(4, shape=(), dtype=int32)\n",
            "tf.Tensor(6, shape=(), dtype=int32)\n",
            "tf.Tensor(8, shape=(), dtype=int32)\n",
            "tf.Tensor(0, shape=(), dtype=int32)\n",
            "tf.Tensor(2, shape=(), dtype=int32)\n",
            "tf.Tensor(4, shape=(), dtype=int32)\n",
            "tf.Tensor(6, shape=(), dtype=int32)\n",
            "tf.Tensor(8, shape=(), dtype=int32)\n"
          ],
          "name": "stdout"
        }
      ]
    },
    {
      "cell_type": "markdown",
      "metadata": {
        "id": "XvquDb1fXz4S"
      },
      "source": [
        "#### take 메서드: 데이터셋에 있는 몇 개의 아이템만 보고 싶을 때"
      ]
    },
    {
      "cell_type": "code",
      "metadata": {
        "colab": {
          "base_uri": "https://localhost:8080/"
        },
        "id": "agpiiaSS8-eE",
        "outputId": "3c9ea376-afe1-4282-c1c8-fe578de98078"
      },
      "source": [
        "for item in dataset.take(3): #몇 개의 아이템만 보고 싶다면 take 메서드를 사용\r\n",
        "  print(item)"
      ],
      "execution_count": null,
      "outputs": [
        {
          "output_type": "stream",
          "text": [
            "tf.Tensor(0, shape=(), dtype=int32)\n",
            "tf.Tensor(2, shape=(), dtype=int32)\n",
            "tf.Tensor(4, shape=(), dtype=int32)\n"
          ],
          "name": "stdout"
        }
      ]
    },
    {
      "cell_type": "markdown",
      "metadata": {
        "id": "dEM88K6A9wUY"
      },
      "source": [
        "## 데이터 셔플링\r\n",
        "경사 하강법은 훈련 세트에 있는 샘플이 <strong>독립적이고 동일한 분포일 때 최고의 성능</strong>을 발휘한다.\r\n",
        "그래서 <strong>shuffle()</strong>메서드를 사용해서 샘플을 섞는다."
      ]
    },
    {
      "cell_type": "markdown",
      "metadata": {
        "id": "Q-BgHXwEDIXL"
      },
      "source": [
        "### shuffle 메서드\r\n",
        "1. 먼저 원본 데이터셋의 처음 아이템을 <strong>buffer_size 개수만큼 추출</strong>해서 버퍼에 채운다. \r\n",
        "2. 그 다음 새로운 아이템이 <strong>요청</strong>되면 <strong>이 버퍼에서 랜덤하게 하나를 꺼내 반환</strong>한다.\r\n",
        "3. 그리고 원본 데이터셋에서 새로운 아이템을 <strong>추출</strong>해서 <strong>비워진 버퍼를 또 채운다</strong>.\r\n",
        "4. 1~3을 원본 데이터셋의 <strong>모든 아이템이 사용될 때까지 반복</strong>한다. \r\n",
        "5. 그 다음엔 <strong>버퍼가 비워질 때까지</strong> 계속해서 랜덤하게 아이템을 <strong>반환</strong>한다."
      ]
    },
    {
      "cell_type": "code",
      "metadata": {
        "colab": {
          "base_uri": "https://localhost:8080/"
        },
        "id": "nV9qqVIj9x02",
        "outputId": "13a5579c-6421-4cbf-c5d7-7c15b4e65fac"
      },
      "source": [
        "dataset=tf.data.Dataset.range(10).repeat(3)#0~9까지 세 번 반복\r\n",
        "dataset=dataset.shuffle(buffer_size=5, seed=42).batch(7) #프로그램을 실행할 때마다 셔플링되는 순서를 동일하게 하려면 seed를 부여한다.\r\n",
        "for item in dataset:\r\n",
        "  print(item)"
      ],
      "execution_count": null,
      "outputs": [
        {
          "output_type": "stream",
          "text": [
            "tf.Tensor([0 2 3 6 7 9 4], shape=(7,), dtype=int64)\n",
            "tf.Tensor([5 0 1 1 8 6 5], shape=(7,), dtype=int64)\n",
            "tf.Tensor([4 8 7 1 2 3 0], shape=(7,), dtype=int64)\n",
            "tf.Tensor([5 4 2 7 8 9 9], shape=(7,), dtype=int64)\n",
            "tf.Tensor([3 6], shape=(2,), dtype=int64)\n"
          ],
          "name": "stdout"
        }
      ]
    },
    {
      "cell_type": "code",
      "metadata": {
        "colab": {
          "base_uri": "https://localhost:8080/"
        },
        "id": "fkFQdSdH-A3l",
        "outputId": "6814255c-4b1e-4e6c-c77c-a8ab6987954d"
      },
      "source": [
        "for item in dataset.repeat(3):\r\n",
        "  print(item)"
      ],
      "execution_count": null,
      "outputs": [
        {
          "output_type": "stream",
          "text": [
            "tf.Tensor([3 5 2 1 8 4 0], shape=(7,), dtype=int64)\n",
            "tf.Tensor([1 2 3 7 9 5 0], shape=(7,), dtype=int64)\n",
            "tf.Tensor([7 4 0 9 6 8 1], shape=(7,), dtype=int64)\n",
            "tf.Tensor([2 6 6 4 9 8 5], shape=(7,), dtype=int64)\n",
            "tf.Tensor([7 3], shape=(2,), dtype=int64)\n",
            "tf.Tensor([2 1 3 5 8 9 4], shape=(7,), dtype=int64)\n",
            "tf.Tensor([1 0 7 3 5 6 7], shape=(7,), dtype=int64)\n",
            "tf.Tensor([2 4 9 1 0 3 6], shape=(7,), dtype=int64)\n",
            "tf.Tensor([0 4 7 5 2 8 6], shape=(7,), dtype=int64)\n",
            "tf.Tensor([9 8], shape=(2,), dtype=int64)\n",
            "tf.Tensor([1 4 6 7 5 2 3], shape=(7,), dtype=int64)\n",
            "tf.Tensor([8 2 0 0 3 5 1], shape=(7,), dtype=int64)\n",
            "tf.Tensor([4 8 0 6 9 9 2], shape=(7,), dtype=int64)\n",
            "tf.Tensor([5 3 7 4 1 8 6], shape=(7,), dtype=int64)\n",
            "tf.Tensor([9 7], shape=(2,), dtype=int64)\n"
          ],
          "name": "stdout"
        }
      ]
    },
    {
      "cell_type": "markdown",
      "metadata": {
        "id": "gEhjX1M-D8SZ"
      },
      "source": [
        "### 여러 파일에서 한 줄씩 번갈아 읽기\r\n",
        "1. 원본 데이터셋을 <strong>쪼갠다.</strong>\r\n",
        "2. 쪼갠 데이터셋을 각각 <strong>csv</strong>로 저장한다.\r\n",
        "3. <strong>list</strong>에 2의 파일들을 저장한 <strong>경로</strong>를 모두 담는다.\r\n",
        "4. <strong>list_files </strong>함수로 3의 list 원소들을 <strong>섞는다.</strong> \r\n",
        "5. <strong>interleave </strong>메서드를 호출해서 <strong>한 번에 몇 개의 파일을 한 줄씩 번갈아 읽을 것인지</strong> 정한다."
      ]
    },
    {
      "cell_type": "code",
      "metadata": {
        "id": "cYvo0nVQ6cbY"
      },
      "source": [
        "from sklearn.datasets import fetch_california_housing\r\n",
        "from sklearn.model_selection import train_test_split\r\n",
        "housing = fetch_california_housing()"
      ],
      "execution_count": 20,
      "outputs": []
    },
    {
      "cell_type": "code",
      "metadata": {
        "id": "w3aM6WMd_fzU"
      },
      "source": [
        "X_train_full, X_test, y_train_full, y_test = train_test_split(housing.data, housing.target)\r\n",
        "X_train, X_valid, y_train, y_valid = train_test_split(X_train_full, y_train_full)"
      ],
      "execution_count": 21,
      "outputs": []
    },
    {
      "cell_type": "code",
      "metadata": {
        "id": "zWjuZ4vl_gmQ"
      },
      "source": [
        "import pandas as pd\r\n",
        "X_train_df=pd.DataFrame(X_train, columns=housing.feature_names)\r\n",
        "X_valid_df=pd.DataFrame(X_valid, columns=housing.feature_names)\r\n",
        "X_test_df=pd.DataFrame(X_test, columns=housing.feature_names)"
      ],
      "execution_count": 22,
      "outputs": []
    },
    {
      "cell_type": "code",
      "metadata": {
        "colab": {
          "base_uri": "https://localhost:8080/",
          "height": 399
        },
        "id": "nGtz9gU9b8IO",
        "outputId": "5bc6c168-9583-4947-8dcd-3a42d2b17c24"
      },
      "source": [
        "X_train_df"
      ],
      "execution_count": 23,
      "outputs": [
        {
          "output_type": "execute_result",
          "data": {
            "text/html": [
              "<div>\n",
              "<style scoped>\n",
              "    .dataframe tbody tr th:only-of-type {\n",
              "        vertical-align: middle;\n",
              "    }\n",
              "\n",
              "    .dataframe tbody tr th {\n",
              "        vertical-align: top;\n",
              "    }\n",
              "\n",
              "    .dataframe thead th {\n",
              "        text-align: right;\n",
              "    }\n",
              "</style>\n",
              "<table border=\"1\" class=\"dataframe\">\n",
              "  <thead>\n",
              "    <tr style=\"text-align: right;\">\n",
              "      <th></th>\n",
              "      <th>MedInc</th>\n",
              "      <th>HouseAge</th>\n",
              "      <th>AveRooms</th>\n",
              "      <th>AveBedrms</th>\n",
              "      <th>Population</th>\n",
              "      <th>AveOccup</th>\n",
              "      <th>Latitude</th>\n",
              "      <th>Longitude</th>\n",
              "    </tr>\n",
              "  </thead>\n",
              "  <tbody>\n",
              "    <tr>\n",
              "      <th>0</th>\n",
              "      <td>9.2298</td>\n",
              "      <td>25.0</td>\n",
              "      <td>7.237676</td>\n",
              "      <td>0.947183</td>\n",
              "      <td>1585.0</td>\n",
              "      <td>2.790493</td>\n",
              "      <td>37.31</td>\n",
              "      <td>-122.05</td>\n",
              "    </tr>\n",
              "    <tr>\n",
              "      <th>1</th>\n",
              "      <td>4.7500</td>\n",
              "      <td>52.0</td>\n",
              "      <td>4.771812</td>\n",
              "      <td>1.045302</td>\n",
              "      <td>1380.0</td>\n",
              "      <td>2.315436</td>\n",
              "      <td>37.79</td>\n",
              "      <td>-122.47</td>\n",
              "    </tr>\n",
              "    <tr>\n",
              "      <th>2</th>\n",
              "      <td>4.1563</td>\n",
              "      <td>4.0</td>\n",
              "      <td>5.645833</td>\n",
              "      <td>0.985119</td>\n",
              "      <td>915.0</td>\n",
              "      <td>2.723214</td>\n",
              "      <td>34.66</td>\n",
              "      <td>-120.48</td>\n",
              "    </tr>\n",
              "    <tr>\n",
              "      <th>3</th>\n",
              "      <td>3.5200</td>\n",
              "      <td>32.0</td>\n",
              "      <td>5.897297</td>\n",
              "      <td>1.097297</td>\n",
              "      <td>1122.0</td>\n",
              "      <td>3.032432</td>\n",
              "      <td>36.96</td>\n",
              "      <td>-122.03</td>\n",
              "    </tr>\n",
              "    <tr>\n",
              "      <th>4</th>\n",
              "      <td>2.5200</td>\n",
              "      <td>37.0</td>\n",
              "      <td>4.251623</td>\n",
              "      <td>1.107143</td>\n",
              "      <td>1152.0</td>\n",
              "      <td>1.870130</td>\n",
              "      <td>37.88</td>\n",
              "      <td>-122.27</td>\n",
              "    </tr>\n",
              "    <tr>\n",
              "      <th>...</th>\n",
              "      <td>...</td>\n",
              "      <td>...</td>\n",
              "      <td>...</td>\n",
              "      <td>...</td>\n",
              "      <td>...</td>\n",
              "      <td>...</td>\n",
              "      <td>...</td>\n",
              "      <td>...</td>\n",
              "    </tr>\n",
              "    <tr>\n",
              "      <th>11605</th>\n",
              "      <td>3.9423</td>\n",
              "      <td>39.0</td>\n",
              "      <td>5.509653</td>\n",
              "      <td>1.183398</td>\n",
              "      <td>1338.0</td>\n",
              "      <td>2.583012</td>\n",
              "      <td>37.15</td>\n",
              "      <td>-122.13</td>\n",
              "    </tr>\n",
              "    <tr>\n",
              "      <th>11606</th>\n",
              "      <td>1.5491</td>\n",
              "      <td>9.0</td>\n",
              "      <td>5.641834</td>\n",
              "      <td>1.163324</td>\n",
              "      <td>805.0</td>\n",
              "      <td>2.306590</td>\n",
              "      <td>34.13</td>\n",
              "      <td>-116.35</td>\n",
              "    </tr>\n",
              "    <tr>\n",
              "      <th>11607</th>\n",
              "      <td>2.0441</td>\n",
              "      <td>15.0</td>\n",
              "      <td>4.064639</td>\n",
              "      <td>1.125475</td>\n",
              "      <td>569.0</td>\n",
              "      <td>2.163498</td>\n",
              "      <td>35.06</td>\n",
              "      <td>-118.15</td>\n",
              "    </tr>\n",
              "    <tr>\n",
              "      <th>11608</th>\n",
              "      <td>3.0208</td>\n",
              "      <td>34.0</td>\n",
              "      <td>4.500000</td>\n",
              "      <td>0.983568</td>\n",
              "      <td>1181.0</td>\n",
              "      <td>2.772300</td>\n",
              "      <td>32.75</td>\n",
              "      <td>-117.06</td>\n",
              "    </tr>\n",
              "    <tr>\n",
              "      <th>11609</th>\n",
              "      <td>1.6045</td>\n",
              "      <td>36.0</td>\n",
              "      <td>3.822951</td>\n",
              "      <td>1.075410</td>\n",
              "      <td>2175.0</td>\n",
              "      <td>3.565574</td>\n",
              "      <td>35.76</td>\n",
              "      <td>-119.25</td>\n",
              "    </tr>\n",
              "  </tbody>\n",
              "</table>\n",
              "<p>11610 rows × 8 columns</p>\n",
              "</div>"
            ],
            "text/plain": [
              "       MedInc  HouseAge  AveRooms  ...  AveOccup  Latitude  Longitude\n",
              "0      9.2298      25.0  7.237676  ...  2.790493     37.31    -122.05\n",
              "1      4.7500      52.0  4.771812  ...  2.315436     37.79    -122.47\n",
              "2      4.1563       4.0  5.645833  ...  2.723214     34.66    -120.48\n",
              "3      3.5200      32.0  5.897297  ...  3.032432     36.96    -122.03\n",
              "4      2.5200      37.0  4.251623  ...  1.870130     37.88    -122.27\n",
              "...       ...       ...       ...  ...       ...       ...        ...\n",
              "11605  3.9423      39.0  5.509653  ...  2.583012     37.15    -122.13\n",
              "11606  1.5491       9.0  5.641834  ...  2.306590     34.13    -116.35\n",
              "11607  2.0441      15.0  4.064639  ...  2.163498     35.06    -118.15\n",
              "11608  3.0208      34.0  4.500000  ...  2.772300     32.75    -117.06\n",
              "11609  1.6045      36.0  3.822951  ...  3.565574     35.76    -119.25\n",
              "\n",
              "[11610 rows x 8 columns]"
            ]
          },
          "metadata": {
            "tags": []
          },
          "execution_count": 23
        }
      ]
    },
    {
      "cell_type": "markdown",
      "metadata": {
        "id": "kOIfZVuqBB8O"
      },
      "source": [
        "- train/valid/test csv파일로 만들기"
      ]
    },
    {
      "cell_type": "code",
      "metadata": {
        "id": "vx0XjZrRAQWi"
      },
      "source": [
        "X_train_df.to_csv(\"my_train.csv\", index=False)\r\n",
        "X_test_df.to_csv(\"my_test.csv\", index=False)\r\n",
        "X_valid_df.to_csv(\"my_valid.csv\", index=False)"
      ],
      "execution_count": 24,
      "outputs": []
    },
    {
      "cell_type": "markdown",
      "metadata": {
        "id": "dGX8aVqRBIWB"
      },
      "source": [
        "- train 데이터 쪼갠 후 각각 따로 저장하기"
      ]
    },
    {
      "cell_type": "code",
      "metadata": {
        "id": "qNUBbcRXApZj"
      },
      "source": [
        "file_paths=[]#쪼갠 csv파일 path 저장할 list"
      ],
      "execution_count": 9,
      "outputs": []
    },
    {
      "cell_type": "code",
      "metadata": {
        "colab": {
          "base_uri": "https://localhost:8080/"
        },
        "id": "W5fjLfffHhoo",
        "outputId": "553ca7fc-4c85-4396-978e-67f371482cfb"
      },
      "source": [
        "ls"
      ],
      "execution_count": 10,
      "outputs": [
        {
          "output_type": "stream",
          "text": [
            "\u001b[0m\u001b[01;34msample_data\u001b[0m/\n"
          ],
          "name": "stdout"
        }
      ]
    },
    {
      "cell_type": "code",
      "metadata": {
        "id": "LArfyIXIakpZ"
      },
      "source": [
        "mkdir train #쪼갠 csv파일 담을 새로운 디렉토리 생성"
      ],
      "execution_count": 11,
      "outputs": []
    },
    {
      "cell_type": "code",
      "metadata": {
        "colab": {
          "base_uri": "https://localhost:8080/"
        },
        "id": "fRyHZMzQa-Kn",
        "outputId": "b45b726e-1794-46bc-fc40-4b729ba5134a"
      },
      "source": [
        "X_train.shape"
      ],
      "execution_count": 25,
      "outputs": [
        {
          "output_type": "execute_result",
          "data": {
            "text/plain": [
              "(11610, 8)"
            ]
          },
          "metadata": {
            "tags": []
          },
          "execution_count": 25
        }
      ]
    },
    {
      "cell_type": "code",
      "metadata": {
        "id": "dpDduO2zEj7D"
      },
      "source": [
        "#train 데이터 쪼개기\r\n",
        "cnt=0\r\n",
        "for item in tf.data.Dataset.from_tensor_slices(X_train).batch(100): #100개씩 쪼개서\r\n",
        "  file_name=f\"train/my_train_{cnt:03}\" #해당 path로 저장\r\n",
        "  pd.DataFrame(item.numpy(),columns=housing.feature_names).to_csv(file_name,index=False)#numpy배열로 바꿔서 저장\r\n",
        "  file_paths.append(file_name)\r\n",
        "  cnt+=1"
      ],
      "execution_count": 31,
      "outputs": []
    },
    {
      "cell_type": "markdown",
      "metadata": {
        "id": "0vE1Fa9bBKGJ"
      },
      "source": [
        "- list_files: <strong>파일 경로를 섞은</strong> 데이터셋을 반환(섞는걸 원치 않는다면 shuffle=False 가능)"
      ]
    },
    {
      "cell_type": "code",
      "metadata": {
        "id": "qaJtDMgTAU-P"
      },
      "source": [
        "filepath_dataset=tf.data.Dataset.list_files(file_paths,seed=42)"
      ],
      "execution_count": 32,
      "outputs": []
    },
    {
      "cell_type": "markdown",
      "metadata": {
        "id": "AdmzJwpWBpgk"
      },
      "source": [
        "- interleave: <strong>한 번에 여러 개의 파일을 한 줄씩 번갈아 읽기</strong>(각 파일의 첫 번째 줄은 열의 이름이므로 skip메서드를 사용해서 건너뛴다.)"
      ]
    },
    {
      "cell_type": "code",
      "metadata": {
        "id": "c_z1CsU9BYEC"
      },
      "source": [
        "n_readers=5\r\n",
        "dataset=filepath_dataset.interleave(\r\n",
        "    lambda filepath:tf.data.TextLineDataset(filepath).skip(1), cycle_length=n_readers\r\n",
        ")"
      ],
      "execution_count": 33,
      "outputs": []
    },
    {
      "cell_type": "code",
      "metadata": {
        "colab": {
          "base_uri": "https://localhost:8080/"
        },
        "id": "yfOHtQziBorc",
        "outputId": "28653ab7-b748-4b82-cebf-75c6017e3f24"
      },
      "source": [
        "#텐서로 저장했을 때\r\n",
        "for item in dataset.take(5):\r\n",
        "  print(item.numpy())"
      ],
      "execution_count": null,
      "outputs": [
        {
          "output_type": "stream",
          "text": [
            "b'0,\"tf.Tensor(3.5335, shape=(), dtype=float64)\",\"tf.Tensor(21.0, shape=(), dtype=float64)\",\"tf.Tensor(3.55, shape=(), dtype=float64)\",\"tf.Tensor(1.05, shape=(), dtype=float64)\",\"tf.Tensor(2719.0, shape=(), dtype=float64)\",\"tf.Tensor(1.9147887323943662, shape=(), dtype=float64)\",\"tf.Tensor(34.04, shape=(), dtype=float64)\",\"tf.Tensor(-118.47, shape=(), dtype=float64)\"'\n",
            "b'0,\"tf.Tensor(5.7039, shape=(), dtype=float64)\",\"tf.Tensor(19.0, shape=(), dtype=float64)\",\"tf.Tensor(5.674285714285714, shape=(), dtype=float64)\",\"tf.Tensor(0.9942857142857143, shape=(), dtype=float64)\",\"tf.Tensor(572.0, shape=(), dtype=float64)\",\"tf.Tensor(3.2685714285714287, shape=(), dtype=float64)\",\"tf.Tensor(33.85, shape=(), dtype=float64)\",\"tf.Tensor(-118.1, shape=(), dtype=float64)\"'\n",
            "b'0,\"tf.Tensor(3.4375, shape=(), dtype=float64)\",\"tf.Tensor(28.0, shape=(), dtype=float64)\",\"tf.Tensor(4.8584905660377355, shape=(), dtype=float64)\",\"tf.Tensor(1.1666666666666667, shape=(), dtype=float64)\",\"tf.Tensor(1334.0, shape=(), dtype=float64)\",\"tf.Tensor(4.19496855345912, shape=(), dtype=float64)\",\"tf.Tensor(34.29, shape=(), dtype=float64)\",\"tf.Tensor(-118.89, shape=(), dtype=float64)\"'\n",
            "b'0,\"tf.Tensor(4.675, shape=(), dtype=float64)\",\"tf.Tensor(36.0, shape=(), dtype=float64)\",\"tf.Tensor(5.09375, shape=(), dtype=float64)\",\"tf.Tensor(0.8854166666666666, shape=(), dtype=float64)\",\"tf.Tensor(475.0, shape=(), dtype=float64)\",\"tf.Tensor(2.4739583333333335, shape=(), dtype=float64)\",\"tf.Tensor(34.19, shape=(), dtype=float64)\",\"tf.Tensor(-118.55, shape=(), dtype=float64)\"'\n",
            "b'0,\"tf.Tensor(2.4044, shape=(), dtype=float64)\",\"tf.Tensor(34.0, shape=(), dtype=float64)\",\"tf.Tensor(5.092936802973978, shape=(), dtype=float64)\",\"tf.Tensor(1.066914498141264, shape=(), dtype=float64)\",\"tf.Tensor(818.0, shape=(), dtype=float64)\",\"tf.Tensor(3.04089219330855, shape=(), dtype=float64)\",\"tf.Tensor(36.54, shape=(), dtype=float64)\",\"tf.Tensor(-119.87, shape=(), dtype=float64)\"'\n"
          ],
          "name": "stdout"
        }
      ]
    },
    {
      "cell_type": "code",
      "metadata": {
        "colab": {
          "base_uri": "https://localhost:8080/"
        },
        "id": "sxtRiz8IJ-bx",
        "outputId": "b19c41d5-5b9d-47e1-ae76-96f9f83462aa"
      },
      "source": [
        "#넘파이로 저장했을 때\r\n",
        "for item in dataset.take(5):\r\n",
        "  print(item.numpy())"
      ],
      "execution_count": 34,
      "outputs": [
        {
          "output_type": "stream",
          "text": [
            "b'4.4094,52.0,5.158227848101266,1.0332278481012658,1594.0,2.5221518987341773,37.76,-122.48'\n",
            "b'3.125,42.0,4.968468468468468,1.0157657657657657,989.0,2.2274774774774775,37.94,-122.34'\n",
            "b'2.9871,52.0,3.7246376811594204,1.046583850931677,2062.0,2.1345755693581783,37.79,-122.41'\n",
            "b'5.7452,14.0,7.0285087719298245,1.019736842105263,1439.0,3.155701754385965,38.44,-121.34'\n",
            "b'6.3052,31.0,5.292096219931271,0.9037800687285223,1493.0,2.5652920962199315,37.34,-122.01'\n"
          ],
          "name": "stdout"
        }
      ]
    },
    {
      "cell_type": "markdown",
      "metadata": {
        "id": "p9JCyiU9Cnw4"
      },
      "source": [
        "----------------\r\n",
        "인터리빙이 잘 동작하려면 <strong>각 파일의 길이가 동일한 것</strong>이 좋다. 그렇지 않으면 가장 긴 파일의 끝은 인터리빙이 되지 않을 것이다.\r\n",
        "\r\n",
        "- 그리고 바이트 스트링으로 저장된다. 그래서 이를 파싱하고 스케일을 조정할 필요가 있다."
      ]
    },
    {
      "cell_type": "markdown",
      "metadata": {
        "id": "f5zjVslLetTH"
      },
      "source": [
        "#### 실험1: 파일의 길이가 다를 때"
      ]
    },
    {
      "cell_type": "code",
      "metadata": {
        "id": "Rp59UzZUdrI6"
      },
      "source": [
        "tmp_X=tf.range(200)\r\n",
        "tmp_list=[]\r\n",
        "for e,item in enumerate(tf.data.Dataset.from_tensor_slices(tmp_X).batch(30)):\r\n",
        "  file_name=f\"tmp_X_{e}\"\r\n",
        "  pd.DataFrame(item).to_csv(file_name, index=False) #index랑 같이 안나오게 한다\r\n",
        "  tmp_list.append(file_name)"
      ],
      "execution_count": null,
      "outputs": []
    },
    {
      "cell_type": "code",
      "metadata": {
        "colab": {
          "base_uri": "https://localhost:8080/"
        },
        "id": "kkQ3Bvr7ebbw",
        "outputId": "ea901bd4-f174-44c8-e0eb-340367d8ae62"
      },
      "source": [
        "tmp_list"
      ],
      "execution_count": null,
      "outputs": [
        {
          "output_type": "execute_result",
          "data": {
            "text/plain": [
              "['tmp_X_0', 'tmp_X_1', 'tmp_X_2', 'tmp_X_3', 'tmp_X_4', 'tmp_X_5', 'tmp_X_6']"
            ]
          },
          "metadata": {
            "tags": []
          },
          "execution_count": 30
        }
      ]
    },
    {
      "cell_type": "code",
      "metadata": {
        "colab": {
          "base_uri": "https://localhost:8080/"
        },
        "id": "8sOzOwgzelGH",
        "outputId": "fa35a343-6b17-4a05-b17a-d70355ae16da"
      },
      "source": [
        "ls"
      ],
      "execution_count": null,
      "outputs": [
        {
          "output_type": "stream",
          "text": [
            "my_test.csv   my_valid.csv  tmp_X_0  tmp_X_2  tmp_X_4  tmp_X_6\n",
            "my_train.csv  \u001b[0m\u001b[01;34msample_data\u001b[0m/  tmp_X_1  tmp_X_3  tmp_X_5  \u001b[01;34mtrain\u001b[0m/\n"
          ],
          "name": "stdout"
        }
      ]
    },
    {
      "cell_type": "code",
      "metadata": {
        "colab": {
          "base_uri": "https://localhost:8080/"
        },
        "id": "KObDMZi-ecrd",
        "outputId": "312e3941-e0b9-49e4-e321-25e4aaac64ee"
      },
      "source": [
        "pd.read_csv(\"tmp_X_1\").shape"
      ],
      "execution_count": null,
      "outputs": [
        {
          "output_type": "execute_result",
          "data": {
            "text/plain": [
              "(30, 2)"
            ]
          },
          "metadata": {
            "tags": []
          },
          "execution_count": 48
        }
      ]
    },
    {
      "cell_type": "code",
      "metadata": {
        "colab": {
          "base_uri": "https://localhost:8080/"
        },
        "id": "F69nlcmFeqKy",
        "outputId": "2dd80764-98d9-4f6d-e9c7-46f3fc6bcb01"
      },
      "source": [
        "pd.read_csv(\"tmp_X_6\").shape"
      ],
      "execution_count": null,
      "outputs": [
        {
          "output_type": "execute_result",
          "data": {
            "text/plain": [
              "(20, 2)"
            ]
          },
          "metadata": {
            "tags": []
          },
          "execution_count": 50
        }
      ]
    },
    {
      "cell_type": "markdown",
      "metadata": {
        "id": "pDdSWVpaezDS"
      },
      "source": [
        "---------------\r\n",
        "tmp_X_6.csv만 20개의 샘플을 가지고, 나머진 30개의 샘플을 가진다 <br>\r\n",
        "-> 이 때 각 파일 경로를 담은 리스트를 섞고(list_files()) 한 번에 여러 파일을 번갈아 읽게 되면(interleave()) 어떻게 될까?"
      ]
    },
    {
      "cell_type": "code",
      "metadata": {
        "id": "vR3Dcpv1fLi1"
      },
      "source": [
        "tmp_dataset=tf.data.Dataset.list_files(tmp_list,seed=423)"
      ],
      "execution_count": null,
      "outputs": []
    },
    {
      "cell_type": "code",
      "metadata": {
        "colab": {
          "base_uri": "https://localhost:8080/"
        },
        "id": "WbhYPqX_jFmZ",
        "outputId": "be1807d1-1e14-472e-aadf-599acd2da2b2"
      },
      "source": [
        "for item in tmp_dataset:\r\n",
        "  print(item)"
      ],
      "execution_count": null,
      "outputs": [
        {
          "output_type": "stream",
          "text": [
            "tf.Tensor(b'tmp_X_4', shape=(), dtype=string)\n",
            "tf.Tensor(b'tmp_X_6', shape=(), dtype=string)\n",
            "tf.Tensor(b'tmp_X_5', shape=(), dtype=string)\n",
            "tf.Tensor(b'tmp_X_1', shape=(), dtype=string)\n",
            "tf.Tensor(b'tmp_X_2', shape=(), dtype=string)\n",
            "tf.Tensor(b'tmp_X_3', shape=(), dtype=string)\n",
            "tf.Tensor(b'tmp_X_0', shape=(), dtype=string)\n"
          ],
          "name": "stdout"
        }
      ]
    },
    {
      "cell_type": "code",
      "metadata": {
        "id": "dkibmSvMeyWq"
      },
      "source": [
        "n_readers=2\r\n",
        "tmp_dataset=tmp_dataset.interleave(\r\n",
        "    lambda filepath:tf.data.TextLineDataset(filepath).skip(1), cycle_length=n_readers\r\n",
        ")"
      ],
      "execution_count": null,
      "outputs": []
    },
    {
      "cell_type": "code",
      "metadata": {
        "id": "p1KiYxgZfTq0",
        "colab": {
          "base_uri": "https://localhost:8080/"
        },
        "outputId": "7d245733-434f-4abc-a09c-9b727d8f8feb"
      },
      "source": [
        "dup_cnt=0\r\n",
        "for item in tmp_dataset:\r\n",
        "  print(item.numpy())"
      ],
      "execution_count": null,
      "outputs": [
        {
          "output_type": "stream",
          "text": [
            "b'180'\n",
            "b'120'\n",
            "b'181'\n",
            "b'121'\n",
            "b'182'\n",
            "b'122'\n",
            "b'183'\n",
            "b'123'\n",
            "b'184'\n",
            "b'124'\n",
            "b'185'\n",
            "b'125'\n",
            "b'186'\n",
            "b'126'\n",
            "b'187'\n",
            "b'127'\n",
            "b'188'\n",
            "b'128'\n",
            "b'189'\n",
            "b'129'\n",
            "b'190'\n",
            "b'130'\n",
            "b'191'\n",
            "b'131'\n",
            "b'192'\n",
            "b'132'\n",
            "b'193'\n",
            "b'133'\n",
            "b'194'\n",
            "b'134'\n",
            "b'195'\n",
            "b'135'\n",
            "b'196'\n",
            "b'136'\n",
            "b'197'\n",
            "b'137'\n",
            "b'198'\n",
            "b'138'\n",
            "b'199'\n",
            "b'139'\n",
            "b'140'\n",
            "b'0'\n",
            "b'141'\n",
            "b'1'\n",
            "b'142'\n",
            "b'2'\n",
            "b'143'\n",
            "b'3'\n",
            "b'144'\n",
            "b'4'\n",
            "b'145'\n",
            "b'5'\n",
            "b'146'\n",
            "b'6'\n",
            "b'147'\n",
            "b'7'\n",
            "b'148'\n",
            "b'8'\n",
            "b'149'\n",
            "b'9'\n",
            "b'10'\n",
            "b'150'\n",
            "b'11'\n",
            "b'151'\n",
            "b'12'\n",
            "b'152'\n",
            "b'13'\n",
            "b'153'\n",
            "b'14'\n",
            "b'154'\n",
            "b'15'\n",
            "b'155'\n",
            "b'16'\n",
            "b'156'\n",
            "b'17'\n",
            "b'157'\n",
            "b'18'\n",
            "b'158'\n",
            "b'19'\n",
            "b'159'\n",
            "b'20'\n",
            "b'160'\n",
            "b'21'\n",
            "b'161'\n",
            "b'22'\n",
            "b'162'\n",
            "b'23'\n",
            "b'163'\n",
            "b'24'\n",
            "b'164'\n",
            "b'25'\n",
            "b'165'\n",
            "b'26'\n",
            "b'166'\n",
            "b'27'\n",
            "b'167'\n",
            "b'28'\n",
            "b'168'\n",
            "b'29'\n",
            "b'169'\n",
            "b'170'\n",
            "b'30'\n",
            "b'171'\n",
            "b'31'\n",
            "b'172'\n",
            "b'32'\n",
            "b'173'\n",
            "b'33'\n",
            "b'174'\n",
            "b'34'\n",
            "b'175'\n",
            "b'35'\n",
            "b'176'\n",
            "b'36'\n",
            "b'177'\n",
            "b'37'\n",
            "b'178'\n",
            "b'38'\n",
            "b'179'\n",
            "b'39'\n",
            "b'40'\n",
            "b'90'\n",
            "b'41'\n",
            "b'91'\n",
            "b'42'\n",
            "b'92'\n",
            "b'43'\n",
            "b'93'\n",
            "b'44'\n",
            "b'94'\n",
            "b'45'\n",
            "b'95'\n",
            "b'46'\n",
            "b'96'\n",
            "b'47'\n",
            "b'97'\n",
            "b'48'\n",
            "b'98'\n",
            "b'49'\n",
            "b'99'\n",
            "b'50'\n",
            "b'100'\n",
            "b'51'\n",
            "b'101'\n",
            "b'52'\n",
            "b'102'\n",
            "b'53'\n",
            "b'103'\n",
            "b'54'\n",
            "b'104'\n",
            "b'55'\n",
            "b'105'\n",
            "b'56'\n",
            "b'106'\n",
            "b'57'\n",
            "b'107'\n",
            "b'58'\n",
            "b'108'\n",
            "b'59'\n",
            "b'109'\n",
            "b'110'\n",
            "b'60'\n",
            "b'111'\n",
            "b'61'\n",
            "b'112'\n",
            "b'62'\n",
            "b'113'\n",
            "b'63'\n",
            "b'114'\n",
            "b'64'\n",
            "b'115'\n",
            "b'65'\n",
            "b'116'\n",
            "b'66'\n",
            "b'117'\n",
            "b'67'\n",
            "b'118'\n",
            "b'68'\n",
            "b'119'\n",
            "b'69'\n",
            "b'70'\n",
            "b'71'\n",
            "b'72'\n",
            "b'73'\n",
            "b'74'\n",
            "b'75'\n",
            "b'76'\n",
            "b'77'\n",
            "b'78'\n",
            "b'79'\n",
            "b'80'\n",
            "b'81'\n",
            "b'82'\n",
            "b'83'\n",
            "b'84'\n",
            "b'85'\n",
            "b'86'\n",
            "b'87'\n",
            "b'88'\n",
            "b'89'\n"
          ],
          "name": "stdout"
        }
      ]
    },
    {
      "cell_type": "markdown",
      "metadata": {
        "id": "ZVaHbSxzlj5t"
      },
      "source": [
        "---------\r\n",
        "마지막 20개는 제대로 셔플링 되지 않은 것을 확인할 수 있다."
      ]
    },
    {
      "cell_type": "markdown",
      "metadata": {
        "id": "drSmPko-mxhk"
      },
      "source": [
        "#### 실험2: 파일의 길이가 같을 때(위 데이터로)"
      ]
    },
    {
      "cell_type": "code",
      "metadata": {
        "id": "VTeTzWNZlhM5"
      },
      "source": [
        "tmp_X=tf.range(200)\r\n",
        "tmp_list=[]\r\n",
        "for e,item in enumerate(tf.data.Dataset.from_tensor_slices(tmp_X).batch(20)):\r\n",
        "  file_name=f\"tmp_X_{e}\"\r\n",
        "  pd.DataFrame(item).to_csv(file_name,index=False)\r\n",
        "  tmp_list.append(file_name)"
      ],
      "execution_count": null,
      "outputs": []
    },
    {
      "cell_type": "code",
      "metadata": {
        "colab": {
          "base_uri": "https://localhost:8080/"
        },
        "id": "wYt2k7bplrHn",
        "outputId": "e7b4cb0c-aed7-4430-80a6-a44b463f70b9"
      },
      "source": [
        "tmp_list"
      ],
      "execution_count": null,
      "outputs": [
        {
          "output_type": "execute_result",
          "data": {
            "text/plain": [
              "['tmp_X_0',\n",
              " 'tmp_X_1',\n",
              " 'tmp_X_2',\n",
              " 'tmp_X_3',\n",
              " 'tmp_X_4',\n",
              " 'tmp_X_5',\n",
              " 'tmp_X_6',\n",
              " 'tmp_X_7',\n",
              " 'tmp_X_8',\n",
              " 'tmp_X_9']"
            ]
          },
          "metadata": {
            "tags": []
          },
          "execution_count": 37
        }
      ]
    },
    {
      "cell_type": "code",
      "metadata": {
        "colab": {
          "base_uri": "https://localhost:8080/"
        },
        "id": "jQReIcLTltje",
        "outputId": "af7db2c4-c5e5-47bd-a440-d308fd2d3598"
      },
      "source": [
        "pd.read_csv(\"tmp_X_1\").shape"
      ],
      "execution_count": null,
      "outputs": [
        {
          "output_type": "execute_result",
          "data": {
            "text/plain": [
              "(20, 2)"
            ]
          },
          "metadata": {
            "tags": []
          },
          "execution_count": 39
        }
      ]
    },
    {
      "cell_type": "code",
      "metadata": {
        "colab": {
          "base_uri": "https://localhost:8080/"
        },
        "id": "LoKGbDFplvW3",
        "outputId": "c8c7b485-9365-42c1-8d58-3a99003b1d3e"
      },
      "source": [
        "pd.read_csv(\"tmp_X_9\").shape"
      ],
      "execution_count": null,
      "outputs": [
        {
          "output_type": "execute_result",
          "data": {
            "text/plain": [
              "(20, 2)"
            ]
          },
          "metadata": {
            "tags": []
          },
          "execution_count": 40
        }
      ]
    },
    {
      "cell_type": "markdown",
      "metadata": {
        "id": "6YAwUnEpmm-n"
      },
      "source": [
        "-----------\r\n",
        "이번엔 모두 20개의 샘플로 동일하게 했다."
      ]
    },
    {
      "cell_type": "code",
      "metadata": {
        "id": "AV5YZxd3lxPO"
      },
      "source": [
        "tmp_dataset=tf.data.Dataset.list_files(tmp_list,seed=423)"
      ],
      "execution_count": null,
      "outputs": []
    },
    {
      "cell_type": "code",
      "metadata": {
        "id": "lJiNYrxQlzx_"
      },
      "source": [
        "n_readers=2\r\n",
        "tmp_dataset=tmp_dataset.interleave(\r\n",
        "    lambda filepath:tf.data.TextLineDataset(filepath).skip(1), cycle_length=n_readers\r\n",
        ")"
      ],
      "execution_count": null,
      "outputs": []
    },
    {
      "cell_type": "code",
      "metadata": {
        "colab": {
          "base_uri": "https://localhost:8080/"
        },
        "id": "nVE1l4Xnl4BI",
        "outputId": "7de11c14-8686-496a-e31f-ccbc68b8550c"
      },
      "source": [
        "dup_cnt=0\r\n",
        "for item in tmp_dataset:\r\n",
        "  print(item.numpy())\r\n"
      ],
      "execution_count": null,
      "outputs": [
        {
          "output_type": "stream",
          "text": [
            "b'140'\n",
            "b'180'\n",
            "b'141'\n",
            "b'181'\n",
            "b'142'\n",
            "b'182'\n",
            "b'143'\n",
            "b'183'\n",
            "b'144'\n",
            "b'184'\n",
            "b'145'\n",
            "b'185'\n",
            "b'146'\n",
            "b'186'\n",
            "b'147'\n",
            "b'187'\n",
            "b'148'\n",
            "b'188'\n",
            "b'149'\n",
            "b'189'\n",
            "b'150'\n",
            "b'190'\n",
            "b'151'\n",
            "b'191'\n",
            "b'152'\n",
            "b'192'\n",
            "b'153'\n",
            "b'193'\n",
            "b'154'\n",
            "b'194'\n",
            "b'155'\n",
            "b'195'\n",
            "b'156'\n",
            "b'196'\n",
            "b'157'\n",
            "b'197'\n",
            "b'158'\n",
            "b'198'\n",
            "b'159'\n",
            "b'199'\n",
            "b'20'\n",
            "b'60'\n",
            "b'21'\n",
            "b'61'\n",
            "b'22'\n",
            "b'62'\n",
            "b'23'\n",
            "b'63'\n",
            "b'24'\n",
            "b'64'\n",
            "b'25'\n",
            "b'65'\n",
            "b'26'\n",
            "b'66'\n",
            "b'27'\n",
            "b'67'\n",
            "b'28'\n",
            "b'68'\n",
            "b'29'\n",
            "b'69'\n",
            "b'30'\n",
            "b'70'\n",
            "b'31'\n",
            "b'71'\n",
            "b'32'\n",
            "b'72'\n",
            "b'33'\n",
            "b'73'\n",
            "b'34'\n",
            "b'74'\n",
            "b'35'\n",
            "b'75'\n",
            "b'36'\n",
            "b'76'\n",
            "b'37'\n",
            "b'77'\n",
            "b'38'\n",
            "b'78'\n",
            "b'39'\n",
            "b'79'\n",
            "b'100'\n",
            "b'0'\n",
            "b'101'\n",
            "b'1'\n",
            "b'102'\n",
            "b'2'\n",
            "b'103'\n",
            "b'3'\n",
            "b'104'\n",
            "b'4'\n",
            "b'105'\n",
            "b'5'\n",
            "b'106'\n",
            "b'6'\n",
            "b'107'\n",
            "b'7'\n",
            "b'108'\n",
            "b'8'\n",
            "b'109'\n",
            "b'9'\n",
            "b'110'\n",
            "b'10'\n",
            "b'111'\n",
            "b'11'\n",
            "b'112'\n",
            "b'12'\n",
            "b'113'\n",
            "b'13'\n",
            "b'114'\n",
            "b'14'\n",
            "b'115'\n",
            "b'15'\n",
            "b'116'\n",
            "b'16'\n",
            "b'117'\n",
            "b'17'\n",
            "b'118'\n",
            "b'18'\n",
            "b'119'\n",
            "b'19'\n",
            "b'40'\n",
            "b'160'\n",
            "b'41'\n",
            "b'161'\n",
            "b'42'\n",
            "b'162'\n",
            "b'43'\n",
            "b'163'\n",
            "b'44'\n",
            "b'164'\n",
            "b'45'\n",
            "b'165'\n",
            "b'46'\n",
            "b'166'\n",
            "b'47'\n",
            "b'167'\n",
            "b'48'\n",
            "b'168'\n",
            "b'49'\n",
            "b'169'\n",
            "b'50'\n",
            "b'170'\n",
            "b'51'\n",
            "b'171'\n",
            "b'52'\n",
            "b'172'\n",
            "b'53'\n",
            "b'173'\n",
            "b'54'\n",
            "b'174'\n",
            "b'55'\n",
            "b'175'\n",
            "b'56'\n",
            "b'176'\n",
            "b'57'\n",
            "b'177'\n",
            "b'58'\n",
            "b'178'\n",
            "b'59'\n",
            "b'179'\n",
            "b'80'\n",
            "b'120'\n",
            "b'81'\n",
            "b'121'\n",
            "b'82'\n",
            "b'122'\n",
            "b'83'\n",
            "b'123'\n",
            "b'84'\n",
            "b'124'\n",
            "b'85'\n",
            "b'125'\n",
            "b'86'\n",
            "b'126'\n",
            "b'87'\n",
            "b'127'\n",
            "b'88'\n",
            "b'128'\n",
            "b'89'\n",
            "b'129'\n",
            "b'90'\n",
            "b'130'\n",
            "b'91'\n",
            "b'131'\n",
            "b'92'\n",
            "b'132'\n",
            "b'93'\n",
            "b'133'\n",
            "b'94'\n",
            "b'134'\n",
            "b'95'\n",
            "b'135'\n",
            "b'96'\n",
            "b'136'\n",
            "b'97'\n",
            "b'137'\n",
            "b'98'\n",
            "b'138'\n",
            "b'99'\n",
            "b'139'\n"
          ],
          "name": "stdout"
        }
      ]
    },
    {
      "cell_type": "markdown",
      "metadata": {
        "id": "j1NY3nptn7ce"
      },
      "source": [
        "--------------\r\n",
        "셔플링이 골고루 잘 되었다~"
      ]
    },
    {
      "cell_type": "markdown",
      "metadata": {
        "id": "IDVVd3KNhvSA"
      },
      "source": [
        "## 데이터 전처리"
      ]
    },
    {
      "cell_type": "code",
      "metadata": {
        "id": "coQkC3FWhxpj"
      },
      "source": [
        "X_mean,X_std=X_train.mean(axis=0), X_train.std(axis=0) #각 특성의 평균과 표준편차(8개의 실수를 가진 1d배열)\r\n",
        "n_inputs=8"
      ],
      "execution_count": 111,
      "outputs": []
    },
    {
      "cell_type": "code",
      "metadata": {
        "colab": {
          "base_uri": "https://localhost:8080/"
        },
        "id": "PF1be0s3i6b6",
        "outputId": "abf9bc51-bb12-4981-fe36-76dd5592e484"
      },
      "source": [
        "X_mean"
      ],
      "execution_count": 39,
      "outputs": [
        {
          "output_type": "execute_result",
          "data": {
            "text/plain": [
              "array([ 3.88766019e+00,  2.85695090e+01,  5.42851353e+00,  1.09514096e+00,\n",
              "        1.43068114e+03,  3.15727214e+00,  3.56134238e+01, -1.19552316e+02])"
            ]
          },
          "metadata": {
            "tags": []
          },
          "execution_count": 39
        }
      ]
    },
    {
      "cell_type": "code",
      "metadata": {
        "colab": {
          "base_uri": "https://localhost:8080/"
        },
        "id": "sdmRsFZqjP8b",
        "outputId": "e34ea66b-fbcf-438c-9b0a-81393d3310ce"
      },
      "source": [
        "X_std"
      ],
      "execution_count": 40,
      "outputs": [
        {
          "output_type": "execute_result",
          "data": {
            "text/plain": [
              "array([1.90668478e+00, 1.25217688e+01, 2.43212793e+00, 4.26016843e-01,\n",
              "       1.15023060e+03, 1.37834628e+01, 2.12596383e+00, 1.99297472e+00])"
            ]
          },
          "metadata": {
            "tags": []
          },
          "execution_count": 40
        }
      ]
    },
    {
      "cell_type": "markdown",
      "metadata": {
        "id": "aPsfbvFNTECx"
      },
      "source": [
        "- 바이트 스트링 값 파싱 및 스케일링하는 함수"
      ]
    },
    {
      "cell_type": "code",
      "metadata": {
        "id": "GjrxDnwGiCRR"
      },
      "source": [
        "def preprocess(line):#csv 한 라인을 받아 파싱한다.\r\n",
        "  print(\"====from: \", line)\r\n",
        "  defs=[0.]*n_inputs #초깃값 설정(실수 형태, 누락된 값은 0.으로 채움)\r\n",
        "  fields=tf.io.decode_csv(line, record_defaults=defs)#파싱할 라인과 초깃값 지정\r\n",
        "  print(\"====after decoding: \",fields)\r\n",
        "  \r\n",
        "  #decode_csv는  열마다 한 개씩 스칼라 텐서의 리스트 반환한다. ->모든 텐서를 쌓아 1d배열로 만들어야 한다.\r\n",
        "  x=tf.stack(fields[:]) \r\n",
        "  y=tf.stack(fields[:])\r\n",
        "  return (x-X_mean)/X_std, y#스케일링"
      ],
      "execution_count": 116,
      "outputs": []
    },
    {
      "cell_type": "code",
      "metadata": {
        "colab": {
          "base_uri": "https://localhost:8080/"
        },
        "id": "ueTH6Pu8lQHf",
        "outputId": "a89b976e-af5a-438b-c92c-1e44a089cb4b"
      },
      "source": [
        "for item in dataset.take(1):\r\n",
        " print(\"===to: \",preprocess(item.numpy()))"
      ],
      "execution_count": 117,
      "outputs": [
        {
          "output_type": "stream",
          "text": [
            "====from:  b'5.2809,28.0,6.872727272727273,1.018181818181818,752.0,2.278787878787879,36.82,-119.82'\n",
            "====after decoding:  [<tf.Tensor: shape=(), dtype=float32, numpy=5.2809>, <tf.Tensor: shape=(), dtype=float32, numpy=28.0>, <tf.Tensor: shape=(), dtype=float32, numpy=6.8727274>, <tf.Tensor: shape=(), dtype=float32, numpy=1.0181818>, <tf.Tensor: shape=(), dtype=float32, numpy=752.0>, <tf.Tensor: shape=(), dtype=float32, numpy=2.2787879>, <tf.Tensor: shape=(), dtype=float32, numpy=36.82>, <tf.Tensor: shape=(), dtype=float32, numpy=-119.82>]\n",
            "===to:  (<tf.Tensor: shape=(8,), dtype=float32, numpy=\n",
            "array([ 0.7307132 , -0.04548156,  0.5938067 , -0.1806481 , -0.5900392 ,\n",
            "       -0.06373466,  0.5675436 , -0.13431427], dtype=float32)>, <tf.Tensor: shape=(8,), dtype=float32, numpy=\n",
            "array([   5.2809   ,   28.       ,    6.8727274,    1.0181818,\n",
            "        752.       ,    2.2787879,   36.82     , -119.82     ],\n",
            "      dtype=float32)>)\n"
          ],
          "name": "stdout"
        }
      ]
    },
    {
      "cell_type": "markdown",
      "metadata": {
        "id": "k5uv68PTpTM_"
      },
      "source": [
        "### 데이터 적재 + 전처리"
      ]
    },
    {
      "cell_type": "markdown",
      "metadata": {
        "id": "1e1dAmRkpieq"
      },
      "source": [
        "<img src=\"https://pic1.zhimg.com/v2-bbd864e5a99678090a5bb8567032c9c0_b.jpg\"/>"
      ]
    },
    {
      "cell_type": "code",
      "metadata": {
        "id": "FTUBDo1Oijz-"
      },
      "source": [
        "def csv_reader_dataset(filepaths,repeat=1,n_readers=5,n_read_threads=None, shuffle_buffer_size=10000, n_parse_threads=5, batch_size=32):\r\n",
        "  dataset=tf.data.Dataset.list_files(filepaths).repeat(repeat)\r\n",
        "  dataset=dataset.interleave(\r\n",
        "      lambda filepath: tf.data.TextLineDataset(filepath).skip(1), cycle_length=n_readers, num_parallel_calls=n_read_threads\r\n",
        "  )\r\n",
        "  dataset=dataset.shuffle(shuffle_buffer_size)\r\n",
        "  dataset=dataset.map(preprocess, num_parallel_calls=num_parse_threads)\r\n",
        "  return dataset.batch(batch_size).prefetch(1) #prefetch(1)을 호출하면 작업을 하는 동안 다음 배치를 준비함(미리 읽고 전처리)->성능 향상에 큰 기여\r\n"
      ],
      "execution_count": null,
      "outputs": []
    },
    {
      "cell_type": "markdown",
      "metadata": {
        "id": "FuG_3xtNVQC3"
      },
      "source": [
        "데이터 셋을 \r\n",
        "- 셔플링하고\r\n",
        "- 전처리하고\r\n",
        "- 효율적으로 적재"
      ]
    },
    {
      "cell_type": "markdown",
      "metadata": {
        "id": "JNvFyRW3qJX2"
      },
      "source": [
        "<img src=\"https://pic4.zhimg.com/80/v2-3be19d36338ad366370616e51ee0ecbb_1440w.jpg\" width=50% height=50%/>"
      ]
    },
    {
      "cell_type": "markdown",
      "metadata": {
        "id": "1hcaBHzWqXCK"
      },
      "source": [
        "-----------\r\n",
        "- prefetch: GPU가 작업을 하는 동안 CPU는 다음 배치를 미리 준비하게 한다.\r\n",
        "- 만약 멀티스레드로 데이터를 적재하고 전처리하면 GPU를 100% 활용할 수 있게된다.\r\n",
        "- 메모리 크기가 충분하다면 메모리에 모두 데이터셋을 캐싱할 수 있도록 cache()메서드를 사용해서 훈련 속도를 높일 수도 있다.\r\n",
        "\r\n",
        "\r\n",
        "\r\n",
        "여기까지가 데이터 API를 사용해서 강력한 입력 파이프라인을 만드는 방법.<br>\r\n",
        "-> 대규모의 복잡한(이미지,오디오 등) 데이터 구조라면 <strong>TFRecord</strong>를 사용해야한다."
      ]
    }
  ]
}