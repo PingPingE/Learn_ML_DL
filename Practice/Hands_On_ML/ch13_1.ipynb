{
  "nbformat": 4,
  "nbformat_minor": 0,
  "metadata": {
    "colab": {
      "name": "ch13-1.ipynb",
      "provenance": [],
      "collapsed_sections": [],
      "authorship_tag": "ABX9TyM2CO44v01/gUoq0ssSMoNI",
      "include_colab_link": true
    },
    "kernelspec": {
      "name": "python3",
      "display_name": "Python 3"
    }
  },
  "cells": [
    {
      "cell_type": "markdown",
      "metadata": {
        "id": "view-in-github",
        "colab_type": "text"
      },
      "source": [
        "<a href=\"https://colab.research.google.com/github/PingPingE/Learn_ML_DL/blob/main/Practice/Hands_On_ML/ch13_1.ipynb\" target=\"_parent\"><img src=\"https://colab.research.google.com/assets/colab-badge.svg\" alt=\"Open In Colab\"/></a>"
      ]
    },
    {
      "cell_type": "markdown",
      "metadata": {
        "id": "xJ9emFPiQaBI"
      },
      "source": [
        "# 텐서플로에서 데이터 적재와 전처리하기\r\n",
        "- 메모리 용량에 맞지 않는 큰 규모의 데이터셋으로 딥러닝 시스템을 훈련해야 하는 경우 -> 데이터 API\r\n",
        "- 데이터 API로 대규모의 데이터셋을 효율적으로 로드하고 전처리할 수 있다."
      ]
    },
    {
      "cell_type": "markdown",
      "metadata": {
        "id": "61rxirc15fmB"
      },
      "source": [
        "# 데이터 API\r\n",
        "- 전체적인 데이터 API의 중심에는 <strong>연속된 데이터 샘플인 Dataset</strong> 개념이 있다.\r\n",
        "- 일반적으로 <strong>디스크에서 데이터를 점진적으로 읽는</strong> 데이터셋을 사용한다.\r\n"
      ]
    },
    {
      "cell_type": "code",
      "metadata": {
        "id": "hrWxe9MF5v3c"
      },
      "source": [
        "import tensorflow as tf"
      ],
      "execution_count": 4,
      "outputs": []
    },
    {
      "cell_type": "markdown",
      "metadata": {
        "id": "HXnScon456ex"
      },
      "source": [
        "###  Dataset 객체를 만들고 데이터를 읽어 올 위치와 변환 방법을 지정하면 된다\r\n",
        "\r\n",
        "#### from_tensor_slices(): 텐서를 받아 X의 <strong>각 원소가 아이템으로 표현</strong>되는 <strong>tf.data.Dataset</strong>을 만든다. \r\n"
      ]
    },
    {
      "cell_type": "code",
      "metadata": {
        "colab": {
          "base_uri": "https://localhost:8080/"
        },
        "id": "EelfKOcI5x6a",
        "outputId": "e28f5051-9580-4cac-8c55-a245ee1a22c9"
      },
      "source": [
        "X=tf.range(10)\r\n",
        "dataset=tf.data.Dataset.from_tensor_slices(X)\r\n",
        "dataset # = tf.data.Dataset.range(10)"
      ],
      "execution_count": null,
      "outputs": [
        {
          "output_type": "execute_result",
          "data": {
            "text/plain": [
              "<TensorSliceDataset shapes: (), types: tf.int32>"
            ]
          },
          "metadata": {
            "tags": []
          },
          "execution_count": 7
        }
      ]
    },
    {
      "cell_type": "code",
      "metadata": {
        "colab": {
          "base_uri": "https://localhost:8080/"
        },
        "id": "4hkTgQ6-53Lv",
        "outputId": "acf7db07-ae4a-42e4-9c5a-3b1d6272f2bf"
      },
      "source": [
        "for item in dataset: #dataset의 각 원소를 '원소', '아이템', '슬라이스' 등으로 부름\r\n",
        "  print(item)"
      ],
      "execution_count": null,
      "outputs": [
        {
          "output_type": "stream",
          "text": [
            "tf.Tensor(0, shape=(), dtype=int32)\n",
            "tf.Tensor(1, shape=(), dtype=int32)\n",
            "tf.Tensor(2, shape=(), dtype=int32)\n",
            "tf.Tensor(3, shape=(), dtype=int32)\n",
            "tf.Tensor(4, shape=(), dtype=int32)\n",
            "tf.Tensor(5, shape=(), dtype=int32)\n",
            "tf.Tensor(6, shape=(), dtype=int32)\n",
            "tf.Tensor(7, shape=(), dtype=int32)\n",
            "tf.Tensor(8, shape=(), dtype=int32)\n",
            "tf.Tensor(9, shape=(), dtype=int32)\n"
          ],
          "name": "stdout"
        }
      ]
    },
    {
      "cell_type": "markdown",
      "metadata": {
        "id": "DvYRaCJ96p3u"
      },
      "source": [
        "### 연쇄 변환"
      ]
    },
    {
      "cell_type": "markdown",
      "metadata": {
        "id": "y6ePFPGb7xEt"
      },
      "source": [
        "#### repeat 및 batch 메서드"
      ]
    },
    {
      "cell_type": "code",
      "metadata": {
        "colab": {
          "base_uri": "https://localhost:8080/"
        },
        "id": "B2Bj2XUS6q1r",
        "outputId": "cfee0fb1-4ae2-4445-9055-291dc7365dcc"
      },
      "source": [
        "dataset=dataset.repeat(3).batch(7) #원본 dataset의 아이템을 세차례 반복하는 새로운 dataset반환, 7개 그룹으로 묶어서 새로운 dataset 반환\r\n",
        "for item in dataset:\r\n",
        "  print(item)"
      ],
      "execution_count": null,
      "outputs": [
        {
          "output_type": "stream",
          "text": [
            "tf.Tensor([0 1 2 3 4 5 6], shape=(7,), dtype=int32)\n",
            "tf.Tensor([7 8 9 0 1 2 3], shape=(7,), dtype=int32)\n",
            "tf.Tensor([4 5 6 7 8 9 0], shape=(7,), dtype=int32)\n",
            "tf.Tensor([1 2 3 4 5 6 7], shape=(7,), dtype=int32)\n",
            "tf.Tensor([8 9], shape=(2,), dtype=int32)\n"
          ],
          "name": "stdout"
        }
      ]
    },
    {
      "cell_type": "markdown",
      "metadata": {
        "id": "wspiMNU370CF"
      },
      "source": [
        "#### map 메서드: <strong>각 아이템</strong>에 변환 적용"
      ]
    },
    {
      "cell_type": "code",
      "metadata": {
        "id": "2lEQo41W6_O8"
      },
      "source": [
        "dataset=dataset.map(lambda x: x*2) "
      ],
      "execution_count": null,
      "outputs": []
    },
    {
      "cell_type": "code",
      "metadata": {
        "colab": {
          "base_uri": "https://localhost:8080/"
        },
        "id": "HZbkipQjXZgv",
        "outputId": "b23de65a-98a0-4290-e976-230118130360"
      },
      "source": [
        "for item in dataset:\r\n",
        "  print(item)"
      ],
      "execution_count": null,
      "outputs": [
        {
          "output_type": "stream",
          "text": [
            "tf.Tensor([ 0  2  4  6  8 10 12], shape=(7,), dtype=int32)\n",
            "tf.Tensor([14 16 18  0  2  4  6], shape=(7,), dtype=int32)\n",
            "tf.Tensor([ 8 10 12 14 16 18  0], shape=(7,), dtype=int32)\n",
            "tf.Tensor([ 2  4  6  8 10 12 14], shape=(7,), dtype=int32)\n",
            "tf.Tensor([16 18], shape=(2,), dtype=int32)\n"
          ],
          "name": "stdout"
        }
      ]
    },
    {
      "cell_type": "markdown",
      "metadata": {
        "id": "FC7K-a898WcK"
      },
      "source": [
        "#### apply 메서드: <strong>전체</strong>에 변환 적용"
      ]
    },
    {
      "cell_type": "code",
      "metadata": {
        "colab": {
          "base_uri": "https://localhost:8080/"
        },
        "id": "De0Lftxv72-P",
        "outputId": "0e5eb8e2-7b99-4c04-d713-188d966a5364"
      },
      "source": [
        "dataset=dataset.apply(tf.data.experimental.unbatch()) #unbatch함수를 적용하면 기존의 7개의 정수로 이루어진 배치가 아니라, 하나의 정수 텐서가 된다."
      ],
      "execution_count": null,
      "outputs": [
        {
          "output_type": "stream",
          "text": [
            "WARNING:tensorflow:From <ipython-input-11-05ea4651d273>:1: unbatch (from tensorflow.python.data.experimental.ops.batching) is deprecated and will be removed in a future version.\n",
            "Instructions for updating:\n",
            "Use `tf.data.Dataset.unbatch()`.\n"
          ],
          "name": "stdout"
        }
      ]
    },
    {
      "cell_type": "code",
      "metadata": {
        "colab": {
          "base_uri": "https://localhost:8080/"
        },
        "id": "AVMAX2bB8cEk",
        "outputId": "b754a6e2-3a06-4799-9a02-43fc3c238965"
      },
      "source": [
        "for item in dataset:\r\n",
        "  print(item)"
      ],
      "execution_count": null,
      "outputs": [
        {
          "output_type": "stream",
          "text": [
            "tf.Tensor(0, shape=(), dtype=int32)\n",
            "tf.Tensor(2, shape=(), dtype=int32)\n",
            "tf.Tensor(4, shape=(), dtype=int32)\n",
            "tf.Tensor(6, shape=(), dtype=int32)\n",
            "tf.Tensor(8, shape=(), dtype=int32)\n",
            "tf.Tensor(10, shape=(), dtype=int32)\n",
            "tf.Tensor(12, shape=(), dtype=int32)\n",
            "tf.Tensor(14, shape=(), dtype=int32)\n",
            "tf.Tensor(16, shape=(), dtype=int32)\n",
            "tf.Tensor(18, shape=(), dtype=int32)\n",
            "tf.Tensor(0, shape=(), dtype=int32)\n",
            "tf.Tensor(2, shape=(), dtype=int32)\n",
            "tf.Tensor(4, shape=(), dtype=int32)\n",
            "tf.Tensor(6, shape=(), dtype=int32)\n",
            "tf.Tensor(8, shape=(), dtype=int32)\n",
            "tf.Tensor(10, shape=(), dtype=int32)\n",
            "tf.Tensor(12, shape=(), dtype=int32)\n",
            "tf.Tensor(14, shape=(), dtype=int32)\n",
            "tf.Tensor(16, shape=(), dtype=int32)\n",
            "tf.Tensor(18, shape=(), dtype=int32)\n",
            "tf.Tensor(0, shape=(), dtype=int32)\n",
            "tf.Tensor(2, shape=(), dtype=int32)\n",
            "tf.Tensor(4, shape=(), dtype=int32)\n",
            "tf.Tensor(6, shape=(), dtype=int32)\n",
            "tf.Tensor(8, shape=(), dtype=int32)\n",
            "tf.Tensor(10, shape=(), dtype=int32)\n",
            "tf.Tensor(12, shape=(), dtype=int32)\n",
            "tf.Tensor(14, shape=(), dtype=int32)\n",
            "tf.Tensor(16, shape=(), dtype=int32)\n",
            "tf.Tensor(18, shape=(), dtype=int32)\n"
          ],
          "name": "stdout"
        }
      ]
    },
    {
      "cell_type": "markdown",
      "metadata": {
        "id": "jwSpWv9v84vN"
      },
      "source": [
        "#### filter 메서드: 데이터셋 필터링"
      ]
    },
    {
      "cell_type": "code",
      "metadata": {
        "colab": {
          "base_uri": "https://localhost:8080/"
        },
        "id": "FiQYB1Ek85b1",
        "outputId": "8b528284-e7b5-404c-9dbb-ab4ae5076460"
      },
      "source": [
        "dataset=dataset.filter(lambda x: x<10)\r\n",
        "for item in dataset:\r\n",
        "  print(item)"
      ],
      "execution_count": null,
      "outputs": [
        {
          "output_type": "stream",
          "text": [
            "tf.Tensor(0, shape=(), dtype=int32)\n",
            "tf.Tensor(2, shape=(), dtype=int32)\n",
            "tf.Tensor(4, shape=(), dtype=int32)\n",
            "tf.Tensor(6, shape=(), dtype=int32)\n",
            "tf.Tensor(8, shape=(), dtype=int32)\n",
            "tf.Tensor(0, shape=(), dtype=int32)\n",
            "tf.Tensor(2, shape=(), dtype=int32)\n",
            "tf.Tensor(4, shape=(), dtype=int32)\n",
            "tf.Tensor(6, shape=(), dtype=int32)\n",
            "tf.Tensor(8, shape=(), dtype=int32)\n",
            "tf.Tensor(0, shape=(), dtype=int32)\n",
            "tf.Tensor(2, shape=(), dtype=int32)\n",
            "tf.Tensor(4, shape=(), dtype=int32)\n",
            "tf.Tensor(6, shape=(), dtype=int32)\n",
            "tf.Tensor(8, shape=(), dtype=int32)\n"
          ],
          "name": "stdout"
        }
      ]
    },
    {
      "cell_type": "markdown",
      "metadata": {
        "id": "XvquDb1fXz4S"
      },
      "source": [
        "#### take 메서드: 데이터셋에 있는 몇 개의 아이템만 보고 싶을 때"
      ]
    },
    {
      "cell_type": "code",
      "metadata": {
        "colab": {
          "base_uri": "https://localhost:8080/"
        },
        "id": "agpiiaSS8-eE",
        "outputId": "1f45e74e-0d2a-4ac4-9696-eae4ad70afb9"
      },
      "source": [
        "for item in dataset.take(3): #몇 개의 아이템만 보고 싶다면 take 메서드를 사용\r\n",
        "  print(item)"
      ],
      "execution_count": null,
      "outputs": [
        {
          "output_type": "stream",
          "text": [
            "tf.Tensor(0, shape=(), dtype=int32)\n",
            "tf.Tensor(2, shape=(), dtype=int32)\n",
            "tf.Tensor(4, shape=(), dtype=int32)\n"
          ],
          "name": "stdout"
        }
      ]
    },
    {
      "cell_type": "markdown",
      "metadata": {
        "id": "dEM88K6A9wUY"
      },
      "source": [
        "## 데이터 셔플링\r\n",
        "경사 하강법은 훈련 세트에 있는 샘플이 <strong>독립적이고 동일한 분포일 때 최고의 성능</strong>을 발휘한다.\r\n",
        "그래서 <strong>shuffle()</strong>메서드를 사용해서 샘플을 섞는다."
      ]
    },
    {
      "cell_type": "markdown",
      "metadata": {
        "id": "Q-BgHXwEDIXL"
      },
      "source": [
        "### shuffle 메서드\r\n",
        "1. 먼저 원본 데이터셋의 처음 아이템을 <strong>buffer_size 개수만큼 추출</strong>해서 버퍼에 채운다. \r\n",
        "2. 그 다음 새로운 아이템이 <strong>요청</strong>되면 <strong>이 버퍼에서 랜덤하게 하나를 꺼내 반환</strong>한다.\r\n",
        "3. 그리고 원본 데이터셋에서 새로운 아이템을 <strong>추출</strong>해서 <strong>비워진 버퍼를 또 채운다</strong>.\r\n",
        "4. 1~3을 원본 데이터셋의 <strong>모든 아이템이 사용될 때까지 반복</strong>한다. \r\n",
        "5. 그 다음엔 <strong>버퍼가 비워질 때까지</strong> 계속해서 랜덤하게 아이템을 <strong>반환</strong>한다."
      ]
    },
    {
      "cell_type": "code",
      "metadata": {
        "colab": {
          "base_uri": "https://localhost:8080/"
        },
        "id": "nV9qqVIj9x02",
        "outputId": "e0218bd2-c8fc-4d6a-8d72-f0c9f5f6a8ce"
      },
      "source": [
        "dataset=tf.data.Dataset.range(10).repeat(3)#0~9까지 세 번 반복\r\n",
        "dataset=dataset.shuffle(buffer_size=5, seed=42).batch(7) #프로그램을 실행할 때마다 셔플링되는 순서를 동일하게 하려면 seed를 부여한다.\r\n",
        "for item in dataset:\r\n",
        "  print(item)"
      ],
      "execution_count": null,
      "outputs": [
        {
          "output_type": "stream",
          "text": [
            "tf.Tensor([0 2 3 6 7 9 4], shape=(7,), dtype=int64)\n",
            "tf.Tensor([5 0 1 1 8 6 5], shape=(7,), dtype=int64)\n",
            "tf.Tensor([4 8 7 1 2 3 0], shape=(7,), dtype=int64)\n",
            "tf.Tensor([5 4 2 7 8 9 9], shape=(7,), dtype=int64)\n",
            "tf.Tensor([3 6], shape=(2,), dtype=int64)\n"
          ],
          "name": "stdout"
        }
      ]
    },
    {
      "cell_type": "code",
      "metadata": {
        "colab": {
          "base_uri": "https://localhost:8080/"
        },
        "id": "fkFQdSdH-A3l",
        "outputId": "8cac7704-f460-41ce-a55c-016abac628a0"
      },
      "source": [
        "for item in dataset.repeat(3):\r\n",
        "  print(item)"
      ],
      "execution_count": null,
      "outputs": [
        {
          "output_type": "stream",
          "text": [
            "tf.Tensor([3 5 2 1 8 4 0], shape=(7,), dtype=int64)\n",
            "tf.Tensor([1 2 3 7 9 5 0], shape=(7,), dtype=int64)\n",
            "tf.Tensor([7 4 0 9 6 8 1], shape=(7,), dtype=int64)\n",
            "tf.Tensor([2 6 6 4 9 8 5], shape=(7,), dtype=int64)\n",
            "tf.Tensor([7 3], shape=(2,), dtype=int64)\n",
            "tf.Tensor([2 1 3 5 8 9 4], shape=(7,), dtype=int64)\n",
            "tf.Tensor([1 0 7 3 5 6 7], shape=(7,), dtype=int64)\n",
            "tf.Tensor([2 4 9 1 0 3 6], shape=(7,), dtype=int64)\n",
            "tf.Tensor([0 4 7 5 2 8 6], shape=(7,), dtype=int64)\n",
            "tf.Tensor([9 8], shape=(2,), dtype=int64)\n",
            "tf.Tensor([1 4 6 7 5 2 3], shape=(7,), dtype=int64)\n",
            "tf.Tensor([8 2 0 0 3 5 1], shape=(7,), dtype=int64)\n",
            "tf.Tensor([4 8 0 6 9 9 2], shape=(7,), dtype=int64)\n",
            "tf.Tensor([5 3 7 4 1 8 6], shape=(7,), dtype=int64)\n",
            "tf.Tensor([9 7], shape=(2,), dtype=int64)\n"
          ],
          "name": "stdout"
        }
      ]
    },
    {
      "cell_type": "markdown",
      "metadata": {
        "id": "gEhjX1M-D8SZ"
      },
      "source": [
        "### 여러 파일에서 한 줄씩 번갈아 읽기\r\n",
        "1. 원본 데이터셋을 <strong>쪼갠다.</strong>\r\n",
        "2. 쪼갠 데이터셋을 각각 <strong>csv</strong>로 저장한다.\r\n",
        "3. <strong>list</strong>에 2의 파일들을 저장한 <strong>경로</strong>를 모두 담는다.\r\n",
        "4. <strong>list_files </strong>함수로 3의 list 원소들을 <strong>섞는다.</strong> \r\n",
        "5. <strong>interleave </strong>메서드를 호출해서 <strong>한 번에 몇 개의 파일을 한 줄씩 번갈아 읽을 것인지</strong> 정한다."
      ]
    },
    {
      "cell_type": "code",
      "metadata": {
        "id": "cYvo0nVQ6cbY",
        "colab": {
          "base_uri": "https://localhost:8080/"
        },
        "outputId": "2fbe2af4-de89-4aaa-f88d-78309f23650d"
      },
      "source": [
        "from sklearn.datasets import fetch_california_housing\r\n",
        "from sklearn.model_selection import train_test_split\r\n",
        "housing = fetch_california_housing()"
      ],
      "execution_count": 1,
      "outputs": [
        {
          "output_type": "stream",
          "text": [
            "Downloading Cal. housing from https://ndownloader.figshare.com/files/5976036 to /root/scikit_learn_data\n"
          ],
          "name": "stderr"
        }
      ]
    },
    {
      "cell_type": "code",
      "metadata": {
        "id": "w3aM6WMd_fzU"
      },
      "source": [
        "X_train_full, X_test, y_train_full, y_test = train_test_split(housing.data, housing.target)\r\n",
        "X_train, X_valid, y_train, y_valid = train_test_split(X_train_full, y_train_full)"
      ],
      "execution_count": 2,
      "outputs": []
    },
    {
      "cell_type": "code",
      "metadata": {
        "id": "zWjuZ4vl_gmQ"
      },
      "source": [
        "import pandas as pd\r\n",
        "X_train_df=pd.DataFrame(X_train, columns=housing.feature_names)\r\n",
        "X_valid_df=pd.DataFrame(X_valid, columns=housing.feature_names)\r\n",
        "X_test_df=pd.DataFrame(X_test, columns=housing.feature_names)"
      ],
      "execution_count": 3,
      "outputs": []
    },
    {
      "cell_type": "code",
      "metadata": {
        "colab": {
          "base_uri": "https://localhost:8080/",
          "height": 399
        },
        "id": "nGtz9gU9b8IO",
        "outputId": "5525c601-44d6-4b6b-a96f-0d4f423f094c"
      },
      "source": [
        "X_train_df"
      ],
      "execution_count": null,
      "outputs": [
        {
          "output_type": "execute_result",
          "data": {
            "text/html": [
              "<div>\n",
              "<style scoped>\n",
              "    .dataframe tbody tr th:only-of-type {\n",
              "        vertical-align: middle;\n",
              "    }\n",
              "\n",
              "    .dataframe tbody tr th {\n",
              "        vertical-align: top;\n",
              "    }\n",
              "\n",
              "    .dataframe thead th {\n",
              "        text-align: right;\n",
              "    }\n",
              "</style>\n",
              "<table border=\"1\" class=\"dataframe\">\n",
              "  <thead>\n",
              "    <tr style=\"text-align: right;\">\n",
              "      <th></th>\n",
              "      <th>MedInc</th>\n",
              "      <th>HouseAge</th>\n",
              "      <th>AveRooms</th>\n",
              "      <th>AveBedrms</th>\n",
              "      <th>Population</th>\n",
              "      <th>AveOccup</th>\n",
              "      <th>Latitude</th>\n",
              "      <th>Longitude</th>\n",
              "    </tr>\n",
              "  </thead>\n",
              "  <tbody>\n",
              "    <tr>\n",
              "      <th>0</th>\n",
              "      <td>5.7789</td>\n",
              "      <td>13.0</td>\n",
              "      <td>6.324242</td>\n",
              "      <td>0.948485</td>\n",
              "      <td>1165.0</td>\n",
              "      <td>3.530303</td>\n",
              "      <td>32.63</td>\n",
              "      <td>-117.03</td>\n",
              "    </tr>\n",
              "    <tr>\n",
              "      <th>1</th>\n",
              "      <td>2.4286</td>\n",
              "      <td>32.0</td>\n",
              "      <td>5.029825</td>\n",
              "      <td>1.078947</td>\n",
              "      <td>1705.0</td>\n",
              "      <td>2.991228</td>\n",
              "      <td>36.77</td>\n",
              "      <td>-119.83</td>\n",
              "    </tr>\n",
              "    <tr>\n",
              "      <th>2</th>\n",
              "      <td>3.6034</td>\n",
              "      <td>16.0</td>\n",
              "      <td>3.220957</td>\n",
              "      <td>1.054670</td>\n",
              "      <td>793.0</td>\n",
              "      <td>1.806378</td>\n",
              "      <td>34.44</td>\n",
              "      <td>-119.82</td>\n",
              "    </tr>\n",
              "    <tr>\n",
              "      <th>3</th>\n",
              "      <td>5.0100</td>\n",
              "      <td>20.0</td>\n",
              "      <td>17.546099</td>\n",
              "      <td>4.432624</td>\n",
              "      <td>338.0</td>\n",
              "      <td>2.397163</td>\n",
              "      <td>37.65</td>\n",
              "      <td>-118.99</td>\n",
              "    </tr>\n",
              "    <tr>\n",
              "      <th>4</th>\n",
              "      <td>3.3690</td>\n",
              "      <td>25.0</td>\n",
              "      <td>4.610512</td>\n",
              "      <td>1.082210</td>\n",
              "      <td>1681.0</td>\n",
              "      <td>2.265499</td>\n",
              "      <td>32.80</td>\n",
              "      <td>-116.96</td>\n",
              "    </tr>\n",
              "    <tr>\n",
              "      <th>...</th>\n",
              "      <td>...</td>\n",
              "      <td>...</td>\n",
              "      <td>...</td>\n",
              "      <td>...</td>\n",
              "      <td>...</td>\n",
              "      <td>...</td>\n",
              "      <td>...</td>\n",
              "      <td>...</td>\n",
              "    </tr>\n",
              "    <tr>\n",
              "      <th>11605</th>\n",
              "      <td>2.6513</td>\n",
              "      <td>42.0</td>\n",
              "      <td>5.674208</td>\n",
              "      <td>1.092760</td>\n",
              "      <td>1035.0</td>\n",
              "      <td>2.341629</td>\n",
              "      <td>35.37</td>\n",
              "      <td>-119.03</td>\n",
              "    </tr>\n",
              "    <tr>\n",
              "      <th>11606</th>\n",
              "      <td>4.5461</td>\n",
              "      <td>33.0</td>\n",
              "      <td>4.696133</td>\n",
              "      <td>1.019337</td>\n",
              "      <td>981.0</td>\n",
              "      <td>2.709945</td>\n",
              "      <td>33.93</td>\n",
              "      <td>-117.97</td>\n",
              "    </tr>\n",
              "    <tr>\n",
              "      <th>11607</th>\n",
              "      <td>6.0487</td>\n",
              "      <td>24.0</td>\n",
              "      <td>7.207080</td>\n",
              "      <td>1.030088</td>\n",
              "      <td>1834.0</td>\n",
              "      <td>3.246018</td>\n",
              "      <td>34.26</td>\n",
              "      <td>-118.78</td>\n",
              "    </tr>\n",
              "    <tr>\n",
              "      <th>11608</th>\n",
              "      <td>2.5694</td>\n",
              "      <td>27.0</td>\n",
              "      <td>3.143770</td>\n",
              "      <td>0.955272</td>\n",
              "      <td>777.0</td>\n",
              "      <td>2.482428</td>\n",
              "      <td>34.43</td>\n",
              "      <td>-119.72</td>\n",
              "    </tr>\n",
              "    <tr>\n",
              "      <th>11609</th>\n",
              "      <td>4.9125</td>\n",
              "      <td>38.0</td>\n",
              "      <td>6.501767</td>\n",
              "      <td>1.028269</td>\n",
              "      <td>633.0</td>\n",
              "      <td>2.236749</td>\n",
              "      <td>32.73</td>\n",
              "      <td>-117.25</td>\n",
              "    </tr>\n",
              "  </tbody>\n",
              "</table>\n",
              "<p>11610 rows × 8 columns</p>\n",
              "</div>"
            ],
            "text/plain": [
              "       MedInc  HouseAge   AveRooms  ...  AveOccup  Latitude  Longitude\n",
              "0      5.7789      13.0   6.324242  ...  3.530303     32.63    -117.03\n",
              "1      2.4286      32.0   5.029825  ...  2.991228     36.77    -119.83\n",
              "2      3.6034      16.0   3.220957  ...  1.806378     34.44    -119.82\n",
              "3      5.0100      20.0  17.546099  ...  2.397163     37.65    -118.99\n",
              "4      3.3690      25.0   4.610512  ...  2.265499     32.80    -116.96\n",
              "...       ...       ...        ...  ...       ...       ...        ...\n",
              "11605  2.6513      42.0   5.674208  ...  2.341629     35.37    -119.03\n",
              "11606  4.5461      33.0   4.696133  ...  2.709945     33.93    -117.97\n",
              "11607  6.0487      24.0   7.207080  ...  3.246018     34.26    -118.78\n",
              "11608  2.5694      27.0   3.143770  ...  2.482428     34.43    -119.72\n",
              "11609  4.9125      38.0   6.501767  ...  2.236749     32.73    -117.25\n",
              "\n",
              "[11610 rows x 8 columns]"
            ]
          },
          "metadata": {
            "tags": []
          },
          "execution_count": 19
        }
      ]
    },
    {
      "cell_type": "markdown",
      "metadata": {
        "id": "kOIfZVuqBB8O"
      },
      "source": [
        "- train/valid/test csv파일로 만들기"
      ]
    },
    {
      "cell_type": "code",
      "metadata": {
        "id": "vx0XjZrRAQWi"
      },
      "source": [
        "X_train_df.to_csv(\"my_train.csv\", index=False)\r\n",
        "X_test_df.to_csv(\"my_test.csv\", index=False)\r\n",
        "X_valid_df.to_csv(\"my_valid.csv\", index=False)"
      ],
      "execution_count": 19,
      "outputs": []
    },
    {
      "cell_type": "markdown",
      "metadata": {
        "id": "dGX8aVqRBIWB"
      },
      "source": [
        "- train 데이터 쪼갠 후 각각 따로 저장하기"
      ]
    },
    {
      "cell_type": "code",
      "metadata": {
        "id": "qNUBbcRXApZj"
      },
      "source": [
        "file_paths=[]#쪼갠 csv파일 path 저장할 list"
      ],
      "execution_count": 20,
      "outputs": []
    },
    {
      "cell_type": "code",
      "metadata": {
        "colab": {
          "base_uri": "https://localhost:8080/"
        },
        "id": "W5fjLfffHhoo",
        "outputId": "42e5f842-15a1-44b4-93db-b4968460e3b5"
      },
      "source": [
        "ls"
      ],
      "execution_count": null,
      "outputs": [
        {
          "output_type": "stream",
          "text": [
            "my_test.csv  my_train.csv  my_valid.csv  \u001b[0m\u001b[01;34msample_data\u001b[0m/\n"
          ],
          "name": "stdout"
        }
      ]
    },
    {
      "cell_type": "code",
      "metadata": {
        "id": "LArfyIXIakpZ"
      },
      "source": [
        "mkdir train #쪼갠 csv파일 담을 새로운 디렉토리 생성"
      ],
      "execution_count": 21,
      "outputs": []
    },
    {
      "cell_type": "code",
      "metadata": {
        "colab": {
          "base_uri": "https://localhost:8080/"
        },
        "id": "fRyHZMzQa-Kn",
        "outputId": "31299a11-ad87-4164-cd57-47632083407d"
      },
      "source": [
        "X_train.shape"
      ],
      "execution_count": null,
      "outputs": [
        {
          "output_type": "execute_result",
          "data": {
            "text/plain": [
              "(11610, 8)"
            ]
          },
          "metadata": {
            "tags": []
          },
          "execution_count": 15
        }
      ]
    },
    {
      "cell_type": "code",
      "metadata": {
        "id": "dpDduO2zEj7D"
      },
      "source": [
        "#train 데이터 쪼개기\r\n",
        "cnt=0\r\n",
        "for item in tf.data.Dataset.from_tensor_slices(X_train).batch(100): #100개씩 쪼개서\r\n",
        "  file_name=f\"train/my_train_{cnt:03}\" #해당 path로 저장\r\n",
        "  pd.DataFrame(item, columns=housing.feature_names).to_csv(file_name)\r\n",
        "  file_paths.append(file_name)\r\n",
        "  cnt+=1"
      ],
      "execution_count": 22,
      "outputs": []
    },
    {
      "cell_type": "markdown",
      "metadata": {
        "id": "0vE1Fa9bBKGJ"
      },
      "source": [
        "- list_files: <strong>파일 경로를 섞은</strong> 데이터셋을 반환(섞는걸 원치 않는다면 shuffle=False 가능)"
      ]
    },
    {
      "cell_type": "code",
      "metadata": {
        "id": "qaJtDMgTAU-P"
      },
      "source": [
        "filepath_dataset=tf.data.Dataset.list_files(file_paths,seed=42)"
      ],
      "execution_count": 23,
      "outputs": []
    },
    {
      "cell_type": "markdown",
      "metadata": {
        "id": "AdmzJwpWBpgk"
      },
      "source": [
        "- interleave: <strong>한 번에 여러 개의 파일을 한 줄씩 번갈아 읽기</strong>(각 파일의 첫 번째 줄은 열의 이름이므로 skip메서드를 사용해서 건너뛴다.)"
      ]
    },
    {
      "cell_type": "code",
      "metadata": {
        "id": "c_z1CsU9BYEC"
      },
      "source": [
        "n_readers=5\r\n",
        "dataset=filepath_dataset.interleave(\r\n",
        "    lambda filepath:tf.data.TextLineDataset(filepath).skip(1), cycle_length=n_readers\r\n",
        ")"
      ],
      "execution_count": 24,
      "outputs": []
    },
    {
      "cell_type": "code",
      "metadata": {
        "colab": {
          "base_uri": "https://localhost:8080/"
        },
        "id": "yfOHtQziBorc",
        "outputId": "fc1442b8-04e8-4ead-90c7-cf0af51f72c2"
      },
      "source": [
        "for item in dataset.take(5):\r\n",
        "  print(item.numpy())"
      ],
      "execution_count": 25,
      "outputs": [
        {
          "output_type": "stream",
          "text": [
            "b'0,\"tf.Tensor(2.3454, shape=(), dtype=float64)\",\"tf.Tensor(33.0, shape=(), dtype=float64)\",\"tf.Tensor(2.8876404494382024, shape=(), dtype=float64)\",\"tf.Tensor(1.0589887640449438, shape=(), dtype=float64)\",\"tf.Tensor(753.0, shape=(), dtype=float64)\",\"tf.Tensor(2.115168539325843, shape=(), dtype=float64)\",\"tf.Tensor(34.43, shape=(), dtype=float64)\",\"tf.Tensor(-119.72, shape=(), dtype=float64)\"'\n",
            "b'0,\"tf.Tensor(1.9911, shape=(), dtype=float64)\",\"tf.Tensor(50.0, shape=(), dtype=float64)\",\"tf.Tensor(5.343675417661098, shape=(), dtype=float64)\",\"tf.Tensor(1.0859188544152745, shape=(), dtype=float64)\",\"tf.Tensor(990.0, shape=(), dtype=float64)\",\"tf.Tensor(2.3627684964200477, shape=(), dtype=float64)\",\"tf.Tensor(37.84, shape=(), dtype=float64)\",\"tf.Tensor(-122.26, shape=(), dtype=float64)\"'\n",
            "b'0,\"tf.Tensor(6.5706, shape=(), dtype=float64)\",\"tf.Tensor(9.0, shape=(), dtype=float64)\",\"tf.Tensor(6.961937716262976, shape=(), dtype=float64)\",\"tf.Tensor(1.0934256055363323, shape=(), dtype=float64)\",\"tf.Tensor(802.0, shape=(), dtype=float64)\",\"tf.Tensor(2.7750865051903113, shape=(), dtype=float64)\",\"tf.Tensor(32.91, shape=(), dtype=float64)\",\"tf.Tensor(-117.09, shape=(), dtype=float64)\"'\n",
            "b'0,\"tf.Tensor(3.3715, shape=(), dtype=float64)\",\"tf.Tensor(52.0, shape=(), dtype=float64)\",\"tf.Tensor(3.8433889602053917, shape=(), dtype=float64)\",\"tf.Tensor(1.0539152759948651, shape=(), dtype=float64)\",\"tf.Tensor(1240.0, shape=(), dtype=float64)\",\"tf.Tensor(1.5917843388960204, shape=(), dtype=float64)\",\"tf.Tensor(37.8, shape=(), dtype=float64)\",\"tf.Tensor(-122.43, shape=(), dtype=float64)\"'\n",
            "b'0,\"tf.Tensor(10.3983, shape=(), dtype=float64)\",\"tf.Tensor(31.0, shape=(), dtype=float64)\",\"tf.Tensor(7.888888888888889, shape=(), dtype=float64)\",\"tf.Tensor(1.2006172839506173, shape=(), dtype=float64)\",\"tf.Tensor(1530.0, shape=(), dtype=float64)\",\"tf.Tensor(2.361111111111111, shape=(), dtype=float64)\",\"tf.Tensor(33.49, shape=(), dtype=float64)\",\"tf.Tensor(-117.73, shape=(), dtype=float64)\"'\n"
          ],
          "name": "stdout"
        }
      ]
    },
    {
      "cell_type": "markdown",
      "metadata": {
        "id": "p9JCyiU9Cnw4"
      },
      "source": [
        "----------------\r\n",
        "인터리빙이 잘 동작하려면 <strong>각 파일의 길이가 동일한 것</strong>이 좋다. 그렇지 않으면 가장 긴 파일의 끝은 인터리빙이 되지 않을 것이다.\r\n",
        "\r\n",
        "- 그리고 바이트 스트링으로 저장된다. 그래서 이를 파싱하고 스케일을 조정할 필요가 있다."
      ]
    },
    {
      "cell_type": "markdown",
      "metadata": {
        "id": "f5zjVslLetTH"
      },
      "source": [
        "#### 실험1: 파일의 길이가 다를 때"
      ]
    },
    {
      "cell_type": "code",
      "metadata": {
        "id": "Rp59UzZUdrI6"
      },
      "source": [
        "tmp_X=tf.range(200)\r\n",
        "tmp_list=[]\r\n",
        "for e,item in enumerate(tf.data.Dataset.from_tensor_slices(tmp_X).batch(30)):\r\n",
        "  file_name=f\"tmp_X_{e}\"\r\n",
        "  pd.DataFrame(item).to_csv(file_name)\r\n",
        "  tmp_list.append(file_name)"
      ],
      "execution_count": 72,
      "outputs": []
    },
    {
      "cell_type": "code",
      "metadata": {
        "colab": {
          "base_uri": "https://localhost:8080/"
        },
        "id": "kkQ3Bvr7ebbw",
        "outputId": "39649e01-299e-4014-80b2-50b3f9b3a26c"
      },
      "source": [
        "tmp_list"
      ],
      "execution_count": 73,
      "outputs": [
        {
          "output_type": "execute_result",
          "data": {
            "text/plain": [
              "['tmp_X_0', 'tmp_X_1', 'tmp_X_2', 'tmp_X_3', 'tmp_X_4', 'tmp_X_5', 'tmp_X_6']"
            ]
          },
          "metadata": {
            "tags": []
          },
          "execution_count": 73
        }
      ]
    },
    {
      "cell_type": "code",
      "metadata": {
        "colab": {
          "base_uri": "https://localhost:8080/"
        },
        "id": "8sOzOwgzelGH",
        "outputId": "50f42d14-2bc3-487e-90d9-965754594364"
      },
      "source": [
        "ls"
      ],
      "execution_count": null,
      "outputs": [
        {
          "output_type": "stream",
          "text": [
            "my_test.csv   my_valid.csv  tmp_X_0  tmp_X_2  tmp_X_4  tmp_X_6\n",
            "my_train.csv  \u001b[0m\u001b[01;34msample_data\u001b[0m/  tmp_X_1  tmp_X_3  tmp_X_5  \u001b[01;34mtrain\u001b[0m/\n"
          ],
          "name": "stdout"
        }
      ]
    },
    {
      "cell_type": "code",
      "metadata": {
        "colab": {
          "base_uri": "https://localhost:8080/"
        },
        "id": "KObDMZi-ecrd",
        "outputId": "312e3941-e0b9-49e4-e321-25e4aaac64ee"
      },
      "source": [
        "pd.read_csv(\"tmp_X_1\").shape"
      ],
      "execution_count": null,
      "outputs": [
        {
          "output_type": "execute_result",
          "data": {
            "text/plain": [
              "(30, 2)"
            ]
          },
          "metadata": {
            "tags": []
          },
          "execution_count": 48
        }
      ]
    },
    {
      "cell_type": "code",
      "metadata": {
        "colab": {
          "base_uri": "https://localhost:8080/"
        },
        "id": "F69nlcmFeqKy",
        "outputId": "2dd80764-98d9-4f6d-e9c7-46f3fc6bcb01"
      },
      "source": [
        "pd.read_csv(\"tmp_X_6\").shape"
      ],
      "execution_count": null,
      "outputs": [
        {
          "output_type": "execute_result",
          "data": {
            "text/plain": [
              "(20, 2)"
            ]
          },
          "metadata": {
            "tags": []
          },
          "execution_count": 50
        }
      ]
    },
    {
      "cell_type": "markdown",
      "metadata": {
        "id": "pDdSWVpaezDS"
      },
      "source": [
        "---------------\r\n",
        "tmp_X_6.csv만 20개의 샘플을 가지고, 나머진 30개의 샘플을 가진다 <br>\r\n",
        "-> 이 때 각 파일 경로를 담은 리스트를 섞고(list_files()) 한 번에 여러 파일을 번갈아 읽게 되면(interleave()) 어떻게 될까?"
      ]
    },
    {
      "cell_type": "code",
      "metadata": {
        "id": "vR3Dcpv1fLi1"
      },
      "source": [
        "tmp_dataset=tf.data.Dataset.list_files(tmp_list,seed=423)"
      ],
      "execution_count": 74,
      "outputs": []
    },
    {
      "cell_type": "code",
      "metadata": {
        "colab": {
          "base_uri": "https://localhost:8080/"
        },
        "id": "WbhYPqX_jFmZ",
        "outputId": "782f3632-40f2-4bf5-9282-618e4bf8d89f"
      },
      "source": [
        "for item in tmp_dataset:\r\n",
        "  print(item)"
      ],
      "execution_count": 75,
      "outputs": [
        {
          "output_type": "stream",
          "text": [
            "tf.Tensor(b'tmp_X_4', shape=(), dtype=string)\n",
            "tf.Tensor(b'tmp_X_6', shape=(), dtype=string)\n",
            "tf.Tensor(b'tmp_X_5', shape=(), dtype=string)\n",
            "tf.Tensor(b'tmp_X_1', shape=(), dtype=string)\n",
            "tf.Tensor(b'tmp_X_2', shape=(), dtype=string)\n",
            "tf.Tensor(b'tmp_X_3', shape=(), dtype=string)\n",
            "tf.Tensor(b'tmp_X_0', shape=(), dtype=string)\n"
          ],
          "name": "stdout"
        }
      ]
    },
    {
      "cell_type": "code",
      "metadata": {
        "id": "dkibmSvMeyWq"
      },
      "source": [
        "n_readers=2\r\n",
        "tmp_dataset=tmp_dataset.interleave(\r\n",
        "    lambda filepath:tf.data.TextLineDataset(filepath).skip(1), cycle_length=n_readers\r\n",
        ")"
      ],
      "execution_count": 76,
      "outputs": []
    },
    {
      "cell_type": "code",
      "metadata": {
        "id": "p1KiYxgZfTq0",
        "colab": {
          "base_uri": "https://localhost:8080/"
        },
        "outputId": "015ce871-c4c8-4720-f74b-1fb61da878bd"
      },
      "source": [
        "dup_cnt=0\r\n",
        "for item in tmp_dataset:\r\n",
        "  tmp=item.numpy().decode('ascii').split(',')\r\n",
        "  if tmp[0]==tmp[1]:\r\n",
        "    print(tmp)#===뭐가 겹치지\r\n",
        "    dup_cnt+=1\r\n",
        "print(dup_cnt)"
      ],
      "execution_count": 77,
      "outputs": [
        {
          "output_type": "stream",
          "text": [
            "['0', '0']\n",
            "['1', '1']\n",
            "['2', '2']\n",
            "['3', '3']\n",
            "['4', '4']\n",
            "['5', '5']\n",
            "['6', '6']\n",
            "['7', '7']\n",
            "['8', '8']\n",
            "['9', '9']\n",
            "['10', '10']\n",
            "['11', '11']\n",
            "['12', '12']\n",
            "['13', '13']\n",
            "['14', '14']\n",
            "['15', '15']\n",
            "['16', '16']\n",
            "['17', '17']\n",
            "['18', '18']\n",
            "['19', '19']\n",
            "['20', '20']\n",
            "['21', '21']\n",
            "['22', '22']\n",
            "['23', '23']\n",
            "['24', '24']\n",
            "['25', '25']\n",
            "['26', '26']\n",
            "['27', '27']\n",
            "['28', '28']\n",
            "['29', '29']\n",
            "30\n"
          ],
          "name": "stdout"
        }
      ]
    },
    {
      "cell_type": "markdown",
      "metadata": {
        "id": "ZVaHbSxzlj5t"
      },
      "source": [
        "---------\r\n",
        "겹치는게 30개가 있다."
      ]
    },
    {
      "cell_type": "markdown",
      "metadata": {
        "id": "drSmPko-mxhk"
      },
      "source": [
        "#### 실험2: 파일의 길이가 같을 때(위 데이터로)"
      ]
    },
    {
      "cell_type": "code",
      "metadata": {
        "id": "VTeTzWNZlhM5"
      },
      "source": [
        "tmp_X=tf.range(200)\r\n",
        "tmp_list=[]\r\n",
        "for e,item in enumerate(tf.data.Dataset.from_tensor_slices(tmp_X).batch(20)):\r\n",
        "  file_name=f\"tmp_X_{e}\"\r\n",
        "  pd.DataFrame(item).to_csv(file_name)\r\n",
        "  tmp_list.append(file_name)"
      ],
      "execution_count": 53,
      "outputs": []
    },
    {
      "cell_type": "code",
      "metadata": {
        "colab": {
          "base_uri": "https://localhost:8080/"
        },
        "id": "wYt2k7bplrHn",
        "outputId": "89c1e40a-e28a-4bdf-ee9d-3af91a04c480"
      },
      "source": [
        "tmp_list"
      ],
      "execution_count": 38,
      "outputs": [
        {
          "output_type": "execute_result",
          "data": {
            "text/plain": [
              "['tmp_X_0',\n",
              " 'tmp_X_1',\n",
              " 'tmp_X_2',\n",
              " 'tmp_X_3',\n",
              " 'tmp_X_4',\n",
              " 'tmp_X_5',\n",
              " 'tmp_X_6',\n",
              " 'tmp_X_7',\n",
              " 'tmp_X_8',\n",
              " 'tmp_X_9']"
            ]
          },
          "metadata": {
            "tags": []
          },
          "execution_count": 38
        }
      ]
    },
    {
      "cell_type": "code",
      "metadata": {
        "colab": {
          "base_uri": "https://localhost:8080/"
        },
        "id": "jQReIcLTltje",
        "outputId": "af7db2c4-c5e5-47bd-a440-d308fd2d3598"
      },
      "source": [
        "pd.read_csv(\"tmp_X_1\").shape"
      ],
      "execution_count": 39,
      "outputs": [
        {
          "output_type": "execute_result",
          "data": {
            "text/plain": [
              "(20, 2)"
            ]
          },
          "metadata": {
            "tags": []
          },
          "execution_count": 39
        }
      ]
    },
    {
      "cell_type": "code",
      "metadata": {
        "colab": {
          "base_uri": "https://localhost:8080/"
        },
        "id": "LoKGbDFplvW3",
        "outputId": "c8c7b485-9365-42c1-8d58-3a99003b1d3e"
      },
      "source": [
        "pd.read_csv(\"tmp_X_9\").shape"
      ],
      "execution_count": 40,
      "outputs": [
        {
          "output_type": "execute_result",
          "data": {
            "text/plain": [
              "(20, 2)"
            ]
          },
          "metadata": {
            "tags": []
          },
          "execution_count": 40
        }
      ]
    },
    {
      "cell_type": "markdown",
      "metadata": {
        "id": "6YAwUnEpmm-n"
      },
      "source": [
        "-----------\r\n",
        "이번엔 모두 20개의 샘플로 동일하게 했다."
      ]
    },
    {
      "cell_type": "code",
      "metadata": {
        "id": "AV5YZxd3lxPO"
      },
      "source": [
        "tmp_dataset=tf.data.Dataset.list_files(tmp_list,seed=423)"
      ],
      "execution_count": 68,
      "outputs": []
    },
    {
      "cell_type": "code",
      "metadata": {
        "id": "lJiNYrxQlzx_"
      },
      "source": [
        "n_readers=2\r\n",
        "tmp_dataset=tmp_dataset.interleave(\r\n",
        "    lambda filepath:tf.data.TextLineDataset(filepath).skip(1), cycle_length=n_readers\r\n",
        ")"
      ],
      "execution_count": 70,
      "outputs": []
    },
    {
      "cell_type": "code",
      "metadata": {
        "colab": {
          "base_uri": "https://localhost:8080/"
        },
        "id": "nVE1l4Xnl4BI",
        "outputId": "07b7b8cf-e1a5-4474-d502-623a526a0595"
      },
      "source": [
        "dup_cnt=0\r\n",
        "for item in tmp_dataset:\r\n",
        "  tmp=item.numpy().decode('ascii').split(',')\r\n",
        "  if tmp[0]==tmp[1]:\r\n",
        "    print(tmp)#===뭐가 겹치지\r\n",
        "    dup_cnt+=1\r\n",
        "print(dup_cnt)"
      ],
      "execution_count": 71,
      "outputs": [
        {
          "output_type": "stream",
          "text": [
            "['0', '0']\n",
            "['1', '1']\n",
            "['2', '2']\n",
            "['3', '3']\n",
            "['4', '4']\n",
            "['5', '5']\n",
            "['6', '6']\n",
            "['7', '7']\n",
            "['8', '8']\n",
            "['9', '9']\n",
            "['10', '10']\n",
            "['11', '11']\n",
            "['12', '12']\n",
            "['13', '13']\n",
            "['14', '14']\n",
            "['15', '15']\n",
            "['16', '16']\n",
            "['17', '17']\n",
            "['18', '18']\n",
            "['19', '19']\n",
            "20\n"
          ],
          "name": "stdout"
        }
      ]
    },
    {
      "cell_type": "markdown",
      "metadata": {
        "id": "j1NY3nptn7ce"
      },
      "source": [
        "--------------\r\n",
        "왜 겹치지? -> interleave, TextLineDataset 등의 메서드에 대해 알아봐야겠다."
      ]
    },
    {
      "cell_type": "code",
      "metadata": {
        "id": "7RJK3_oHB_e-"
      },
      "source": [
        ""
      ],
      "execution_count": null,
      "outputs": []
    }
  ]
}