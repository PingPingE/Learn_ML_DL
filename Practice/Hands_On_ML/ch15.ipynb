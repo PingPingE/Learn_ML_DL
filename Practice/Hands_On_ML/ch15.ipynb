{
  "nbformat": 4,
  "nbformat_minor": 0,
  "metadata": {
    "colab": {
      "name": "ch15.ipynb",
      "provenance": [],
      "collapsed_sections": [],
      "toc_visible": true,
      "authorship_tag": "ABX9TyMQvdjT8v6o9D74JBz/4Nci",
      "include_colab_link": true
    },
    "kernelspec": {
      "name": "python3",
      "display_name": "Python 3"
    },
    "language_info": {
      "name": "python"
    }
  },
  "cells": [
    {
      "cell_type": "markdown",
      "metadata": {
        "id": "view-in-github",
        "colab_type": "text"
      },
      "source": [
        "<a href=\"https://colab.research.google.com/github/PingPingE/Learn_ML_DL/blob/main/Practice/Hands_On_ML/ch15.ipynb\" target=\"_parent\"><img src=\"https://colab.research.google.com/assets/colab-badge.svg\" alt=\"Open In Colab\"/></a>"
      ]
    },
    {
      "cell_type": "code",
      "metadata": {
        "id": "BuLxqhDUO-ja"
      },
      "source": [
        "import numpy as np\n",
        "import tensorflow.keras as keras\n",
        "import matplotlib.pyplot as plt\n",
        "import pandas as pd"
      ],
      "execution_count": 5,
      "outputs": []
    },
    {
      "cell_type": "markdown",
      "metadata": {
        "id": "6uI7mGlgceTn"
      },
      "source": [
        "# RNN과 CNN을 사용해 시퀀스 처리하기\n",
        "- RNN은 순차 데이터를 다룬다.\n",
        "- 하지만 순차 데이터를 디루는 유일한 신경망은 아니다.\n",
        "  - 짧은 시퀀스: Dense 네트워크가 처리 가능\n",
        "  - 긴 시퀀스: Conv 네트워크가 처리 가능"
      ]
    },
    {
      "cell_type": "markdown",
      "metadata": {
        "id": "VuaveHU7db0M"
      },
      "source": [
        "## 순한 뉴런과 순환 층\n",
        "<img src=\"https://media.vlpt.us/images/changdaeoh/post/3afed92b-978e-4173-bc56-d8453c7f2b8f/image.png\"/>\n",
        "\n",
        "- RNN은 피드포워드 신경망과 매우 비슷하지만, \n",
        "- <strong>뒷쪽</strong>으로 순환하는 연결도 있다는 점이 다르다.\n",
        "- 위 처럼 <strong>각 타임  스텝 t(또는 frame)마다 x_(t)와 이전 타임 스텝의 출력인 y_(t-1)를 입력</strong>으로 받는다.\n",
        "  - 첫 번째 타임 스텝은 이전 출력이 없으므로 일반적으로 0으로 설정\n",
        "  - 각 뉴런은 <strong>가중치도 두 개</strong>를 가진다.(하나는 x_(t), 다른 하나는 y_(t-1)를 위한 것)\n",
        "  <img src=\"https://media.vlpt.us/images/changdaeoh/post/355c3d96-9e65-48fd-9ad6-6b2ba9f116b3/image.png\" width= 50%  height=50%/>\n",
        "  - 즉, Y_(t)는 시간 t=0에서부터 모든 입력에 대한 함수가 된다.\n",
        "- 동일한 뉴런을 타임 스텝마다 하나씩 표현한 위 이미지를, '시간에 따라 네트워크를 펄쳤다'고 말한다.\n",
        "\n",
        "  => 재귀를 펼쳐놓은 것으로 생각\n"
      ]
    },
    {
      "cell_type": "markdown",
      "metadata": {
        "id": "0HNXeS82gY6C"
      },
      "source": [
        "## 메모리 셀\n",
        "- 타임 스텝 t에서 순환 뉴런의 출력은 이전 타임 스텝의 모든 입력에 대한 함수이므로, 이를 일종의 <strong>메모리</strong> 형태라고 말할 수 있다.\n",
        "- <strong>메모리 셀:</strong> 타임 스텝에 걸쳐서 <strong>어떤 상태를 보존</strong>하는 신경망의 구성 요소\n",
        "- 각 스텝 t에서 셀의 상태 h_(t)는 (h: hidden) 그 타임 스텝의 입력과 이전 타임 스텝의 상태에 대한 함수이다.\n",
        "\n",
        "<br>\n",
        "\n",
        "  <img src=\"https://media.vlpt.us/images/changdaeoh/post/797fafe5-5df8-424e-8adc-fe654afbb43c/image.png\"/>\n",
        " "
      ]
    },
    {
      "cell_type": "markdown",
      "metadata": {
        "id": "REWZx6kRirX2"
      },
      "source": [
        "## 입력과 출력 시퀀스\n",
        "- <strong>벡터-투-시퀀스</strong>\n",
        "  - 각 타임 스텝에서 하나의 입력 벡터를 반복해서 주입하고, 하나의 시퀀스 출력\n",
        "  - ex) 이미지 주입 -> 이미지 캡션 출력\n",
        "\n",
        "- <strong>시퀀스-투-벡터</strong>\n",
        "  - 입력 시퀀스를 주입하고 마지막을 제외한 모든 출력을 무시\n",
        "  - ex) 영화 리뷰에 있는 연속된 단어를 주입 -> 감성 점수 출력(싫다(-1)~좋다(+1))\n",
        "\n",
        "- <strong>시퀀스-투-시퀀스</strong>\n",
        "  - 입력 시퀀스를 받아 출력 시퀀스를 만든다.\n",
        "  - ex) 최근 N일치의 주식가격 주입 -> 각 입력값보다 하루 앞선 가격 출력\n",
        "  - (즉, N-1일 전부터 내일까지)\n",
        "\n",
        "- <strong>인코더-디코더</strong>\n",
        "   - 시퀀스-투-벡터 네트워크(인코더) 뒤에 벡터-투-시퀀스 네트워크(디코더) 연결\n",
        "   - ex) 한 언어의 문장을 다른 언어로 번역\n",
        "   - 인코더: 해당 문장을 하나의 벡터로 변환\n",
        "   - 디코더: 해당 벡터를 다른 언어의 문장으로 디코딩\n",
        "   - 왜 굳이 이중  모델? \n",
        "    - 하나의 시퀀스-투-시퀀스 네트워크보다 성능이 좋다.\n",
        "    - <strong>번역하기 전에 전체 문장이 주입될 때까지 기다려야 하기 때문</strong>\n",
        "\n",
        "<br>\n",
        "\n",
        "<img src=\"https://img1.daumcdn.net/thumb/R720x0.q80/?scode=mtistory2&fname=http%3A%2F%2Fcfile22.uf.tistory.com%2Fimage%2F99A94F465BD1990B20352F\"/>"
      ]
    },
    {
      "cell_type": "markdown",
      "metadata": {
        "id": "ZCKawGxMmKx3"
      },
      "source": [
        "## RNN 훈련하기\n",
        "- BPTT(Backpropagation Through Time)\n",
        "<img src=\"https://media.vlpt.us/images/changdaeoh/post/333a8501-57cb-4bc6-8e11-4ca2172b4286/image.png\" width=50% height=50%/>\n",
        "\n",
        "  - 타임 스텝으로 네트워크를 펼치고(실제로 펼치진 않음)\n",
        "  - 보통의 역전파를 사용하는 것\n",
        "    - 정방향 패스 동안에는 <strong>모두 동일한 가중치</strong>가 적용된다(즉, 같은 매개변수 W,b사용)\n",
        "    - 그래서 역전파가 진행되면 <strong>모든 타임 스텝에 걸쳐 합산</strong>될 것이다."
      ]
    },
    {
      "cell_type": "markdown",
      "metadata": {
        "id": "K3WzGZHApAMx"
      },
      "source": [
        "## 시계열 예측하기\n",
        "- 시계열: 타임 스텝마다 하나 이상의 값을 가진 시퀀스\n",
        "  - 단변량 시계열: 하나의 값을 가지는 시퀀스(ex) 시간당 접속 사용자 수 예측)\n",
        "  - 다변량 시계열: 여러 값을 가지는 시퀀스(ex) 기업의 분기별 재정 안정성 예측 -> 수입/부채 등 고려)\n",
        "  - 보통 [배치 크기, 타임 스텝 수, 차원 수] 3D배열로 나타냄(단변량은 차원 수가 1)\n",
        "  <img src=\"https://wikidocs.net/images/page/22886/rnn_image6between7.PNG\"/>\n",
        "- 시계열 예측으로 값 대체도 가능\n",
        "  - 누락된 값 예측"
      ]
    },
    {
      "cell_type": "code",
      "metadata": {
        "id": "Y9ntg6tagOBF"
      },
      "source": [
        "def generate_time_series(batch_size, n_steps): #====batch_size만큼 n_steps 길이의 여러 시계열 생성\n",
        "  freq1, freq2, offset1, offset2 = np.random.rand(4, batch_size, 1)\n",
        "  time= np.linspace(0,1,n_steps) #n_steps개의 0~1사이의 값을 가지는 1d배열 생성\n",
        "  series=0.5*np.sin((time-offset1)*(freq1*10+10))\n",
        "  series +=0.2*np.sin((time-offset2)*(freq1*20+20))\n",
        "  series +=0.1*(np.random.rand(batch_size, n_steps)-0.5) #잡음\n",
        "  return series[..., np.newaxis].astype(np.float32)"
      ],
      "execution_count": 1,
      "outputs": []
    },
    {
      "cell_type": "code",
      "metadata": {
        "id": "DbgC9YOiq1LS"
      },
      "source": [
        "n_steps= 50\n",
        "series=generate_time_series(10000, n_steps+1)\n",
        "X_train, y_train = series[:7000, :n_steps], series[:7000,-1]\n",
        "X_valid, y_valid = series[7000:9000, :n_steps], series[7000:9000, -1]\n",
        "X_test, y_test=series[9000:, :n_steps], series[9000:,-1]"
      ],
      "execution_count": 22,
      "outputs": []
    },
    {
      "cell_type": "code",
      "metadata": {
        "colab": {
          "base_uri": "https://localhost:8080/"
        },
        "id": "sd1U-Z-DrupS",
        "outputId": "1f2d89f9-de27-4b17-fa66-de3a096fde00"
      },
      "source": [
        "series.shape"
      ],
      "execution_count": null,
      "outputs": [
        {
          "output_type": "execute_result",
          "data": {
            "text/plain": [
              "(10000, 51, 1)"
            ]
          },
          "metadata": {
            "tags": []
          },
          "execution_count": 3
        }
      ]
    },
    {
      "cell_type": "code",
      "metadata": {
        "colab": {
          "base_uri": "https://localhost:8080/"
        },
        "id": "W6QoMMwktJrF",
        "outputId": "927ba0ed-ca31-4fd3-cf7e-b744edc34306"
      },
      "source": [
        "print(X_train.shape, y_train.shape)"
      ],
      "execution_count": null,
      "outputs": [
        {
          "output_type": "stream",
          "text": [
            "(7000, 50, 1) (7000, 1)\n"
          ],
          "name": "stdout"
        }
      ]
    },
    {
      "cell_type": "markdown",
      "metadata": {
        "id": "CTOk77Szr-sh"
      },
      "source": [
        "---------------\n",
        "시계열마다 1개의 값 예측"
      ]
    },
    {
      "cell_type": "markdown",
      "metadata": {
        "id": "a1LMzpGctZ2F"
      },
      "source": [
        "### 기준 성능\n",
        "- 가장 간단한 방법: 각 시계열의 마지막 값을 그대로 예측 -> 순진한 예측이라고 함\n"
      ]
    },
    {
      "cell_type": "code",
      "metadata": {
        "colab": {
          "base_uri": "https://localhost:8080/"
        },
        "id": "DmEyA5jote4b",
        "outputId": "93662a93-ccd8-4e39-c324-55094ad4a297"
      },
      "source": [
        "y_pred=X_valid[:,-1]\n",
        "np.mean(keras.losses.mean_squared_error(y_valid, y_pred))"
      ],
      "execution_count": 4,
      "outputs": [
        {
          "output_type": "execute_result",
          "data": {
            "text/plain": [
              "0.020505253"
            ]
          },
          "metadata": {
            "tags": []
          },
          "execution_count": 4
        }
      ]
    },
    {
      "cell_type": "markdown",
      "metadata": {
        "id": "n76QzBP0t_Jq"
      },
      "source": [
        "- 완전 연결 네트워크를 사용하는 방법"
      ]
    },
    {
      "cell_type": "code",
      "metadata": {
        "id": "h9Lz1M3xuCGJ"
      },
      "source": [
        "model1 = keras.models.Sequential([\n",
        "                                 keras.layers.Flatten(input_shape=[50,1]),\n",
        "                                 keras.layers.Dense(1)\n",
        "])"
      ],
      "execution_count": null,
      "outputs": []
    },
    {
      "cell_type": "code",
      "metadata": {
        "colab": {
          "base_uri": "https://localhost:8080/"
        },
        "id": "iJTFxA5Ivtz7",
        "outputId": "418c033c-9a18-4a1b-d3f8-d68ae946c374"
      },
      "source": [
        "model1.summary()"
      ],
      "execution_count": null,
      "outputs": [
        {
          "output_type": "stream",
          "text": [
            "Model: \"sequential\"\n",
            "_________________________________________________________________\n",
            "Layer (type)                 Output Shape              Param #   \n",
            "=================================================================\n",
            "flatten (Flatten)            (None, 50)                0         \n",
            "_________________________________________________________________\n",
            "dense (Dense)                (None, 1)                 51        \n",
            "=================================================================\n",
            "Total params: 51\n",
            "Trainable params: 51\n",
            "Non-trainable params: 0\n",
            "_________________________________________________________________\n"
          ],
          "name": "stdout"
        }
      ]
    },
    {
      "cell_type": "code",
      "metadata": {
        "colab": {
          "base_uri": "https://localhost:8080/"
        },
        "id": "lhMWstWnuNRu",
        "outputId": "bbbb4ab1-8035-45f1-ebc4-f333d7ab118e"
      },
      "source": [
        "model1.compile(optimizer='adam', loss='mse')\n",
        "model1.fit(X_train, y_train,validation_data=(X_valid, y_valid), epochs=20)"
      ],
      "execution_count": null,
      "outputs": [
        {
          "output_type": "stream",
          "text": [
            "Epoch 1/20\n",
            "219/219 [==============================] - 1s 2ms/step - loss: 0.2090 - val_loss: 0.0619\n",
            "Epoch 2/20\n",
            "219/219 [==============================] - 0s 1ms/step - loss: 0.0517 - val_loss: 0.0343\n",
            "Epoch 3/20\n",
            "219/219 [==============================] - 0s 1ms/step - loss: 0.0296 - val_loss: 0.0208\n",
            "Epoch 4/20\n",
            "219/219 [==============================] - 0s 1ms/step - loss: 0.0175 - val_loss: 0.0139\n",
            "Epoch 5/20\n",
            "219/219 [==============================] - 0s 1ms/step - loss: 0.0127 - val_loss: 0.0107\n",
            "Epoch 6/20\n",
            "219/219 [==============================] - 0s 1ms/step - loss: 0.0098 - val_loss: 0.0090\n",
            "Epoch 7/20\n",
            "219/219 [==============================] - 0s 1ms/step - loss: 0.0086 - val_loss: 0.0079\n",
            "Epoch 8/20\n",
            "219/219 [==============================] - 0s 1ms/step - loss: 0.0074 - val_loss: 0.0072\n",
            "Epoch 9/20\n",
            "219/219 [==============================] - 0s 1ms/step - loss: 0.0069 - val_loss: 0.0066\n",
            "Epoch 10/20\n",
            "219/219 [==============================] - 0s 1ms/step - loss: 0.0061 - val_loss: 0.0060\n",
            "Epoch 11/20\n",
            "219/219 [==============================] - 0s 1ms/step - loss: 0.0058 - val_loss: 0.0056\n",
            "Epoch 12/20\n",
            "219/219 [==============================] - 0s 1ms/step - loss: 0.0053 - val_loss: 0.0053\n",
            "Epoch 13/20\n",
            "219/219 [==============================] - 0s 1ms/step - loss: 0.0050 - val_loss: 0.0050\n",
            "Epoch 14/20\n",
            "219/219 [==============================] - 0s 1ms/step - loss: 0.0048 - val_loss: 0.0048\n",
            "Epoch 15/20\n",
            "219/219 [==============================] - 0s 1ms/step - loss: 0.0046 - val_loss: 0.0046\n",
            "Epoch 16/20\n",
            "219/219 [==============================] - 0s 1ms/step - loss: 0.0046 - val_loss: 0.0044\n",
            "Epoch 17/20\n",
            "219/219 [==============================] - 0s 1ms/step - loss: 0.0043 - val_loss: 0.0044\n",
            "Epoch 18/20\n",
            "219/219 [==============================] - 0s 1ms/step - loss: 0.0044 - val_loss: 0.0042\n",
            "Epoch 19/20\n",
            "219/219 [==============================] - 0s 1ms/step - loss: 0.0041 - val_loss: 0.0041\n",
            "Epoch 20/20\n",
            "219/219 [==============================] - 0s 1ms/step - loss: 0.0041 - val_loss: 0.0040\n"
          ],
          "name": "stdout"
        },
        {
          "output_type": "execute_result",
          "data": {
            "text/plain": [
              "<tensorflow.python.keras.callbacks.History at 0x7fb0ca929a90>"
            ]
          },
          "metadata": {
            "tags": []
          },
          "execution_count": 19
        }
      ]
    },
    {
      "cell_type": "markdown",
      "metadata": {
        "id": "Nv4XnncPuhRD"
      },
      "source": [
        "-----------\n",
        "val_loss: 0.0040까지 떨어짐"
      ]
    },
    {
      "cell_type": "markdown",
      "metadata": {
        "id": "dFFbs3bstfkK"
      },
      "source": [
        "### 간단한 RNN 구현"
      ]
    },
    {
      "cell_type": "code",
      "metadata": {
        "id": "noMI5184unAq"
      },
      "source": [
        "model2= keras.models.Sequential(\n",
        "                                   keras.layers.SimpleRNN(1, input_shape=[None, 1])) #기본적으로 tanh 활성화 함수를 사용함"
      ],
      "execution_count": null,
      "outputs": []
    },
    {
      "cell_type": "code",
      "metadata": {
        "colab": {
          "base_uri": "https://localhost:8080/"
        },
        "id": "HIRKVqbTutlE",
        "outputId": "feff1c4f-c208-4b3e-f685-acb1ced3d5d6"
      },
      "source": [
        "model2.summary()"
      ],
      "execution_count": null,
      "outputs": [
        {
          "output_type": "stream",
          "text": [
            "Model: \"sequential_1\"\n",
            "_________________________________________________________________\n",
            "Layer (type)                 Output Shape              Param #   \n",
            "=================================================================\n",
            "simple_rnn (SimpleRNN)       (None, 1)                 3         \n",
            "=================================================================\n",
            "Total params: 3\n",
            "Trainable params: 3\n",
            "Non-trainable params: 0\n",
            "_________________________________________________________________\n"
          ],
          "name": "stdout"
        }
      ]
    },
    {
      "cell_type": "code",
      "metadata": {
        "colab": {
          "base_uri": "https://localhost:8080/"
        },
        "id": "__pUSbIDuzE6",
        "outputId": "ac06b411-b4f9-4698-ea99-a69f424ab3e0"
      },
      "source": [
        "model2.compile(optimizer='adam', loss='mse')\n",
        "model2.fit(X_train, y_train,validation_data=(X_valid, y_valid), epochs=20)"
      ],
      "execution_count": null,
      "outputs": [
        {
          "output_type": "stream",
          "text": [
            "Epoch 1/20\n",
            "219/219 [==============================] - 3s 8ms/step - loss: 0.2255 - val_loss: 0.1936\n",
            "Epoch 2/20\n",
            "219/219 [==============================] - 2s 7ms/step - loss: 0.1848 - val_loss: 0.1624\n",
            "Epoch 3/20\n",
            "219/219 [==============================] - 2s 7ms/step - loss: 0.1564 - val_loss: 0.1382\n",
            "Epoch 4/20\n",
            "219/219 [==============================] - 2s 7ms/step - loss: 0.1330 - val_loss: 0.1150\n",
            "Epoch 5/20\n",
            "219/219 [==============================] - 2s 7ms/step - loss: 0.1085 - val_loss: 0.0927\n",
            "Epoch 6/20\n",
            "219/219 [==============================] - 2s 7ms/step - loss: 0.0879 - val_loss: 0.0733\n",
            "Epoch 7/20\n",
            "219/219 [==============================] - 2s 7ms/step - loss: 0.0675 - val_loss: 0.0569\n",
            "Epoch 8/20\n",
            "219/219 [==============================] - 2s 7ms/step - loss: 0.0513 - val_loss: 0.0430\n",
            "Epoch 9/20\n",
            "219/219 [==============================] - 2s 7ms/step - loss: 0.0390 - val_loss: 0.0320\n",
            "Epoch 10/20\n",
            "219/219 [==============================] - 2s 7ms/step - loss: 0.0291 - val_loss: 0.0238\n",
            "Epoch 11/20\n",
            "219/219 [==============================] - 2s 7ms/step - loss: 0.0218 - val_loss: 0.0184\n",
            "Epoch 12/20\n",
            "219/219 [==============================] - 2s 7ms/step - loss: 0.0171 - val_loss: 0.0152\n",
            "Epoch 13/20\n",
            "219/219 [==============================] - 2s 7ms/step - loss: 0.0142 - val_loss: 0.0137\n",
            "Epoch 14/20\n",
            "219/219 [==============================] - 2s 7ms/step - loss: 0.0128 - val_loss: 0.0129\n",
            "Epoch 15/20\n",
            "219/219 [==============================] - 2s 7ms/step - loss: 0.0123 - val_loss: 0.0125\n",
            "Epoch 16/20\n",
            "219/219 [==============================] - 2s 7ms/step - loss: 0.0116 - val_loss: 0.0124\n",
            "Epoch 17/20\n",
            "219/219 [==============================] - 2s 7ms/step - loss: 0.0118 - val_loss: 0.0122\n",
            "Epoch 18/20\n",
            "219/219 [==============================] - 2s 7ms/step - loss: 0.0120 - val_loss: 0.0121\n",
            "Epoch 19/20\n",
            "219/219 [==============================] - 2s 7ms/step - loss: 0.0116 - val_loss: 0.0120\n",
            "Epoch 20/20\n",
            "219/219 [==============================] - 2s 7ms/step - loss: 0.0115 - val_loss: 0.0119\n"
          ],
          "name": "stdout"
        },
        {
          "output_type": "execute_result",
          "data": {
            "text/plain": [
              "<tensorflow.python.keras.callbacks.History at 0x7fb0c785dad0>"
            ]
          },
          "metadata": {
            "tags": []
          },
          "execution_count": 29
        }
      ]
    },
    {
      "cell_type": "markdown",
      "metadata": {
        "id": "iBZwk8V_vk6L"
      },
      "source": [
        "--------\n",
        "val_loss가 0.0119로, 위 간단한 선형 모델인 model1(0.004)보다 좋지 못한 성능이지만, <br>\n",
        "파라미터가 3개로, 51개인 위 모델보다 훨씬 적다."
      ]
    },
    {
      "cell_type": "markdown",
      "metadata": {
        "id": "5mHDegS-TMhI"
      },
      "source": [
        "### 심층 RNN\n",
        "<img src=\"https://wikidocs.net/images/page/22886/rnn_image8_ver2.PNG\"/>\n",
        "\n",
        "- return_sequences=True로 설정함으로써 시퀀스-투-시퀀스 문제를 풀 수 있다.\n",
        "  - 기본으로 케라스의 순환 층은 최종 출력만 반환함\n",
        "  - 타임 스텝마다 출력을 반환하려면 True로 지정해야함"
      ]
    },
    {
      "cell_type": "code",
      "metadata": {
        "id": "TajPhtDqTs6P"
      },
      "source": [
        "model3= keras.models.Sequential([\n",
        "                                 keras.layers.SimpleRNN(20,return_sequences=True, input_shape=[None, 1]),\n",
        "                                 keras.layers.SimpleRNN(20, return_sequences=True),\n",
        "                                 keras.layers.SimpleRNN(1)\n",
        "])"
      ],
      "execution_count": null,
      "outputs": []
    },
    {
      "cell_type": "code",
      "metadata": {
        "colab": {
          "base_uri": "https://localhost:8080/"
        },
        "id": "xzwbbItSUNhf",
        "outputId": "ed0a4830-fadf-4d45-94be-1075e92dc063"
      },
      "source": [
        "model3.summary()"
      ],
      "execution_count": null,
      "outputs": [
        {
          "output_type": "stream",
          "text": [
            "Model: \"sequential_2\"\n",
            "_________________________________________________________________\n",
            "Layer (type)                 Output Shape              Param #   \n",
            "=================================================================\n",
            "simple_rnn_1 (SimpleRNN)     (None, None, 20)          440       \n",
            "_________________________________________________________________\n",
            "simple_rnn_2 (SimpleRNN)     (None, None, 20)          820       \n",
            "_________________________________________________________________\n",
            "simple_rnn_3 (SimpleRNN)     (None, 1)                 22        \n",
            "=================================================================\n",
            "Total params: 1,282\n",
            "Trainable params: 1,282\n",
            "Non-trainable params: 0\n",
            "_________________________________________________________________\n"
          ],
          "name": "stdout"
        }
      ]
    },
    {
      "cell_type": "markdown",
      "metadata": {
        "id": "Cm8woojIN5cy"
      },
      "source": [
        "------------\n",
        "return_sequences=True로 바꾼 후 output shape가 3D가 되었다.\n",
        "\n",
        "=> 현재 타임 스텝의 출력만 보는게 아니라 모든 타임 스텝의 출력을 담았기 때문 "
      ]
    },
    {
      "cell_type": "code",
      "metadata": {
        "colab": {
          "base_uri": "https://localhost:8080/"
        },
        "id": "h8u-4VZtUPvm",
        "outputId": "9f7465fe-634e-4432-a92c-bff0ab7f77e9"
      },
      "source": [
        "model3.compile(optimizer='adam', loss='mse' )\n",
        "model3.fit(X_train, y_train, validation_data=(X_valid, y_valid), epochs=20)"
      ],
      "execution_count": null,
      "outputs": [
        {
          "output_type": "stream",
          "text": [
            "Epoch 1/20\n",
            "219/219 [==============================] - 9s 29ms/step - loss: 0.0330 - val_loss: 0.0039\n",
            "Epoch 2/20\n",
            "219/219 [==============================] - 6s 27ms/step - loss: 0.0038 - val_loss: 0.0034\n",
            "Epoch 3/20\n",
            "219/219 [==============================] - 6s 27ms/step - loss: 0.0033 - val_loss: 0.0031\n",
            "Epoch 4/20\n",
            "219/219 [==============================] - 6s 27ms/step - loss: 0.0033 - val_loss: 0.0028\n",
            "Epoch 5/20\n",
            "219/219 [==============================] - 6s 27ms/step - loss: 0.0029 - val_loss: 0.0026\n",
            "Epoch 6/20\n",
            "219/219 [==============================] - 6s 27ms/step - loss: 0.0026 - val_loss: 0.0025\n",
            "Epoch 7/20\n",
            "219/219 [==============================] - 6s 27ms/step - loss: 0.0027 - val_loss: 0.0025\n",
            "Epoch 8/20\n",
            "219/219 [==============================] - 6s 27ms/step - loss: 0.0025 - val_loss: 0.0023\n",
            "Epoch 9/20\n",
            "219/219 [==============================] - 6s 27ms/step - loss: 0.0025 - val_loss: 0.0023\n",
            "Epoch 10/20\n",
            "219/219 [==============================] - 6s 27ms/step - loss: 0.0026 - val_loss: 0.0025\n",
            "Epoch 11/20\n",
            "219/219 [==============================] - 6s 27ms/step - loss: 0.0025 - val_loss: 0.0022\n",
            "Epoch 12/20\n",
            "219/219 [==============================] - 6s 27ms/step - loss: 0.0023 - val_loss: 0.0021\n",
            "Epoch 13/20\n",
            "219/219 [==============================] - 6s 27ms/step - loss: 0.0023 - val_loss: 0.0023\n",
            "Epoch 14/20\n",
            "219/219 [==============================] - 6s 27ms/step - loss: 0.0021 - val_loss: 0.0020\n",
            "Epoch 15/20\n",
            "219/219 [==============================] - 6s 28ms/step - loss: 0.0021 - val_loss: 0.0021\n",
            "Epoch 16/20\n",
            "219/219 [==============================] - 6s 28ms/step - loss: 0.0022 - val_loss: 0.0022\n",
            "Epoch 17/20\n",
            "219/219 [==============================] - 6s 26ms/step - loss: 0.0021 - val_loss: 0.0019\n",
            "Epoch 18/20\n",
            "219/219 [==============================] - 6s 27ms/step - loss: 0.0021 - val_loss: 0.0019\n",
            "Epoch 19/20\n",
            "219/219 [==============================] - 6s 28ms/step - loss: 0.0020 - val_loss: 0.0021\n",
            "Epoch 20/20\n",
            "219/219 [==============================] - 6s 26ms/step - loss: 0.0020 - val_loss: 0.0020\n"
          ],
          "name": "stdout"
        },
        {
          "output_type": "execute_result",
          "data": {
            "text/plain": [
              "<tensorflow.python.keras.callbacks.History at 0x7f3497a9cb50>"
            ]
          },
          "metadata": {
            "tags": []
          },
          "execution_count": 15
        }
      ]
    },
    {
      "cell_type": "markdown",
      "metadata": {
        "id": "GgdjmBkLWq6p"
      },
      "source": [
        "-------------------\n",
        "- 최저 0.0019로, model1(0.004)보다 좋은 성능을 보인다.\n",
        "- 하지만, 마지막 층을 굳이 SimpleRNN을 쓸 필요가 없다.\n",
        "  - 마지막 층의 은닉 상태는 크게 필요하지 않다.\n",
        "  - tanh 활성화 함수를 쓴다 -> 즉, -1~1사이의 값이 나온다."
      ]
    },
    {
      "cell_type": "markdown",
      "metadata": {
        "id": "_V0aiLjOYh_a"
      },
      "source": [
        "#### 마지막 층 변경"
      ]
    },
    {
      "cell_type": "code",
      "metadata": {
        "id": "u_Ksz3VYXAgF"
      },
      "source": [
        "model4= keras.models.Sequential([\n",
        "                                 keras.layers.SimpleRNN(20,return_sequences=True, input_shape=[None, 1]),\n",
        "                                 keras.layers.SimpleRNN(20),#=====출력층이 Dense로 바뀌었으니 해당 층이 RNN 마지막 층\n",
        "                                 keras.layers.Dense(1)\n",
        "])"
      ],
      "execution_count": 8,
      "outputs": []
    },
    {
      "cell_type": "code",
      "metadata": {
        "colab": {
          "base_uri": "https://localhost:8080/"
        },
        "id": "wsy2NUNKXMUb",
        "outputId": "8db7725b-99f8-435f-edca-941c31f04293"
      },
      "source": [
        "model4.summary()"
      ],
      "execution_count": null,
      "outputs": [
        {
          "output_type": "stream",
          "text": [
            "Model: \"sequential_3\"\n",
            "_________________________________________________________________\n",
            "Layer (type)                 Output Shape              Param #   \n",
            "=================================================================\n",
            "simple_rnn_4 (SimpleRNN)     (None, None, 20)          440       \n",
            "_________________________________________________________________\n",
            "simple_rnn_5 (SimpleRNN)     (None, 20)                820       \n",
            "_________________________________________________________________\n",
            "dense_1 (Dense)              (None, 1)                 21        \n",
            "=================================================================\n",
            "Total params: 1,281\n",
            "Trainable params: 1,281\n",
            "Non-trainable params: 0\n",
            "_________________________________________________________________\n"
          ],
          "name": "stdout"
        }
      ]
    },
    {
      "cell_type": "code",
      "metadata": {
        "colab": {
          "base_uri": "https://localhost:8080/"
        },
        "id": "lIa8eAMWY4xt",
        "outputId": "be057124-3f69-4d96-bf99-5f60b2a9b1f4"
      },
      "source": [
        "model4.compile(optimizer='adam', loss='mse' )\n",
        "model4.fit(X_train, y_train, validation_data=(X_valid, y_valid), epochs=20)"
      ],
      "execution_count": null,
      "outputs": [
        {
          "output_type": "stream",
          "text": [
            "Epoch 1/20\n",
            "219/219 [==============================] - 6s 21ms/step - loss: 0.0401 - val_loss: 0.0041\n",
            "Epoch 2/20\n",
            "219/219 [==============================] - 4s 19ms/step - loss: 0.0035 - val_loss: 0.0031\n",
            "Epoch 3/20\n",
            "219/219 [==============================] - 4s 18ms/step - loss: 0.0031 - val_loss: 0.0032\n",
            "Epoch 4/20\n",
            "219/219 [==============================] - 4s 19ms/step - loss: 0.0030 - val_loss: 0.0031\n",
            "Epoch 5/20\n",
            "219/219 [==============================] - 4s 19ms/step - loss: 0.0028 - val_loss: 0.0025\n",
            "Epoch 6/20\n",
            "219/219 [==============================] - 4s 19ms/step - loss: 0.0027 - val_loss: 0.0027\n",
            "Epoch 7/20\n",
            "219/219 [==============================] - 4s 18ms/step - loss: 0.0026 - val_loss: 0.0026\n",
            "Epoch 8/20\n",
            "219/219 [==============================] - 4s 19ms/step - loss: 0.0025 - val_loss: 0.0022\n",
            "Epoch 9/20\n",
            "219/219 [==============================] - 4s 19ms/step - loss: 0.0024 - val_loss: 0.0024\n",
            "Epoch 10/20\n",
            "219/219 [==============================] - 4s 19ms/step - loss: 0.0024 - val_loss: 0.0025\n",
            "Epoch 11/20\n",
            "219/219 [==============================] - 4s 19ms/step - loss: 0.0024 - val_loss: 0.0024\n",
            "Epoch 12/20\n",
            "219/219 [==============================] - 4s 19ms/step - loss: 0.0023 - val_loss: 0.0025\n",
            "Epoch 13/20\n",
            "219/219 [==============================] - 4s 19ms/step - loss: 0.0023 - val_loss: 0.0021\n",
            "Epoch 14/20\n",
            "219/219 [==============================] - 4s 19ms/step - loss: 0.0022 - val_loss: 0.0024\n",
            "Epoch 15/20\n",
            "219/219 [==============================] - 4s 19ms/step - loss: 0.0023 - val_loss: 0.0020\n",
            "Epoch 16/20\n",
            "219/219 [==============================] - 4s 18ms/step - loss: 0.0020 - val_loss: 0.0022\n",
            "Epoch 17/20\n",
            "219/219 [==============================] - 4s 19ms/step - loss: 0.0021 - val_loss: 0.0018\n",
            "Epoch 18/20\n",
            "219/219 [==============================] - 4s 19ms/step - loss: 0.0021 - val_loss: 0.0020\n",
            "Epoch 19/20\n",
            "219/219 [==============================] - 4s 19ms/step - loss: 0.0021 - val_loss: 0.0020\n",
            "Epoch 20/20\n",
            "219/219 [==============================] - 4s 19ms/step - loss: 0.0020 - val_loss: 0.0020\n"
          ],
          "name": "stdout"
        },
        {
          "output_type": "execute_result",
          "data": {
            "text/plain": [
              "<tensorflow.python.keras.callbacks.History at 0x7f3492ed9b90>"
            ]
          },
          "metadata": {
            "tags": []
          },
          "execution_count": 16
        }
      ]
    },
    {
      "cell_type": "markdown",
      "metadata": {
        "id": "3RdU9wxEZoPw"
      },
      "source": [
        "----------------\n",
        "- model3보다 빠르게 수렴(27(model3) -> 19ms)하고 성능(0.0019(model3) -> 0.0018)도 좋다\n",
        "- 또한 출력층의 활성화 함수도 원하는 함수로 바꿀 수 있다."
      ]
    },
    {
      "cell_type": "markdown",
      "metadata": {
        "id": "hdPA4xkOarwO"
      },
      "source": [
        "#### 실험: activation function  바꿔보기\n",
        "- model4에서 activation만 tanh -> relu로 변경"
      ]
    },
    {
      "cell_type": "code",
      "metadata": {
        "id": "G46YGbmcaRzb"
      },
      "source": [
        "model5= keras.models.Sequential([\n",
        "                                 keras.layers.SimpleRNN(20,return_sequences=True, input_shape=[None, 1], activation='relu'),\n",
        "                                 keras.layers.SimpleRNN(20, activation='relu'),\n",
        "                                 keras.layers.Dense(1)\n",
        "])"
      ],
      "execution_count": null,
      "outputs": []
    },
    {
      "cell_type": "code",
      "metadata": {
        "colab": {
          "base_uri": "https://localhost:8080/"
        },
        "id": "muMZpnFyalSI",
        "outputId": "7ffba2e0-83e8-4b1c-d5a0-196a69c81d23"
      },
      "source": [
        "model5.compile(optimizer='adam', loss='mse' )\n",
        "model5.fit(X_train, y_train, validation_data=(X_valid, y_valid), epochs=20)"
      ],
      "execution_count": null,
      "outputs": [
        {
          "output_type": "stream",
          "text": [
            "Epoch 1/20\n",
            "219/219 [==============================] - 6s 21ms/step - loss: 0.0865 - val_loss: 0.0066\n",
            "Epoch 2/20\n",
            "219/219 [==============================] - 4s 20ms/step - loss: 0.0061 - val_loss: 0.0050\n",
            "Epoch 3/20\n",
            "219/219 [==============================] - 4s 19ms/step - loss: 0.0049 - val_loss: 0.0044\n",
            "Epoch 4/20\n",
            "219/219 [==============================] - 4s 19ms/step - loss: 0.0044 - val_loss: 0.0039\n",
            "Epoch 5/20\n",
            "219/219 [==============================] - 4s 19ms/step - loss: 0.0041 - val_loss: 0.0039\n",
            "Epoch 6/20\n",
            "219/219 [==============================] - 4s 18ms/step - loss: 0.0038 - val_loss: 0.0036\n",
            "Epoch 7/20\n",
            "219/219 [==============================] - 4s 20ms/step - loss: 0.0037 - val_loss: 0.0041\n",
            "Epoch 8/20\n",
            "219/219 [==============================] - 4s 20ms/step - loss: 0.0036 - val_loss: 0.0035\n",
            "Epoch 9/20\n",
            "219/219 [==============================] - 4s 19ms/step - loss: 0.0037 - val_loss: 0.0036\n",
            "Epoch 10/20\n",
            "219/219 [==============================] - 4s 19ms/step - loss: 0.0036 - val_loss: 0.0041\n",
            "Epoch 11/20\n",
            "219/219 [==============================] - 4s 19ms/step - loss: 0.0036 - val_loss: 0.0034\n",
            "Epoch 12/20\n",
            "219/219 [==============================] - 4s 19ms/step - loss: 0.0036 - val_loss: 0.0037\n",
            "Epoch 13/20\n",
            "219/219 [==============================] - 4s 20ms/step - loss: 0.0036 - val_loss: 0.0033\n",
            "Epoch 14/20\n",
            "219/219 [==============================] - 4s 20ms/step - loss: 0.0037 - val_loss: 0.0033\n",
            "Epoch 15/20\n",
            "219/219 [==============================] - 4s 20ms/step - loss: 0.0035 - val_loss: 0.0032\n",
            "Epoch 16/20\n",
            "219/219 [==============================] - 4s 19ms/step - loss: 0.0034 - val_loss: 0.0033\n",
            "Epoch 17/20\n",
            "219/219 [==============================] - 4s 19ms/step - loss: 0.0034 - val_loss: 0.0031\n",
            "Epoch 18/20\n",
            "219/219 [==============================] - 4s 19ms/step - loss: 0.0033 - val_loss: 0.0031\n",
            "Epoch 19/20\n",
            "219/219 [==============================] - 4s 18ms/step - loss: 0.0033 - val_loss: 0.0031\n",
            "Epoch 20/20\n",
            "219/219 [==============================] - 4s 19ms/step - loss: 0.0032 - val_loss: 0.0030\n"
          ],
          "name": "stdout"
        },
        {
          "output_type": "execute_result",
          "data": {
            "text/plain": [
              "<tensorflow.python.keras.callbacks.History at 0x7f349331e490>"
            ]
          },
          "metadata": {
            "tags": []
          },
          "execution_count": 18
        }
      ]
    },
    {
      "cell_type": "markdown",
      "metadata": {
        "id": "XkkgXHPsLs5i"
      },
      "source": [
        "--------\n",
        "<strong>왜 tanh -> relu로 바꾸니 성능이 안좋아졌을까?(애초에 왜 tanh가 디폴트지?)</strong>\n",
        "- ex) 경사하강법이 <strong>첫 번째 타임 스텝에서 출력을 조금 증가시키는 방향으로 가중치를 업데이트</strong>한다고 가정\n",
        "  - 동일한 가중치가 모든 타임 스텝에서 사용되므로 두 번째 타임 스텝의 출력도 조금 증가할 수 있고, 세 번째, 네 번째... <strong>N 번째도 마찬가지</strong>다.\n",
        "  - 즉, 이런식으로 출력이 <strong>폭주</strong>할 수 있다.\n",
        "  - 이런 상황에서 <strong>수렴하지 않는 relu함수</strong>를 사용한다면 이를 막지 못할 것이다.\n",
        "    - 물론, learning rate를 낮게 해서 위험을 감소시킬 순 있음\n",
        "  - 그래서 간단히 <strong>tanh같은 수렴하는 활성화 함수</strong>를 기본으로 사용하는 것\n",
        "\n",
        "\n",
        "<br>\n",
        "\n",
        "참고) 핸즈온 15.4.1: 불안정한 그레이디언트 문제와 싸우기"
      ]
    },
    {
      "cell_type": "markdown",
      "metadata": {
        "id": "00cmnc_wNtKU"
      },
      "source": [
        "### 여러 타임 스텝 앞을 예측하기\n",
        "- 다음 1 스텝이 아니라,다음 10 스텝의 값을 예측하고 싶다면?\n",
        "  - 방법1: 이미 훈련된 모델을 사용하여 다음 값 예측 -> 인풋으로 넣기 -> 다음 값 예측 -> 인풋 ... -> 10번째 값 예측\n",
        "  - 방법2: RNN을 훈련하여 다음 값 10개를 한 번에 예측"
      ]
    },
    {
      "cell_type": "markdown",
      "metadata": {
        "id": "aoqEus1FPveD"
      },
      "source": [
        "#### 방법1: 예측 -> 인풋 -> 예측 -> 인풋...  N번 반복\n",
        "- N=10일 때"
      ]
    },
    {
      "cell_type": "code",
      "metadata": {
        "id": "KX3AjS5ZPuw8"
      },
      "source": [
        "n_steps=50\n",
        "series=generate_time_series(1,n_steps+10)\n",
        "X_new, Y_new = series[:,:n_steps], series[:,n_steps:]\n",
        "X=X_new\n",
        "for step_ahead in range(10):\n",
        "  y_pred_one = model4.predict(X[:,step_ahead:])[:,np.newaxis,:] #차원 맞춰 주고\n",
        "  X=np.concatenate([X, y_pred_one],axis=1) #기존 인풋과 concat\n",
        "\n",
        "Y_pred = X[:, n_steps:] #뒤에 10개 X로 Y_new예측"
      ],
      "execution_count": 59,
      "outputs": []
    },
    {
      "cell_type": "code",
      "metadata": {
        "colab": {
          "base_uri": "https://localhost:8080/"
        },
        "id": "buY083jKXvrs",
        "outputId": "65bd1576-6b3c-49e1-db3a-69fd3ba23ea5"
      },
      "source": [
        "Y_new"
      ],
      "execution_count": 84,
      "outputs": [
        {
          "output_type": "execute_result",
          "data": {
            "text/plain": [
              "array([[[ 0.17075415],\n",
              "        [ 0.01138176],\n",
              "        [-0.14949368],\n",
              "        [-0.37321958],\n",
              "        [-0.46031514],\n",
              "        [-0.51971924],\n",
              "        [-0.6094004 ],\n",
              "        [-0.5567631 ],\n",
              "        [-0.54792917],\n",
              "        [-0.46920696]]], dtype=float32)"
            ]
          },
          "metadata": {
            "tags": []
          },
          "execution_count": 84
        }
      ]
    },
    {
      "cell_type": "code",
      "metadata": {
        "colab": {
          "base_uri": "https://localhost:8080/"
        },
        "id": "y4j5IBSxQyBN",
        "outputId": "c38e92fe-efdc-4c93-f9b1-6852390a1441"
      },
      "source": [
        "Y_pred"
      ],
      "execution_count": 60,
      "outputs": [
        {
          "output_type": "execute_result",
          "data": {
            "text/plain": [
              "array([[[-0.26945555],\n",
              "        [-0.33359936],\n",
              "        [-0.29922998],\n",
              "        [-0.50576895],\n",
              "        [-0.6751923 ],\n",
              "        [-0.5499312 ],\n",
              "        [-0.8395269 ],\n",
              "        [-0.5986985 ],\n",
              "        [-0.2887066 ],\n",
              "        [-0.56050885]]], dtype=float32)"
            ]
          },
          "metadata": {
            "tags": []
          },
          "execution_count": 60
        }
      ]
    },
    {
      "cell_type": "code",
      "metadata": {
        "colab": {
          "base_uri": "https://localhost:8080/",
          "height": 283
        },
        "id": "v9JxgYCpQ4gD",
        "outputId": "21e696fb-7b8a-4d4d-ee10-c22ec32dc2dc"
      },
      "source": [
        "plt.plot(Y_pred.reshape(10,-1), label='pred')\n",
        "plt.plot(Y_new.reshape(10,-1))\n",
        "plt.legend()"
      ],
      "execution_count": 61,
      "outputs": [
        {
          "output_type": "execute_result",
          "data": {
            "text/plain": [
              "<matplotlib.legend.Legend at 0x7f58fdc95c10>"
            ]
          },
          "metadata": {
            "tags": []
          },
          "execution_count": 61
        },
        {
          "output_type": "display_data",
          "data": {
            "image/png": "[encoded data removed]",
            "text/plain": [
              "<Figure size 432x288 with 1 Axes>"
            ]
          },
          "metadata": {
            "tags": [],
            "needs_background": "light"
          }
        }
      ]
    },
    {
      "cell_type": "markdown",
      "metadata": {
        "id": "Rei7rt2vVXXI"
      },
      "source": [
        "---------\n",
        "- 추세는 얼추... 맞은 것 같은데 "
      ]
    },
    {
      "cell_type": "markdown",
      "metadata": {
        "id": "kzVgTMJqP1nt"
      },
      "source": [
        "#### 방법2: RNN(시퀀스-투-벡터)"
      ]
    },
    {
      "cell_type": "markdown",
      "metadata": {
        "id": "jdZKeeI8TUAp"
      },
      "source": [
        "- N=10\n",
        "- 시퀀스-투-벡터 모델이지만 1개가 아닌 10개의 값 출력"
      ]
    },
    {
      "cell_type": "code",
      "metadata": {
        "id": "1xTyI_nhTHFN"
      },
      "source": [
        "n_steps= 50\n",
        "series=generate_time_series(10000, n_steps+10)\n",
        "X_train, y_train = series[:7000, :n_steps], series[:7000,-10:,0]#===타깃 값 주목(끝에서 10개)\n",
        "X_valid, y_valid = series[7000:9000, :n_steps], series[7000:9000, -10:,0]\n",
        "X_test, y_test=series[9000:, :n_steps], series[9000:,-10:,0]"
      ],
      "execution_count": 35,
      "outputs": []
    },
    {
      "cell_type": "code",
      "metadata": {
        "id": "Cjxwtm-STuDZ"
      },
      "source": [
        "model6=keras.models.Sequential([\n",
        "                                keras.layers.SimpleRNN(20, return_sequences=True, input_shape=[None, 1]),\n",
        "                                keras.layers.SimpleRNN(20),\n",
        "                                keras.layers.Dense(10)\n",
        "])"
      ],
      "execution_count": 36,
      "outputs": []
    },
    {
      "cell_type": "code",
      "metadata": {
        "colab": {
          "base_uri": "https://localhost:8080/"
        },
        "id": "5h63La3TT_-7",
        "outputId": "a7c31cf6-654c-4690-c180-67dd2ff761eb"
      },
      "source": [
        "model6.summary()"
      ],
      "execution_count": 37,
      "outputs": [
        {
          "output_type": "stream",
          "text": [
            "Model: \"sequential_1\"\n",
            "_________________________________________________________________\n",
            "Layer (type)                 Output Shape              Param #   \n",
            "=================================================================\n",
            "simple_rnn_2 (SimpleRNN)     (None, None, 20)          440       \n",
            "_________________________________________________________________\n",
            "simple_rnn_3 (SimpleRNN)     (None, 20)                820       \n",
            "_________________________________________________________________\n",
            "dense_1 (Dense)              (None, 10)                210       \n",
            "=================================================================\n",
            "Total params: 1,470\n",
            "Trainable params: 1,470\n",
            "Non-trainable params: 0\n",
            "_________________________________________________________________\n"
          ],
          "name": "stdout"
        }
      ]
    },
    {
      "cell_type": "code",
      "metadata": {
        "colab": {
          "base_uri": "https://localhost:8080/"
        },
        "id": "wPoybkgOUNa7",
        "outputId": "1877fc60-c02b-43c7-ab8d-491471a7f929"
      },
      "source": [
        "model6.compile(optimizer='adam', loss='mse')\n",
        "model6.fit(X_train, y_train, validation_data=(X_valid, y_valid), epochs=20)"
      ],
      "execution_count": 39,
      "outputs": [
        {
          "output_type": "stream",
          "text": [
            "Epoch 1/20\n",
            "219/219 [==============================] - 5s 17ms/step - loss: 0.1107 - val_loss: 0.0330\n",
            "Epoch 2/20\n",
            "219/219 [==============================] - 3s 15ms/step - loss: 0.0296 - val_loss: 0.0202\n",
            "Epoch 3/20\n",
            "219/219 [==============================] - 3s 15ms/step - loss: 0.0186 - val_loss: 0.0149\n",
            "Epoch 4/20\n",
            "219/219 [==============================] - 3s 15ms/step - loss: 0.0149 - val_loss: 0.0122\n",
            "Epoch 5/20\n",
            "219/219 [==============================] - 3s 15ms/step - loss: 0.0127 - val_loss: 0.0100\n",
            "Epoch 6/20\n",
            "219/219 [==============================] - 3s 15ms/step - loss: 0.0107 - val_loss: 0.0088\n",
            "Epoch 7/20\n",
            "219/219 [==============================] - 3s 15ms/step - loss: 0.0095 - val_loss: 0.0078\n",
            "Epoch 8/20\n",
            "219/219 [==============================] - 3s 15ms/step - loss: 0.0078 - val_loss: 0.0074\n",
            "Epoch 9/20\n",
            "219/219 [==============================] - 3s 15ms/step - loss: 0.0070 - val_loss: 0.0059\n",
            "Epoch 10/20\n",
            "219/219 [==============================] - 3s 15ms/step - loss: 0.0062 - val_loss: 0.0056\n",
            "Epoch 11/20\n",
            "219/219 [==============================] - 3s 15ms/step - loss: 0.0059 - val_loss: 0.0055\n",
            "Epoch 12/20\n",
            "219/219 [==============================] - 3s 15ms/step - loss: 0.0056 - val_loss: 0.0048\n",
            "Epoch 13/20\n",
            "219/219 [==============================] - 3s 16ms/step - loss: 0.0053 - val_loss: 0.0050\n",
            "Epoch 14/20\n",
            "219/219 [==============================] - 3s 15ms/step - loss: 0.0047 - val_loss: 0.0048\n",
            "Epoch 15/20\n",
            "219/219 [==============================] - 3s 15ms/step - loss: 0.0048 - val_loss: 0.0049\n",
            "Epoch 16/20\n",
            "219/219 [==============================] - 4s 16ms/step - loss: 0.0046 - val_loss: 0.0044\n",
            "Epoch 17/20\n",
            "219/219 [==============================] - 3s 16ms/step - loss: 0.0042 - val_loss: 0.0039\n",
            "Epoch 18/20\n",
            "219/219 [==============================] - 3s 15ms/step - loss: 0.0045 - val_loss: 0.0050\n",
            "Epoch 19/20\n",
            "219/219 [==============================] - 3s 15ms/step - loss: 0.0038 - val_loss: 0.0039\n",
            "Epoch 20/20\n",
            "219/219 [==============================] - 3s 15ms/step - loss: 0.0036 - val_loss: 0.0035\n"
          ],
          "name": "stdout"
        },
        {
          "output_type": "execute_result",
          "data": {
            "text/plain": [
              "<tensorflow.python.keras.callbacks.History at 0x7f59016ac9d0>"
            ]
          },
          "metadata": {
            "tags": []
          },
          "execution_count": 39
        }
      ]
    },
    {
      "cell_type": "markdown",
      "metadata": {
        "id": "HWCciwJ3Um3k"
      },
      "source": [
        "- 위 모델로 예측해보기"
      ]
    },
    {
      "cell_type": "code",
      "metadata": {
        "colab": {
          "base_uri": "https://localhost:8080/"
        },
        "id": "M3WhVmj-UKkK",
        "outputId": "e90744b2-2d71-4831-f183-178bc8a2fd8f"
      },
      "source": [
        "Y_pred2=model6.predict(X_new)\n",
        "Y_pred2"
      ],
      "execution_count": 62,
      "outputs": [
        {
          "output_type": "execute_result",
          "data": {
            "text/plain": [
              "array([[ 0.08488945, -0.11067114, -0.21381468, -0.36352   , -0.4209832 ,\n",
              "        -0.45862257, -0.4869159 , -0.5279871 , -0.52525985, -0.52882004]],\n",
              "      dtype=float32)"
            ]
          },
          "metadata": {
            "tags": []
          },
          "execution_count": 62
        }
      ]
    },
    {
      "cell_type": "code",
      "metadata": {
        "colab": {
          "base_uri": "https://localhost:8080/",
          "height": 285
        },
        "id": "tA7cDVomVAp2",
        "outputId": "d807dd0c-22a2-48a5-9e28-a92173a18328"
      },
      "source": [
        "plt.plot(Y_pred2.reshape(10,-1), label='pred')\n",
        "plt.plot(Y_new.reshape(10,-1))\n",
        "plt.legend()"
      ],
      "execution_count": 63,
      "outputs": [
        {
          "output_type": "execute_result",
          "data": {
            "text/plain": [
              "<matplotlib.legend.Legend at 0x7f58fdbb5990>"
            ]
          },
          "metadata": {
            "tags": []
          },
          "execution_count": 63
        },
        {
          "output_type": "display_data",
          "data": {
            "image/png": "[encoded data removed]",
            "text/plain": [
              "<Figure size 432x288 with 1 Axes>"
            ]
          },
          "metadata": {
            "tags": [],
            "needs_background": "light"
          }
        }
      ]
    },
    {
      "cell_type": "markdown",
      "metadata": {
        "id": "Z5q89btiWb6-"
      },
      "source": [
        "---------\n",
        "방법1로 나온 Y_pred보다 훠어얼씬 실제 값과 가까움\n",
        "\n",
        "=> 수치로 비교해보자"
      ]
    },
    {
      "cell_type": "markdown",
      "metadata": {
        "id": "YoySoGcaYwTk"
      },
      "source": [
        "- MAE"
      ]
    },
    {
      "cell_type": "code",
      "metadata": {
        "colab": {
          "base_uri": "https://localhost:8080/"
        },
        "id": "JWlg1jhRYZ5u",
        "outputId": "996aef98-f945-4891-d53b-a93e0c40008b"
      },
      "source": [
        "keras.losses.mean_absolute_error(Y_pred.reshape(1,10),Y_new.reshape(1,10)) #====방법1"
      ],
      "execution_count": 91,
      "outputs": [
        {
          "output_type": "execute_result",
          "data": {
            "text/plain": [
              "<tf.Tensor: shape=(1,), dtype=float32, numpy=array([0.1935152], dtype=float32)>"
            ]
          },
          "metadata": {
            "tags": []
          },
          "execution_count": 91
        }
      ]
    },
    {
      "cell_type": "code",
      "metadata": {
        "colab": {
          "base_uri": "https://localhost:8080/"
        },
        "id": "J-gqbfdhYiyo",
        "outputId": "e342b911-40d8-4df5-ee0f-7f76282c8cef"
      },
      "source": [
        "keras.losses.mean_absolute_error(Y_pred2.reshape(1,10),Y_new.reshape(1,10))"
      ],
      "execution_count": 92,
      "outputs": [
        {
          "output_type": "execute_result",
          "data": {
            "text/plain": [
              "<tf.Tensor: shape=(1,), dtype=float32, numpy=array([0.06159097], dtype=float32)>"
            ]
          },
          "metadata": {
            "tags": []
          },
          "execution_count": 92
        }
      ]
    },
    {
      "cell_type": "markdown",
      "metadata": {
        "id": "cmUPy3ewYxmA"
      },
      "source": [
        "- MSE"
      ]
    },
    {
      "cell_type": "code",
      "metadata": {
        "colab": {
          "base_uri": "https://localhost:8080/"
        },
        "id": "A7nDboV2YoUd",
        "outputId": "5ed4f262-dff2-4532-a3f5-dfa66cd9e854"
      },
      "source": [
        "keras.losses.mean_squared_error(Y_pred.reshape(1,10),Y_new.reshape(1,10)) #====방법 1"
      ],
      "execution_count": 93,
      "outputs": [
        {
          "output_type": "execute_result",
          "data": {
            "text/plain": [
              "<tf.Tensor: shape=(1,), dtype=float32, numpy=array([0.0530121], dtype=float32)>"
            ]
          },
          "metadata": {
            "tags": []
          },
          "execution_count": 93
        }
      ]
    },
    {
      "cell_type": "code",
      "metadata": {
        "colab": {
          "base_uri": "https://localhost:8080/"
        },
        "id": "k7iCbZHRYs8-",
        "outputId": "862af302-39ef-4e82-cc26-a811049bde12"
      },
      "source": [
        "keras.losses.mean_squared_error(Y_pred2.reshape(1,10),Y_new.reshape(1,10))"
      ],
      "execution_count": 94,
      "outputs": [
        {
          "output_type": "execute_result",
          "data": {
            "text/plain": [
              "<tf.Tensor: shape=(1,), dtype=float32, numpy=array([0.00516789], dtype=float32)>"
            ]
          },
          "metadata": {
            "tags": []
          },
          "execution_count": 94
        }
      ]
    },
    {
      "cell_type": "markdown",
      "metadata": {
        "id": "C2PVpMpHYILU"
      },
      "source": [
        "------------\n",
        "- 방법 1은  0.19351521(MAE) , 0.0530121(MSE) \n",
        "- 방법 2는 0.06159097(MAE), 0.00516789(MSE)\n",
        "\n",
        "=> 방법 2가 더  good"
      ]
    },
    {
      "cell_type": "markdown",
      "metadata": {
        "id": "tMghHPZgZaEg"
      },
      "source": [
        "#### 방법 3: RNN(시퀀스-투-시퀀스)\n",
        "- 마지막 스텝에서만 10개를 예측하는 위 모델 대신, 모든 타임 스텝에서 다음 값 10개를 예측하도록 훈련\n",
        "- 장점?\n",
        "  - 모든 타임 스텝에서 RNN출력에 대한 항이 손실에 포함된다는 것\n",
        "  - 즉, 각 타임 스텝의 출력에서 gradient가 흐를 수 있다  => 안정적 + 훈련 속도 업\n",
        "    - ex) 타임 스텝 0에서 타임 스텝 1~ 10까지 예측할 것이고, <br>\n",
        "      타임 스텝 1에선 타임 스텝 2~11까지 예측할 것이고 ...."
      ]
    },
    {
      "cell_type": "code",
      "metadata": {
        "id": "O1tKqvjwdXiH"
      },
      "source": [
        ""
      ],
      "execution_count": null,
      "outputs": []
    }
  ]
}