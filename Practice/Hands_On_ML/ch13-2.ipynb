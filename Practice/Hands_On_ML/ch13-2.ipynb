{
  "nbformat": 4,
  "nbformat_minor": 0,
  "metadata": {
    "colab": {
      "name": "ch13-2.ipynb",
      "provenance": [],
      "collapsed_sections": [],
      "toc_visible": true,
      "authorship_tag": "ABX9TyP0qBMcx1pSdDpr7bxSc/r0",
      "include_colab_link": true
    },
    "kernelspec": {
      "name": "python3",
      "display_name": "Python 3"
    },
    "language_info": {
      "name": "python"
    }
  },
  "cells": [
    {
      "cell_type": "markdown",
      "metadata": {
        "id": "view-in-github",
        "colab_type": "text"
      },
      "source": [
        "<a href=\"https://colab.research.google.com/github/PingPingE/Learn_ML_DL/blob/main/Practice/Hands_On_ML/ch13-2.ipynb\" target=\"_parent\"><img src=\"https://colab.research.google.com/assets/colab-badge.svg\" alt=\"Open In Colab\"/></a>"
      ]
    },
    {
      "cell_type": "markdown",
      "metadata": {
        "id": "3G7i_FX0xR15"
      },
      "source": [
        "# 텐서플로에서 데이터 적재와 전처리하기\n",
        "\n",
        "- 데이터의 양이 많은 경우, 이를 Binary로 serialization한 후 파일 형태로 저장하고 있다가, 이를 다시 읽어들이는 형태로 처리하면 속도 상의 이득을 기대할 수 있다.\n",
        "- 이를 위해 protocol buffer형태로 serialization을 수행해서 저장할 수 있는 TFRecord 포맷이 필요한 것\n",
        "\n",
        "*참고: [링크](http://solarisailab.com/archives/2603)<br>\n",
        "*protocol buffer: 구글이 개발한 이식성과 확장성이 좋고 효율적인 이진 포맷"
      ]
    },
    {
      "cell_type": "markdown",
      "metadata": {
        "id": "vtPUjYt_ydV5"
      },
      "source": [
        "# TFRecord 포맷\n",
        "- <strong>크기가 다른 연속된 이진 레코드</strong>를 저장하는 단순한 이진 포맷\n",
        "- 각 레코드는 길이, 길이가 올바른지 체크하는 CRC 체크섬, 실제 데이터, 데이터를 위한 CRC 체크섬으로 구성\n",
        "- <strong>tf.io.TFRecordWriter 클래스</strong>를 사용해서 TFRecord를 손쉽게 만든다."
      ]
    },
    {
      "cell_type": "code",
      "metadata": {
        "id": "o_g0u6sxkixS"
      },
      "source": [
        "import tensorflow as tf\n",
        "with tf.io.TFRecordWriter(\"my_data.tfrecord\") as f: #TFRecord 만들기\n",
        "  f.write(b\"This is the first record\")\n",
        "  f.write(b\"And this is the second record\")"
      ],
      "execution_count": 2,
      "outputs": []
    },
    {
      "cell_type": "markdown",
      "metadata": {
        "id": "Kg_UOE2NzDBq"
      },
      "source": [
        "- tf.data.TFRecordDataset을 사용해서 하나 이상의 TFRecord를 읽을 수 있다."
      ]
    },
    {
      "cell_type": "code",
      "metadata": {
        "colab": {
          "base_uri": "https://localhost:8080/"
        },
        "id": "rRjdlBWTy9BX",
        "outputId": "153539da-2c89-4ee7-df50-5a1d93118705"
      },
      "source": [
        "filepaths=['my_data.tfrecord']\n",
        "dataset=tf.data.TFRecordDataset(filepaths) \n",
        "for item in dataset:\n",
        "  print(item)"
      ],
      "execution_count": null,
      "outputs": [
        {
          "output_type": "stream",
          "text": [
            "tf.Tensor(b'This is the first record', shape=(), dtype=string)\n",
            "tf.Tensor(b'And this is the second record', shape=(), dtype=string)\n"
          ],
          "name": "stdout"
        }
      ]
    },
    {
      "cell_type": "markdown",
      "metadata": {
        "id": "_dTV-RCQ17cL"
      },
      "source": [
        "------------\n",
        "기본적으로 TFRecordDataset은 파일을 하나씩 차례로 읽는다.\n",
        "<br>-> num_parallel_reads를 지정해서 여러 파일에서 레코드를 번갈아 읽을 수 있다(DataAPI의 list_files()+interleave()와 동일한 결과)"
      ]
    },
    {
      "cell_type": "markdown",
      "metadata": {
        "id": "FMFQvSrj2NdC"
      },
      "source": [
        "## 압축된 TFRecord 파일\n",
        "- 네트워크를 통해 읽어야 하는 경우, TFRecord파일을 압축할 필요가 있다.\n",
        "- options 매개변수를 이용해서 압축된 TFRecord 파일을 만들 수 있다."
      ]
    },
    {
      "cell_type": "code",
      "metadata": {
        "id": "SpjqA5tP2QU6"
      },
      "source": [
        "options=tf.io.TFRecordOptions(compression_type=\"GZIP\") #압축 형식 지정\n",
        "with tf.io.TFRecordWriter(\"my_compressed.tfrecord\", options) as f:\n",
        "  f.write(b\"(compressed)This is the first record\")\n",
        "  f.write(b\"(compressed)And this is the second record\")"
      ],
      "execution_count": null,
      "outputs": []
    },
    {
      "cell_type": "code",
      "metadata": {
        "colab": {
          "base_uri": "https://localhost:8080/"
        },
        "id": "zfcMY_122uGO",
        "outputId": "166b18e1-44bc-47f4-e6e2-6bef39288c16"
      },
      "source": [
        "filepaths=['my_compressed.tfrecord']\n",
        "dataset=tf.data.TFRecordDataset(filepaths, compression_type=\"GZIP\") #압축된걸 읽을 때도 compression_type을 지정해야 한다\n",
        "for item in dataset:\n",
        "  print(item)"
      ],
      "execution_count": null,
      "outputs": [
        {
          "output_type": "stream",
          "text": [
            "tf.Tensor(b'(compressed)This is the first record', shape=(), dtype=string)\n",
            "tf.Tensor(b'(compressed)And this is the second record', shape=(), dtype=string)\n"
          ],
          "name": "stdout"
        }
      ]
    },
    {
      "cell_type": "markdown",
      "metadata": {
        "id": "SZ5nFIbZ3NB4"
      },
      "source": [
        "## 프로토콜 버퍼 개요\n",
        "- 각 레코드는 어떤 이진 포맷도 사용할 수 있지만, 일반적으로 TFRecord는 직렬화된 프로토콜 버퍼를 담는다.\n",
        "\n",
        "\n",
        "- 프로토콜 버퍼의 정의\n",
        "```\n",
        "syntax=\"proto3\"#포맷 버전 3\n",
        "#Person 객체 생성\n",
        "message Person{\n",
        "    string name=1;\n",
        "    int32 id=2;\n",
        "    repeated string email=3; #string 타입의 email필드를 하나 이상 가진다.\n",
        "}\n",
        "```\n",
        "\n",
        "------\n",
        "- 프로토콜 버퍼 객체는 직렬화해서 전송된 것을 의미하므로 message라고 부른다.\n",
        "- 각 필드에 부여된 1,2,3 값은 필드 식별자로, 레코드의 이진 표현에 사용된다."
      ]
    },
    {
      "cell_type": "markdown",
      "metadata": {
        "id": "whqMG2Ar9F5C"
      },
      "source": [
        "### 텐서플로 프로토콜 버퍼\n",
        "- TFRecord 파일에서 사용하는 전형적인 주요 프로토콜 버퍼는 <strong>데이터셋에 있는 하나의 샘플을 표현하는 Example 프로토콜 버퍼다.</strong>"
      ]
    },
    {
      "cell_type": "markdown",
      "metadata": {
        "id": "X2yW8VAu-OCp"
      },
      "source": [
        "\n",
        "\n",
        "```\n",
        "syntax=\"proto3\"\n",
        "message BytesList {repeated bytes value=1;}\n",
        "message FloatList {repeated float value=1 [packed=True];}\n",
        "message Int64List {repeated int64 value=1 [packed=True];}\n",
        "message Feature{\n",
        "    oneof kind{\n",
        "        BytesList bytes_list=1;\n",
        "        FloatList float_list=2;\n",
        "        Int64List int64_list=3;\n",
        "    }\n",
        "};\n",
        "message Features {map<string, Feature> feature=1; };\n",
        "message Example {Features features=1; };\n",
        "```\n",
        "\n"
      ]
    },
    {
      "cell_type": "markdown",
      "metadata": {
        "id": "eEnsU8eF9lzg"
      },
      "source": [
        "--------\n",
        "- [packed=True]는 효율적인 인코딩을 위해 반복적인 수치 필드에 사용된다.\n",
        "- Feature는 BytesList, FloatList, Int64List 중 하나를 담는다.\n",
        "- Features는 특성이름과 특성값을 매핑한 딕셔너리\n",
        "- Example은 하나의 Features 객체를 가진다."
      ]
    },
    {
      "cell_type": "code",
      "metadata": {
        "id": "7Jf6JG9-3r0i"
      },
      "source": [
        "from tensorflow.train import BytesList, FloatList, Int64List\n",
        "from tensorflow.train import Feature, Features, Example\n",
        "\n",
        "person_example=Example(\n",
        "    features=Features(\n",
        "        feature={\n",
        "            \"name\": Feature(bytes_list=BytesList(value=[b\"Alice\"])),\n",
        "            \"id\":Feature(int64_list=Int64List(value=[123])),\n",
        "            \"emails\":Feature(bytes_list=BytesList(value=[b\"a@b.com\", b\"c@d.com\"]))\n",
        "        }\n",
        "    )\n",
        ")"
      ],
      "execution_count": null,
      "outputs": []
    },
    {
      "cell_type": "code",
      "metadata": {
        "id": "CT1gx_-V1p4r"
      },
      "source": [
        "with tf.io.TFRecordWriter(\"my_contacts.tfrecord\") as f:\n",
        "  f.write(person_example.SerializeToString()) #직렬화하고 결과 데이터를 tfrecord파일에 저장"
      ],
      "execution_count": null,
      "outputs": []
    },
    {
      "cell_type": "markdown",
      "metadata": {
        "id": "aD_l64Hq_Sq-"
      },
      "source": [
        "-----------------------\n",
        "보통은 현재 포맷(csv파일 같은)을 읽어 각 샘플마다 하나의 Example 프로토콜 버퍼를 생성하고, 위와 같이 저장한다."
      ]
    },
    {
      "cell_type": "markdown",
      "metadata": {
        "id": "JozSEHuHACQx"
      },
      "source": [
        "### Example 프로토콜 버퍼를 읽고 파싱하기 "
      ]
    },
    {
      "cell_type": "code",
      "metadata": {
        "id": "_zCgIpIjAJl4"
      },
      "source": [
        "#설명 딕셔너리\n",
        "feature_description={\n",
        "    \"name\":tf.io.FixedLenFeature([], tf.string,default_value=\"\"),\n",
        "    \"id\":tf.io.FixedLenFeature([], tf.int64, default_value=0),\n",
        "    \"emails\":tf.io.VarLenFeature(tf.string),  #repeated이므로 특성 리스트 길이가 가변적\n",
        "}"
      ],
      "execution_count": null,
      "outputs": []
    },
    {
      "cell_type": "code",
      "metadata": {
        "id": "kx7dXHSj_FzX"
      },
      "source": [
        "for serialized_example in tf.data.TFRecordDataset([\"my_contacts.tfrecord\"]):\n",
        "  parsed_example=tf.io.parse_single_example(serialized_example, feature_description) #parse_example()로 배치 단위로 파싱할 수도 있다."
      ],
      "execution_count": null,
      "outputs": []
    },
    {
      "cell_type": "code",
      "metadata": {
        "colab": {
          "base_uri": "https://localhost:8080/",
          "height": 324
        },
        "id": "yq478IgSBWmu",
        "outputId": "23b19dc6-7f7d-4a6c-e0c8-91376698f3ad"
      },
      "source": [
        "for serialized_example in tf.data.TFRecordDataset([\"my_contacts.tfrecord\"]):\n",
        "  parsed_example=tf.io.parse_single_example(serialized_example) #설명 딕셔너리 없으면 error"
      ],
      "execution_count": null,
      "outputs": [
        {
          "output_type": "error",
          "ename": "TypeError",
          "evalue": "ignored",
          "traceback": [
            "\u001b[0;31m---------------------------------------------------------------------------\u001b[0m",
            "\u001b[0;31mTypeError\u001b[0m                                 Traceback (most recent call last)",
            "\u001b[0;32m<ipython-input-26-f0aae96c6b9c>\u001b[0m in \u001b[0;36m<module>\u001b[0;34m()\u001b[0m\n\u001b[1;32m      1\u001b[0m \u001b[0;32mfor\u001b[0m \u001b[0mserialized_example\u001b[0m \u001b[0;32min\u001b[0m \u001b[0mtf\u001b[0m\u001b[0;34m.\u001b[0m\u001b[0mdata\u001b[0m\u001b[0;34m.\u001b[0m\u001b[0mTFRecordDataset\u001b[0m\u001b[0;34m(\u001b[0m\u001b[0;34m[\u001b[0m\u001b[0;34m\"my_contacts.tfrecord\"\u001b[0m\u001b[0;34m]\u001b[0m\u001b[0;34m)\u001b[0m\u001b[0;34m:\u001b[0m\u001b[0;34m\u001b[0m\u001b[0;34m\u001b[0m\u001b[0m\n\u001b[0;32m----> 2\u001b[0;31m   \u001b[0mparsed_example\u001b[0m\u001b[0;34m=\u001b[0m\u001b[0mtf\u001b[0m\u001b[0;34m.\u001b[0m\u001b[0mio\u001b[0m\u001b[0;34m.\u001b[0m\u001b[0mparse_single_example\u001b[0m\u001b[0;34m(\u001b[0m\u001b[0mserialized_example\u001b[0m\u001b[0;34m)\u001b[0m\u001b[0;34m\u001b[0m\u001b[0;34m\u001b[0m\u001b[0m\n\u001b[0m",
            "\u001b[0;32m/usr/local/lib/python3.7/dist-packages/tensorflow/python/util/dispatch.py\u001b[0m in \u001b[0;36mwrapper\u001b[0;34m(*args, **kwargs)\u001b[0m\n\u001b[1;32m    199\u001b[0m     \u001b[0;34m\"\"\"Call target, and fall back on dispatchers if there is a TypeError.\"\"\"\u001b[0m\u001b[0;34m\u001b[0m\u001b[0;34m\u001b[0m\u001b[0m\n\u001b[1;32m    200\u001b[0m     \u001b[0;32mtry\u001b[0m\u001b[0;34m:\u001b[0m\u001b[0;34m\u001b[0m\u001b[0;34m\u001b[0m\u001b[0m\n\u001b[0;32m--> 201\u001b[0;31m       \u001b[0;32mreturn\u001b[0m \u001b[0mtarget\u001b[0m\u001b[0;34m(\u001b[0m\u001b[0;34m*\u001b[0m\u001b[0margs\u001b[0m\u001b[0;34m,\u001b[0m \u001b[0;34m**\u001b[0m\u001b[0mkwargs\u001b[0m\u001b[0;34m)\u001b[0m\u001b[0;34m\u001b[0m\u001b[0;34m\u001b[0m\u001b[0m\n\u001b[0m\u001b[1;32m    202\u001b[0m     \u001b[0;32mexcept\u001b[0m \u001b[0;34m(\u001b[0m\u001b[0mTypeError\u001b[0m\u001b[0;34m,\u001b[0m \u001b[0mValueError\u001b[0m\u001b[0;34m)\u001b[0m\u001b[0;34m:\u001b[0m\u001b[0;34m\u001b[0m\u001b[0;34m\u001b[0m\u001b[0m\n\u001b[1;32m    203\u001b[0m       \u001b[0;31m# Note: convert_to_eager_tensor currently raises a ValueError, not a\u001b[0m\u001b[0;34m\u001b[0m\u001b[0;34m\u001b[0m\u001b[0;34m\u001b[0m\u001b[0m\n",
            "\u001b[0;31mTypeError\u001b[0m: parse_single_example_v2() missing 1 required positional argument: 'features'"
          ]
        }
      ]
    },
    {
      "cell_type": "markdown",
      "metadata": {
        "id": "Ial5bASJBkVu"
      },
      "source": [
        "- 가변 길이 특성은 희소 텐서로 파싱된다(고정 길이 특성은 보통의 텐서)"
      ]
    },
    {
      "cell_type": "code",
      "metadata": {
        "colab": {
          "base_uri": "https://localhost:8080/"
        },
        "id": "-a2uuwfwA7mr",
        "outputId": "9e5b4f04-15ca-4cc4-bced-ff53ed53e82b"
      },
      "source": [
        "tf.sparse.to_dense(parsed_example['emails'], default_value=b\"\") #희소 -> 밀집 변환"
      ],
      "execution_count": null,
      "outputs": [
        {
          "output_type": "execute_result",
          "data": {
            "text/plain": [
              "<tf.Tensor: shape=(2,), dtype=string, numpy=array([b'a@b.com', b'c@d.com'], dtype=object)>"
            ]
          },
          "metadata": {
            "tags": []
          },
          "execution_count": 24
        }
      ]
    },
    {
      "cell_type": "code",
      "metadata": {
        "colab": {
          "base_uri": "https://localhost:8080/"
        },
        "id": "Zp8GmSD8BBwe",
        "outputId": "67df97ba-e082-4fae-cbcf-609a0ff440fd"
      },
      "source": [
        "parsed_example['emails'].values #근데 굳이 변환 할 필요 X 바로 참조하는 것이 더 간단"
      ],
      "execution_count": null,
      "outputs": [
        {
          "output_type": "execute_result",
          "data": {
            "text/plain": [
              "<tf.Tensor: shape=(2,), dtype=string, numpy=array([b'a@b.com', b'c@d.com'], dtype=object)>"
            ]
          },
          "metadata": {
            "tags": []
          },
          "execution_count": 25
        }
      ]
    },
    {
      "cell_type": "markdown",
      "metadata": {
        "id": "8R0N1cWDCnrB"
      },
      "source": [
        "### SequenceExample 프로토콜 버퍼를 사용해서 리스트의 리스트 다루기\n",
        "\n",
        "- SequenceExample 프로토콜 버퍼의 정의\n",
        "\n",
        "```\n",
        "message FeatureList { repeated Feature feature=1;};\n",
        "message FeatureLists {map<string, FeatureList> feature_list =1;};\n",
        "message SequenceExample{\n",
        "  Features context=1;\n",
        "  FeatureLists feature_lists=2;\n",
        "};\n",
        "```\n",
        "\n"
      ]
    },
    {
      "cell_type": "markdown",
      "metadata": {
        "id": "9kgHeoR0FF6N"
      },
      "source": [
        "------------\n",
        "- 문맥 데이터를 위한 하나의 Features 객체와 이름이 있는 한 개 이상의 FeatureList를 가진 FeatureLists 객체를 포함한다.\n",
        "- Feature 객체는 바이트 스트링, 64비트 정수, 실수의 리스트 중 하나\n",
        "- 나머지 과정은 Example을 만들고 직렬화하고 파싱하는 것과 비슷"
      ]
    },
    {
      "cell_type": "markdown",
      "metadata": {
        "id": "BPN8vL6GGEUt"
      },
      "source": [
        "# 입력 특성 전처리\n",
        "- 신경망을 위해 데이터를 준비하려면 일반적으로 모든 특성을 <strong>수치  특성</strong>으로 변환하고 <strong>정규화</strong>해야 한다.\n",
        "- 방법: pandas, numpy, scikit learn, Data API, 전처리 층(Lambda 층 등)포함 등"
      ]
    },
    {
      "cell_type": "markdown",
      "metadata": {
        "id": "hwuiKTnLA8p4"
      },
      "source": [
        "## 전처리 담당 Lambda 층 포함하기"
      ]
    },
    {
      "cell_type": "markdown",
      "metadata": {
        "id": "gh9zI1-0EQi8"
      },
      "source": [
        "- 방법 1"
      ]
    },
    {
      "cell_type": "code",
      "metadata": {
        "id": "Ub-e0VUV_z4m"
      },
      "source": [
        "from tensorflow import keras\n",
        "import numpy as np\n",
        "X_train=tf.constant([1.,2.,3.])\n",
        "means=np.mean(X_train, axis=0, keepdims=True)\n",
        "stds=np.std(X_train, axis=0, keepdims=True)\n",
        "eps=keras.backend.epsilon()\n",
        "\n",
        "model=keras.models.Sequential([\n",
        "                              keras.layers.Lambda(lambda inputs: (inputs-means)/(stds+eps)),\n",
        "                              keras.layers.Dense(5),\n",
        "                              keras.layers.Dense(1)\n",
        "])"
      ],
      "execution_count": 5,
      "outputs": []
    },
    {
      "cell_type": "markdown",
      "metadata": {
        "id": "wL8EUbABEU6U"
      },
      "source": [
        "- 방법 2"
      ]
    },
    {
      "cell_type": "code",
      "metadata": {
        "id": "TO_6ucKzAB6h"
      },
      "source": [
        "class Standardization(keras.layers.Layer):\n",
        "  def adapt(self, data_sample):\n",
        "    self.means_ = np.mean(data_sample, axis=0, keepdims=True)\n",
        "    self.stds_ = np.std(data_sample, axis=0, keepdims=True)\n",
        "  def call(self, inputs):\n",
        "    return (inputs-self.means_)/(self.stds_+keras.backend.epsilon())\n",
        "\n",
        "std_layer=Standardization()\n",
        "std_layer.adapt(X_train)"
      ],
      "execution_count": 20,
      "outputs": []
    },
    {
      "cell_type": "markdown",
      "metadata": {
        "id": "l9KAeOqZEXdR"
      },
      "source": [
        "------------\n",
        "방법 1은 mean, std를 전역으로 선언해서 Lambda 층에 활용했고, <br>\n",
        "방법 2는 사용자 정의 층을 만들어서 mean, std를 따로 계산하는 adapt 메서드를 만들었다. \n",
        "\n",
        "=> keras에는 \"LayerNomalization\"과 \"BatchNormalization\" 층이 구현되어 있다. \n",
        "[링크](https://keras.io/api/layers/normalization_layers/)"
      ]
    },
    {
      "cell_type": "markdown",
      "metadata": {
        "id": "7rs7KaZdI1bU"
      },
      "source": [
        "## 원-핫 벡터를 사용해서 범주형 특성 인코딩하기"
      ]
    },
    {
      "cell_type": "code",
      "metadata": {
        "id": "dBoh8Os4I90Z"
      },
      "source": [
        ""
      ],
      "execution_count": null,
      "outputs": []
    },
    {
      "cell_type": "markdown",
      "metadata": {
        "id": "be02hRasJD-K"
      },
      "source": [
        "## 임베딩을 사용해서 범주형 특성 인코딩하기 "
      ]
    },
    {
      "cell_type": "code",
      "metadata": {
        "id": "oqwMDJ-UAxG2"
      },
      "source": [
        ""
      ],
      "execution_count": null,
      "outputs": []
    },
    {
      "cell_type": "markdown",
      "metadata": {
        "id": "vEb7v4NwJHpk"
      },
      "source": [
        "## keras 전처리 층"
      ]
    }
  ]
}