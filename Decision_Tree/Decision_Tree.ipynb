{
  "nbformat": 4,
  "nbformat_minor": 0,
  "metadata": {
    "colab": {
      "name": "Decision_Tree.ipynb",
      "provenance": [],
      "collapsed_sections": [
        "rbUqap5F2DGC",
        "UrUZ1lsE8qif"
      ],
      "authorship_tag": "ABX9TyN3CEK3Ync5FP97GvnOR+dQ",
      "include_colab_link": true
    },
    "kernelspec": {
      "name": "python3",
      "display_name": "Python 3"
    }
  },
  "cells": [
    {
      "cell_type": "markdown",
      "metadata": {
        "id": "view-in-github",
        "colab_type": "text"
      },
      "source": [
        "<a href=\"https://colab.research.google.com/github/PingPingE/Learn_ML_DL/blob/main/Decision_Tree/Decision_Tree.ipynb\" target=\"_parent\"><img src=\"https://colab.research.google.com/assets/colab-badge.svg\" alt=\"Open In Colab\"/></a>"
      ]
    },
    {
      "cell_type": "markdown",
      "metadata": {
        "id": "5k258lsnho33"
      },
      "source": [
        "# Decision Tree\r\n",
        "\r\n",
        "- 데이터들이 가진 속성들로부터 분할 기준 속성을 판별하고, 분할 기준 속성에 따라 트리 형태로 모델링하는 분류 예측 모델\r\n",
        "- 분할 기준 설정: 부모노드(현재 노드)에 비해 자식 노드의 불순도가 감소되도록 설정한다.\r\n",
        "- 현재 노드의 불순도와 자식 노드의 불순도 차이가 최대가 되는 기준을 찾는다.\r\n",
        "<br>\r\n",
        "\r\n",
        "### 장점\r\n",
        "- 과정 이해 및 해석하기 쉽다.\r\n",
        "- 전처리 부담을 줄여준다.(스케일링 등의 작업이 무의미)\r\n",
        "- 대용량 데이터에서도 빠르게 만들 수 있다.\r\n",
        "- 수치형과 범주형 모두 다룰 수 있다.\r\n",
        "<br>\r\n",
        "\r\n",
        "### 단점\r\n",
        "- 연속형 변수를 비연속적인 값으로 취급하므로 분리의 경계점 근방에서 예측 오류가 클 가능성이 있다.\r\n",
        "- 선형 관계를 다루지 못한다. \r\n",
        "- input 데이터에만 의존해서 과적합의 위험성이 높다.(너무 데이터가 적거나 피처가 너무 많거나, 데이터가 불균형하거나 등의 경우 X) -> 앙상블, 차원 축소 등으로 완화하자.\r\n",
        "\r\n",
        "<br>\r\n",
        "\r\n",
        "### 의사결정나무의 분석 과정\r\n",
        "1. <strong>의사결정 나무 성장(Growing)</strong>: 분석의 목적과 자료구조에 따라 적절한 분리 규칙(Splitting Rule)을 찾아서 나무를 성장 시킨다(Stopping Rule을 만족하면 중단)\r\n",
        "- 재귀적으로 수행(분리하고 거기서 또 분리하고...)\r\n",
        "- 분리 기준: 입력 변수의 선택 + 범주 선정\r\n",
        "\r\n",
        "\r\n",
        "2. <strong>가지치기(Pruning)</strong>: 분류 오류(Classification Error)를 크게 할 위함(Risk)이 높거나 부적절한 추론규칙을 갖고 있는 가지(Branch) 또는 불필요한 가지를 제거한다.\r\n",
        "\r\n",
        "3. <strong>타당성 평가</strong>: 이익 도표(Gain chart), 위험 도표(Risk chart)를 이용해서 Cross validation 등을 이용한 평가 수행\r\n",
        "\r\n",
        "4. <strong>해석 및 예측</strong>: 구축된 의사결정나무 모형을 해석하고, 분류 및 예측 모형을 설정하여 데이터의 분류 및 예측에 활용한다.\r\n"
      ]
    },
    {
      "cell_type": "markdown",
      "metadata": {
        "id": "LB4KJjWJzygR"
      },
      "source": [
        "참고)\r\n",
        "- [scikit-learn](https://scikit-learn.org/stable/modules/tree.html)\r\n",
        "- [scikit-learn github](https://github.com/scikit-learn/scikit-learn/blob/main/sklearn/tree/_tree.pyx)\r\n",
        "- [youtube-StatQuest](https://www.youtube.com/watch?v=7VeUPuFGJHk)\r\n",
        "- 수제비\r\n",
        "- 핸즈온 머신러닝"
      ]
    },
    {
      "cell_type": "code",
      "metadata": {
        "id": "QR3FCj1QhBWo"
      },
      "source": [
        "import numpy as np\r\n",
        "import pandas as pd\r\n",
        "from sklearn.model_selection import train_test_split\r\n",
        "from matplotlib import pyplot as plt\r\n",
        "import seaborn as sns\r\n",
        "from sklearn import tree\r\n",
        "from sklearn.datasets import load_iris\r\n",
        "from sklearn.datasets import load_boston"
      ],
      "execution_count": null,
      "outputs": []
    },
    {
      "cell_type": "markdown",
      "metadata": {
        "id": "kM6AB2ks15Hi"
      },
      "source": [
        "## Classification"
      ]
    },
    {
      "cell_type": "code",
      "metadata": {
        "id": "RWrDyjgvhX9m"
      },
      "source": [
        "X,y=load_iris(return_X_y=True)\r\n",
        "clf=tree.DecisionTreeClassifier()\r\n",
        "clf=clf.fit(X,y)"
      ],
      "execution_count": null,
      "outputs": []
    },
    {
      "cell_type": "code",
      "metadata": {
        "colab": {
          "base_uri": "https://localhost:8080/"
        },
        "id": "oEx5sIqg1thM",
        "outputId": "762a7d31-221d-477e-9442-3825770baf11"
      },
      "source": [
        "clf"
      ],
      "execution_count": null,
      "outputs": [
        {
          "output_type": "execute_result",
          "data": {
            "text/plain": [
              "DecisionTreeClassifier(ccp_alpha=0.0, class_weight=None, criterion='gini',\n",
              "                       max_depth=None, max_features=None, max_leaf_nodes=None,\n",
              "                       min_impurity_decrease=0.0, min_impurity_split=None,\n",
              "                       min_samples_leaf=1, min_samples_split=2,\n",
              "                       min_weight_fraction_leaf=0.0, presort='deprecated',\n",
              "                       random_state=None, splitter='best')"
            ]
          },
          "metadata": {
            "tags": []
          },
          "execution_count": 23
        }
      ]
    },
    {
      "cell_type": "code",
      "metadata": {
        "colab": {
          "base_uri": "https://localhost:8080/"
        },
        "id": "cfTmqexWvhV0",
        "outputId": "66a32960-c9f7-47ce-9f6a-c5e619fff48f"
      },
      "source": [
        "X.shape"
      ],
      "execution_count": null,
      "outputs": [
        {
          "output_type": "execute_result",
          "data": {
            "text/plain": [
              "(150, 4)"
            ]
          },
          "metadata": {
            "tags": []
          },
          "execution_count": 19
        }
      ]
    },
    {
      "cell_type": "code",
      "metadata": {
        "colab": {
          "base_uri": "https://localhost:8080/",
          "height": 575
        },
        "id": "5z9VWOGduhAI",
        "outputId": "15e77fd5-6517-4269-fcc6-2e9219643f77"
      },
      "source": [
        "plt.figure(figsize=(10,10))\r\n",
        "tree.plot_tree(clf)\r\n",
        "plt.show()"
      ],
      "execution_count": null,
      "outputs": [
        {
          "output_type": "display_data",
          "data": {
            "image/png": "[encoded data removed]",
            "text/plain": [
              "<Figure size 720x720 with 1 Axes>"
            ]
          },
          "metadata": {
            "tags": [],
            "needs_background": "light"
          }
        }
      ]
    },
    {
      "cell_type": "markdown",
      "metadata": {
        "id": "0NOWll-W12qq"
      },
      "source": [
        "## Regression"
      ]
    },
    {
      "cell_type": "code",
      "metadata": {
        "id": "ucYaIpdMuBBk"
      },
      "source": [
        "X_2,y_2=load_boston(return_X_y=True)\r\n",
        "reg=tree.DecisionTreeRegressor(max_depth=3) #깊어서 보기 힘듦...\r\n",
        "reg=reg.fit(X_2,y_2)"
      ],
      "execution_count": null,
      "outputs": []
    },
    {
      "cell_type": "code",
      "metadata": {
        "colab": {
          "base_uri": "https://localhost:8080/"
        },
        "id": "mua1RUOH17Y7",
        "outputId": "e96a5515-26e8-4604-f833-b9deb3badccd"
      },
      "source": [
        "reg"
      ],
      "execution_count": null,
      "outputs": [
        {
          "output_type": "execute_result",
          "data": {
            "text/plain": [
              "DecisionTreeRegressor(ccp_alpha=0.0, criterion='mse', max_depth=3,\n",
              "                      max_features=None, max_leaf_nodes=None,\n",
              "                      min_impurity_decrease=0.0, min_impurity_split=None,\n",
              "                      min_samples_leaf=1, min_samples_split=2,\n",
              "                      min_weight_fraction_leaf=0.0, presort='deprecated',\n",
              "                      random_state=None, splitter='best')"
            ]
          },
          "metadata": {
            "tags": []
          },
          "execution_count": 24
        }
      ]
    },
    {
      "cell_type": "code",
      "metadata": {
        "colab": {
          "base_uri": "https://localhost:8080/"
        },
        "id": "H1DmyvuhveGZ",
        "outputId": "c4819d0e-0e9e-4817-85ea-0cb9fa0fd38e"
      },
      "source": [
        "X_2.shape"
      ],
      "execution_count": null,
      "outputs": [
        {
          "output_type": "execute_result",
          "data": {
            "text/plain": [
              "(506, 13)"
            ]
          },
          "metadata": {
            "tags": []
          },
          "execution_count": 18
        }
      ]
    },
    {
      "cell_type": "code",
      "metadata": {
        "colab": {
          "base_uri": "https://localhost:8080/",
          "height": 575
        },
        "id": "CBS3rQdOvICk",
        "outputId": "31b802d3-7956-4a6a-fc2d-8f98be231008"
      },
      "source": [
        "plt.figure(figsize=(10,10))\r\n",
        "tree.plot_tree(reg)\r\n",
        "plt.show()"
      ],
      "execution_count": null,
      "outputs": [
        {
          "output_type": "display_data",
          "data": {
            "image/png": "[encoded data removed]",
            "text/plain": [
              "<Figure size 720x720 with 1 Axes>"
            ]
          },
          "metadata": {
            "tags": [],
            "needs_background": "light"
          }
        }
      ]
    },
    {
      "cell_type": "markdown",
      "metadata": {
        "id": "egYwhGD00YbQ"
      },
      "source": [
        "## 의사결정나무의 구성요소"
      ]
    },
    {
      "cell_type": "code",
      "metadata": {
        "id": "lep7PsXI0XT6"
      },
      "source": [
        "cdef struct Node:\r\n",
        "    # Base storage structure for the nodes in a Tree object\r\n",
        "\r\n",
        "    SIZE_t left_child                    # id of the left child of the node\r\n",
        "    SIZE_t right_child                   # id of the right child of the node\r\n",
        "    SIZE_t feature                       # Feature used for splitting the node\r\n",
        "    DOUBLE_t threshold                   # Threshold value at the node\r\n",
        "    DOUBLE_t impurity                    # Impurity of the node (i.e., the value of the criterion)\r\n",
        "    SIZE_t n_node_samples                # Number of samples at the node\r\n",
        "    DOUBLE_t weighted_n_node_samples     # Weighted number of samples at the node"
      ],
      "execution_count": null,
      "outputs": []
    },
    {
      "cell_type": "markdown",
      "metadata": {
        "id": "9jaqohd82IZE"
      },
      "source": [
        "## 성장(Growing) 과정"
      ]
    },
    {
      "cell_type": "code",
      "metadata": {
        "id": "NcInm00R2H3R"
      },
      "source": [
        "#=======DepthFirstTreeBuilder\r\n",
        "cdef Stack stack = Stack(INITIAL_STACK_SIZE)\r\n",
        "        cdef StackRecord stack_record\r\n",
        "\r\n",
        "        with nogil:\r\n",
        "            # push root node onto stack\r\n",
        "            rc = stack.push(0, n_node_samples, 0, _TREE_UNDEFINED, 0, INFINITY, 0)\r\n",
        "            if rc == -1:\r\n",
        "                # got return code -1 - out-of-memory\r\n",
        "                with gil:\r\n",
        "                    raise MemoryError()\r\n",
        "\r\n",
        "            while not stack.is_empty():\r\n",
        "                            stack.pop(&stack_record)\r\n",
        "\r\n",
        "                            start = stack_record.start\r\n",
        "                            end = stack_record.end\r\n",
        "                            depth = stack_record.depth\r\n",
        "                            parent = stack_record.parent\r\n",
        "                            is_left = stack_record.is_left\r\n",
        "                            impurity = stack_record.impurity\r\n",
        "                            n_constant_features = stack_record.n_constant_features\r\n",
        "\r\n",
        "                            n_node_samples = end - start\r\n",
        "                            splitter.node_reset(start, end, &weighted_n_node_samples)\r\n",
        "\r\n",
        "                            #=======Stopping rule 체크\r\n",
        "                            is_leaf = (depth >= max_depth or\r\n",
        "                                      n_node_samples < min_samples_split or\r\n",
        "                                      n_node_samples < 2 * min_samples_leaf or\r\n",
        "                                      weighted_n_node_samples < 2 * min_weight_leaf)\r\n",
        "\r\n",
        "                            if first:\r\n",
        "                                impurity = splitter.node_impurity()\r\n",
        "                                first = 0\r\n",
        "\r\n",
        "                            #=======Stopping rule에 걸렸거나 impurity가 최소 기준보다 낮으면 가지치기\r\n",
        "                            is_leaf = (is_leaf or\r\n",
        "                                      (impurity <= min_impurity_split))\r\n",
        "\r\n",
        "                            if not is_leaf: #=======아무 해당 없으면 split 조건 확인\r\n",
        "                                splitter.node_split(impurity, &split, &n_constant_features)\r\n",
        "                                # If EPSILON=0 in the below comparison, float precision\r\n",
        "                                # issues stop splitting, producing trees that are\r\n",
        "                                # dissimilar to v0.18\r\n",
        "                                is_leaf = (is_leaf or split.pos >= end or\r\n",
        "                                          (split.improvement + EPSILON <\r\n",
        "                                            min_impurity_decrease))#=======Splitting rule 체크\r\n",
        "\r\n",
        "                            node_id = tree._add_node(parent, is_left, is_leaf, split.feature,\r\n",
        "                                                    split.threshold, impurity, n_node_samples,\r\n",
        "                                                    weighted_n_node_samples)\r\n",
        "\r\n",
        "                            if node_id == SIZE_MAX: #=======끝?\r\n",
        "                                rc = -1\r\n",
        "                                break\r\n",
        "\r\n",
        "\r\n",
        "                            # Store value for all nodes, to facilitate tree/model\r\n",
        "                            # inspection and interpretation\r\n",
        "                            splitter.node_value(tree.value + node_id * tree.value_stride)\r\n",
        "\r\n",
        "                            if not is_leaf: #=======아무것도 걸린 것 없으면 split 수행 + stack에 넣기\r\n",
        "                                # Push right child on stack\r\n",
        "                                rc = stack.push(split.pos, end, depth + 1, node_id, 0,\r\n",
        "                                                split.impurity_right, n_constant_features)\r\n",
        "                                if rc == -1:\r\n",
        "                                    break\r\n",
        "\r\n",
        "                                # Push left child on stack\r\n",
        "                                rc = stack.push(start, split.pos, depth + 1, node_id, 1,\r\n",
        "                                                split.impurity_left, n_constant_features)\r\n",
        "                                if rc == -1:\r\n",
        "                                    break\r\n",
        "\r\n",
        "                            if depth > max_depth_seen:\r\n",
        "                                max_depth_seen = depth\r\n",
        "\r\n",
        "                        if rc >= 0:\r\n",
        "                            rc = tree._resize_c(tree.node_count)\r\n",
        "\r\n",
        "                        if rc >= 0:\r\n",
        "                            tree.max_depth = max_depth_seen\r\n",
        "                    if rc == -1:\r\n",
        "                        raise MemoryError()"
      ],
      "execution_count": null,
      "outputs": []
    },
    {
      "cell_type": "markdown",
      "metadata": {
        "id": "kaEKh_fEACGw"
      },
      "source": [
        "## 가지치기(Pruning) 과정"
      ]
    },
    {
      "cell_type": "markdown",
      "metadata": {
        "id": "3JJ1yeJUBNDq"
      },
      "source": [
        "- 큰 트리를 만든 후, subtree로 가지치기를 한다.\r\n",
        "- Cost Complexity Pruning: cost-complexity function값이 작은 subtree를 선택하는 방법\r\n",
        "> 그냥 cost값(R(T))만 고려해선 overfitting의 해결책이 될 수 없다. 그래서 Tree Complexity Penalty(a|T|)를 cost에 더해서 고려한다. <br><br>\r\n",
        "> Cα(T)=R(T)+α|T| <br>\r\n",
        "> a는 하이퍼파라미터(얼마나 penalty를 줄 것 인지), T는 리프 노드 개수(subtree의 크기가 클 수록 값이 커지니까)\r\n",
        "\r\n",
        "\r\n",
        "참고: [youtube-StatQuest](https://www.youtube.com/watch?v=D0efHEJsfHo), [StackExchange](https://stats.stackexchange.com/questions/193538/how-to-choose-alpha-in-cost-complexity-pruning)"
      ]
    },
    {
      "cell_type": "markdown",
      "metadata": {
        "id": "WdMZPtR9je53"
      },
      "source": [
        "As formula: Minimize\r\n",
        "Cα(T−Tt)−Cα(T)=R(T−Tt)+α|T−Tt|−(R(T)+α|T|)=R(T−Tt)−R(T)+α(|T−Tt|−|T|)=1R(T)−R(Tt)+R(t)−R(T)+α(|T|−|Tt|+1−|T|)=R(t)−R(Tt)+α(1−|Tt|)\r\n",
        "\r\n",
        "This is 0 exactly when\r\n",
        "\r\n",
        "α=(R(t)−R(Tt))/|Tt|−1\r\n",
        "\r\n",
        "So minimizing Cα(T−Tt)−Cα(T) means minimizing α=(R(t)−R(Tt))/|Tt|−1"
      ]
    },
    {
      "cell_type": "code",
      "metadata": {
        "id": "CLGHibIXADpo"
      },
      "source": [
        "#sklearn/tree/_tree.pyx  ->  line 1294~\r\n",
        "cdef _cost_complexity_prune(unsigned char[:] leaves_in_subtree, # OUT\r\n",
        "                            Tree orig_tree,\r\n",
        "                            _CCPPruneController controller):\r\n",
        "    \"\"\"Perform cost complexity pruning.\r\n",
        "    This function takes an already grown tree, `orig_tree` and outputs a\r\n",
        "    boolean mask `leaves_in_subtree` to are the leaves in the pruned tree. The\r\n",
        "    controller signals when the pruning should stop and is passed the\r\n",
        "    metrics of the subtrees during the pruning process.\r\n",
        "    Parameters\r\n",
        "    ----------\r\n",
        "    leaves_in_subtree : unsigned char[:]\r\n",
        "        Output for leaves of subtree\r\n",
        "    orig_tree : Tree\r\n",
        "        Original tree\r\n",
        "    ccp_controller : _CCPPruneController\r\n",
        "        Cost complexity controller\r\n",
        "    \"\"\""
      ],
      "execution_count": null,
      "outputs": []
    },
    {
      "cell_type": "code",
      "metadata": {
        "id": "_XEFT5YZAWd_"
      },
      "source": [
        "\r\n",
        "# find parent node ids and leaves\r\n",
        "    with nogil:\r\n",
        "\r\n",
        "        for i in range(r_node.shape[0]):\r\n",
        "            r_node[i] = (\r\n",
        "                weighted_n_node_samples[i] * impurity[i] / total_sum_weights)\r\n",
        "\r\n",
        "        # Push root node, using StackRecord.start as node id\r\n",
        "        rc = stack.push(0, 0, 0, -1, 0, 0, 0)\r\n",
        "        if rc == -1:\r\n",
        "            with gil:\r\n",
        "                raise MemoryError(\"pruning tree\")\r\n",
        "\r\n",
        "        while not stack.is_empty():\r\n",
        "            stack.pop(&stack_record)\r\n",
        "            node_idx = stack_record.start\r\n",
        "            parent[node_idx] = stack_record.parent\r\n",
        "            if child_l[node_idx] == _TREE_LEAF:\r\n",
        "                # ... and child_r[node_idx] == _TREE_LEAF:\r\n",
        "                leaves_in_subtree[node_idx] = 1\r\n",
        "            else:\r\n",
        "                rc = stack.push(child_l[node_idx], 0, 0, node_idx, 0, 0, 0)\r\n",
        "                if rc == -1:\r\n",
        "                    with gil:\r\n",
        "                        raise MemoryError(\"pruning tree\")\r\n",
        "\r\n",
        "                rc = stack.push(child_r[node_idx], 0, 0, node_idx, 0, 0, 0)\r\n",
        "                if rc == -1:\r\n",
        "                    with gil:\r\n",
        "                        raise MemoryError(\"pruning tree\")\r\n",
        "\r\n",
        "        # computes number of leaves in all branches and the overall impurity of\r\n",
        "        # the branch. The overall impurity is the sum of r_node in its leaves.\r\n",
        "        for leaf_idx in range(leaves_in_subtree.shape[0]):\r\n",
        "            if not leaves_in_subtree[leaf_idx]:\r\n",
        "                continue\r\n",
        "            r_branch[leaf_idx] = r_node[leaf_idx]\r\n",
        "\r\n",
        "            # bubble up values to ancestor nodes\r\n",
        "            current_r = r_node[leaf_idx]\r\n",
        "            while leaf_idx != 0:\r\n",
        "                parent_idx = parent[leaf_idx]\r\n",
        "                r_branch[parent_idx] += current_r\r\n",
        "                n_leaves[parent_idx] += 1\r\n",
        "                leaf_idx = parent_idx\r\n",
        "\r\n",
        "        for i in range(leaves_in_subtree.shape[0]):\r\n",
        "            candidate_nodes[i] = not leaves_in_subtree[i]\r\n",
        "\r\n",
        "        # save metrics before pruning\r\n",
        "        controller.save_metrics(0.0, r_branch[0])\r\n",
        "\r\n",
        "        # while root node is not a leaf\r\n",
        "        #===========alpha값 구하는 부분\r\n",
        "        while candidate_nodes[0]:\r\n",
        "\r\n",
        "            # computes ccp_alpha for subtrees and finds the minimal alpha\r\n",
        "            effective_alpha = max_float64\r\n",
        "            for i in range(n_nodes):\r\n",
        "                if not candidate_nodes[i]:\r\n",
        "                    continue\r\n",
        "                subtree_alpha = (r_node[i] - r_branch[i]) / (n_leaves[i] - 1) #===============이 부분이 위 공식에 따라 alpha값을 구하는 부분\r\n",
        "                if subtree_alpha < effective_alpha: #=========effective_alpha는 최적(최소)의 alpha값을 저장하는 변수\r\n",
        "                    effective_alpha = subtree_alpha\r\n",
        "                    pruned_branch_node_idx = i\r\n",
        "\r\n",
        "            if controller.stop_pruning(effective_alpha):\r\n",
        "                break\r\n",
        "\r\n",
        "            # stack uses only the start variable\r\n",
        "            rc = stack.push(pruned_branch_node_idx, 0, 0, 0, 0, 0, 0)\r\n",
        "            if rc == -1:\r\n",
        "                with gil:\r\n",
        "                    raise MemoryError(\"pruning tree\")\r\n",
        "\r\n",
        "            # descendants of branch are not in subtree\r\n",
        "            while not stack.is_empty():\r\n",
        "                stack.pop(&stack_record)\r\n",
        "                node_idx = stack_record.start\r\n",
        "\r\n",
        "                if not in_subtree[node_idx]:\r\n",
        "                    continue # branch has already been marked for pruning\r\n",
        "                candidate_nodes[node_idx] = 0\r\n",
        "                leaves_in_subtree[node_idx] = 0\r\n",
        "                in_subtree[node_idx] = 0\r\n",
        "\r\n",
        "                if child_l[node_idx] != _TREE_LEAF:\r\n",
        "                    # ... and child_r[node_idx] != _TREE_LEAF:\r\n",
        "                    rc = stack.push(child_l[node_idx], 0, 0, 0, 0, 0, 0)\r\n",
        "                    if rc == -1:\r\n",
        "                        with gil:\r\n",
        "                            raise MemoryError(\"pruning tree\")\r\n",
        "                    rc = stack.push(child_r[node_idx], 0, 0, 0, 0, 0, 0)\r\n",
        "                    if rc == -1:\r\n",
        "                        with gil:\r\n",
        "                            raise MemoryError(\"pruning tree\")\r\n",
        "            leaves_in_subtree[pruned_branch_node_idx] = 1\r\n",
        "            in_subtree[pruned_branch_node_idx] = 1\r\n",
        "\r\n",
        "            # updates number of leaves\r\n",
        "            n_pruned_leaves = n_leaves[pruned_branch_node_idx] - 1\r\n",
        "            n_leaves[pruned_branch_node_idx] = 0\r\n",
        "\r\n",
        "            # computes the increase in r_branch to bubble up\r\n",
        "            r_diff = r_node[pruned_branch_node_idx] - r_branch[pruned_branch_node_idx]\r\n",
        "            r_branch[pruned_branch_node_idx] = r_node[pruned_branch_node_idx]\r\n",
        "\r\n",
        "            # bubble up values to ancestors\r\n",
        "            node_idx = parent[pruned_branch_node_idx]\r\n",
        "            while node_idx != -1:\r\n",
        "                n_leaves[node_idx] -= n_pruned_leaves\r\n",
        "                r_branch[node_idx] += r_diff\r\n",
        "                node_idx = parent[node_idx]\r\n",
        "\r\n",
        "            controller.save_metrics(effective_alpha, r_branch[0])\r\n",
        "\r\n",
        "        controller.after_pruning(in_subtree)"
      ],
      "execution_count": null,
      "outputs": []
    },
    {
      "cell_type": "markdown",
      "metadata": {
        "id": "rbUqap5F2DGC"
      },
      "source": [
        "## Detail"
      ]
    },
    {
      "cell_type": "markdown",
      "metadata": {
        "id": "UrUZ1lsE8qif"
      },
      "source": [
        "### add_node"
      ]
    },
    {
      "cell_type": "code",
      "metadata": {
        "id": "4kB2R5Kc8p6E"
      },
      "source": [
        "cdef SIZE_t _add_node(self, SIZE_t parent, bint is_left, bint is_leaf,\r\n",
        "                          SIZE_t feature, double threshold, double impurity,\r\n",
        "                          SIZE_t n_node_samples,\r\n",
        "                          double weighted_n_node_samples) nogil except -1:\r\n",
        "        \"\"\"Add a node to the tree.\r\n",
        "        The new node registers itself as the child of its parent.\r\n",
        "        Returns (size_t)(-1) on error.\r\n",
        "        \"\"\"\r\n",
        "        cdef SIZE_t node_id = self.node_count #id=순서(개수)\r\n",
        "\r\n",
        "        if node_id >= self.capacity:\r\n",
        "            if self._resize_c() != 0:\r\n",
        "                return SIZE_MAX\r\n",
        "\r\n",
        "        cdef Node* node = &self.nodes[node_id]\r\n",
        "        node.impurity = impurity\r\n",
        "        node.n_node_samples = n_node_samples\r\n",
        "        node.weighted_n_node_samples = weighted_n_node_samples\r\n",
        "\r\n",
        "        if parent != _TREE_UNDEFINED: #=======리프노드 아니면 자식 추가\r\n",
        "            if is_left:\r\n",
        "                self.nodes[parent].left_child = node_id\r\n",
        "            else:\r\n",
        "                self.nodes[parent].right_child = node_id\r\n",
        "\r\n",
        "        if is_leaf:#=======리프노드면 리프노드라고 표시\r\n",
        "            node.left_child = _TREE_LEAF\r\n",
        "            node.right_child = _TREE_LEAF\r\n",
        "            node.feature = _TREE_UNDEFINED\r\n",
        "            node.threshold = _TREE_UNDEFINED\r\n",
        "\r\n",
        "        else:\r\n",
        "            # left_child and right_child will be set later\r\n",
        "            node.feature = feature\r\n",
        "            node.threshold = threshold\r\n",
        "\r\n",
        "        self.node_count += 1 #=======노드 개수 ++\r\n",
        "\r\n",
        "        return node_id"
      ],
      "execution_count": null,
      "outputs": []
    }
  ]
}