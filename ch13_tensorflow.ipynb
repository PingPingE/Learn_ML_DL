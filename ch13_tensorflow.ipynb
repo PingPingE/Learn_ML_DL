{
  "nbformat": 4,
  "nbformat_minor": 0,
  "metadata": {
    "colab": {
      "name": "ch13-tensorflow.ipynb",
      "provenance": [],
      "collapsed_sections": [],
      "authorship_tag": "ABX9TyPbabtvjbmWUqThUF+Tt/fZ",
      "include_colab_link": true
    },
    "kernelspec": {
      "name": "python3",
      "display_name": "Python 3"
    }
  },
  "cells": [
    {
      "cell_type": "markdown",
      "metadata": {
        "id": "view-in-github",
        "colab_type": "text"
      },
      "source": [
        "<a href=\"https://colab.research.google.com/github/PingPingE/Learn_ML_DL/blob/main/ch13_tensorflow.ipynb\" target=\"_parent\"><img src=\"https://colab.research.google.com/assets/colab-badge.svg\" alt=\"Open In Colab\"/></a>"
      ]
    },
    {
      "cell_type": "markdown",
      "metadata": {
        "id": "xJ9emFPiQaBI"
      },
      "source": [
        "# 텐서플로에서 데이터 적재와 전처리하기\r\n",
        "- 메모리 용량에 맞지 않는 큰 규모의 데이터셋으로 딥러닝 시스템을 훈련해야 하는 경우 -> 데이터 API\r\n",
        "- 데이터 API로 대규모의 데이터셋을 효율적으로 로드하고 전처리할 수 있다."
      ]
    },
    {
      "cell_type": "markdown",
      "metadata": {
        "id": "61rxirc15fmB"
      },
      "source": [
        "# 데이터 API\r\n",
        "- 전체적인 데이터 API의 중심에는 <strong>연속된 데이터 샘플인 Dataset</strong> 개념이 있다.\r\n",
        "- 일반적으로 <strong>디스크에서 데이터를 점진적으로 읽는</strong> 데이터셋을 사용한다.\r\n"
      ]
    },
    {
      "cell_type": "code",
      "metadata": {
        "id": "hrWxe9MF5v3c"
      },
      "source": [
        "import tensorflow as tf"
      ],
      "execution_count": 1,
      "outputs": []
    },
    {
      "cell_type": "markdown",
      "metadata": {
        "id": "HXnScon456ex"
      },
      "source": [
        "###  Dataset 객체를 만들고 데이터를 읽어 올 위치와 변환 방법을 지정하면 된다\r\n",
        "\r\n",
        "#### from_tensor_slices(): 텐서를 받아 X의 <strong>각 원소가 아이템으로 표현</strong>되는 <strong>tf.data.Dataset</strong>을 만든다. \r\n"
      ]
    },
    {
      "cell_type": "code",
      "metadata": {
        "colab": {
          "base_uri": "https://localhost:8080/"
        },
        "id": "EelfKOcI5x6a",
        "outputId": "e28f5051-9580-4cac-8c55-a245ee1a22c9"
      },
      "source": [
        "X=tf.range(10)\r\n",
        "dataset=tf.data.Dataset.from_tensor_slices(X)\r\n",
        "dataset # = tf.data.Dataset.range(10)"
      ],
      "execution_count": 7,
      "outputs": [
        {
          "output_type": "execute_result",
          "data": {
            "text/plain": [
              "<TensorSliceDataset shapes: (), types: tf.int32>"
            ]
          },
          "metadata": {
            "tags": []
          },
          "execution_count": 7
        }
      ]
    },
    {
      "cell_type": "code",
      "metadata": {
        "colab": {
          "base_uri": "https://localhost:8080/"
        },
        "id": "4hkTgQ6-53Lv",
        "outputId": "acf7db07-ae4a-42e4-9c5a-3b1d6272f2bf"
      },
      "source": [
        "for item in dataset: #dataset의 각 원소를 '원소', '아이템', '슬라이스' 등으로 부름\r\n",
        "  print(item)"
      ],
      "execution_count": 3,
      "outputs": [
        {
          "output_type": "stream",
          "text": [
            "tf.Tensor(0, shape=(), dtype=int32)\n",
            "tf.Tensor(1, shape=(), dtype=int32)\n",
            "tf.Tensor(2, shape=(), dtype=int32)\n",
            "tf.Tensor(3, shape=(), dtype=int32)\n",
            "tf.Tensor(4, shape=(), dtype=int32)\n",
            "tf.Tensor(5, shape=(), dtype=int32)\n",
            "tf.Tensor(6, shape=(), dtype=int32)\n",
            "tf.Tensor(7, shape=(), dtype=int32)\n",
            "tf.Tensor(8, shape=(), dtype=int32)\n",
            "tf.Tensor(9, shape=(), dtype=int32)\n"
          ],
          "name": "stdout"
        }
      ]
    },
    {
      "cell_type": "markdown",
      "metadata": {
        "id": "DvYRaCJ96p3u"
      },
      "source": [
        "### 연쇄 변환"
      ]
    },
    {
      "cell_type": "markdown",
      "metadata": {
        "id": "y6ePFPGb7xEt"
      },
      "source": [
        "#### repeat 및 batch 메서드"
      ]
    },
    {
      "cell_type": "code",
      "metadata": {
        "colab": {
          "base_uri": "https://localhost:8080/"
        },
        "id": "B2Bj2XUS6q1r",
        "outputId": "cfee0fb1-4ae2-4445-9055-291dc7365dcc"
      },
      "source": [
        "dataset=dataset.repeat(3).batch(7) #원본 dataset의 아이템을 세차례 반복하는 새로운 dataset반환, 7개 그룹으로 묶어서 새로운 dataset 반환\r\n",
        "for item in dataset:\r\n",
        "  print(item)"
      ],
      "execution_count": 8,
      "outputs": [
        {
          "output_type": "stream",
          "text": [
            "tf.Tensor([0 1 2 3 4 5 6], shape=(7,), dtype=int32)\n",
            "tf.Tensor([7 8 9 0 1 2 3], shape=(7,), dtype=int32)\n",
            "tf.Tensor([4 5 6 7 8 9 0], shape=(7,), dtype=int32)\n",
            "tf.Tensor([1 2 3 4 5 6 7], shape=(7,), dtype=int32)\n",
            "tf.Tensor([8 9], shape=(2,), dtype=int32)\n"
          ],
          "name": "stdout"
        }
      ]
    },
    {
      "cell_type": "markdown",
      "metadata": {
        "id": "wspiMNU370CF"
      },
      "source": [
        "#### map 메서드: <strong>각 아이템</strong>에 변환 적용"
      ]
    },
    {
      "cell_type": "code",
      "metadata": {
        "id": "2lEQo41W6_O8"
      },
      "source": [
        "dataset=dataset.map(lambda x: x*2) "
      ],
      "execution_count": 9,
      "outputs": []
    },
    {
      "cell_type": "code",
      "metadata": {
        "colab": {
          "base_uri": "https://localhost:8080/"
        },
        "id": "HZbkipQjXZgv",
        "outputId": "b23de65a-98a0-4290-e976-230118130360"
      },
      "source": [
        "for item in dataset:\r\n",
        "  print(item)"
      ],
      "execution_count": 10,
      "outputs": [
        {
          "output_type": "stream",
          "text": [
            "tf.Tensor([ 0  2  4  6  8 10 12], shape=(7,), dtype=int32)\n",
            "tf.Tensor([14 16 18  0  2  4  6], shape=(7,), dtype=int32)\n",
            "tf.Tensor([ 8 10 12 14 16 18  0], shape=(7,), dtype=int32)\n",
            "tf.Tensor([ 2  4  6  8 10 12 14], shape=(7,), dtype=int32)\n",
            "tf.Tensor([16 18], shape=(2,), dtype=int32)\n"
          ],
          "name": "stdout"
        }
      ]
    },
    {
      "cell_type": "markdown",
      "metadata": {
        "id": "FC7K-a898WcK"
      },
      "source": [
        "#### apply 메서드: <strong>전체</strong>에 변환 적용"
      ]
    },
    {
      "cell_type": "code",
      "metadata": {
        "colab": {
          "base_uri": "https://localhost:8080/"
        },
        "id": "De0Lftxv72-P",
        "outputId": "0e5eb8e2-7b99-4c04-d713-188d966a5364"
      },
      "source": [
        "dataset=dataset.apply(tf.data.experimental.unbatch()) #unbatch함수를 적용하면 기존의 7개의 정수로 이루어진 배치가 아니라, 하나의 정수 텐서가 된다."
      ],
      "execution_count": 11,
      "outputs": [
        {
          "output_type": "stream",
          "text": [
            "WARNING:tensorflow:From <ipython-input-11-05ea4651d273>:1: unbatch (from tensorflow.python.data.experimental.ops.batching) is deprecated and will be removed in a future version.\n",
            "Instructions for updating:\n",
            "Use `tf.data.Dataset.unbatch()`.\n"
          ],
          "name": "stdout"
        }
      ]
    },
    {
      "cell_type": "code",
      "metadata": {
        "colab": {
          "base_uri": "https://localhost:8080/"
        },
        "id": "AVMAX2bB8cEk",
        "outputId": "b754a6e2-3a06-4799-9a02-43fc3c238965"
      },
      "source": [
        "for item in dataset:\r\n",
        "  print(item)"
      ],
      "execution_count": 12,
      "outputs": [
        {
          "output_type": "stream",
          "text": [
            "tf.Tensor(0, shape=(), dtype=int32)\n",
            "tf.Tensor(2, shape=(), dtype=int32)\n",
            "tf.Tensor(4, shape=(), dtype=int32)\n",
            "tf.Tensor(6, shape=(), dtype=int32)\n",
            "tf.Tensor(8, shape=(), dtype=int32)\n",
            "tf.Tensor(10, shape=(), dtype=int32)\n",
            "tf.Tensor(12, shape=(), dtype=int32)\n",
            "tf.Tensor(14, shape=(), dtype=int32)\n",
            "tf.Tensor(16, shape=(), dtype=int32)\n",
            "tf.Tensor(18, shape=(), dtype=int32)\n",
            "tf.Tensor(0, shape=(), dtype=int32)\n",
            "tf.Tensor(2, shape=(), dtype=int32)\n",
            "tf.Tensor(4, shape=(), dtype=int32)\n",
            "tf.Tensor(6, shape=(), dtype=int32)\n",
            "tf.Tensor(8, shape=(), dtype=int32)\n",
            "tf.Tensor(10, shape=(), dtype=int32)\n",
            "tf.Tensor(12, shape=(), dtype=int32)\n",
            "tf.Tensor(14, shape=(), dtype=int32)\n",
            "tf.Tensor(16, shape=(), dtype=int32)\n",
            "tf.Tensor(18, shape=(), dtype=int32)\n",
            "tf.Tensor(0, shape=(), dtype=int32)\n",
            "tf.Tensor(2, shape=(), dtype=int32)\n",
            "tf.Tensor(4, shape=(), dtype=int32)\n",
            "tf.Tensor(6, shape=(), dtype=int32)\n",
            "tf.Tensor(8, shape=(), dtype=int32)\n",
            "tf.Tensor(10, shape=(), dtype=int32)\n",
            "tf.Tensor(12, shape=(), dtype=int32)\n",
            "tf.Tensor(14, shape=(), dtype=int32)\n",
            "tf.Tensor(16, shape=(), dtype=int32)\n",
            "tf.Tensor(18, shape=(), dtype=int32)\n"
          ],
          "name": "stdout"
        }
      ]
    },
    {
      "cell_type": "markdown",
      "metadata": {
        "id": "jwSpWv9v84vN"
      },
      "source": [
        "#### filter 메서드: 데이터셋 필터링"
      ]
    },
    {
      "cell_type": "code",
      "metadata": {
        "colab": {
          "base_uri": "https://localhost:8080/"
        },
        "id": "FiQYB1Ek85b1",
        "outputId": "8b528284-e7b5-404c-9dbb-ab4ae5076460"
      },
      "source": [
        "dataset=dataset.filter(lambda x: x<10)\r\n",
        "for item in dataset:\r\n",
        "  print(item)"
      ],
      "execution_count": 13,
      "outputs": [
        {
          "output_type": "stream",
          "text": [
            "tf.Tensor(0, shape=(), dtype=int32)\n",
            "tf.Tensor(2, shape=(), dtype=int32)\n",
            "tf.Tensor(4, shape=(), dtype=int32)\n",
            "tf.Tensor(6, shape=(), dtype=int32)\n",
            "tf.Tensor(8, shape=(), dtype=int32)\n",
            "tf.Tensor(0, shape=(), dtype=int32)\n",
            "tf.Tensor(2, shape=(), dtype=int32)\n",
            "tf.Tensor(4, shape=(), dtype=int32)\n",
            "tf.Tensor(6, shape=(), dtype=int32)\n",
            "tf.Tensor(8, shape=(), dtype=int32)\n",
            "tf.Tensor(0, shape=(), dtype=int32)\n",
            "tf.Tensor(2, shape=(), dtype=int32)\n",
            "tf.Tensor(4, shape=(), dtype=int32)\n",
            "tf.Tensor(6, shape=(), dtype=int32)\n",
            "tf.Tensor(8, shape=(), dtype=int32)\n"
          ],
          "name": "stdout"
        }
      ]
    },
    {
      "cell_type": "markdown",
      "metadata": {
        "id": "XvquDb1fXz4S"
      },
      "source": [
        "#### take 메서드: 데이터셋에 있는 몇 개의 아이템만 보고 싶을 때"
      ]
    },
    {
      "cell_type": "code",
      "metadata": {
        "colab": {
          "base_uri": "https://localhost:8080/"
        },
        "id": "agpiiaSS8-eE",
        "outputId": "1f45e74e-0d2a-4ac4-9696-eae4ad70afb9"
      },
      "source": [
        "for item in dataset.take(3): #몇 개의 아이템만 보고 싶다면 take 메서드를 사용\r\n",
        "  print(item)"
      ],
      "execution_count": 14,
      "outputs": [
        {
          "output_type": "stream",
          "text": [
            "tf.Tensor(0, shape=(), dtype=int32)\n",
            "tf.Tensor(2, shape=(), dtype=int32)\n",
            "tf.Tensor(4, shape=(), dtype=int32)\n"
          ],
          "name": "stdout"
        }
      ]
    },
    {
      "cell_type": "markdown",
      "metadata": {
        "id": "dEM88K6A9wUY"
      },
      "source": [
        "## 데이터 셔플링\r\n",
        "경사 하강법은 훈련 세트에 있는 샘플이 <strong>독립적이고 동일한 분포일 때 최고의 성능</strong>을 발휘한다.\r\n",
        "그래서 <strong>shuffle()</strong>메서드를 사용해서 샘플을 섞는다."
      ]
    },
    {
      "cell_type": "markdown",
      "metadata": {
        "id": "Q-BgHXwEDIXL"
      },
      "source": [
        "### shuffle\r\n",
        "1. 먼저 원본 데이터셋의 처음 아이템을 <strong>buffer_size 개수만큼 추출</strong>해서 버퍼에 채운다. \r\n",
        "2. 그 다음 새로운 아이템이 <strong>요청</strong>되면 <strong>이 버퍼에서 랜덤하게 하나를 꺼내 반환</strong>한다.\r\n",
        "3. 그리고 원본 데이터셋에서 새로운 아이템을 <strong>추출</strong>해서 <strong>비워진 버퍼를 또 채운다</strong>.\r\n",
        "4. 1~3을 원본 데이터셋의 <strong>모든 아이템이 사용될 때까지 반복</strong>한다. \r\n",
        "5. 그 다음엔 <strong>버퍼가 비워질 때까지</strong> 계속해서 랜덤하게 아이템을 <strong>반환</strong>한다."
      ]
    },
    {
      "cell_type": "code",
      "metadata": {
        "colab": {
          "base_uri": "https://localhost:8080/"
        },
        "id": "nV9qqVIj9x02",
        "outputId": "e0218bd2-c8fc-4d6a-8d72-f0c9f5f6a8ce"
      },
      "source": [
        "dataset=tf.data.Dataset.range(10).repeat(3)#0~9까지 세 번 반복\r\n",
        "dataset=dataset.shuffle(buffer_size=5, seed=42).batch(7) #프로그램을 실행할 때마다 셔플링되는 순서를 동일하게 하려면 seed를 부여한다.\r\n",
        "for item in dataset:\r\n",
        "  print(item)"
      ],
      "execution_count": 15,
      "outputs": [
        {
          "output_type": "stream",
          "text": [
            "tf.Tensor([0 2 3 6 7 9 4], shape=(7,), dtype=int64)\n",
            "tf.Tensor([5 0 1 1 8 6 5], shape=(7,), dtype=int64)\n",
            "tf.Tensor([4 8 7 1 2 3 0], shape=(7,), dtype=int64)\n",
            "tf.Tensor([5 4 2 7 8 9 9], shape=(7,), dtype=int64)\n",
            "tf.Tensor([3 6], shape=(2,), dtype=int64)\n"
          ],
          "name": "stdout"
        }
      ]
    },
    {
      "cell_type": "code",
      "metadata": {
        "colab": {
          "base_uri": "https://localhost:8080/"
        },
        "id": "fkFQdSdH-A3l",
        "outputId": "8cac7704-f460-41ce-a55c-016abac628a0"
      },
      "source": [
        "for item in dataset.repeat(3):\r\n",
        "  print(item)"
      ],
      "execution_count": null,
      "outputs": [
        {
          "output_type": "stream",
          "text": [
            "tf.Tensor([3 5 2 1 8 4 0], shape=(7,), dtype=int64)\n",
            "tf.Tensor([1 2 3 7 9 5 0], shape=(7,), dtype=int64)\n",
            "tf.Tensor([7 4 0 9 6 8 1], shape=(7,), dtype=int64)\n",
            "tf.Tensor([2 6 6 4 9 8 5], shape=(7,), dtype=int64)\n",
            "tf.Tensor([7 3], shape=(2,), dtype=int64)\n",
            "tf.Tensor([2 1 3 5 8 9 4], shape=(7,), dtype=int64)\n",
            "tf.Tensor([1 0 7 3 5 6 7], shape=(7,), dtype=int64)\n",
            "tf.Tensor([2 4 9 1 0 3 6], shape=(7,), dtype=int64)\n",
            "tf.Tensor([0 4 7 5 2 8 6], shape=(7,), dtype=int64)\n",
            "tf.Tensor([9 8], shape=(2,), dtype=int64)\n",
            "tf.Tensor([1 4 6 7 5 2 3], shape=(7,), dtype=int64)\n",
            "tf.Tensor([8 2 0 0 3 5 1], shape=(7,), dtype=int64)\n",
            "tf.Tensor([4 8 0 6 9 9 2], shape=(7,), dtype=int64)\n",
            "tf.Tensor([5 3 7 4 1 8 6], shape=(7,), dtype=int64)\n",
            "tf.Tensor([9 7], shape=(2,), dtype=int64)\n"
          ],
          "name": "stdout"
        }
      ]
    },
    {
      "cell_type": "markdown",
      "metadata": {
        "id": "gEhjX1M-D8SZ"
      },
      "source": [
        "#### 실습"
      ]
    },
    {
      "cell_type": "code",
      "metadata": {
        "colab": {
          "base_uri": "https://localhost:8080/"
        },
        "id": "cYvo0nVQ6cbY",
        "outputId": "60d3e340-1c1b-4518-df0d-46dc4e3a2641"
      },
      "source": [
        "from sklearn.datasets import fetch_california_housing\r\n",
        "from sklearn.model_selection import train_test_split\r\n",
        "housing = fetch_california_housing()"
      ],
      "execution_count": 16,
      "outputs": [
        {
          "output_type": "stream",
          "text": [
            "Downloading Cal. housing from https://ndownloader.figshare.com/files/5976036 to /root/scikit_learn_data\n"
          ],
          "name": "stderr"
        }
      ]
    },
    {
      "cell_type": "code",
      "metadata": {
        "id": "w3aM6WMd_fzU"
      },
      "source": [
        "X_train_full, X_test, y_train_full, y_test = train_test_split(housing.data, housing.target)\r\n",
        "X_train, X_valid, y_train, y_valid = train_test_split(X_train_full, y_train_full)"
      ],
      "execution_count": 17,
      "outputs": []
    },
    {
      "cell_type": "code",
      "metadata": {
        "id": "zWjuZ4vl_gmQ"
      },
      "source": [
        "import pandas as pd\r\n",
        "X_train_df=pd.DataFrame(X_train, columns=housing.feature_names)\r\n",
        "X_valid_df=pd.DataFrame(X_valid, columns=housing.feature_names)\r\n",
        "X_test_df=pd.DataFrame(X_test, columns=housing.feature_names)"
      ],
      "execution_count": 18,
      "outputs": []
    },
    {
      "cell_type": "code",
      "metadata": {
        "colab": {
          "base_uri": "https://localhost:8080/",
          "height": 399
        },
        "id": "nGtz9gU9b8IO",
        "outputId": "5525c601-44d6-4b6b-a96f-0d4f423f094c"
      },
      "source": [
        "X_train_df"
      ],
      "execution_count": 19,
      "outputs": [
        {
          "output_type": "execute_result",
          "data": {
            "text/html": [
              "<div>\n",
              "<style scoped>\n",
              "    .dataframe tbody tr th:only-of-type {\n",
              "        vertical-align: middle;\n",
              "    }\n",
              "\n",
              "    .dataframe tbody tr th {\n",
              "        vertical-align: top;\n",
              "    }\n",
              "\n",
              "    .dataframe thead th {\n",
              "        text-align: right;\n",
              "    }\n",
              "</style>\n",
              "<table border=\"1\" class=\"dataframe\">\n",
              "  <thead>\n",
              "    <tr style=\"text-align: right;\">\n",
              "      <th></th>\n",
              "      <th>MedInc</th>\n",
              "      <th>HouseAge</th>\n",
              "      <th>AveRooms</th>\n",
              "      <th>AveBedrms</th>\n",
              "      <th>Population</th>\n",
              "      <th>AveOccup</th>\n",
              "      <th>Latitude</th>\n",
              "      <th>Longitude</th>\n",
              "    </tr>\n",
              "  </thead>\n",
              "  <tbody>\n",
              "    <tr>\n",
              "      <th>0</th>\n",
              "      <td>5.7789</td>\n",
              "      <td>13.0</td>\n",
              "      <td>6.324242</td>\n",
              "      <td>0.948485</td>\n",
              "      <td>1165.0</td>\n",
              "      <td>3.530303</td>\n",
              "      <td>32.63</td>\n",
              "      <td>-117.03</td>\n",
              "    </tr>\n",
              "    <tr>\n",
              "      <th>1</th>\n",
              "      <td>2.4286</td>\n",
              "      <td>32.0</td>\n",
              "      <td>5.029825</td>\n",
              "      <td>1.078947</td>\n",
              "      <td>1705.0</td>\n",
              "      <td>2.991228</td>\n",
              "      <td>36.77</td>\n",
              "      <td>-119.83</td>\n",
              "    </tr>\n",
              "    <tr>\n",
              "      <th>2</th>\n",
              "      <td>3.6034</td>\n",
              "      <td>16.0</td>\n",
              "      <td>3.220957</td>\n",
              "      <td>1.054670</td>\n",
              "      <td>793.0</td>\n",
              "      <td>1.806378</td>\n",
              "      <td>34.44</td>\n",
              "      <td>-119.82</td>\n",
              "    </tr>\n",
              "    <tr>\n",
              "      <th>3</th>\n",
              "      <td>5.0100</td>\n",
              "      <td>20.0</td>\n",
              "      <td>17.546099</td>\n",
              "      <td>4.432624</td>\n",
              "      <td>338.0</td>\n",
              "      <td>2.397163</td>\n",
              "      <td>37.65</td>\n",
              "      <td>-118.99</td>\n",
              "    </tr>\n",
              "    <tr>\n",
              "      <th>4</th>\n",
              "      <td>3.3690</td>\n",
              "      <td>25.0</td>\n",
              "      <td>4.610512</td>\n",
              "      <td>1.082210</td>\n",
              "      <td>1681.0</td>\n",
              "      <td>2.265499</td>\n",
              "      <td>32.80</td>\n",
              "      <td>-116.96</td>\n",
              "    </tr>\n",
              "    <tr>\n",
              "      <th>...</th>\n",
              "      <td>...</td>\n",
              "      <td>...</td>\n",
              "      <td>...</td>\n",
              "      <td>...</td>\n",
              "      <td>...</td>\n",
              "      <td>...</td>\n",
              "      <td>...</td>\n",
              "      <td>...</td>\n",
              "    </tr>\n",
              "    <tr>\n",
              "      <th>11605</th>\n",
              "      <td>2.6513</td>\n",
              "      <td>42.0</td>\n",
              "      <td>5.674208</td>\n",
              "      <td>1.092760</td>\n",
              "      <td>1035.0</td>\n",
              "      <td>2.341629</td>\n",
              "      <td>35.37</td>\n",
              "      <td>-119.03</td>\n",
              "    </tr>\n",
              "    <tr>\n",
              "      <th>11606</th>\n",
              "      <td>4.5461</td>\n",
              "      <td>33.0</td>\n",
              "      <td>4.696133</td>\n",
              "      <td>1.019337</td>\n",
              "      <td>981.0</td>\n",
              "      <td>2.709945</td>\n",
              "      <td>33.93</td>\n",
              "      <td>-117.97</td>\n",
              "    </tr>\n",
              "    <tr>\n",
              "      <th>11607</th>\n",
              "      <td>6.0487</td>\n",
              "      <td>24.0</td>\n",
              "      <td>7.207080</td>\n",
              "      <td>1.030088</td>\n",
              "      <td>1834.0</td>\n",
              "      <td>3.246018</td>\n",
              "      <td>34.26</td>\n",
              "      <td>-118.78</td>\n",
              "    </tr>\n",
              "    <tr>\n",
              "      <th>11608</th>\n",
              "      <td>2.5694</td>\n",
              "      <td>27.0</td>\n",
              "      <td>3.143770</td>\n",
              "      <td>0.955272</td>\n",
              "      <td>777.0</td>\n",
              "      <td>2.482428</td>\n",
              "      <td>34.43</td>\n",
              "      <td>-119.72</td>\n",
              "    </tr>\n",
              "    <tr>\n",
              "      <th>11609</th>\n",
              "      <td>4.9125</td>\n",
              "      <td>38.0</td>\n",
              "      <td>6.501767</td>\n",
              "      <td>1.028269</td>\n",
              "      <td>633.0</td>\n",
              "      <td>2.236749</td>\n",
              "      <td>32.73</td>\n",
              "      <td>-117.25</td>\n",
              "    </tr>\n",
              "  </tbody>\n",
              "</table>\n",
              "<p>11610 rows × 8 columns</p>\n",
              "</div>"
            ],
            "text/plain": [
              "       MedInc  HouseAge   AveRooms  ...  AveOccup  Latitude  Longitude\n",
              "0      5.7789      13.0   6.324242  ...  3.530303     32.63    -117.03\n",
              "1      2.4286      32.0   5.029825  ...  2.991228     36.77    -119.83\n",
              "2      3.6034      16.0   3.220957  ...  1.806378     34.44    -119.82\n",
              "3      5.0100      20.0  17.546099  ...  2.397163     37.65    -118.99\n",
              "4      3.3690      25.0   4.610512  ...  2.265499     32.80    -116.96\n",
              "...       ...       ...        ...  ...       ...       ...        ...\n",
              "11605  2.6513      42.0   5.674208  ...  2.341629     35.37    -119.03\n",
              "11606  4.5461      33.0   4.696133  ...  2.709945     33.93    -117.97\n",
              "11607  6.0487      24.0   7.207080  ...  3.246018     34.26    -118.78\n",
              "11608  2.5694      27.0   3.143770  ...  2.482428     34.43    -119.72\n",
              "11609  4.9125      38.0   6.501767  ...  2.236749     32.73    -117.25\n",
              "\n",
              "[11610 rows x 8 columns]"
            ]
          },
          "metadata": {
            "tags": []
          },
          "execution_count": 19
        }
      ]
    },
    {
      "cell_type": "markdown",
      "metadata": {
        "id": "kOIfZVuqBB8O"
      },
      "source": [
        "- train/valid/test csv파일로 만들기"
      ]
    },
    {
      "cell_type": "code",
      "metadata": {
        "id": "vx0XjZrRAQWi"
      },
      "source": [
        "X_train_df.to_csv(\"my_train.csv\", index=False)\r\n",
        "X_test_df.to_csv(\"my_test.csv\", index=False)\r\n",
        "X_valid_df.to_csv(\"my_valid.csv\", index=False)"
      ],
      "execution_count": 20,
      "outputs": []
    },
    {
      "cell_type": "markdown",
      "metadata": {
        "id": "dGX8aVqRBIWB"
      },
      "source": [
        "- 파일 경로 list"
      ]
    },
    {
      "cell_type": "code",
      "metadata": {
        "id": "qNUBbcRXApZj"
      },
      "source": [
        "file_paths=[]"
      ],
      "execution_count": 21,
      "outputs": []
    },
    {
      "cell_type": "code",
      "metadata": {
        "colab": {
          "base_uri": "https://localhost:8080/"
        },
        "id": "W5fjLfffHhoo",
        "outputId": "f60a5d01-7566-41f2-be79-10ee9254127f"
      },
      "source": [
        "cd "
      ],
      "execution_count": 31,
      "outputs": [
        {
          "output_type": "stream",
          "text": [
            "\u001b[0m\u001b[01;34mbin\u001b[0m/      \u001b[01;34mdatalab\u001b[0m/  \u001b[01;34mhome\u001b[0m/   \u001b[01;34mlib64\u001b[0m/  \u001b[01;34mopt\u001b[0m/   \u001b[01;34mrun\u001b[0m/   \u001b[01;34msys\u001b[0m/                \u001b[01;34mtools\u001b[0m/\n",
            "\u001b[01;34mboot\u001b[0m/     \u001b[01;34mdev\u001b[0m/      \u001b[01;34mlib\u001b[0m/    \u001b[01;34mmedia\u001b[0m/  \u001b[01;34mproc\u001b[0m/  \u001b[01;34msbin\u001b[0m/  \u001b[01;34mtensorflow-1.15.2\u001b[0m/  \u001b[01;34musr\u001b[0m/\n",
            "\u001b[01;34mcontent\u001b[0m/  \u001b[01;34metc\u001b[0m/      \u001b[01;34mlib32\u001b[0m/  \u001b[01;34mmnt\u001b[0m/    \u001b[01;34mroot\u001b[0m/  \u001b[01;34msrv\u001b[0m/   \u001b[30;42mtmp\u001b[0m/                \u001b[01;34mvar\u001b[0m/\n"
          ],
          "name": "stdout"
        }
      ]
    },
    {
      "cell_type": "code",
      "metadata": {
        "colab": {
          "base_uri": "https://localhost:8080/",
          "height": 404
        },
        "id": "dpDduO2zEj7D",
        "outputId": "644bc28c-03a0-46ab-ff92-431ee57187be"
      },
      "source": [
        "cnt=0\r\n",
        "for item in tf.data.Dataset.from_tensor_slices(X_train).batch(100):\r\n",
        "  file_name=f\"train/my_train_{cnt:03}\"\r\n",
        "  pd.DataFrame(item, columns=housing.feature_names).to_csv(file_name)\r\n",
        "  file_paths.append(file_name)\r\n",
        "  cnt+=1"
      ],
      "execution_count": null,
      "outputs": [
        {
          "output_type": "error",
          "ename": "FileNotFoundError",
          "evalue": "ignored",
          "traceback": [
            "\u001b[0;31m---------------------------------------------------------------------------\u001b[0m",
            "\u001b[0;31mFileNotFoundError\u001b[0m                         Traceback (most recent call last)",
            "\u001b[0;32m<ipython-input-65-1055c72181ab>\u001b[0m in \u001b[0;36m<module>\u001b[0;34m()\u001b[0m\n\u001b[1;32m      2\u001b[0m \u001b[0;32mfor\u001b[0m \u001b[0mitem\u001b[0m \u001b[0;32min\u001b[0m \u001b[0mtf\u001b[0m\u001b[0;34m.\u001b[0m\u001b[0mdata\u001b[0m\u001b[0;34m.\u001b[0m\u001b[0mDataset\u001b[0m\u001b[0;34m.\u001b[0m\u001b[0mfrom_tensor_slices\u001b[0m\u001b[0;34m(\u001b[0m\u001b[0mX_train\u001b[0m\u001b[0;34m)\u001b[0m\u001b[0;34m.\u001b[0m\u001b[0mbatch\u001b[0m\u001b[0;34m(\u001b[0m\u001b[0;36m100\u001b[0m\u001b[0;34m)\u001b[0m\u001b[0;34m:\u001b[0m\u001b[0;34m\u001b[0m\u001b[0;34m\u001b[0m\u001b[0m\n\u001b[1;32m      3\u001b[0m   \u001b[0mfile_name\u001b[0m\u001b[0;34m=\u001b[0m\u001b[0;34mf\"train/my_train_{cnt:03}\"\u001b[0m\u001b[0;34m\u001b[0m\u001b[0;34m\u001b[0m\u001b[0m\n\u001b[0;32m----> 4\u001b[0;31m   \u001b[0mpd\u001b[0m\u001b[0;34m.\u001b[0m\u001b[0mDataFrame\u001b[0m\u001b[0;34m(\u001b[0m\u001b[0mitem\u001b[0m\u001b[0;34m,\u001b[0m \u001b[0mcolumns\u001b[0m\u001b[0;34m=\u001b[0m\u001b[0mhousing\u001b[0m\u001b[0;34m.\u001b[0m\u001b[0mfeature_names\u001b[0m\u001b[0;34m)\u001b[0m\u001b[0;34m.\u001b[0m\u001b[0mto_csv\u001b[0m\u001b[0;34m(\u001b[0m\u001b[0mfile_name\u001b[0m\u001b[0;34m)\u001b[0m\u001b[0;34m\u001b[0m\u001b[0;34m\u001b[0m\u001b[0m\n\u001b[0m\u001b[1;32m      5\u001b[0m   \u001b[0mfile_paths\u001b[0m\u001b[0;34m.\u001b[0m\u001b[0mappend\u001b[0m\u001b[0;34m(\u001b[0m\u001b[0mfile_name\u001b[0m\u001b[0;34m)\u001b[0m\u001b[0;34m\u001b[0m\u001b[0;34m\u001b[0m\u001b[0m\n\u001b[1;32m      6\u001b[0m   \u001b[0mcnt\u001b[0m\u001b[0;34m+=\u001b[0m\u001b[0;36m1\u001b[0m\u001b[0;34m\u001b[0m\u001b[0;34m\u001b[0m\u001b[0m\n",
            "\u001b[0;32m/usr/local/lib/python3.7/dist-packages/pandas/core/generic.py\u001b[0m in \u001b[0;36mto_csv\u001b[0;34m(self, path_or_buf, sep, na_rep, float_format, columns, header, index, index_label, mode, encoding, compression, quoting, quotechar, line_terminator, chunksize, date_format, doublequote, escapechar, decimal, errors)\u001b[0m\n\u001b[1;32m   3168\u001b[0m             \u001b[0mdecimal\u001b[0m\u001b[0;34m=\u001b[0m\u001b[0mdecimal\u001b[0m\u001b[0;34m,\u001b[0m\u001b[0;34m\u001b[0m\u001b[0;34m\u001b[0m\u001b[0m\n\u001b[1;32m   3169\u001b[0m         )\n\u001b[0;32m-> 3170\u001b[0;31m         \u001b[0mformatter\u001b[0m\u001b[0;34m.\u001b[0m\u001b[0msave\u001b[0m\u001b[0;34m(\u001b[0m\u001b[0;34m)\u001b[0m\u001b[0;34m\u001b[0m\u001b[0;34m\u001b[0m\u001b[0m\n\u001b[0m\u001b[1;32m   3171\u001b[0m \u001b[0;34m\u001b[0m\u001b[0m\n\u001b[1;32m   3172\u001b[0m         \u001b[0;32mif\u001b[0m \u001b[0mpath_or_buf\u001b[0m \u001b[0;32mis\u001b[0m \u001b[0;32mNone\u001b[0m\u001b[0;34m:\u001b[0m\u001b[0;34m\u001b[0m\u001b[0;34m\u001b[0m\u001b[0m\n",
            "\u001b[0;32m/usr/local/lib/python3.7/dist-packages/pandas/io/formats/csvs.py\u001b[0m in \u001b[0;36msave\u001b[0;34m(self)\u001b[0m\n\u001b[1;32m    188\u001b[0m                 \u001b[0mencoding\u001b[0m\u001b[0;34m=\u001b[0m\u001b[0mself\u001b[0m\u001b[0;34m.\u001b[0m\u001b[0mencoding\u001b[0m\u001b[0;34m,\u001b[0m\u001b[0;34m\u001b[0m\u001b[0;34m\u001b[0m\u001b[0m\n\u001b[1;32m    189\u001b[0m                 \u001b[0merrors\u001b[0m\u001b[0;34m=\u001b[0m\u001b[0mself\u001b[0m\u001b[0;34m.\u001b[0m\u001b[0merrors\u001b[0m\u001b[0;34m,\u001b[0m\u001b[0;34m\u001b[0m\u001b[0;34m\u001b[0m\u001b[0m\n\u001b[0;32m--> 190\u001b[0;31m                 \u001b[0mcompression\u001b[0m\u001b[0;34m=\u001b[0m\u001b[0mdict\u001b[0m\u001b[0;34m(\u001b[0m\u001b[0mself\u001b[0m\u001b[0;34m.\u001b[0m\u001b[0mcompression_args\u001b[0m\u001b[0;34m,\u001b[0m \u001b[0mmethod\u001b[0m\u001b[0;34m=\u001b[0m\u001b[0mself\u001b[0m\u001b[0;34m.\u001b[0m\u001b[0mcompression\u001b[0m\u001b[0;34m)\u001b[0m\u001b[0;34m,\u001b[0m\u001b[0;34m\u001b[0m\u001b[0;34m\u001b[0m\u001b[0m\n\u001b[0m\u001b[1;32m    191\u001b[0m             )\n\u001b[1;32m    192\u001b[0m             \u001b[0mclose\u001b[0m \u001b[0;34m=\u001b[0m \u001b[0;32mTrue\u001b[0m\u001b[0;34m\u001b[0m\u001b[0;34m\u001b[0m\u001b[0m\n",
            "\u001b[0;32m/usr/local/lib/python3.7/dist-packages/pandas/io/common.py\u001b[0m in \u001b[0;36mget_handle\u001b[0;34m(path_or_buf, mode, encoding, compression, memory_map, is_text, errors)\u001b[0m\n\u001b[1;32m    491\u001b[0m         \u001b[0;32mif\u001b[0m \u001b[0mencoding\u001b[0m\u001b[0;34m:\u001b[0m\u001b[0;34m\u001b[0m\u001b[0;34m\u001b[0m\u001b[0m\n\u001b[1;32m    492\u001b[0m             \u001b[0;31m# Encoding\u001b[0m\u001b[0;34m\u001b[0m\u001b[0;34m\u001b[0m\u001b[0;34m\u001b[0m\u001b[0m\n\u001b[0;32m--> 493\u001b[0;31m             \u001b[0mf\u001b[0m \u001b[0;34m=\u001b[0m \u001b[0mopen\u001b[0m\u001b[0;34m(\u001b[0m\u001b[0mpath_or_buf\u001b[0m\u001b[0;34m,\u001b[0m \u001b[0mmode\u001b[0m\u001b[0;34m,\u001b[0m \u001b[0mencoding\u001b[0m\u001b[0;34m=\u001b[0m\u001b[0mencoding\u001b[0m\u001b[0;34m,\u001b[0m \u001b[0merrors\u001b[0m\u001b[0;34m=\u001b[0m\u001b[0merrors\u001b[0m\u001b[0;34m,\u001b[0m \u001b[0mnewline\u001b[0m\u001b[0;34m=\u001b[0m\u001b[0;34m\"\"\u001b[0m\u001b[0;34m)\u001b[0m\u001b[0;34m\u001b[0m\u001b[0;34m\u001b[0m\u001b[0m\n\u001b[0m\u001b[1;32m    494\u001b[0m         \u001b[0;32melif\u001b[0m \u001b[0mis_text\u001b[0m\u001b[0;34m:\u001b[0m\u001b[0;34m\u001b[0m\u001b[0;34m\u001b[0m\u001b[0m\n\u001b[1;32m    495\u001b[0m             \u001b[0;31m# No explicit encoding\u001b[0m\u001b[0;34m\u001b[0m\u001b[0;34m\u001b[0m\u001b[0;34m\u001b[0m\u001b[0m\n",
            "\u001b[0;31mFileNotFoundError\u001b[0m: [Errno 2] No such file or directory: 'train/my_train_000'"
          ]
        }
      ]
    },
    {
      "cell_type": "markdown",
      "metadata": {
        "id": "0vE1Fa9bBKGJ"
      },
      "source": [
        "- list_files: 파일 경로를 섞은 데이터셋을 반환(섞는걸 원치 않는다면 shuffle=False 가능)"
      ]
    },
    {
      "cell_type": "code",
      "metadata": {
        "id": "qaJtDMgTAU-P"
      },
      "source": [
        "filepath_dataset=tf.data.Dataset.list_files(file_paths,seed=42)"
      ],
      "execution_count": null,
      "outputs": []
    },
    {
      "cell_type": "markdown",
      "metadata": {
        "id": "AdmzJwpWBpgk"
      },
      "source": [
        "- interleave: 한 번에 여러 개의 파일을 한 줄씩 번갈아 읽기(각 파일의 첫 번째 줄은 열의 이름이므로 skip메서드를 사용해서 건너뛴다.)"
      ]
    },
    {
      "cell_type": "code",
      "metadata": {
        "id": "c_z1CsU9BYEC"
      },
      "source": [
        "n_readers=5\r\n",
        "dataset=filepath_dataset.interleave(\r\n",
        "    lambda filepath:tf.data.TextLineDataset(filepath).skip(1), cycle_length=n_readers\r\n",
        ")"
      ],
      "execution_count": null,
      "outputs": []
    },
    {
      "cell_type": "code",
      "metadata": {
        "colab": {
          "base_uri": "https://localhost:8080/"
        },
        "id": "yfOHtQziBorc",
        "outputId": "9da0a3db-eba0-4fe7-99ab-ed269e4a0b43"
      },
      "source": [
        "for item in dataset.take(5):\r\n",
        "  print(item)"
      ],
      "execution_count": null,
      "outputs": [
        {
          "output_type": "stream",
          "text": [
            "tf.Tensor(b'2.2656,15.0,4.755364806866953,1.1321888412017167,2383.0,2.04549356223176,35.26,-120.66', shape=(), dtype=string)\n",
            "tf.Tensor(b'1.1552,44.0,4.273381294964029,1.2158273381294964,325.0,2.338129496402878,36.97,-122.02', shape=(), dtype=string)\n",
            "tf.Tensor(b'2.8594,20.0,4.151458137347131,1.118532455315146,4818.0,4.532455315145814,33.76,-117.91', shape=(), dtype=string)\n",
            "tf.Tensor(b'3.4605,52.0,4.838235294117647,0.9963235294117647,1364.0,2.5073529411764706,37.78,-122.46', shape=(), dtype=string)\n",
            "tf.Tensor(b'5.5427,4.0,6.570291777188329,0.9522546419098143,1234.0,3.273209549071618,38.04,-121.36', shape=(), dtype=string)\n"
          ],
          "name": "stdout"
        }
      ]
    },
    {
      "cell_type": "markdown",
      "metadata": {
        "id": "p9JCyiU9Cnw4"
      },
      "source": [
        "----------------\r\n",
        "인터리빙이 잘 동작하려면 파일의 길이가 동일한 것이 좋다. 그렇지 않으면 가장 긴 파일의 끝은 인터리빙이 되지 않을 것이다.\r\n",
        "\r\n",
        "- 그리고 바이트 스트링으로 저장된다. 그래서 이를 파싱하고 스케일을 조정할 필요가 있다."
      ]
    },
    {
      "cell_type": "markdown",
      "metadata": {
        "id": "ADZj4T0xIDsr"
      },
      "source": [
        "## 데이터 전처리"
      ]
    },
    {
      "cell_type": "code",
      "metadata": {
        "id": "yHSUwobrILDc"
      },
      "source": [
        "X_mean,X_std=X_train.mean(), X_train.std()"
      ],
      "execution_count": null,
      "outputs": []
    },
    {
      "cell_type": "code",
      "metadata": {
        "id": "ElCmGs-fIPt1"
      },
      "source": [
        "n_inputs=8\r\n",
        "def preprocess(line):\r\n",
        "  defs=[0.] *n_inputs+[tf.constant([], dtype=tf.float32)]\r\n",
        "  fields=tf.io.decode_csv(line, record_defaults=defs)\r\n",
        "  x=tf.stack(fields[:-1])\r\n",
        "  y=tf.stack(fields[-1:])\r\n",
        "  return (x-X_mean)/X_std,y"
      ],
      "execution_count": null,
      "outputs": []
    },
    {
      "cell_type": "code",
      "metadata": {
        "id": "ULAuLjWEIv03"
      },
      "source": [
        ""
      ],
      "execution_count": null,
      "outputs": []
    },
    {
      "cell_type": "code",
      "metadata": {
        "id": "7RJK3_oHB_e-"
      },
      "source": [
        ""
      ],
      "execution_count": null,
      "outputs": []
    }
  ]
}