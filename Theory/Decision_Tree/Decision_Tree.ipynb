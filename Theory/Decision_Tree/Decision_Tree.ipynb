{
  "nbformat": 4,
  "nbformat_minor": 0,
  "metadata": {
    "colab": {
      "name": "Decision_Tree.ipynb",
      "provenance": [],
      "collapsed_sections": [],
      "authorship_tag": "ABX9TyMm3qAuUvKLIpbl8pg669Pm",
      "include_colab_link": true
    },
    "kernelspec": {
      "name": "python3",
      "display_name": "Python 3"
    }
  },
  "cells": [
    {
      "cell_type": "markdown",
      "metadata": {
        "id": "view-in-github",
        "colab_type": "text"
      },
      "source": [
        "<a href=\"https://colab.research.google.com/github/PingPingE/Learn_ML_DL/blob/main/Decision_Tree/Decision_Tree.ipynb\" target=\"_parent\"><img src=\"https://colab.research.google.com/assets/colab-badge.svg\" alt=\"Open In Colab\"/></a>"
      ]
    },
    {
      "cell_type": "markdown",
      "metadata": {
        "id": "5k258lsnho33"
      },
      "source": [
        "# Decision Tree\r\n",
        "\r\n",
        "- 데이터들이 가진 속성들로부터 분할 기준 속성을 판별하고, 분할 기준 속성에 따라 트리 형태로 모델링하는 분류,회귀,다중출력 모델\r\n",
        "- 분할 기준 설정: 부모노드(현재 노드)에 비해 자식 노드의 불순도가 감소되도록 설정한다.\r\n",
        "- 현재 노드의 불순도와 자식 노드의 불순도 차이가 최대가 되는 기준을 찾는다.\r\n",
        "<br>\r\n",
        "\r\n",
        "### 장점\r\n",
        "- 과정 이해 및 해석하기 쉽다.\r\n",
        "- 전처리 부담을 줄여준다.(스케일링 등의 작업이 무의미)\r\n",
        "- 대용량 데이터에서도 빠르게 만들 수 있다.\r\n",
        "- 수치형과 범주형 모두 다룰 수 있다.\r\n",
        "<br>\r\n",
        "\r\n",
        "### 단점\r\n",
        "- 연속형 변수를 비연속적인 값으로 취급하므로 분리의 경계점 근방에서 예측 오류가 클 가능성이 있다.\r\n",
        "- 선형 관계를 다루지 못한다. \r\n",
        "- input 데이터에만 의존해서 과적합의 위험성이 높다.(너무 데이터가 적거나 피처가 너무 많거나, 데이터가 불균형하거나 등의 경우 X) -> 앙상블, 차원 축소 등으로 완화하자.\r\n",
        "- 속성들 끼리 복잡한 관계가 있는 경우, 똑같은 subtree들이 만들어 질 수 있다.\r\n",
        "\r\n",
        "<br>\r\n",
        "\r\n",
        "### 의사결정나무의 분석 과정\r\n",
        "1. <strong>의사결정 나무 성장(Growing)</strong>: 분석의 목적과 자료구조에 따라 적절한 분리 규칙(Splitting Rule)을 찾아서 나무를 성장 시킨다(Stopping Rule을 만족하면 중단)\r\n",
        "  - 재귀적으로 수행(분리하고 거기서 또 분리하고...)\r\n",
        "  - 분리 기준: 입력 변수의 선택 + 범주 선정\r\n",
        "\r\n",
        "\r\n",
        "2. <strong>가지치기(Pruning)</strong>: 최대트리로 형성된 결정트리에서 일부 서브트리만 남겨서 일반화 성능을 높인다.\r\n",
        "\r\n",
        "3. <strong>타당성 평가</strong>: 이익 도표(Gain chart), 위험 도표(Risk chart)를 이용해서 Cross validation 등을 이용한 평가 수행\r\n",
        "\r\n",
        "4. <strong>해석 및 예측</strong>: 구축된 의사결정나무 모형을 해석하고, 분류 및 예측 모형을 설정하여 데이터의 분류 및 예측에 활용한다.\r\n",
        "\r\n",
        "<br><br>\r\n",
        "\r\n",
        "### 대표적인 Decision Tree 알고리즘 종류\r\n",
        "#### ID3\r\n",
        "- split 기준: Information Gain\r\n",
        "- 속성값이 범주형일 때만 가능\r\n",
        "- pruning이 없다.\r\n",
        "\r\n",
        "#### C4.5\r\n",
        "- ID3의 업그레이드 버전(속성값이 숫자형일 때도 가능)\r\n",
        "- split 기준: Gain Ratio\r\n",
        "- pruning: Error-based pruning\r\n",
        "\r\n",
        "#### CART\r\n",
        "- regression tree를 만들 수 있다는 것이 아주 중요한 특징\r\n",
        "- split 기준: Twoing Criterion, squared error(regression tree인 경우)\r\n",
        "- pruning: Cost-complexity pruning\r\n",
        "\r\n",
        "#### 기타\r\n",
        "- CHAID\r\n",
        "- QUEST\r\n",
        "- CAL5"
      ]
    },
    {
      "cell_type": "markdown",
      "metadata": {
        "id": "LB4KJjWJzygR"
      },
      "source": [
        "참고)\r\n",
        "- [researchgate](https://www.researchgate.net/publication/225237661_Decision_Trees)\r\n",
        "- [scikit-learn](https://scikit-learn.org/stable/modules/tree.html)\r\n",
        "- [scikit-learn github](https://github.com/scikit-learn/scikit-learn/blob/main/sklearn/tree/_tree.pyx)\r\n",
        "- [youtube-StatQuest](https://www.youtube.com/watch?v=7VeUPuFGJHk)\r\n",
        "- 수제비\r\n",
        "- 핸즈온 머신러닝"
      ]
    },
    {
      "cell_type": "code",
      "metadata": {
        "id": "QR3FCj1QhBWo"
      },
      "source": [
        "import numpy as np\r\n",
        "import pandas as pd\r\n",
        "from sklearn.model_selection import train_test_split\r\n",
        "from matplotlib import pyplot as plt\r\n",
        "import seaborn as sns\r\n",
        "from sklearn import tree\r\n",
        "from sklearn.datasets import load_iris\r\n",
        "from sklearn.datasets import load_boston"
      ],
      "execution_count": 1,
      "outputs": []
    },
    {
      "cell_type": "markdown",
      "metadata": {
        "id": "kM6AB2ks15Hi"
      },
      "source": [
        "## Classification"
      ]
    },
    {
      "cell_type": "code",
      "metadata": {
        "id": "RWrDyjgvhX9m"
      },
      "source": [
        "X,y=load_iris(return_X_y=True)\r\n",
        "clf=tree.DecisionTreeClassifier(random_state=1)\r\n",
        "clf=clf.fit(X,y)"
      ],
      "execution_count": null,
      "outputs": []
    },
    {
      "cell_type": "code",
      "metadata": {
        "colab": {
          "base_uri": "https://localhost:8080/"
        },
        "id": "oEx5sIqg1thM",
        "outputId": "fd0f0fe2-31e6-4820-ed43-6ddd0ed68eb4"
      },
      "source": [
        "clf"
      ],
      "execution_count": null,
      "outputs": [
        {
          "output_type": "execute_result",
          "data": {
            "text/plain": [
              "DecisionTreeClassifier(ccp_alpha=0.0, class_weight=None, criterion='gini',\n",
              "                       max_depth=None, max_features=None, max_leaf_nodes=None,\n",
              "                       min_impurity_decrease=0.0, min_impurity_split=None,\n",
              "                       min_samples_leaf=1, min_samples_split=2,\n",
              "                       min_weight_fraction_leaf=0.0, presort='deprecated',\n",
              "                       random_state=0, splitter='best')"
            ]
          },
          "metadata": {
            "tags": []
          },
          "execution_count": 69
        }
      ]
    },
    {
      "cell_type": "code",
      "metadata": {
        "colab": {
          "base_uri": "https://localhost:8080/"
        },
        "id": "cfTmqexWvhV0",
        "outputId": "d814c050-7373-47e6-e4a9-c96f51504954"
      },
      "source": [
        "X.shape"
      ],
      "execution_count": null,
      "outputs": [
        {
          "output_type": "execute_result",
          "data": {
            "text/plain": [
              "(150, 4)"
            ]
          },
          "metadata": {
            "tags": []
          },
          "execution_count": 63
        }
      ]
    },
    {
      "cell_type": "code",
      "metadata": {
        "colab": {
          "base_uri": "https://localhost:8080/",
          "height": 575
        },
        "id": "5z9VWOGduhAI",
        "outputId": "610f9c05-7489-49db-e97f-e1d659c469cf"
      },
      "source": [
        "plt.figure(figsize=(10,10))\r\n",
        "tree.plot_tree(clf)\r\n",
        "plt.show()"
      ],
      "execution_count": null,
      "outputs": [
        {
          "output_type": "display_data",
          "data": {
            "image/png": "[encoded data removed]",
            "text/plain": [
              "<Figure size 720x720 with 1 Axes>"
            ]
          },
          "metadata": {
            "tags": [],
            "needs_background": "light"
          }
        }
      ]
    },
    {
      "cell_type": "markdown",
      "metadata": {
        "id": "0NOWll-W12qq"
      },
      "source": [
        "## Regression"
      ]
    },
    {
      "cell_type": "code",
      "metadata": {
        "id": "ucYaIpdMuBBk"
      },
      "source": [
        "X_2,y_2=load_boston(return_X_y=True)\r\n",
        "reg=tree.DecisionTreeRegressor(max_depth=3) #깊어서 보기 힘듦...\r\n",
        "reg=reg.fit(X_2,y_2)"
      ],
      "execution_count": null,
      "outputs": []
    },
    {
      "cell_type": "code",
      "metadata": {
        "colab": {
          "base_uri": "https://localhost:8080/"
        },
        "id": "mua1RUOH17Y7",
        "outputId": "e96a5515-26e8-4604-f833-b9deb3badccd"
      },
      "source": [
        "reg"
      ],
      "execution_count": null,
      "outputs": [
        {
          "output_type": "execute_result",
          "data": {
            "text/plain": [
              "DecisionTreeRegressor(ccp_alpha=0.0, criterion='mse', max_depth=3,\n",
              "                      max_features=None, max_leaf_nodes=None,\n",
              "                      min_impurity_decrease=0.0, min_impurity_split=None,\n",
              "                      min_samples_leaf=1, min_samples_split=2,\n",
              "                      min_weight_fraction_leaf=0.0, presort='deprecated',\n",
              "                      random_state=None, splitter='best')"
            ]
          },
          "metadata": {
            "tags": []
          },
          "execution_count": 24
        }
      ]
    },
    {
      "cell_type": "code",
      "metadata": {
        "colab": {
          "base_uri": "https://localhost:8080/"
        },
        "id": "H1DmyvuhveGZ",
        "outputId": "c4819d0e-0e9e-4817-85ea-0cb9fa0fd38e"
      },
      "source": [
        "X_2.shape"
      ],
      "execution_count": null,
      "outputs": [
        {
          "output_type": "execute_result",
          "data": {
            "text/plain": [
              "(506, 13)"
            ]
          },
          "metadata": {
            "tags": []
          },
          "execution_count": 18
        }
      ]
    },
    {
      "cell_type": "code",
      "metadata": {
        "colab": {
          "base_uri": "https://localhost:8080/",
          "height": 575
        },
        "id": "CBS3rQdOvICk",
        "outputId": "31b802d3-7956-4a6a-fc2d-8f98be231008"
      },
      "source": [
        "plt.figure(figsize=(10,10))\r\n",
        "tree.plot_tree(reg)\r\n",
        "plt.show()"
      ],
      "execution_count": null,
      "outputs": [
        {
          "output_type": "display_data",
          "data": {
            "image/png": "[encoded data removed]",
            "text/plain": [
              "<Figure size 720x720 with 1 Axes>"
            ]
          },
          "metadata": {
            "tags": [],
            "needs_background": "light"
          }
        }
      ]
    },
    {
      "cell_type": "markdown",
      "metadata": {
        "id": "ZJShwPvF6eR_"
      },
      "source": [
        "## 실험실\r\n"
      ]
    },
    {
      "cell_type": "markdown",
      "metadata": {
        "id": "PVqvZ9VdAP7h"
      },
      "source": [
        "### y=2x"
      ]
    },
    {
      "cell_type": "code",
      "metadata": {
        "id": "AWXax6mT4ywA"
      },
      "source": [
        "X,y=np.array([1,3,4,5,10,20,30]), np.array([2,6,8,10,20,40,60])"
      ],
      "execution_count": null,
      "outputs": []
    },
    {
      "cell_type": "code",
      "metadata": {
        "colab": {
          "base_uri": "https://localhost:8080/",
          "height": 283
        },
        "id": "bIMxRVK37RUf",
        "outputId": "a68f4ddb-08c3-4fce-8703-11d6365ddb11"
      },
      "source": [
        "plt.plot(X,y)"
      ],
      "execution_count": null,
      "outputs": [
        {
          "output_type": "execute_result",
          "data": {
            "text/plain": [
              "[<matplotlib.lines.Line2D at 0x7f0786205e50>]"
            ]
          },
          "metadata": {
            "tags": []
          },
          "execution_count": 34
        },
        {
          "output_type": "display_data",
          "data": {
            "image/png": "[encoded data removed]",
            "text/plain": [
              "<Figure size 432x288 with 1 Axes>"
            ]
          },
          "metadata": {
            "tags": [],
            "needs_background": "light"
          }
        }
      ]
    },
    {
      "cell_type": "markdown",
      "metadata": {
        "id": "n1dqP92x9nR8"
      },
      "source": [
        "#### Decision Tree"
      ]
    },
    {
      "cell_type": "code",
      "metadata": {
        "id": "TDchvl195A3-"
      },
      "source": [
        "dt=tree.DecisionTreeRegressor()"
      ],
      "execution_count": null,
      "outputs": []
    },
    {
      "cell_type": "code",
      "metadata": {
        "colab": {
          "base_uri": "https://localhost:8080/"
        },
        "id": "XVAoIkzK5Mwk",
        "outputId": "cea18941-fd00-4fb4-b7f7-7c4205e8bb6c"
      },
      "source": [
        "dt.fit(X.reshape((-1,1)),y.reshape((-1,1)))"
      ],
      "execution_count": null,
      "outputs": [
        {
          "output_type": "execute_result",
          "data": {
            "text/plain": [
              "DecisionTreeRegressor(ccp_alpha=0.0, criterion='mse', max_depth=None,\n",
              "                      max_features=None, max_leaf_nodes=None,\n",
              "                      min_impurity_decrease=0.0, min_impurity_split=None,\n",
              "                      min_samples_leaf=1, min_samples_split=2,\n",
              "                      min_weight_fraction_leaf=0.0, presort='deprecated',\n",
              "                      random_state=None, splitter='best')"
            ]
          },
          "metadata": {
            "tags": []
          },
          "execution_count": 35
        }
      ]
    },
    {
      "cell_type": "code",
      "metadata": {
        "colab": {
          "base_uri": "https://localhost:8080/",
          "height": 575
        },
        "id": "AIMGAL5I5Ota",
        "outputId": "aee4f929-2792-4ad5-80c1-e29ee2514c43"
      },
      "source": [
        "plt.figure(figsize=(10,10))\r\n",
        "tree.plot_tree(dt)\r\n",
        "plt.show()"
      ],
      "execution_count": null,
      "outputs": [
        {
          "output_type": "display_data",
          "data": {
            "image/png": "[encoded data removed]",
            "text/plain": [
              "<Figure size 720x720 with 1 Axes>"
            ]
          },
          "metadata": {
            "tags": [],
            "needs_background": "light"
          }
        }
      ]
    },
    {
      "cell_type": "code",
      "metadata": {
        "colab": {
          "base_uri": "https://localhost:8080/"
        },
        "id": "JMddP_8u5yc1",
        "outputId": "015421d7-4504-4d4e-a5a9-924001b767d6"
      },
      "source": [
        "X_test=np.array([2,4,6,100])\r\n",
        "dt.predict(X_test.reshape(-1,1))"
      ],
      "execution_count": null,
      "outputs": [
        {
          "output_type": "execute_result",
          "data": {
            "text/plain": [
              "array([ 2.,  8., 10., 60.])"
            ]
          },
          "metadata": {
            "tags": []
          },
          "execution_count": 56
        }
      ]
    },
    {
      "cell_type": "markdown",
      "metadata": {
        "id": "hdSc5Xsr9uxJ"
      },
      "source": [
        "--------------\r\n",
        "- 학습 데이터의 범위 내에서만 결과를 도출한다."
      ]
    },
    {
      "cell_type": "markdown",
      "metadata": {
        "id": "thIVQy729QhV"
      },
      "source": [
        "#### Ridge"
      ]
    },
    {
      "cell_type": "code",
      "metadata": {
        "id": "P0N423as8CIA"
      },
      "source": [
        "from sklearn.linear_model import Ridge"
      ],
      "execution_count": null,
      "outputs": []
    },
    {
      "cell_type": "code",
      "metadata": {
        "id": "Cdw8ggOJ8Isw"
      },
      "source": [
        "rid=Ridge()"
      ],
      "execution_count": null,
      "outputs": []
    },
    {
      "cell_type": "code",
      "metadata": {
        "colab": {
          "base_uri": "https://localhost:8080/"
        },
        "id": "_q7_q2Ud8rhs",
        "outputId": "a84dd9a3-d84e-44c8-fae2-215f5038870a"
      },
      "source": [
        "rid.fit(X.reshape(-1,1), y.reshape(-1,1))"
      ],
      "execution_count": null,
      "outputs": [
        {
          "output_type": "execute_result",
          "data": {
            "text/plain": [
              "Ridge(alpha=1.0, copy_X=True, fit_intercept=True, max_iter=None,\n",
              "      normalize=False, random_state=None, solver='auto', tol=0.001)"
            ]
          },
          "metadata": {
            "tags": []
          },
          "execution_count": 53
        }
      ]
    },
    {
      "cell_type": "code",
      "metadata": {
        "colab": {
          "base_uri": "https://localhost:8080/"
        },
        "id": "qe0W15Gw-4gB",
        "outputId": "c6e66e79-8d6a-40a4-b7fa-16ebcd9000e2"
      },
      "source": [
        "#weight 값\r\n",
        "rid.coef_"
      ],
      "execution_count": null,
      "outputs": [
        {
          "output_type": "execute_result",
          "data": {
            "text/plain": [
              "array([[1.99710445]])"
            ]
          },
          "metadata": {
            "tags": []
          },
          "execution_count": 60
        }
      ]
    },
    {
      "cell_type": "code",
      "metadata": {
        "colab": {
          "base_uri": "https://localhost:8080/"
        },
        "id": "aHj6HOQ89EvY",
        "outputId": "860166fa-25f4-430d-c270-bdf2af2cdfe4"
      },
      "source": [
        "rid.predict(X_test.reshape(-1,1))"
      ],
      "execution_count": null,
      "outputs": [
        {
          "output_type": "execute_result",
          "data": {
            "text/plain": [
              "array([[  4.02440538],\n",
              "       [  8.01861427],\n",
              "       [ 12.01282316],\n",
              "       [199.74064116]])"
            ]
          },
          "metadata": {
            "tags": []
          },
          "execution_count": 57
        }
      ]
    },
    {
      "cell_type": "markdown",
      "metadata": {
        "id": "29nWaeKS7Wwc"
      },
      "source": [
        "---------------------\r\n",
        "- y=1.997x로 y=2x와 근사하다."
      ]
    },
    {
      "cell_type": "markdown",
      "metadata": {
        "id": "eN2C11qSVdHc"
      },
      "source": [
        "#### Built-in vs Permutation "
      ]
    },
    {
      "cell_type": "code",
      "metadata": {
        "id": "7wH_xt0cl7cA"
      },
      "source": [
        "from sklearn.inspection import permutation_importance"
      ],
      "execution_count": 2,
      "outputs": []
    },
    {
      "cell_type": "code",
      "metadata": {
        "id": "znCoxjj9hk4c"
      },
      "source": [
        "boston = load_boston()\r\n",
        "X=pd.DataFrame(boston.data, columns=boston.feature_names)\r\n",
        "y=boston.target\r\n",
        "X_train,X_test,y_train,y_test = train_test_split(X,y,test_size=0.25,random_state=12)"
      ],
      "execution_count": 3,
      "outputs": []
    },
    {
      "cell_type": "markdown",
      "metadata": {
        "id": "rmZBX8Z_ldNL"
      },
      "source": [
        "- feature nunique 확인"
      ]
    },
    {
      "cell_type": "code",
      "metadata": {
        "colab": {
          "base_uri": "https://localhost:8080/",
          "height": 76
        },
        "id": "-HkkHHfOkvCm",
        "outputId": "f28fc3ab-f03f-43d1-d1f0-77f9127f6455"
      },
      "source": [
        "boston_df= pd.DataFrame(boston.data, columns=boston.feature_names)\r\n",
        "pd.DataFrame(boston_df.nunique().sort_values()).T"
      ],
      "execution_count": 4,
      "outputs": [
        {
          "output_type": "execute_result",
          "data": {
            "text/html": [
              "<div>\n",
              "<style scoped>\n",
              "    .dataframe tbody tr th:only-of-type {\n",
              "        vertical-align: middle;\n",
              "    }\n",
              "\n",
              "    .dataframe tbody tr th {\n",
              "        vertical-align: top;\n",
              "    }\n",
              "\n",
              "    .dataframe thead th {\n",
              "        text-align: right;\n",
              "    }\n",
              "</style>\n",
              "<table border=\"1\" class=\"dataframe\">\n",
              "  <thead>\n",
              "    <tr style=\"text-align: right;\">\n",
              "      <th></th>\n",
              "      <th>CHAS</th>\n",
              "      <th>RAD</th>\n",
              "      <th>ZN</th>\n",
              "      <th>PTRATIO</th>\n",
              "      <th>TAX</th>\n",
              "      <th>INDUS</th>\n",
              "      <th>NOX</th>\n",
              "      <th>AGE</th>\n",
              "      <th>B</th>\n",
              "      <th>DIS</th>\n",
              "      <th>RM</th>\n",
              "      <th>LSTAT</th>\n",
              "      <th>CRIM</th>\n",
              "    </tr>\n",
              "  </thead>\n",
              "  <tbody>\n",
              "    <tr>\n",
              "      <th>0</th>\n",
              "      <td>2</td>\n",
              "      <td>9</td>\n",
              "      <td>26</td>\n",
              "      <td>46</td>\n",
              "      <td>66</td>\n",
              "      <td>76</td>\n",
              "      <td>81</td>\n",
              "      <td>356</td>\n",
              "      <td>357</td>\n",
              "      <td>412</td>\n",
              "      <td>446</td>\n",
              "      <td>455</td>\n",
              "      <td>504</td>\n",
              "    </tr>\n",
              "  </tbody>\n",
              "</table>\n",
              "</div>"
            ],
            "text/plain": [
              "   CHAS  RAD  ZN  PTRATIO  TAX  INDUS  NOX  AGE    B  DIS   RM  LSTAT  CRIM\n",
              "0     2    9  26       46   66     76   81  356  357  412  446    455   504"
            ]
          },
          "metadata": {
            "tags": []
          },
          "execution_count": 4
        }
      ]
    },
    {
      "cell_type": "code",
      "metadata": {
        "id": "X9eskn_DhB6n"
      },
      "source": [
        "def fig_feature_importance(**params):\r\n",
        "  dt_reg=tree.DecisionTreeRegressor(**params)\r\n",
        "  dt_reg.fit(X_train,y_train)\r\n",
        "  perm_importance = permutation_importance(dt_reg, X_test,y_test,n_repeats=10,random_state=0) #test 셋으로 중요성 판단, random_state설정\r\n",
        "  perm_mean= np.mean(abs(perm_importance.importances),axis=1) #주의! 전부 절댓값 먼저 씌우고 평균 구할 것(크기만 따질 것이므로 절댓값으로 본다)\r\n",
        "  # print(np.mean(abs(perm_importance.importances)[0]),np.mean(abs(perm_importance.importances)[1]))\r\n",
        "  # print(perm_mean)\r\n",
        "  mean_sum = sum(perm_mean)\r\n",
        "  normalized_perm_importance=perm_mean/mean_sum #permutation도 정규화하기\r\n",
        "  sorted_idx_p = normalized_perm_importance.argsort()\r\n",
        "\r\n",
        "  plt.figure(figsize=(25,5))\r\n",
        "  plt.suptitle(f\"score: {dt_reg.score(X_test, y_test)}\")\r\n",
        "  plt.subplot(1,3,1)\r\n",
        "  plt.title(\"built-in\")\r\n",
        "  sorted_idx_b = dt_reg.feature_importances_.argsort()\r\n",
        "  plt.barh(boston.feature_names[sorted_idx_b],dt_reg.feature_importances_[sorted_idx_b])\r\n",
        "  plt.grid()\r\n",
        "  \r\n",
        "\r\n",
        "  plt.subplot(1,3,2)\r\n",
        "  plt.title(\"permutation\")\r\n",
        "  plt.barh(boston.feature_names[sorted_idx_p],normalized_perm_importance[sorted_idx_p] ) \r\n",
        "  # plt.barh(boston.feature_names,normalized_perm_importance )\r\n",
        "  plt.grid()\r\n",
        "\r\n",
        "  plt.subplot(1,3,3)\r\n",
        "  plt.title(\"comparison\")\r\n",
        "  plt.barh(boston.feature_names[sorted_idx_p], normalized_perm_importance[sorted_idx_p],label='permutation')\r\n",
        "  plt.barh(boston.feature_names[sorted_idx_b],dt_reg.feature_importances_[sorted_idx_b])\r\n",
        "  plt.grid()\r\n",
        "  plt.legend()"
      ],
      "execution_count": 120,
      "outputs": []
    },
    {
      "cell_type": "markdown",
      "metadata": {
        "id": "3eZH8tVW2Lcb"
      },
      "source": [
        "- max_depth에 따른 각각의 importance 비교"
      ]
    },
    {
      "cell_type": "code",
      "metadata": {
        "colab": {
          "base_uri": "https://localhost:8080/",
          "height": 356
        },
        "id": "_42Yzhn714lc",
        "outputId": "62c84249-b28a-4006-8027-2d14706ce40e"
      },
      "source": [
        "fig_feature_importance(max_depth=10,random_state=0)"
      ],
      "execution_count": 122,
      "outputs": [
        {
          "output_type": "display_data",
          "data": {
            "image/png": "[encoded data removed]",
            "text/plain": [
              "<Figure size 1800x360 with 3 Axes>"
            ]
          },
          "metadata": {
            "tags": [],
            "needs_background": "light"
          }
        }
      ]
    },
    {
      "cell_type": "code",
      "metadata": {
        "colab": {
          "base_uri": "https://localhost:8080/",
          "height": 76
        },
        "id": "poWGWL84pRfn",
        "outputId": "c5e2255e-8803-4866-dab1-f7fb5858b673"
      },
      "source": [
        "pd.DataFrame(boston_df.nunique().sort_values()).T"
      ],
      "execution_count": null,
      "outputs": [
        {
          "output_type": "execute_result",
          "data": {
            "text/html": [
              "<div>\n",
              "<style scoped>\n",
              "    .dataframe tbody tr th:only-of-type {\n",
              "        vertical-align: middle;\n",
              "    }\n",
              "\n",
              "    .dataframe tbody tr th {\n",
              "        vertical-align: top;\n",
              "    }\n",
              "\n",
              "    .dataframe thead th {\n",
              "        text-align: right;\n",
              "    }\n",
              "</style>\n",
              "<table border=\"1\" class=\"dataframe\">\n",
              "  <thead>\n",
              "    <tr style=\"text-align: right;\">\n",
              "      <th></th>\n",
              "      <th>CHAS</th>\n",
              "      <th>RAD</th>\n",
              "      <th>ZN</th>\n",
              "      <th>PTRATIO</th>\n",
              "      <th>TAX</th>\n",
              "      <th>INDUS</th>\n",
              "      <th>NOX</th>\n",
              "      <th>AGE</th>\n",
              "      <th>B</th>\n",
              "      <th>DIS</th>\n",
              "      <th>RM</th>\n",
              "      <th>LSTAT</th>\n",
              "      <th>CRIM</th>\n",
              "    </tr>\n",
              "  </thead>\n",
              "  <tbody>\n",
              "    <tr>\n",
              "      <th>0</th>\n",
              "      <td>2</td>\n",
              "      <td>9</td>\n",
              "      <td>26</td>\n",
              "      <td>46</td>\n",
              "      <td>66</td>\n",
              "      <td>76</td>\n",
              "      <td>81</td>\n",
              "      <td>356</td>\n",
              "      <td>357</td>\n",
              "      <td>412</td>\n",
              "      <td>446</td>\n",
              "      <td>455</td>\n",
              "      <td>504</td>\n",
              "    </tr>\n",
              "  </tbody>\n",
              "</table>\n",
              "</div>"
            ],
            "text/plain": [
              "   CHAS  RAD  ZN  PTRATIO  TAX  INDUS  NOX  AGE    B  DIS   RM  LSTAT  CRIM\n",
              "0     2    9  26       46   66     76   81  356  357  412  446    455   504"
            ]
          },
          "metadata": {
            "tags": []
          },
          "execution_count": 63
        }
      ]
    },
    {
      "cell_type": "markdown",
      "metadata": {
        "id": "9Cvsujfp_jTs"
      },
      "source": [
        "------------------\r\n",
        "- permutation을 보면 LSTAT과 RM의 차이가 크게 나지 않는데, built-in을 보면, LSTAT이 RM보다 약 3배 더 중요한 것으로 나온다.\r\n",
        "- TAX 중요도가 built-in과 permutation에서 크게 차이난다. \r\n",
        "- CRIM과 DIS의 차이는\r\n",
        "\r\n",
        "=> TAX의 cardinality가 상위에 있는 feature들보다 많이 낮아서 중요한 feature임에도 반영이 덜 된 것일까?<br>\r\n",
        "(그런데 CRIM과 DIS의 차이는 built-in이 더 심하다(CRIM이 훨 낮음))\r\n"
      ]
    },
    {
      "cell_type": "code",
      "metadata": {
        "colab": {
          "base_uri": "https://localhost:8080/",
          "height": 356
        },
        "id": "0Tn7OM-u_f55",
        "outputId": "4e930e1d-6575-46b0-a856-be77af68e6d2"
      },
      "source": [
        "fig_feature_importance(max_depth=7,random_state=0)"
      ],
      "execution_count": 123,
      "outputs": [
        {
          "output_type": "display_data",
          "data": {
            "image/png": "[encoded data removed]",
            "text/plain": [
              "<Figure size 1800x360 with 3 Axes>"
            ]
          },
          "metadata": {
            "tags": [],
            "needs_background": "light"
          }
        }
      ]
    },
    {
      "cell_type": "code",
      "metadata": {
        "colab": {
          "base_uri": "https://localhost:8080/",
          "height": 76
        },
        "id": "kol7V13aGwKY",
        "outputId": "0f896d35-9925-4bfb-c77f-52ab384863cf"
      },
      "source": [
        "pd.DataFrame(boston_df.nunique().sort_values()).T"
      ],
      "execution_count": 90,
      "outputs": [
        {
          "output_type": "execute_result",
          "data": {
            "text/html": [
              "<div>\n",
              "<style scoped>\n",
              "    .dataframe tbody tr th:only-of-type {\n",
              "        vertical-align: middle;\n",
              "    }\n",
              "\n",
              "    .dataframe tbody tr th {\n",
              "        vertical-align: top;\n",
              "    }\n",
              "\n",
              "    .dataframe thead th {\n",
              "        text-align: right;\n",
              "    }\n",
              "</style>\n",
              "<table border=\"1\" class=\"dataframe\">\n",
              "  <thead>\n",
              "    <tr style=\"text-align: right;\">\n",
              "      <th></th>\n",
              "      <th>CHAS</th>\n",
              "      <th>RAD</th>\n",
              "      <th>ZN</th>\n",
              "      <th>PTRATIO</th>\n",
              "      <th>TAX</th>\n",
              "      <th>INDUS</th>\n",
              "      <th>NOX</th>\n",
              "      <th>AGE</th>\n",
              "      <th>B</th>\n",
              "      <th>DIS</th>\n",
              "      <th>RM</th>\n",
              "      <th>LSTAT</th>\n",
              "      <th>CRIM</th>\n",
              "    </tr>\n",
              "  </thead>\n",
              "  <tbody>\n",
              "    <tr>\n",
              "      <th>0</th>\n",
              "      <td>2</td>\n",
              "      <td>9</td>\n",
              "      <td>26</td>\n",
              "      <td>46</td>\n",
              "      <td>66</td>\n",
              "      <td>76</td>\n",
              "      <td>81</td>\n",
              "      <td>356</td>\n",
              "      <td>357</td>\n",
              "      <td>412</td>\n",
              "      <td>446</td>\n",
              "      <td>455</td>\n",
              "      <td>504</td>\n",
              "    </tr>\n",
              "  </tbody>\n",
              "</table>\n",
              "</div>"
            ],
            "text/plain": [
              "   CHAS  RAD  ZN  PTRATIO  TAX  INDUS  NOX  AGE    B  DIS   RM  LSTAT  CRIM\n",
              "0     2    9  26       46   66     76   81  356  357  412  446    455   504"
            ]
          },
          "metadata": {
            "tags": []
          },
          "execution_count": 90
        }
      ]
    },
    {
      "cell_type": "markdown",
      "metadata": {
        "id": "TryZHQ79A2uV"
      },
      "source": [
        "---------------\r\n",
        "- max_depth 값을 낮춰서 과적합 현상을 조금 완화했다. \r\n",
        "- 눈에 띄는 변화는, permutation에서는 DIS와 NOX가 비슷한 중요도를 가진다는 것이다. \r\n",
        "- CRIM과 NOX는 built-in에서는 둘의 차이가 크지 않지만(NOX가 CRIM을 역전하긴 했다), permutation은 NOX가 CRIM보다 약 두 배 더 중요한 것으로 나온다.\r\n",
        "\r\n",
        "=> built-in에서는 cardinality의 차이가 클수록, cardinality가 낮은 feature의 중요도가 더 높아지기 힘들어보인다. "
      ]
    },
    {
      "cell_type": "code",
      "metadata": {
        "colab": {
          "base_uri": "https://localhost:8080/",
          "height": 356
        },
        "id": "bCrADIe3_hJt",
        "outputId": "e2ae1f2e-a3d1-404e-9874-30b5bf45713a"
      },
      "source": [
        "fig_feature_importance(max_depth=5,random_state=0)"
      ],
      "execution_count": 124,
      "outputs": [
        {
          "output_type": "display_data",
          "data": {
            "image/png": "[encoded data removed]",
            "text/plain": [
              "<Figure size 1800x360 with 3 Axes>"
            ]
          },
          "metadata": {
            "tags": [],
            "needs_background": "light"
          }
        }
      ]
    },
    {
      "cell_type": "code",
      "metadata": {
        "colab": {
          "base_uri": "https://localhost:8080/",
          "height": 76
        },
        "id": "_qDzTuwU_hj2",
        "outputId": "a55a87e3-4d46-4115-d803-c3b34aadc0e5"
      },
      "source": [
        "pd.DataFrame(boston_df.nunique().sort_values()).T"
      ],
      "execution_count": 91,
      "outputs": [
        {
          "output_type": "execute_result",
          "data": {
            "text/html": [
              "<div>\n",
              "<style scoped>\n",
              "    .dataframe tbody tr th:only-of-type {\n",
              "        vertical-align: middle;\n",
              "    }\n",
              "\n",
              "    .dataframe tbody tr th {\n",
              "        vertical-align: top;\n",
              "    }\n",
              "\n",
              "    .dataframe thead th {\n",
              "        text-align: right;\n",
              "    }\n",
              "</style>\n",
              "<table border=\"1\" class=\"dataframe\">\n",
              "  <thead>\n",
              "    <tr style=\"text-align: right;\">\n",
              "      <th></th>\n",
              "      <th>CHAS</th>\n",
              "      <th>RAD</th>\n",
              "      <th>ZN</th>\n",
              "      <th>PTRATIO</th>\n",
              "      <th>TAX</th>\n",
              "      <th>INDUS</th>\n",
              "      <th>NOX</th>\n",
              "      <th>AGE</th>\n",
              "      <th>B</th>\n",
              "      <th>DIS</th>\n",
              "      <th>RM</th>\n",
              "      <th>LSTAT</th>\n",
              "      <th>CRIM</th>\n",
              "    </tr>\n",
              "  </thead>\n",
              "  <tbody>\n",
              "    <tr>\n",
              "      <th>0</th>\n",
              "      <td>2</td>\n",
              "      <td>9</td>\n",
              "      <td>26</td>\n",
              "      <td>46</td>\n",
              "      <td>66</td>\n",
              "      <td>76</td>\n",
              "      <td>81</td>\n",
              "      <td>356</td>\n",
              "      <td>357</td>\n",
              "      <td>412</td>\n",
              "      <td>446</td>\n",
              "      <td>455</td>\n",
              "      <td>504</td>\n",
              "    </tr>\n",
              "  </tbody>\n",
              "</table>\n",
              "</div>"
            ],
            "text/plain": [
              "   CHAS  RAD  ZN  PTRATIO  TAX  INDUS  NOX  AGE    B  DIS   RM  LSTAT  CRIM\n",
              "0     2    9  26       46   66     76   81  356  357  412  446    455   504"
            ]
          },
          "metadata": {
            "tags": []
          },
          "execution_count": 91
        }
      ]
    },
    {
      "cell_type": "markdown",
      "metadata": {
        "id": "m_i3IBqfphEw"
      },
      "source": [
        "----------------------------\r\n",
        "\r\n",
        "- max_depth를 더 낮춰서 더 좋은 모델을 만들어봤다.\r\n",
        "- permutation에서는 B의 중요도가 많이 높아졌다.\r\n",
        "- built-in에서는 또 다시 CRIM이 NOX보다 좀 더 높아졌다.\r\n",
        "- permutation에서도 CRIM과 NOX의 차이가 이전보다 많이 좁혀졌다. \r\n",
        "\r\n",
        "------------------\r\n",
        "permutation방식과 built-in방식 모두 너무 다른 결과를 보여준다.\r\n",
        "따라서 여러 방법으로 feature importance를 구해봐야 할 것 같다.\r\n",
        "\r\n"
      ]
    },
    {
      "cell_type": "markdown",
      "metadata": {
        "id": "egYwhGD00YbQ"
      },
      "source": [
        "## 의사결정나무의 구성요소"
      ]
    },
    {
      "cell_type": "code",
      "metadata": {
        "id": "lep7PsXI0XT6"
      },
      "source": [
        "cdef struct Node:\r\n",
        "    # Base storage structure for the nodes in a Tree object\r\n",
        "\r\n",
        "    SIZE_t left_child                    # id of the left child of the node\r\n",
        "    SIZE_t right_child                   # id of the right child of the node\r\n",
        "    SIZE_t feature                       # Feature used for splitting the node\r\n",
        "    DOUBLE_t threshold                   # Threshold value at the node\r\n",
        "    DOUBLE_t impurity                    # Impurity of the node (i.e., the value of the criterion)\r\n",
        "    SIZE_t n_node_samples                # Number of samples at the node\r\n",
        "    DOUBLE_t weighted_n_node_samples     # Weighted number of samples at the node"
      ],
      "execution_count": null,
      "outputs": []
    },
    {
      "cell_type": "markdown",
      "metadata": {
        "id": "9jaqohd82IZE"
      },
      "source": [
        "## 성장(Growing) 과정\r\n",
        "#### CART(Classification And Regression Tree)알고리즘\r\n",
        "  - Top-down 방식\r\n",
        "  - 특성 k의 임곗값 t_k를 사용해서 두 개의 서브셋으로 나눈다.\r\n",
        "  - 가장 순수한(impurity가 최소인) 서브셋으로 나눌 수 있는 (k,t_k)를 찾는 것이 목표\r\n",
        "  - impurity를 줄이는 분할을 찾을 수 없을 때나 min_samples_split, max_depth 등의 중지 조건에 의해 중단된다. (Pre-Pruning or Early Stopping)"
      ]
    },
    {
      "cell_type": "markdown",
      "metadata": {
        "id": "dSsl-NmwMU54"
      },
      "source": [
        "### DepthFirstTreeBuilder"
      ]
    },
    {
      "cell_type": "code",
      "metadata": {
        "id": "NcInm00R2H3R"
      },
      "source": [
        "cdef Stack stack = Stack(INITIAL_STACK_SIZE)\r\n",
        "        cdef StackRecord stack_record\r\n",
        "\r\n",
        "        with nogil:\r\n",
        "            # push root node onto stack\r\n",
        "            rc = stack.push(0, n_node_samples, 0, _TREE_UNDEFINED, 0, INFINITY, 0)\r\n",
        "            if rc == -1:\r\n",
        "                # got return code -1 - out-of-memory\r\n",
        "                with gil:\r\n",
        "                    raise MemoryError()\r\n",
        "\r\n",
        "            while not stack.is_empty():\r\n",
        "                            stack.pop(&stack_record)\r\n",
        "\r\n",
        "                            start = stack_record.start\r\n",
        "                            end = stack_record.end\r\n",
        "                            depth = stack_record.depth\r\n",
        "                            parent = stack_record.parent\r\n",
        "                            is_left = stack_record.is_left\r\n",
        "                            impurity = stack_record.impurity\r\n",
        "                            n_constant_features = stack_record.n_constant_features\r\n",
        "\r\n",
        "                            n_node_samples = end - start\r\n",
        "                            splitter.node_reset(start, end, &weighted_n_node_samples)\r\n",
        "\r\n",
        "                            #=======Stopping rule 체크\r\n",
        "                            is_leaf = (depth >= max_depth or\r\n",
        "                                      n_node_samples < min_samples_split or\r\n",
        "                                      n_node_samples < 2 * min_samples_leaf or\r\n",
        "                                      weighted_n_node_samples < 2 * min_weight_leaf)\r\n",
        "\r\n",
        "                            if first:\r\n",
        "                                impurity = splitter.node_impurity()\r\n",
        "                                first = 0\r\n",
        "\r\n",
        "                            #=======Stopping rule에 걸렸거나 impurity가 최소 기준보다 낮으면 성장 중지 => Early Stopping(Pre-Pruning)\r\n",
        "                            is_leaf = (is_leaf or\r\n",
        "                                      (impurity <= min_impurity_split))\r\n",
        "\r\n",
        "                            if not is_leaf: #=======아무 해당 없으면 split 조건 확인\r\n",
        "                                splitter.node_split(impurity, &split, &n_constant_features)\r\n",
        "                                # If EPSILON=0 in the below comparison, float precision\r\n",
        "                                # issues stop splitting, producing trees that are\r\n",
        "                                # dissimilar to v0.18\r\n",
        "                                is_leaf = (is_leaf or split.pos >= end or\r\n",
        "                                          (split.improvement + EPSILON <\r\n",
        "                                            min_impurity_decrease))#=======Splitting rule 체크\r\n",
        "\r\n",
        "                            node_id = tree._add_node(parent, is_left, is_leaf, split.feature,\r\n",
        "                                                    split.threshold, impurity, n_node_samples,\r\n",
        "                                                    weighted_n_node_samples)\r\n",
        "\r\n",
        "                            if node_id == SIZE_MAX: #=======끝?\r\n",
        "                                rc = -1\r\n",
        "                                break\r\n",
        "\r\n",
        "\r\n",
        "                            # Store value for all nodes, to facilitate tree/model\r\n",
        "                            # inspection and interpretation\r\n",
        "                            splitter.node_value(tree.value + node_id * tree.value_stride)\r\n",
        "\r\n",
        "                            if not is_leaf: #======stopping 조건을 만족하지 못하면 split 수행 + stack에 넣기\r\n",
        "                                # Push right child on stack\r\n",
        "                                rc = stack.push(split.pos, end, depth + 1, node_id, 0,\r\n",
        "                                                split.impurity_right, n_constant_features)\r\n",
        "                                if rc == -1:\r\n",
        "                                    break\r\n",
        "\r\n",
        "                                # Push left child on stack\r\n",
        "                                rc = stack.push(start, split.pos, depth + 1, node_id, 1,\r\n",
        "                                                split.impurity_left, n_constant_features)\r\n",
        "                                if rc == -1:\r\n",
        "                                    break\r\n",
        "\r\n",
        "                            if depth > max_depth_seen:\r\n",
        "                                max_depth_seen = depth\r\n",
        "\r\n",
        "                        if rc >= 0:\r\n",
        "                            rc = tree._resize_c(tree.node_count)\r\n",
        "\r\n",
        "                        if rc >= 0:\r\n",
        "                            tree.max_depth = max_depth_seen\r\n",
        "                    if rc == -1:\r\n",
        "                        raise MemoryError()"
      ],
      "execution_count": null,
      "outputs": []
    },
    {
      "cell_type": "markdown",
      "metadata": {
        "id": "uyaurk6iMQxu"
      },
      "source": [
        "### BestFirstTreeBuilder"
      ]
    },
    {
      "cell_type": "code",
      "metadata": {
        "id": "kKxE3un6LUH9"
      },
      "source": [
        " cdef class BestFirstTreeBuilder(TreeBuilder):\r\n",
        "    \"\"\"Build a decision tree in best-first fashion.\r\n",
        "    The best node to expand is given by the node at the frontier that has the\r\n",
        "    highest impurity improvement.\r\n",
        "    \"\"\"\r\n",
        "    cdef SIZE_t max_leaf_nodes\r\n",
        "\r\n",
        "#..... 중간 생략\r\n",
        " # Initial capacity\r\n",
        "        cdef SIZE_t init_capacity = max_split_nodes + max_leaf_nodes\r\n",
        "        tree._resize(init_capacity)\r\n",
        "\r\n",
        "        with nogil:\r\n",
        "            # add root to frontier\r\n",
        "            rc = self._add_split_node(splitter, tree, 0, n_node_samples,\r\n",
        "                                      INFINITY, IS_FIRST, IS_LEFT, NULL, 0,\r\n",
        "                                      &split_node_left)\r\n",
        "            if rc >= 0:\r\n",
        "                rc = _add_to_frontier(&split_node_left, frontier)\r\n",
        "\r\n",
        "            if rc == -1:\r\n",
        "                with gil:\r\n",
        "                    raise MemoryError()\r\n",
        "\r\n",
        "            while not frontier.is_empty():\r\n",
        "                frontier.pop(&record)\r\n",
        "\r\n",
        "                node = &tree.nodes[record.node_id]\r\n",
        "                is_leaf = (record.is_leaf or max_split_nodes <= 0)\r\n",
        "\r\n",
        "                if is_leaf:\r\n",
        "                    # Node is not expandable; set node as leaf\r\n",
        "                    node.left_child = _TREE_LEAF\r\n",
        "                    node.right_child = _TREE_LEAF\r\n",
        "                    node.feature = _TREE_UNDEFINED\r\n",
        "                    node.threshold = _TREE_UNDEFINED\r\n",
        "\r\n",
        "                else:\r\n",
        "                    # Node is expandable\r\n",
        "\r\n",
        "                    # Decrement number of split nodes available\r\n",
        "                    max_split_nodes -= 1\r\n",
        "\r\n",
        "                    # Compute left split node\r\n",
        "                    rc = self._add_split_node(splitter, tree,\r\n",
        "                                              record.start, record.pos,\r\n",
        "                                              record.impurity_left,\r\n",
        "                                              IS_NOT_FIRST, IS_LEFT, node,\r\n",
        "                                              record.depth + 1,\r\n",
        "                                              &split_node_left)\r\n",
        "                    if rc == -1:\r\n",
        "                        break\r\n",
        "\r\n",
        "                    # tree.nodes may have changed\r\n",
        "                    node = &tree.nodes[record.node_id]\r\n",
        "\r\n",
        "                    # Compute right split node\r\n",
        "                    rc = self._add_split_node(splitter, tree, record.pos,\r\n",
        "                                              record.end,\r\n",
        "                                              record.impurity_right,\r\n",
        "                                              IS_NOT_FIRST, IS_NOT_LEFT, node,\r\n",
        "                                              record.depth + 1,\r\n",
        "                                              &split_node_right)\r\n",
        "                    if rc == -1:\r\n",
        "                        break\r\n",
        "\r\n",
        "                    # Add nodes to queue\r\n",
        "                    rc = _add_to_frontier(&split_node_left, frontier)\r\n",
        "                    if rc == -1:\r\n",
        "                        break\r\n",
        "\r\n",
        "                    rc = _add_to_frontier(&split_node_right, frontier)\r\n",
        "                    if rc == -1:\r\n",
        "                        break\r\n",
        "\r\n",
        "                if record.depth > max_depth_seen:\r\n",
        "                    max_depth_seen = record.depth\r\n",
        "\r\n",
        "            if rc >= 0:\r\n",
        "                rc = tree._resize_c(tree.node_count)\r\n",
        "\r\n",
        "            if rc >= 0:\r\n",
        "                tree.max_depth = max_depth_seen\r\n",
        "\r\n",
        "        if rc == -1:\r\n",
        "            raise MemoryError()"
      ],
      "execution_count": null,
      "outputs": []
    },
    {
      "cell_type": "markdown",
      "metadata": {
        "id": "PKE6flyJJcyw"
      },
      "source": [
        "### Depth-first, Best-first 언제 쓸까?"
      ]
    },
    {
      "cell_type": "code",
      "metadata": {
        "id": "1v2YmoXCLLNZ"
      },
      "source": [
        "#sklearn/tree/_classes.py  line: 372~\r\n",
        "# Use BestFirst if max_leaf_nodes given; use DepthFirst otherwise\r\n",
        "        if max_leaf_nodes < 0: #===============max_leaf_nodes가 default(None)일 때 -> Depth-first\r\n",
        "            builder = DepthFirstTreeBuilder(splitter, min_samples_split,\r\n",
        "                                            min_samples_leaf,\r\n",
        "                                            min_weight_leaf,\r\n",
        "                                            max_depth,\r\n",
        "                                            self.min_impurity_decrease,\r\n",
        "                                            min_impurity_split)\r\n",
        "        else:\r\n",
        "            builder = BestFirstTreeBuilder(splitter, min_samples_split,\r\n",
        "                                           min_samples_leaf,\r\n",
        "                                           min_weight_leaf,\r\n",
        "                                           max_depth,\r\n",
        "                                           max_leaf_nodes,\r\n",
        "                                           self.min_impurity_decrease,\r\n",
        "                                           min_impurity_split)"
      ],
      "execution_count": null,
      "outputs": []
    },
    {
      "cell_type": "markdown",
      "metadata": {
        "id": "slWrTxa-jMKv"
      },
      "source": [
        "- BestFirstTreeBuilder의 tree 크기 초기화 코드"
      ]
    },
    {
      "cell_type": "code",
      "metadata": {
        "id": "THY1X6oBi8xg"
      },
      "source": [
        "  cdef SIZE_t max_split_nodes = max_leaf_nodes - 1 #max_split_nodes의 초깃값\r\n",
        "  # Initial capacity\r\n",
        "  cdef SIZE_t init_capacity = max_split_nodes + max_leaf_nodes \r\n",
        "        tree._resize(init_capacity)"
      ],
      "execution_count": null,
      "outputs": []
    },
    {
      "cell_type": "markdown",
      "metadata": {
        "id": "tezWGPUsjTEj"
      },
      "source": [
        "- DepthFirstTreeBuilder의 tree 크기 초기화 코드"
      ]
    },
    {
      "cell_type": "code",
      "metadata": {
        "id": "wKzE4xNYjKWr"
      },
      "source": [
        "# Initial capacity\r\n",
        "        cdef int init_capacity\r\n",
        "\r\n",
        "        if tree.max_depth <= 10:\r\n",
        "            init_capacity = (2 ** (tree.max_depth + 1)) - 1\r\n",
        "        else:\r\n",
        "            init_capacity = 2047\r\n",
        "\r\n",
        "        tree._resize(init_capacity)"
      ],
      "execution_count": null,
      "outputs": []
    },
    {
      "cell_type": "markdown",
      "metadata": {
        "id": "E6sonTUtQeyN"
      },
      "source": [
        "<img src=\"https://i.stack.imgur.com/e1FWe.png\" width=\"50%\" height=\"50%\"/>\r\n",
        "<img src=\"https://i.stack.imgur.com/YOE9y.png\" width=\"50%\" height=\"50%\"/>"
      ]
    },
    {
      "cell_type": "markdown",
      "metadata": {
        "id": "pzYxFhcyQg51"
      },
      "source": [
        "-------------------------------\r\n",
        "참고: [StackExchange](https://datascience.stackexchange.com/questions/26699/decision-trees-leaf-wise-best-first-and-level-wise-tree-traverse)\r\n",
        "\r\n",
        "\r\n",
        "\r\n",
        "- DepthFirstTreeBuilder는 level-wise, BestFirstTreeBuilder는 leaf-wise 방식\r\n",
        "- leaf-wise는 global 하게 impurity를 체크하고, 낮아지는 쪽으로 split -> 그래서 대부분 level-wise보다 빠르다.\r\n",
        "- global하게 보기 때문에 node가 많고, stopping이나 pruning을 하지 않는다면, leaf-wise는 매번 똑같은 트리를 생성한다."
      ]
    },
    {
      "cell_type": "markdown",
      "metadata": {
        "id": "kaEKh_fEACGw"
      },
      "source": [
        "## 가지치기(Pruning) 과정\r\n",
        "#### Tree Complexity에 관여하는 요소들\r\n",
        "- 전체 노드  수\r\n",
        "- 전체 리프 노드 수\r\n",
        "- 트리 깊이\r\n",
        "- 사용 feature 수\r\n",
        "\r\n",
        "#### Cost Complexity Pruning\r\n",
        "- cost-complexity function값이 작은 subtree를 선택하는 방법\r\n",
        "- 큰 트리를 만든 후, subtree로 가지치기를 한다.\r\n",
        "- 리프 노드 개수를 고려하는 방법\r\n",
        "> 그냥 cost값(R(T))만 고려해선 overfitting의 해결책이 될 수 없다. 그래서 Tree Complexity Penalty(a|T|)를 cost에 더해서 고려한다. <br><br>\r\n",
        "> Cα(T)=R(T)+α|T| <br>\r\n",
        "> a는 하이퍼파라미터(얼마나 penalty를 줄 것 인지), T는 리프 노드 개수(subtree의 크기가 클수록 노드 개수가 많으니까)\r\n",
        "\r\n",
        "\r\n",
        "참고: [youtube-StatQuest](https://www.youtube.com/watch?v=D0efHEJsfHo), [StackExchange](https://stats.stackexchange.com/questions/193538/how-to-choose-alpha-in-cost-complexity-pruning)"
      ]
    },
    {
      "cell_type": "markdown",
      "metadata": {
        "id": "WdMZPtR9je53"
      },
      "source": [
        "As formula: Minimize\r\n",
        "Cα(T−Tt)−Cα(T)=R(T−Tt)+α|T−Tt|−(R(T)+α|T|)=R(T−Tt)−R(T)+α(|T−Tt|−|T|)=1R(T)−R(Tt)+R(t)−R(T)+α(|T|−|Tt|+1−|T|)=R(t)−R(Tt)+α(1−|Tt|)\r\n",
        "\r\n",
        "This is 0 exactly when\r\n",
        "\r\n",
        "α=(R(t)−R(Tt))/|Tt|−1\r\n",
        "\r\n",
        "So minimizing Cα(T−Tt)−Cα(T) means minimizing α=(R(t)−R(Tt))/|Tt|−1"
      ]
    },
    {
      "cell_type": "code",
      "metadata": {
        "id": "CLGHibIXADpo"
      },
      "source": [
        "#sklearn/tree/_tree.pyx  ->  line 1294~\r\n",
        "cdef _cost_complexity_prune(unsigned char[:] leaves_in_subtree, # OUT\r\n",
        "                            Tree orig_tree,\r\n",
        "                            _CCPPruneController controller):\r\n",
        "    \"\"\"Perform cost complexity pruning.\r\n",
        "    This function takes an already grown tree, `orig_tree` and outputs a\r\n",
        "    boolean mask `leaves_in_subtree` to are the leaves in the pruned tree. The\r\n",
        "    controller signals when the pruning should stop and is passed the\r\n",
        "    metrics of the subtrees during the pruning process.\r\n",
        "    Parameters\r\n",
        "    ----------\r\n",
        "    leaves_in_subtree : unsigned char[:]\r\n",
        "        Output for leaves of subtree\r\n",
        "    orig_tree : Tree\r\n",
        "        Original tree\r\n",
        "    ccp_controller : _CCPPruneController\r\n",
        "        Cost complexity controller\r\n",
        "    \"\"\""
      ],
      "execution_count": null,
      "outputs": []
    },
    {
      "cell_type": "code",
      "metadata": {
        "id": "_XEFT5YZAWd_"
      },
      "source": [
        "\r\n",
        "# find parent node ids and leaves\r\n",
        "    with nogil:\r\n",
        "\r\n",
        "        for i in range(r_node.shape[0]):\r\n",
        "            r_node[i] = (\r\n",
        "                weighted_n_node_samples[i] * impurity[i] / total_sum_weights)\r\n",
        "\r\n",
        "        # Push root node, using StackRecord.start as node id\r\n",
        "        rc = stack.push(0, 0, 0, -1, 0, 0, 0)\r\n",
        "        if rc == -1:\r\n",
        "            with gil:\r\n",
        "                raise MemoryError(\"pruning tree\")\r\n",
        "\r\n",
        "        while not stack.is_empty():\r\n",
        "            stack.pop(&stack_record)\r\n",
        "            node_idx = stack_record.start\r\n",
        "            parent[node_idx] = stack_record.parent\r\n",
        "            if child_l[node_idx] == _TREE_LEAF:\r\n",
        "                # ... and child_r[node_idx] == _TREE_LEAF:\r\n",
        "                leaves_in_subtree[node_idx] = 1\r\n",
        "            else:\r\n",
        "                rc = stack.push(child_l[node_idx], 0, 0, node_idx, 0, 0, 0)\r\n",
        "                if rc == -1:\r\n",
        "                    with gil:\r\n",
        "                        raise MemoryError(\"pruning tree\")\r\n",
        "\r\n",
        "                rc = stack.push(child_r[node_idx], 0, 0, node_idx, 0, 0, 0)\r\n",
        "                if rc == -1:\r\n",
        "                    with gil:\r\n",
        "                        raise MemoryError(\"pruning tree\")\r\n",
        "\r\n",
        "        # computes number of leaves in all branches and the overall impurity of\r\n",
        "        # the branch. The overall impurity is the sum of r_node in its leaves.\r\n",
        "        for leaf_idx in range(leaves_in_subtree.shape[0]):\r\n",
        "            if not leaves_in_subtree[leaf_idx]:\r\n",
        "                continue\r\n",
        "            r_branch[leaf_idx] = r_node[leaf_idx]\r\n",
        "\r\n",
        "            # bubble up values to ancestor nodes\r\n",
        "            current_r = r_node[leaf_idx]\r\n",
        "            while leaf_idx != 0:\r\n",
        "                parent_idx = parent[leaf_idx]\r\n",
        "                r_branch[parent_idx] += current_r\r\n",
        "                n_leaves[parent_idx] += 1\r\n",
        "                leaf_idx = parent_idx\r\n",
        "\r\n",
        "        for i in range(leaves_in_subtree.shape[0]):\r\n",
        "            candidate_nodes[i] = not leaves_in_subtree[i]\r\n",
        "\r\n",
        "        # save metrics before pruning\r\n",
        "        controller.save_metrics(0.0, r_branch[0])\r\n",
        "\r\n",
        "        # while root node is not a leaf\r\n",
        "        #===========alpha값 구하는 부분\r\n",
        "        while candidate_nodes[0]:\r\n",
        "\r\n",
        "            # computes ccp_alpha for subtrees and finds the minimal alpha\r\n",
        "            effective_alpha = max_float64\r\n",
        "            for i in range(n_nodes):\r\n",
        "                if not candidate_nodes[i]:\r\n",
        "                    continue\r\n",
        "                subtree_alpha = (r_node[i] - r_branch[i]) / (n_leaves[i] - 1) #===============이 부분이 위 공식에 따라 alpha값을 구하는 부분\r\n",
        "                if subtree_alpha < effective_alpha: #=========effective_alpha는 최적(최소)의 alpha값을 저장하는 변수\r\n",
        "                    effective_alpha = subtree_alpha\r\n",
        "                    pruned_branch_node_idx = i\r\n",
        "\r\n",
        "            if controller.stop_pruning(effective_alpha):\r\n",
        "                break\r\n",
        "\r\n",
        "            # stack uses only the start variable\r\n",
        "            rc = stack.push(pruned_branch_node_idx, 0, 0, 0, 0, 0, 0)\r\n",
        "            if rc == -1:\r\n",
        "                with gil:\r\n",
        "                    raise MemoryError(\"pruning tree\")\r\n",
        "\r\n",
        "            # descendants of branch are not in subtree\r\n",
        "            while not stack.is_empty():\r\n",
        "                stack.pop(&stack_record)\r\n",
        "                node_idx = stack_record.start\r\n",
        "\r\n",
        "                if not in_subtree[node_idx]:\r\n",
        "                    continue # branch has already been marked for pruning\r\n",
        "                candidate_nodes[node_idx] = 0\r\n",
        "                leaves_in_subtree[node_idx] = 0\r\n",
        "                in_subtree[node_idx] = 0\r\n",
        "\r\n",
        "                if child_l[node_idx] != _TREE_LEAF:\r\n",
        "                    # ... and child_r[node_idx] != _TREE_LEAF:\r\n",
        "                    rc = stack.push(child_l[node_idx], 0, 0, 0, 0, 0, 0)\r\n",
        "                    if rc == -1:\r\n",
        "                        with gil:\r\n",
        "                            raise MemoryError(\"pruning tree\")\r\n",
        "                    rc = stack.push(child_r[node_idx], 0, 0, 0, 0, 0, 0)\r\n",
        "                    if rc == -1:\r\n",
        "                        with gil:\r\n",
        "                            raise MemoryError(\"pruning tree\")\r\n",
        "            leaves_in_subtree[pruned_branch_node_idx] = 1\r\n",
        "            in_subtree[pruned_branch_node_idx] = 1\r\n",
        "\r\n",
        "            # updates number of leaves\r\n",
        "            n_pruned_leaves = n_leaves[pruned_branch_node_idx] - 1\r\n",
        "            n_leaves[pruned_branch_node_idx] = 0\r\n",
        "\r\n",
        "            # computes the increase in r_branch to bubble up\r\n",
        "            r_diff = r_node[pruned_branch_node_idx] - r_branch[pruned_branch_node_idx]\r\n",
        "            r_branch[pruned_branch_node_idx] = r_node[pruned_branch_node_idx]\r\n",
        "\r\n",
        "            # bubble up values to ancestors\r\n",
        "            node_idx = parent[pruned_branch_node_idx]\r\n",
        "            while node_idx != -1:\r\n",
        "                n_leaves[node_idx] -= n_pruned_leaves\r\n",
        "                r_branch[node_idx] += r_diff\r\n",
        "                node_idx = parent[node_idx]\r\n",
        "\r\n",
        "            controller.save_metrics(effective_alpha, r_branch[0])\r\n",
        "\r\n",
        "        controller.after_pruning(in_subtree)"
      ],
      "execution_count": null,
      "outputs": []
    },
    {
      "cell_type": "markdown",
      "metadata": {
        "id": "fuZMMBv3f7yg"
      },
      "source": [
        "--------------\r\n",
        "Growing 중에 early stopping(pre-pruning) 하는 방식이 있고, Growing 후에 pruning(post-pruning)하는 방식이 있다.\r\n",
        "\r\n",
        "- early stopping은 빠른 속도와 트리 사이즈가 작다는 점에서 장점이 있지만, 여러 상호 작용하는 속성의 영향을 간과하고 일찍 끝내버릴 수 있다.\r\n",
        "- 완전히 성정한 후에 pruning하는 방식은 시간은 걸리지만, 여러 속성의 상호 작용을 고려하기 때문에 정확성이 좋아질 수 있다.\r\n",
        "\r\n"
      ]
    },
    {
      "cell_type": "markdown",
      "metadata": {
        "id": "ehFUVKtruXcZ"
      },
      "source": [
        "## 모델 해석"
      ]
    },
    {
      "cell_type": "markdown",
      "metadata": {
        "id": "BK6zTpPPvYV3"
      },
      "source": [
        "### 각 노드의 중요도 계산\r\n",
        "I(Cj)=wj⋅G(Cj)–wj_left⋅G(Cj_left)–wj_right⋅G(Cj_right)\r\n",
        "\r\n",
        "- 노드C_j의 중요도는, 노드C_j의 가중치(전체 샘플 수에 대한 현재 노드에 해당하는 샘플 수의 비율) 불순도에서 자식 노드들(left, right)의 가중치 불순도 합을 뺀 것이다.\r\n",
        "- 즉, 어떤 노드의 중요도가 크다는 것은, 해당 노드에 의해 불순도가 크게 감소하게 되었다는 것이다.\r\n"
      ]
    },
    {
      "cell_type": "markdown",
      "metadata": {
        "id": "gCHnam0QijEX"
      },
      "source": [
        "\r\n",
        "\r\n",
        "#### compute_feature_importance"
      ]
    },
    {
      "cell_type": "code",
      "metadata": {
        "id": "BZvBW1UpiheU"
      },
      "source": [
        "cpdef compute_feature_importances(self, normalize=True):\r\n",
        "        \"\"\"Computes the importance of each feature (aka variable).\"\"\"\r\n",
        "        cdef Node* left\r\n",
        "        cdef Node* right\r\n",
        "        cdef Node* nodes = self.nodes\r\n",
        "        cdef Node* node = nodes\r\n",
        "        cdef Node* end_node = node + self.node_count\r\n",
        "\r\n",
        "        cdef double normalizer = 0.\r\n",
        "\r\n",
        "        cdef np.ndarray[np.float64_t, ndim=1] importances\r\n",
        "        importances = np.zeros((self.n_features,))\r\n",
        "        cdef DOUBLE_t* importance_data = <DOUBLE_t*>importances.data\r\n",
        "\r\n",
        "        with nogil:\r\n",
        "            while node != end_node:\r\n",
        "                if node.left_child != _TREE_LEAF:\r\n",
        "                    # ... and node.right_child != _TREE_LEAF:\r\n",
        "                    left = &nodes[node.left_child]\r\n",
        "                    right = &nodes[node.right_child]\r\n",
        "\r\n",
        "                    #===============각 노드의 중요도 계산 하는 부분(feature 기준으로 저장)\r\n",
        "                    importance_data[node.feature] += (\r\n",
        "                        node.weighted_n_node_samples * node.impurity -\r\n",
        "                        left.weighted_n_node_samples * left.impurity -\r\n",
        "                        right.weighted_n_node_samples * right.impurity)\r\n",
        "                node += 1\r\n",
        "\r\n",
        "        importances /= nodes[0].weighted_n_node_samples #=========각 feature의 중요도 계산 하는 부분\r\n",
        "\r\n",
        "        if normalize: \r\n",
        "            normalizer = np.sum(importances)\r\n",
        "\r\n",
        "            if normalizer > 0.0:\r\n",
        "                # Avoid dividing by zero (e.g., when root is pure)\r\n",
        "                importances /= normalizer\r\n",
        "\r\n",
        "        return importances"
      ],
      "execution_count": null,
      "outputs": []
    },
    {
      "cell_type": "markdown",
      "metadata": {
        "id": "0b0Gmvkd0as_"
      },
      "source": [
        "-----------------\r\n",
        "모델의 feature_importance 속성을 이용하면 위와 같은 방식으로 feature importance가 계산된다. 하지만 다음과 같은 경고가 명시되어있다."
      ]
    },
    {
      "cell_type": "markdown",
      "metadata": {
        "id": "1bdAg2lxm8aQ"
      },
      "source": [
        "The importance of a feature is computed as the (normalized) total reduction of the criterion brought by that feature. It is also known as the Gini importance.\r\n",
        "\r\n",
        "Warning: impurity-based feature importances can be misleading for high cardinality features (many unique values). See sklearn.inspection.permutation_importance as an alternative.\r\n",
        "\r\n",
        "\r\n",
        "\r\n",
        "\r\n"
      ]
    },
    {
      "cell_type": "markdown",
      "metadata": {
        "id": "c99JkIwEtl1d"
      },
      "source": [
        "-  속성의 값이 다양한 경우(nunique가 높은 경우로, 보통 연속형이 해당)에는 위 방법 말고 permutation 방법을 쓰는 것이 더 정확한 방법이라고 한다.\r\n",
        "\r\n",
        "- 그리고 이 중요도는 train 과정에서 얻은 것이므로 모델이 overfitting되었을 경우, 신뢰할 수 없다는 문제점도 있다.\r\n",
        "<br><br>\r\n",
        "\r\n",
        "#### permutation feature importance \r\n",
        "과정)<br>\r\n",
        "1. 특정 feature의 값을 무작위로 섞어서 노이즈로 만든다.(의미 없는 feature로 만들어버림)\r\n",
        "2. 섞은 후의 예측 값과 원래 값의 차이를 구한다. -> 차이가 클 수록 feature의 영향력이 큰 것이다.\r\n",
        "\r\n",
        "\r\n",
        "특징)<br>\r\n",
        "1. 모델에 의존적이지 않다.(model-agnostic)\r\n",
        "2. 특정 feature를 무의미하게 만듦으로써, 다른 feature와의 관계도 끊어버린다.->관련된 모든 feature의 importance에도 영향을 미친다.\r\n",
        "3. 무작위로 값을 섞기에, 할 때마다 결과가 달라질 수 있다. -> 섞는 횟수(n_repeats, 디폴트:5)를 늘려서 예측 에러의 분산을 감소 시킬 순 있음 but 연산량 증가\r\n"
      ]
    },
    {
      "cell_type": "markdown",
      "metadata": {
        "id": "W6VLW1zEtjhN"
      },
      "source": [
        "참고)\r\n",
        "[towardsdatascience](https://towardsdatascience.com/explain-your-machine-learning-with-feature-importance-774cd72abe)\r\n",
        "[soohee410님](https://soohee410.github.io/iml_tree_importance)\r\n",
        "[towardsdatascience2](https://towardsdatascience.com/the-mathematics-of-decision-trees-random-forest-and-feature-importance-in-scikit-learn-and-spark-f2861df67e3)"
      ]
    },
    {
      "cell_type": "markdown",
      "metadata": {
        "id": "rbUqap5F2DGC"
      },
      "source": [
        "## Detail"
      ]
    },
    {
      "cell_type": "markdown",
      "metadata": {
        "id": "UrUZ1lsE8qif"
      },
      "source": [
        "### add_node"
      ]
    },
    {
      "cell_type": "code",
      "metadata": {
        "id": "4kB2R5Kc8p6E"
      },
      "source": [
        "cdef SIZE_t _add_node(self, SIZE_t parent, bint is_left, bint is_leaf,\r\n",
        "                          SIZE_t feature, double threshold, double impurity,\r\n",
        "                          SIZE_t n_node_samples,\r\n",
        "                          double weighted_n_node_samples) nogil except -1:\r\n",
        "        \"\"\"Add a node to the tree.\r\n",
        "        The new node registers itself as the child of its parent.\r\n",
        "        Returns (size_t)(-1) on error.\r\n",
        "        \"\"\"\r\n",
        "        cdef SIZE_t node_id = self.node_count #id=순서(개수)\r\n",
        "\r\n",
        "        if node_id >= self.capacity:\r\n",
        "            if self._resize_c() != 0:\r\n",
        "                return SIZE_MAX\r\n",
        "\r\n",
        "        cdef Node* node = &self.nodes[node_id]\r\n",
        "        node.impurity = impurity\r\n",
        "        node.n_node_samples = n_node_samples\r\n",
        "        node.weighted_n_node_samples = weighted_n_node_samples\r\n",
        "\r\n",
        "        if parent != _TREE_UNDEFINED: #=======리프노드 아니면 자식 추가\r\n",
        "            if is_left:\r\n",
        "                self.nodes[parent].left_child = node_id\r\n",
        "            else:\r\n",
        "                self.nodes[parent].right_child = node_id\r\n",
        "\r\n",
        "        if is_leaf:#=======리프노드면 리프노드라고 표시\r\n",
        "            node.left_child = _TREE_LEAF\r\n",
        "            node.right_child = _TREE_LEAF\r\n",
        "            node.feature = _TREE_UNDEFINED\r\n",
        "            node.threshold = _TREE_UNDEFINED\r\n",
        "\r\n",
        "        else:\r\n",
        "            # left_child and right_child will be set later\r\n",
        "            node.feature = feature\r\n",
        "            node.threshold = threshold\r\n",
        "\r\n",
        "        self.node_count += 1 #=======노드 개수 ++\r\n",
        "\r\n",
        "        return node_id"
      ],
      "execution_count": null,
      "outputs": []
    },
    {
      "cell_type": "markdown",
      "metadata": {
        "id": "IBuHfgFhiaIV"
      },
      "source": [
        "- add_split_node(BestFirstTreeBuilder)"
      ]
    },
    {
      "cell_type": "code",
      "metadata": {
        "id": "UGhPQ4oPUaBo"
      },
      "source": [
        " cdef inline int _add_split_node(self, Splitter splitter, Tree tree,\r\n",
        "                                    SIZE_t start, SIZE_t end, double impurity,\r\n",
        "                                    bint is_first, bint is_left, Node* parent,\r\n",
        "                                    SIZE_t depth,\r\n",
        "                                    PriorityHeapRecord* res) nogil except -1:\r\n",
        "        \"\"\"Adds node w/ partition ``[start, end)`` to the frontier. \"\"\"\r\n",
        "        cdef SplitRecord split\r\n",
        "        cdef SIZE_t node_id\r\n",
        "        cdef SIZE_t n_node_samples\r\n",
        "        cdef SIZE_t n_constant_features = 0\r\n",
        "        cdef double weighted_n_samples = splitter.weighted_n_samples\r\n",
        "        cdef double min_impurity_decrease = self.min_impurity_decrease\r\n",
        "        cdef double min_impurity_split = self.min_impurity_split\r\n",
        "        cdef double weighted_n_node_samples\r\n",
        "        cdef bint is_leaf\r\n",
        "        cdef SIZE_t n_left, n_right\r\n",
        "        cdef double imp_diff\r\n",
        "\r\n",
        "        splitter.node_reset(start, end, &weighted_n_node_samples)\r\n",
        "\r\n",
        "        if is_first:\r\n",
        "            impurity = splitter.node_impurity()\r\n",
        "\r\n",
        "        n_node_samples = end - start\r\n",
        "        is_leaf = (depth >= self.max_depth or\r\n",
        "                   n_node_samples < self.min_samples_split or\r\n",
        "                   n_node_samples < 2 * self.min_samples_leaf or\r\n",
        "                   weighted_n_node_samples < 2 * self.min_weight_leaf or\r\n",
        "                   impurity <= min_impurity_split)\r\n",
        "\r\n",
        "        if not is_leaf:\r\n",
        "            splitter.node_split(impurity, &split, &n_constant_features)\r\n",
        "            # If EPSILON=0 in the below comparison, float precision issues stop\r\n",
        "            # splitting early, producing trees that are dissimilar to v0.18\r\n",
        "            is_leaf = (is_leaf or split.pos >= end or\r\n",
        "                       split.improvement + EPSILON < min_impurity_decrease)\r\n",
        "\r\n",
        "        node_id = tree._add_node(parent - tree.nodes\r\n",
        "                                 if parent != NULL\r\n",
        "                                 else _TREE_UNDEFINED,\r\n",
        "                                 is_left, is_leaf,\r\n",
        "                                 split.feature, split.threshold, impurity, n_node_samples,\r\n",
        "                                 weighted_n_node_samples)\r\n",
        "        if node_id == SIZE_MAX:\r\n",
        "            return -1\r\n",
        "\r\n",
        "        # compute values also for split nodes (might become leafs later).\r\n",
        "        splitter.node_value(tree.value + node_id * tree.value_stride)\r\n",
        "\r\n",
        "        res.node_id = node_id\r\n",
        "        res.start = start\r\n",
        "        res.end = end\r\n",
        "        res.depth = depth\r\n",
        "        res.impurity = impurity\r\n",
        "\r\n",
        "        if not is_leaf:\r\n",
        "            # is split node\r\n",
        "            res.pos = split.pos\r\n",
        "            res.is_leaf = 0\r\n",
        "            res.improvement = split.improvement\r\n",
        "            res.impurity_left = split.impurity_left\r\n",
        "            res.impurity_right = split.impurity_right\r\n",
        "\r\n",
        "        else:\r\n",
        "            # is leaf => 0 improvement\r\n",
        "            res.pos = end\r\n",
        "            res.is_leaf = 1\r\n",
        "            res.improvement = 0.0\r\n",
        "            res.impurity_left = impurity\r\n",
        "            res.impurity_right = impurity\r\n",
        "\r\n",
        "        return 0\r\n"
      ],
      "execution_count": null,
      "outputs": []
    }
  ]
}