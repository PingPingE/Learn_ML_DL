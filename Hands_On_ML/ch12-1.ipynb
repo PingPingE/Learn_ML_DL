{
  "nbformat": 4,
  "nbformat_minor": 0,
  "metadata": {
    "colab": {
      "name": "ch12-tensorflow.ipynb",
      "provenance": [],
      "collapsed_sections": [
        "JB_shFCiu2RI"
      ],
      "authorship_tag": "ABX9TyNfLvrJVQ0Vq+j5qrgwIpd4",
      "include_colab_link": true
    },
    "kernelspec": {
      "name": "python3",
      "display_name": "Python 3"
    }
  },
  "cells": [
    {
      "cell_type": "markdown",
      "metadata": {
        "id": "view-in-github",
        "colab_type": "text"
      },
      "source": [
        "<a href=\"https://colab.research.google.com/github/PingPingE/Learn_ML_DL/blob/main/Hands_On_ML/ch12-1.ipynb\" target=\"_parent\"><img src=\"https://colab.research.google.com/assets/colab-badge.svg\" alt=\"Open In Colab\"/></a>"
      ]
    },
    {
      "cell_type": "markdown",
      "metadata": {
        "id": "T5R07PRjNgqT"
      },
      "source": [
        "# 텐서플로우\r\n",
        "- 구글 브레인에서 개발(2015년 11월 공개)\r\n",
        "- 강력한 수치 계산용 라이브러리\r\n",
        "\r\n",
        "## 제공하는 것\r\n",
        "1. 핵심 구조는 numpy와 비슷하지만, <strong>GPU 지원</strong>\r\n",
        "2. 여러 장치와 서버에 대해 <strong>분산 컴퓨팅</strong> 지원\r\n",
        "3. JIT(Just In Time)컴파일러 포함 : <strong>속도를 높이고 메모리 사용량을 줄여준다.</strong>\r\n",
        "\r\n",
        "  과정) 파이썬 함수에서 <strong>계산 그래프</strong>를 추출 ->  최적화(사용하지 않는 노드 가지치기) -> 효율적으로 실행(ex)<strong>독립적인 연산을 자동으로 병렬 실행</strong>)\r\n",
        "\r\n",
        "4. 계산 그래프는 <strong>플랫폼에 중립적인 포맷</strong>으로 내보낼 수 있다.(ex) 리눅스에서 파이썬으로 훈련하고 안드로이드의 자바에서 실행)\r\n",
        "5. <strong>자동 미분(auto diff)</strong>기능과 RMSProp, Nadam과 같은 <strong>고성능 옵티마이저</strong>를 제공한다.\r\n",
        "\r\n",
        "\r\n",
        "참고 [링크](https://medium.com/@ljb7977/%ED%85%90%EC%84%9C%ED%94%8C%EB%A1%9C%EC%9A%B0-2-0%EC%97%90%EC%84%9C-%EB%8B%AC%EB%9D%BC%EC%A7%80%EB%8A%94-%EC%A0%90-6e233e0c7fbe)\r\n"
      ]
    },
    {
      "cell_type": "markdown",
      "metadata": {
        "id": "yaf0nqgFsUnN"
      },
      "source": [
        "![](https://miro.medium.com/proxy/0*fJ5u2WE51Oz44dr_)"
      ]
    },
    {
      "cell_type": "markdown",
      "metadata": {
        "id": "Lle4RzPAPsgB"
      },
      "source": [
        "# 넘파이처럼 텐서플로 이용하기\r\n",
        "- 텐서플로 API는 tensor를 순환시킨다.\r\n",
        "- tensor는 한 연산에서 다른 연산으로 흐른다. 그래서 tensorflow\r\n",
        "- tensor는 numpy의 ndarray와 매우 비슷하다.\r\n",
        "- tensor는 일반적으로 다차원 배열(하지만 스칼라 값도 가질 수 있음)\r\n",
        "- 사용자가 직접 정의하는 손실함수, 지표, 네트워크 등을 만들 때 텐서가 중요하다."
      ]
    },
    {
      "cell_type": "markdown",
      "metadata": {
        "id": "EIMPl6Bqb-9p"
      },
      "source": [
        "### 텐서와 연산\r\n",
        "- tf. constant()함수로 텐서를 만들 수 있다."
      ]
    },
    {
      "cell_type": "code",
      "metadata": {
        "id": "9O4PdIAucJV2"
      },
      "source": [
        "import tensorflow as tf"
      ],
      "execution_count": null,
      "outputs": []
    },
    {
      "cell_type": "code",
      "metadata": {
        "colab": {
          "base_uri": "https://localhost:8080/"
        },
        "id": "PG_ECE_YcASX",
        "outputId": "1c05c66b-624d-43ee-c1e9-58f6c4fc3020"
      },
      "source": [
        "tf.constant([[1.,2.,3.], [4.,5.,6.]]) "
      ],
      "execution_count": null,
      "outputs": [
        {
          "output_type": "execute_result",
          "data": {
            "text/plain": [
              "<tf.Tensor: shape=(2, 3), dtype=float32, numpy=\n",
              "array([[1., 2., 3.],\n",
              "       [4., 5., 6.]], dtype=float32)>"
            ]
          },
          "metadata": {
            "tags": []
          },
          "execution_count": 2
        }
      ]
    },
    {
      "cell_type": "code",
      "metadata": {
        "colab": {
          "base_uri": "https://localhost:8080/"
        },
        "id": "8OQyO398kaYQ",
        "outputId": "a941f2bc-14a7-4e2b-e60e-7df6b9e1344f"
      },
      "source": [
        "tf.constant(42)"
      ],
      "execution_count": null,
      "outputs": [
        {
          "output_type": "execute_result",
          "data": {
            "text/plain": [
              "<tf.Tensor: shape=(), dtype=int32, numpy=42>"
            ]
          },
          "metadata": {
            "tags": []
          },
          "execution_count": 3
        }
      ]
    },
    {
      "cell_type": "markdown",
      "metadata": {
        "id": "LS7X-jewpZFw"
      },
      "source": [
        "#### 정보 확인(shape, dtype)"
      ]
    },
    {
      "cell_type": "code",
      "metadata": {
        "colab": {
          "base_uri": "https://localhost:8080/"
        },
        "id": "sgI_JBP2kc3A",
        "outputId": "7b41ce43-7da0-400a-f02d-d07dcf757f16"
      },
      "source": [
        "t= tf.constant([[1.,2.,3.],[4.,5.,6.]])\r\n",
        "#크기\r\n",
        "t.shape"
      ],
      "execution_count": null,
      "outputs": [
        {
          "output_type": "execute_result",
          "data": {
            "text/plain": [
              "TensorShape([2, 3])"
            ]
          },
          "metadata": {
            "tags": []
          },
          "execution_count": 8
        }
      ]
    },
    {
      "cell_type": "code",
      "metadata": {
        "colab": {
          "base_uri": "https://localhost:8080/"
        },
        "id": "bSrw4CvOb9YK",
        "outputId": "12452e1a-ba0e-487a-e2da-071fb12519ec"
      },
      "source": [
        "t.dtype #데이터 타입"
      ],
      "execution_count": null,
      "outputs": [
        {
          "output_type": "execute_result",
          "data": {
            "text/plain": [
              "tf.float32"
            ]
          },
          "metadata": {
            "tags": []
          },
          "execution_count": 9
        }
      ]
    },
    {
      "cell_type": "markdown",
      "metadata": {
        "id": "kEu54cXwpeZ2"
      },
      "source": [
        "#### 참조 및 채널 차원 추가"
      ]
    },
    {
      "cell_type": "code",
      "metadata": {
        "colab": {
          "base_uri": "https://localhost:8080/"
        },
        "id": "IoXOCOSEb7r_",
        "outputId": "579207a0-3c71-4083-f532-adee60a47ae4"
      },
      "source": [
        "t[:, 1:] #인덱스 참조"
      ],
      "execution_count": null,
      "outputs": [
        {
          "output_type": "execute_result",
          "data": {
            "text/plain": [
              "<tf.Tensor: shape=(2, 2), dtype=float32, numpy=\n",
              "array([[2., 3.],\n",
              "       [5., 6.]], dtype=float32)>"
            ]
          },
          "metadata": {
            "tags": []
          },
          "execution_count": 10
        }
      ]
    },
    {
      "cell_type": "code",
      "metadata": {
        "colab": {
          "base_uri": "https://localhost:8080/"
        },
        "id": "kNw8YEH3Pax6",
        "outputId": "fde69727-520f-460b-c9df-cd15149fb885"
      },
      "source": [
        "t[...,1,tf.newaxis] #채널 차원 추가"
      ],
      "execution_count": null,
      "outputs": [
        {
          "output_type": "execute_result",
          "data": {
            "text/plain": [
              "<tf.Tensor: shape=(2, 1), dtype=float32, numpy=\n",
              "array([[2.],\n",
              "       [5.]], dtype=float32)>"
            ]
          },
          "metadata": {
            "tags": []
          },
          "execution_count": 15
        }
      ]
    },
    {
      "cell_type": "code",
      "metadata": {
        "colab": {
          "base_uri": "https://localhost:8080/"
        },
        "id": "dczi5szgpCvd",
        "outputId": "cfa98f18-13f1-427c-8ff6-6a65dfc00863"
      },
      "source": [
        "t[:,1,tf.newaxis]#...대신 :해도 똑같다"
      ],
      "execution_count": null,
      "outputs": [
        {
          "output_type": "execute_result",
          "data": {
            "text/plain": [
              "<tf.Tensor: shape=(2, 1), dtype=float32, numpy=\n",
              "array([[2.],\n",
              "       [5.]], dtype=float32)>"
            ]
          },
          "metadata": {
            "tags": []
          },
          "execution_count": 17
        }
      ]
    },
    {
      "cell_type": "markdown",
      "metadata": {
        "id": "lLEksAqephp0"
      },
      "source": [
        "#### 모든 종류의 텐서 연산 가능(numpy와 이름이 비슷)\r\n",
        "\r\n",
        "  add, multiply, square, exp, sqrt, reshape, squeeze, tile 등\r\n",
        "\r\n",
        "  단, 일부 함수(reduce_mean, reduce_sum, reduce_max, math.log = numpy의 mean, sum, max, log와 동일하다)\r\n",
        "<br><br>\r\n",
        "\r\n",
        "  *reduce가 붙는 이유: GPU커널이 원소가 추가된 <strong>순서를 보장하지 않는 reduce알고리즘</strong>을 사용하기 때문 \r\n",
        "  \r\n",
        "  -> 그래서 순서가 결과에 영향을 미치지 않는 연산에만 reduce가 붙어있네"
      ]
    },
    {
      "cell_type": "code",
      "metadata": {
        "colab": {
          "base_uri": "https://localhost:8080/"
        },
        "id": "KscQ17gRNa5X",
        "outputId": "fcb6cc71-5ab0-4fa3-f8d8-1a64b021e7c7"
      },
      "source": [
        "t+10 #scalar와 연산 -> broadcasting"
      ],
      "execution_count": null,
      "outputs": [
        {
          "output_type": "execute_result",
          "data": {
            "text/plain": [
              "<tf.Tensor: shape=(2, 3), dtype=float32, numpy=\n",
              "array([[11., 12., 13.],\n",
              "       [14., 15., 16.]], dtype=float32)>"
            ]
          },
          "metadata": {
            "tags": []
          },
          "execution_count": 18
        }
      ]
    },
    {
      "cell_type": "code",
      "metadata": {
        "colab": {
          "base_uri": "https://localhost:8080/"
        },
        "id": "NTVqUr8Io020",
        "outputId": "d5864a10-2245-4c66-88ac-12351fb1e41d"
      },
      "source": [
        "tf.add(t,10)  #= t+10"
      ],
      "execution_count": null,
      "outputs": [
        {
          "output_type": "execute_result",
          "data": {
            "text/plain": [
              "<tf.Tensor: shape=(2, 3), dtype=float32, numpy=\n",
              "array([[11., 12., 13.],\n",
              "       [14., 15., 16.]], dtype=float32)>"
            ]
          },
          "metadata": {
            "tags": []
          },
          "execution_count": 19
        }
      ]
    },
    {
      "cell_type": "code",
      "metadata": {
        "colab": {
          "base_uri": "https://localhost:8080/"
        },
        "id": "u3c4IMBjpmUl",
        "outputId": "e5d0473a-c001-4ec8-f53a-e08cce0562bd"
      },
      "source": [
        "tf.square(t)"
      ],
      "execution_count": null,
      "outputs": [
        {
          "output_type": "execute_result",
          "data": {
            "text/plain": [
              "<tf.Tensor: shape=(2, 3), dtype=float32, numpy=\n",
              "array([[ 1.,  4.,  9.],\n",
              "       [16., 25., 36.]], dtype=float32)>"
            ]
          },
          "metadata": {
            "tags": []
          },
          "execution_count": 20
        }
      ]
    },
    {
      "cell_type": "code",
      "metadata": {
        "colab": {
          "base_uri": "https://localhost:8080/"
        },
        "id": "p868YSXgpuDD",
        "outputId": "11aee8d9-dc86-4433-d413-19cd22460479"
      },
      "source": [
        "t@tf.transpose(t) #행렬 곱셈(=tf.matmul())"
      ],
      "execution_count": null,
      "outputs": [
        {
          "output_type": "execute_result",
          "data": {
            "text/plain": [
              "<tf.Tensor: shape=(2, 2), dtype=float32, numpy=\n",
              "array([[14., 32.],\n",
              "       [32., 77.]], dtype=float32)>"
            ]
          },
          "metadata": {
            "tags": []
          },
          "execution_count": 22
        }
      ]
    },
    {
      "cell_type": "markdown",
      "metadata": {
        "id": "Y0gQEiyhqx5x"
      },
      "source": [
        "#### transpose: tf.transpose(t)로 해야함.(t.T 안된다)\r\n",
        "\r\n",
        "=> numpy는 t.T하면 전치된 view가 나오고, tensorflow는 tf.transpose(t)하면 전치된 새로운 텐서가 나온다."
      ]
    },
    {
      "cell_type": "code",
      "metadata": {
        "colab": {
          "base_uri": "https://localhost:8080/"
        },
        "id": "ygq8etSXqpQi",
        "outputId": "cc9ec382-e3e5-4042-ebdf-91eeea5fb7dc"
      },
      "source": [
        "trans_t = tf.transpose(t)\r\n",
        "trans_t"
      ],
      "execution_count": null,
      "outputs": [
        {
          "output_type": "execute_result",
          "data": {
            "text/plain": [
              "<tf.Tensor: shape=(3, 2), dtype=float32, numpy=\n",
              "array([[1., 4.],\n",
              "       [2., 5.],\n",
              "       [3., 6.]], dtype=float32)>"
            ]
          },
          "metadata": {
            "tags": []
          },
          "execution_count": 25
        }
      ]
    },
    {
      "cell_type": "code",
      "metadata": {
        "colab": {
          "base_uri": "https://localhost:8080/"
        },
        "id": "_r_UWQIDqvk9",
        "outputId": "ac0f50e4-d9e0-4861-fa04-5a1e6729a756"
      },
      "source": [
        "tf.transpose(t)"
      ],
      "execution_count": null,
      "outputs": [
        {
          "output_type": "execute_result",
          "data": {
            "text/plain": [
              "<tf.Tensor: shape=(3, 2), dtype=float32, numpy=\n",
              "array([[1., 4.],\n",
              "       [2., 5.],\n",
              "       [3., 6.]], dtype=float32)>"
            ]
          },
          "metadata": {
            "tags": []
          },
          "execution_count": 26
        }
      ]
    },
    {
      "cell_type": "markdown",
      "metadata": {
        "id": "JpfTP2ryuT2w"
      },
      "source": [
        "## 텐서와 넘파이\r\n",
        "\r\n",
        "- 텐서는 넘파이와 함께 사용하기 편하다.\r\n",
        "- 넘파이 배열로 텐서를 만들 수 있고, 그 반대도 가능하다.\r\n",
        "- 넘파이 배열에 텐서플로 연산을 적용할 수 있고, 그 반대도 가능하다.\r\n",
        "- 넘파이는 기본으로 64비트 정밀도를 사용하지만 텐서플로는 32비트 정밀도를 사용한다.\r\n",
        "\r\n",
        "*일반적으로 신경망은 32비트 정밀도로 충분하고 더 빠르고 메모리도 적게 사용하기 때문\r\n",
        "\r\n",
        "(넘파이 배열로 텐서를 만들 때는 dtype=tf.float32로 지정해야한다.\r\n",
        "\r\n",
        "부동소수점 관련 [링크](https://gsmesie692.tistory.com/94)"
      ]
    },
    {
      "cell_type": "markdown",
      "metadata": {
        "id": "M54Fufuguw3n"
      },
      "source": [
        "#### numpy -> tensor"
      ]
    },
    {
      "cell_type": "code",
      "metadata": {
        "colab": {
          "base_uri": "https://localhost:8080/"
        },
        "id": "97rAXQVysQ81",
        "outputId": "b40060a2-a243-40bb-d94c-9685bc26f7d2"
      },
      "source": [
        "import numpy as np\r\n",
        "a = np.array([2.,4.,5.])\r\n",
        "tf.constant(a)\r\n"
      ],
      "execution_count": null,
      "outputs": [
        {
          "output_type": "execute_result",
          "data": {
            "text/plain": [
              "<tf.Tensor: shape=(3,), dtype=float64, numpy=array([2., 4., 5.])>"
            ]
          },
          "metadata": {
            "tags": []
          },
          "execution_count": 29
        }
      ]
    },
    {
      "cell_type": "code",
      "metadata": {
        "colab": {
          "base_uri": "https://localhost:8080/"
        },
        "id": "3pBHYPcgvDlY",
        "outputId": "406c6545-7ddb-490a-df21-a97a78e6066e"
      },
      "source": [
        "tf.reduce_sum(a)"
      ],
      "execution_count": null,
      "outputs": [
        {
          "output_type": "execute_result",
          "data": {
            "text/plain": [
              "<tf.Tensor: shape=(), dtype=float64, numpy=11.0>"
            ]
          },
          "metadata": {
            "tags": []
          },
          "execution_count": 35
        }
      ]
    },
    {
      "cell_type": "markdown",
      "metadata": {
        "id": "JB_shFCiu2RI"
      },
      "source": [
        "#### tensor -> numpy"
      ]
    },
    {
      "cell_type": "code",
      "metadata": {
        "colab": {
          "base_uri": "https://localhost:8080/"
        },
        "id": "XG-3EbvOuvVm",
        "outputId": "5ef9d5df-4cca-451c-9a0b-e44d93284bad"
      },
      "source": [
        "t.numpy()"
      ],
      "execution_count": null,
      "outputs": [
        {
          "output_type": "execute_result",
          "data": {
            "text/plain": [
              "array([[1., 2., 3.],\n",
              "       [4., 5., 6.]], dtype=float32)"
            ]
          },
          "metadata": {
            "tags": []
          },
          "execution_count": 31
        }
      ]
    },
    {
      "cell_type": "code",
      "metadata": {
        "colab": {
          "base_uri": "https://localhost:8080/"
        },
        "id": "SvBj5G-yvHbr",
        "outputId": "4ebbafae-1fb6-4bdb-cac7-eadacc14be17"
      },
      "source": [
        "np.sum(t)"
      ],
      "execution_count": null,
      "outputs": [
        {
          "output_type": "execute_result",
          "data": {
            "text/plain": [
              "21.0"
            ]
          },
          "metadata": {
            "tags": []
          },
          "execution_count": 33
        }
      ]
    },
    {
      "cell_type": "code",
      "metadata": {
        "colab": {
          "base_uri": "https://localhost:8080/"
        },
        "id": "PmCTr9qNvzPf",
        "outputId": "64dde895-5586-4727-b7a4-cd283c16bc48"
      },
      "source": [
        "np.log(t)"
      ],
      "execution_count": null,
      "outputs": [
        {
          "output_type": "execute_result",
          "data": {
            "text/plain": [
              "array([[0.       , 0.6931472, 1.0986123],\n",
              "       [1.3862944, 1.609438 , 1.7917595]], dtype=float32)"
            ]
          },
          "metadata": {
            "tags": []
          },
          "execution_count": 37
        }
      ]
    },
    {
      "cell_type": "markdown",
      "metadata": {
        "id": "O47TqIJdu6DV"
      },
      "source": [
        "## 타입 변환\r\n",
        "타입 변환은 성능을 크게 감소시킬 수 있다.\r\n",
        "\r\n",
        "텐서플로는 타입 변환을 자동으로 수행하지 않는다.\r\n",
        "- 그래서 <strong>호환되지 않는 타입의 텐서</strong>로 연산을 수행하면 예외가 발생\r\n",
        "\r\n",
        "ex) 실수 텐서 + 정수 텐서 X\r\n",
        "\r\n",
        "32비트 실수 + 64비트 실수 X"
      ]
    },
    {
      "cell_type": "code",
      "metadata": {
        "colab": {
          "base_uri": "https://localhost:8080/",
          "height": 234
        },
        "id": "XfQfUvl91JTW",
        "outputId": "ec4b7f24-4676-4cdc-da8b-c2c44be5af60"
      },
      "source": [
        "tf.constant(4.) - tf.constant(5)"
      ],
      "execution_count": null,
      "outputs": [
        {
          "output_type": "error",
          "ename": "InvalidArgumentError",
          "evalue": "ignored",
          "traceback": [
            "\u001b[0;31m---------------------------------------------------------------------------\u001b[0m",
            "\u001b[0;31mInvalidArgumentError\u001b[0m                      Traceback (most recent call last)",
            "\u001b[0;32m<ipython-input-39-01b938b73a94>\u001b[0m in \u001b[0;36m<module>\u001b[0;34m()\u001b[0m\n\u001b[0;32m----> 1\u001b[0;31m \u001b[0mtf\u001b[0m\u001b[0;34m.\u001b[0m\u001b[0mconstant\u001b[0m\u001b[0;34m(\u001b[0m\u001b[0;36m4.\u001b[0m\u001b[0;34m)\u001b[0m \u001b[0;34m-\u001b[0m \u001b[0mtf\u001b[0m\u001b[0;34m.\u001b[0m\u001b[0mconstant\u001b[0m\u001b[0;34m(\u001b[0m\u001b[0;36m5\u001b[0m\u001b[0;34m)\u001b[0m\u001b[0;34m\u001b[0m\u001b[0;34m\u001b[0m\u001b[0m\n\u001b[0m",
            "\u001b[0;32m/usr/local/lib/python3.6/dist-packages/tensorflow/python/ops/math_ops.py\u001b[0m in \u001b[0;36mbinary_op_wrapper\u001b[0;34m(x, y)\u001b[0m\n\u001b[1;32m   1162\u001b[0m     \u001b[0;32mwith\u001b[0m \u001b[0mops\u001b[0m\u001b[0;34m.\u001b[0m\u001b[0mname_scope\u001b[0m\u001b[0;34m(\u001b[0m\u001b[0;32mNone\u001b[0m\u001b[0;34m,\u001b[0m \u001b[0mop_name\u001b[0m\u001b[0;34m,\u001b[0m \u001b[0;34m[\u001b[0m\u001b[0mx\u001b[0m\u001b[0;34m,\u001b[0m \u001b[0my\u001b[0m\u001b[0;34m]\u001b[0m\u001b[0;34m)\u001b[0m \u001b[0;32mas\u001b[0m \u001b[0mname\u001b[0m\u001b[0;34m:\u001b[0m\u001b[0;34m\u001b[0m\u001b[0;34m\u001b[0m\u001b[0m\n\u001b[1;32m   1163\u001b[0m       \u001b[0;32mtry\u001b[0m\u001b[0;34m:\u001b[0m\u001b[0;34m\u001b[0m\u001b[0;34m\u001b[0m\u001b[0m\n\u001b[0;32m-> 1164\u001b[0;31m         \u001b[0;32mreturn\u001b[0m \u001b[0mfunc\u001b[0m\u001b[0;34m(\u001b[0m\u001b[0mx\u001b[0m\u001b[0;34m,\u001b[0m \u001b[0my\u001b[0m\u001b[0;34m,\u001b[0m \u001b[0mname\u001b[0m\u001b[0;34m=\u001b[0m\u001b[0mname\u001b[0m\u001b[0;34m)\u001b[0m\u001b[0;34m\u001b[0m\u001b[0;34m\u001b[0m\u001b[0m\n\u001b[0m\u001b[1;32m   1165\u001b[0m       \u001b[0;32mexcept\u001b[0m \u001b[0;34m(\u001b[0m\u001b[0mTypeError\u001b[0m\u001b[0;34m,\u001b[0m \u001b[0mValueError\u001b[0m\u001b[0;34m)\u001b[0m \u001b[0;32mas\u001b[0m \u001b[0me\u001b[0m\u001b[0;34m:\u001b[0m\u001b[0;34m\u001b[0m\u001b[0;34m\u001b[0m\u001b[0m\n\u001b[1;32m   1166\u001b[0m         \u001b[0;31m# Even if dispatching the op failed, the RHS may be a tensor aware\u001b[0m\u001b[0;34m\u001b[0m\u001b[0;34m\u001b[0m\u001b[0;34m\u001b[0m\u001b[0m\n",
            "\u001b[0;32m/usr/local/lib/python3.6/dist-packages/tensorflow/python/util/dispatch.py\u001b[0m in \u001b[0;36mwrapper\u001b[0;34m(*args, **kwargs)\u001b[0m\n\u001b[1;32m    199\u001b[0m     \u001b[0;34m\"\"\"Call target, and fall back on dispatchers if there is a TypeError.\"\"\"\u001b[0m\u001b[0;34m\u001b[0m\u001b[0;34m\u001b[0m\u001b[0m\n\u001b[1;32m    200\u001b[0m     \u001b[0;32mtry\u001b[0m\u001b[0;34m:\u001b[0m\u001b[0;34m\u001b[0m\u001b[0;34m\u001b[0m\u001b[0m\n\u001b[0;32m--> 201\u001b[0;31m       \u001b[0;32mreturn\u001b[0m \u001b[0mtarget\u001b[0m\u001b[0;34m(\u001b[0m\u001b[0;34m*\u001b[0m\u001b[0margs\u001b[0m\u001b[0;34m,\u001b[0m \u001b[0;34m**\u001b[0m\u001b[0mkwargs\u001b[0m\u001b[0;34m)\u001b[0m\u001b[0;34m\u001b[0m\u001b[0;34m\u001b[0m\u001b[0m\n\u001b[0m\u001b[1;32m    202\u001b[0m     \u001b[0;32mexcept\u001b[0m \u001b[0;34m(\u001b[0m\u001b[0mTypeError\u001b[0m\u001b[0;34m,\u001b[0m \u001b[0mValueError\u001b[0m\u001b[0;34m)\u001b[0m\u001b[0;34m:\u001b[0m\u001b[0;34m\u001b[0m\u001b[0;34m\u001b[0m\u001b[0m\n\u001b[1;32m    203\u001b[0m       \u001b[0;31m# Note: convert_to_eager_tensor currently raises a ValueError, not a\u001b[0m\u001b[0;34m\u001b[0m\u001b[0;34m\u001b[0m\u001b[0;34m\u001b[0m\u001b[0m\n",
            "\u001b[0;32m/usr/local/lib/python3.6/dist-packages/tensorflow/python/ops/math_ops.py\u001b[0m in \u001b[0;36msubtract\u001b[0;34m(x, y, name)\u001b[0m\n\u001b[1;32m    559\u001b[0m     \u001b[0mA\u001b[0m\u001b[0;31m \u001b[0m\u001b[0;31m`\u001b[0m\u001b[0mTensor\u001b[0m\u001b[0;31m`\u001b[0m\u001b[0;34m.\u001b[0m \u001b[0mHas\u001b[0m \u001b[0mthe\u001b[0m \u001b[0msame\u001b[0m \u001b[0mtype\u001b[0m \u001b[0;32mas\u001b[0m \u001b[0mx\u001b[0m\u001b[0;34m.\u001b[0m\u001b[0;34m\u001b[0m\u001b[0;34m\u001b[0m\u001b[0m\n\u001b[1;32m    560\u001b[0m   \"\"\"\n\u001b[0;32m--> 561\u001b[0;31m   \u001b[0;32mreturn\u001b[0m \u001b[0mgen_math_ops\u001b[0m\u001b[0;34m.\u001b[0m\u001b[0msub\u001b[0m\u001b[0;34m(\u001b[0m\u001b[0mx\u001b[0m\u001b[0;34m,\u001b[0m \u001b[0my\u001b[0m\u001b[0;34m,\u001b[0m \u001b[0mname\u001b[0m\u001b[0;34m)\u001b[0m\u001b[0;34m\u001b[0m\u001b[0;34m\u001b[0m\u001b[0m\n\u001b[0m\u001b[1;32m    562\u001b[0m \u001b[0;34m\u001b[0m\u001b[0m\n\u001b[1;32m    563\u001b[0m \u001b[0;34m\u001b[0m\u001b[0m\n",
            "\u001b[0;32m/usr/local/lib/python3.6/dist-packages/tensorflow/python/ops/gen_math_ops.py\u001b[0m in \u001b[0;36msub\u001b[0;34m(x, y, name)\u001b[0m\n\u001b[1;32m  10305\u001b[0m       \u001b[0;32mreturn\u001b[0m \u001b[0m_result\u001b[0m\u001b[0;34m\u001b[0m\u001b[0;34m\u001b[0m\u001b[0m\n\u001b[1;32m  10306\u001b[0m     \u001b[0;32mexcept\u001b[0m \u001b[0m_core\u001b[0m\u001b[0;34m.\u001b[0m\u001b[0m_NotOkStatusException\u001b[0m \u001b[0;32mas\u001b[0m \u001b[0me\u001b[0m\u001b[0;34m:\u001b[0m\u001b[0;34m\u001b[0m\u001b[0;34m\u001b[0m\u001b[0m\n\u001b[0;32m> 10307\u001b[0;31m       \u001b[0m_ops\u001b[0m\u001b[0;34m.\u001b[0m\u001b[0mraise_from_not_ok_status\u001b[0m\u001b[0;34m(\u001b[0m\u001b[0me\u001b[0m\u001b[0;34m,\u001b[0m \u001b[0mname\u001b[0m\u001b[0;34m)\u001b[0m\u001b[0;34m\u001b[0m\u001b[0;34m\u001b[0m\u001b[0m\n\u001b[0m\u001b[1;32m  10308\u001b[0m     \u001b[0;32mexcept\u001b[0m \u001b[0m_core\u001b[0m\u001b[0;34m.\u001b[0m\u001b[0m_FallbackException\u001b[0m\u001b[0;34m:\u001b[0m\u001b[0;34m\u001b[0m\u001b[0;34m\u001b[0m\u001b[0m\n\u001b[1;32m  10309\u001b[0m       \u001b[0;32mpass\u001b[0m\u001b[0;34m\u001b[0m\u001b[0;34m\u001b[0m\u001b[0m\n",
            "\u001b[0;32m/usr/local/lib/python3.6/dist-packages/tensorflow/python/framework/ops.py\u001b[0m in \u001b[0;36mraise_from_not_ok_status\u001b[0;34m(e, name)\u001b[0m\n\u001b[1;32m   6860\u001b[0m   \u001b[0mmessage\u001b[0m \u001b[0;34m=\u001b[0m \u001b[0me\u001b[0m\u001b[0;34m.\u001b[0m\u001b[0mmessage\u001b[0m \u001b[0;34m+\u001b[0m \u001b[0;34m(\u001b[0m\u001b[0;34m\" name: \"\u001b[0m \u001b[0;34m+\u001b[0m \u001b[0mname\u001b[0m \u001b[0;32mif\u001b[0m \u001b[0mname\u001b[0m \u001b[0;32mis\u001b[0m \u001b[0;32mnot\u001b[0m \u001b[0;32mNone\u001b[0m \u001b[0;32melse\u001b[0m \u001b[0;34m\"\"\u001b[0m\u001b[0;34m)\u001b[0m\u001b[0;34m\u001b[0m\u001b[0;34m\u001b[0m\u001b[0m\n\u001b[1;32m   6861\u001b[0m   \u001b[0;31m# pylint: disable=protected-access\u001b[0m\u001b[0;34m\u001b[0m\u001b[0;34m\u001b[0m\u001b[0;34m\u001b[0m\u001b[0m\n\u001b[0;32m-> 6862\u001b[0;31m   \u001b[0msix\u001b[0m\u001b[0;34m.\u001b[0m\u001b[0mraise_from\u001b[0m\u001b[0;34m(\u001b[0m\u001b[0mcore\u001b[0m\u001b[0;34m.\u001b[0m\u001b[0m_status_to_exception\u001b[0m\u001b[0;34m(\u001b[0m\u001b[0me\u001b[0m\u001b[0;34m.\u001b[0m\u001b[0mcode\u001b[0m\u001b[0;34m,\u001b[0m \u001b[0mmessage\u001b[0m\u001b[0;34m)\u001b[0m\u001b[0;34m,\u001b[0m \u001b[0;32mNone\u001b[0m\u001b[0;34m)\u001b[0m\u001b[0;34m\u001b[0m\u001b[0;34m\u001b[0m\u001b[0m\n\u001b[0m\u001b[1;32m   6863\u001b[0m   \u001b[0;31m# pylint: enable=protected-access\u001b[0m\u001b[0;34m\u001b[0m\u001b[0;34m\u001b[0m\u001b[0;34m\u001b[0m\u001b[0m\n\u001b[1;32m   6864\u001b[0m \u001b[0;34m\u001b[0m\u001b[0m\n",
            "\u001b[0;32m/usr/local/lib/python3.6/dist-packages/six.py\u001b[0m in \u001b[0;36mraise_from\u001b[0;34m(value, from_value)\u001b[0m\n",
            "\u001b[0;31mInvalidArgumentError\u001b[0m: cannot compute Sub as input #1(zero-based) was expected to be a float tensor but is a int32 tensor [Op:Sub]"
          ]
        }
      ]
    },
    {
      "cell_type": "code",
      "metadata": {
        "colab": {
          "base_uri": "https://localhost:8080/",
          "height": 234
        },
        "id": "_Guv27b91kwA",
        "outputId": "63da3b53-d440-4bfa-c629-4c564048297b"
      },
      "source": [
        "tf.constant(2.) - tf.constant(4. ,dtype=tf.float64)"
      ],
      "execution_count": null,
      "outputs": [
        {
          "output_type": "error",
          "ename": "InvalidArgumentError",
          "evalue": "ignored",
          "traceback": [
            "\u001b[0;31m---------------------------------------------------------------------------\u001b[0m",
            "\u001b[0;31mInvalidArgumentError\u001b[0m                      Traceback (most recent call last)",
            "\u001b[0;32m<ipython-input-42-c512f9bca481>\u001b[0m in \u001b[0;36m<module>\u001b[0;34m()\u001b[0m\n\u001b[0;32m----> 1\u001b[0;31m \u001b[0mtf\u001b[0m\u001b[0;34m.\u001b[0m\u001b[0mconstant\u001b[0m\u001b[0;34m(\u001b[0m\u001b[0;36m2.\u001b[0m\u001b[0;34m)\u001b[0m \u001b[0;34m-\u001b[0m \u001b[0mtf\u001b[0m\u001b[0;34m.\u001b[0m\u001b[0mconstant\u001b[0m\u001b[0;34m(\u001b[0m\u001b[0;36m4.\u001b[0m \u001b[0;34m,\u001b[0m\u001b[0mdtype\u001b[0m\u001b[0;34m=\u001b[0m\u001b[0mtf\u001b[0m\u001b[0;34m.\u001b[0m\u001b[0mfloat64\u001b[0m\u001b[0;34m)\u001b[0m\u001b[0;34m\u001b[0m\u001b[0;34m\u001b[0m\u001b[0m\n\u001b[0m",
            "\u001b[0;32m/usr/local/lib/python3.6/dist-packages/tensorflow/python/ops/math_ops.py\u001b[0m in \u001b[0;36mbinary_op_wrapper\u001b[0;34m(x, y)\u001b[0m\n\u001b[1;32m   1162\u001b[0m     \u001b[0;32mwith\u001b[0m \u001b[0mops\u001b[0m\u001b[0;34m.\u001b[0m\u001b[0mname_scope\u001b[0m\u001b[0;34m(\u001b[0m\u001b[0;32mNone\u001b[0m\u001b[0;34m,\u001b[0m \u001b[0mop_name\u001b[0m\u001b[0;34m,\u001b[0m \u001b[0;34m[\u001b[0m\u001b[0mx\u001b[0m\u001b[0;34m,\u001b[0m \u001b[0my\u001b[0m\u001b[0;34m]\u001b[0m\u001b[0;34m)\u001b[0m \u001b[0;32mas\u001b[0m \u001b[0mname\u001b[0m\u001b[0;34m:\u001b[0m\u001b[0;34m\u001b[0m\u001b[0;34m\u001b[0m\u001b[0m\n\u001b[1;32m   1163\u001b[0m       \u001b[0;32mtry\u001b[0m\u001b[0;34m:\u001b[0m\u001b[0;34m\u001b[0m\u001b[0;34m\u001b[0m\u001b[0m\n\u001b[0;32m-> 1164\u001b[0;31m         \u001b[0;32mreturn\u001b[0m \u001b[0mfunc\u001b[0m\u001b[0;34m(\u001b[0m\u001b[0mx\u001b[0m\u001b[0;34m,\u001b[0m \u001b[0my\u001b[0m\u001b[0;34m,\u001b[0m \u001b[0mname\u001b[0m\u001b[0;34m=\u001b[0m\u001b[0mname\u001b[0m\u001b[0;34m)\u001b[0m\u001b[0;34m\u001b[0m\u001b[0;34m\u001b[0m\u001b[0m\n\u001b[0m\u001b[1;32m   1165\u001b[0m       \u001b[0;32mexcept\u001b[0m \u001b[0;34m(\u001b[0m\u001b[0mTypeError\u001b[0m\u001b[0;34m,\u001b[0m \u001b[0mValueError\u001b[0m\u001b[0;34m)\u001b[0m \u001b[0;32mas\u001b[0m \u001b[0me\u001b[0m\u001b[0;34m:\u001b[0m\u001b[0;34m\u001b[0m\u001b[0;34m\u001b[0m\u001b[0m\n\u001b[1;32m   1166\u001b[0m         \u001b[0;31m# Even if dispatching the op failed, the RHS may be a tensor aware\u001b[0m\u001b[0;34m\u001b[0m\u001b[0;34m\u001b[0m\u001b[0;34m\u001b[0m\u001b[0m\n",
            "\u001b[0;32m/usr/local/lib/python3.6/dist-packages/tensorflow/python/util/dispatch.py\u001b[0m in \u001b[0;36mwrapper\u001b[0;34m(*args, **kwargs)\u001b[0m\n\u001b[1;32m    199\u001b[0m     \u001b[0;34m\"\"\"Call target, and fall back on dispatchers if there is a TypeError.\"\"\"\u001b[0m\u001b[0;34m\u001b[0m\u001b[0;34m\u001b[0m\u001b[0m\n\u001b[1;32m    200\u001b[0m     \u001b[0;32mtry\u001b[0m\u001b[0;34m:\u001b[0m\u001b[0;34m\u001b[0m\u001b[0;34m\u001b[0m\u001b[0m\n\u001b[0;32m--> 201\u001b[0;31m       \u001b[0;32mreturn\u001b[0m \u001b[0mtarget\u001b[0m\u001b[0;34m(\u001b[0m\u001b[0;34m*\u001b[0m\u001b[0margs\u001b[0m\u001b[0;34m,\u001b[0m \u001b[0;34m**\u001b[0m\u001b[0mkwargs\u001b[0m\u001b[0;34m)\u001b[0m\u001b[0;34m\u001b[0m\u001b[0;34m\u001b[0m\u001b[0m\n\u001b[0m\u001b[1;32m    202\u001b[0m     \u001b[0;32mexcept\u001b[0m \u001b[0;34m(\u001b[0m\u001b[0mTypeError\u001b[0m\u001b[0;34m,\u001b[0m \u001b[0mValueError\u001b[0m\u001b[0;34m)\u001b[0m\u001b[0;34m:\u001b[0m\u001b[0;34m\u001b[0m\u001b[0;34m\u001b[0m\u001b[0m\n\u001b[1;32m    203\u001b[0m       \u001b[0;31m# Note: convert_to_eager_tensor currently raises a ValueError, not a\u001b[0m\u001b[0;34m\u001b[0m\u001b[0;34m\u001b[0m\u001b[0;34m\u001b[0m\u001b[0m\n",
            "\u001b[0;32m/usr/local/lib/python3.6/dist-packages/tensorflow/python/ops/math_ops.py\u001b[0m in \u001b[0;36msubtract\u001b[0;34m(x, y, name)\u001b[0m\n\u001b[1;32m    559\u001b[0m     \u001b[0mA\u001b[0m\u001b[0;31m \u001b[0m\u001b[0;31m`\u001b[0m\u001b[0mTensor\u001b[0m\u001b[0;31m`\u001b[0m\u001b[0;34m.\u001b[0m \u001b[0mHas\u001b[0m \u001b[0mthe\u001b[0m \u001b[0msame\u001b[0m \u001b[0mtype\u001b[0m \u001b[0;32mas\u001b[0m \u001b[0mx\u001b[0m\u001b[0;34m.\u001b[0m\u001b[0;34m\u001b[0m\u001b[0;34m\u001b[0m\u001b[0m\n\u001b[1;32m    560\u001b[0m   \"\"\"\n\u001b[0;32m--> 561\u001b[0;31m   \u001b[0;32mreturn\u001b[0m \u001b[0mgen_math_ops\u001b[0m\u001b[0;34m.\u001b[0m\u001b[0msub\u001b[0m\u001b[0;34m(\u001b[0m\u001b[0mx\u001b[0m\u001b[0;34m,\u001b[0m \u001b[0my\u001b[0m\u001b[0;34m,\u001b[0m \u001b[0mname\u001b[0m\u001b[0;34m)\u001b[0m\u001b[0;34m\u001b[0m\u001b[0;34m\u001b[0m\u001b[0m\n\u001b[0m\u001b[1;32m    562\u001b[0m \u001b[0;34m\u001b[0m\u001b[0m\n\u001b[1;32m    563\u001b[0m \u001b[0;34m\u001b[0m\u001b[0m\n",
            "\u001b[0;32m/usr/local/lib/python3.6/dist-packages/tensorflow/python/ops/gen_math_ops.py\u001b[0m in \u001b[0;36msub\u001b[0;34m(x, y, name)\u001b[0m\n\u001b[1;32m  10305\u001b[0m       \u001b[0;32mreturn\u001b[0m \u001b[0m_result\u001b[0m\u001b[0;34m\u001b[0m\u001b[0;34m\u001b[0m\u001b[0m\n\u001b[1;32m  10306\u001b[0m     \u001b[0;32mexcept\u001b[0m \u001b[0m_core\u001b[0m\u001b[0;34m.\u001b[0m\u001b[0m_NotOkStatusException\u001b[0m \u001b[0;32mas\u001b[0m \u001b[0me\u001b[0m\u001b[0;34m:\u001b[0m\u001b[0;34m\u001b[0m\u001b[0;34m\u001b[0m\u001b[0m\n\u001b[0;32m> 10307\u001b[0;31m       \u001b[0m_ops\u001b[0m\u001b[0;34m.\u001b[0m\u001b[0mraise_from_not_ok_status\u001b[0m\u001b[0;34m(\u001b[0m\u001b[0me\u001b[0m\u001b[0;34m,\u001b[0m \u001b[0mname\u001b[0m\u001b[0;34m)\u001b[0m\u001b[0;34m\u001b[0m\u001b[0;34m\u001b[0m\u001b[0m\n\u001b[0m\u001b[1;32m  10308\u001b[0m     \u001b[0;32mexcept\u001b[0m \u001b[0m_core\u001b[0m\u001b[0;34m.\u001b[0m\u001b[0m_FallbackException\u001b[0m\u001b[0;34m:\u001b[0m\u001b[0;34m\u001b[0m\u001b[0;34m\u001b[0m\u001b[0m\n\u001b[1;32m  10309\u001b[0m       \u001b[0;32mpass\u001b[0m\u001b[0;34m\u001b[0m\u001b[0;34m\u001b[0m\u001b[0m\n",
            "\u001b[0;32m/usr/local/lib/python3.6/dist-packages/tensorflow/python/framework/ops.py\u001b[0m in \u001b[0;36mraise_from_not_ok_status\u001b[0;34m(e, name)\u001b[0m\n\u001b[1;32m   6860\u001b[0m   \u001b[0mmessage\u001b[0m \u001b[0;34m=\u001b[0m \u001b[0me\u001b[0m\u001b[0;34m.\u001b[0m\u001b[0mmessage\u001b[0m \u001b[0;34m+\u001b[0m \u001b[0;34m(\u001b[0m\u001b[0;34m\" name: \"\u001b[0m \u001b[0;34m+\u001b[0m \u001b[0mname\u001b[0m \u001b[0;32mif\u001b[0m \u001b[0mname\u001b[0m \u001b[0;32mis\u001b[0m \u001b[0;32mnot\u001b[0m \u001b[0;32mNone\u001b[0m \u001b[0;32melse\u001b[0m \u001b[0;34m\"\"\u001b[0m\u001b[0;34m)\u001b[0m\u001b[0;34m\u001b[0m\u001b[0;34m\u001b[0m\u001b[0m\n\u001b[1;32m   6861\u001b[0m   \u001b[0;31m# pylint: disable=protected-access\u001b[0m\u001b[0;34m\u001b[0m\u001b[0;34m\u001b[0m\u001b[0;34m\u001b[0m\u001b[0m\n\u001b[0;32m-> 6862\u001b[0;31m   \u001b[0msix\u001b[0m\u001b[0;34m.\u001b[0m\u001b[0mraise_from\u001b[0m\u001b[0;34m(\u001b[0m\u001b[0mcore\u001b[0m\u001b[0;34m.\u001b[0m\u001b[0m_status_to_exception\u001b[0m\u001b[0;34m(\u001b[0m\u001b[0me\u001b[0m\u001b[0;34m.\u001b[0m\u001b[0mcode\u001b[0m\u001b[0;34m,\u001b[0m \u001b[0mmessage\u001b[0m\u001b[0;34m)\u001b[0m\u001b[0;34m,\u001b[0m \u001b[0;32mNone\u001b[0m\u001b[0;34m)\u001b[0m\u001b[0;34m\u001b[0m\u001b[0;34m\u001b[0m\u001b[0m\n\u001b[0m\u001b[1;32m   6863\u001b[0m   \u001b[0;31m# pylint: enable=protected-access\u001b[0m\u001b[0;34m\u001b[0m\u001b[0;34m\u001b[0m\u001b[0;34m\u001b[0m\u001b[0m\n\u001b[1;32m   6864\u001b[0m \u001b[0;34m\u001b[0m\u001b[0m\n",
            "\u001b[0;32m/usr/local/lib/python3.6/dist-packages/six.py\u001b[0m in \u001b[0;36mraise_from\u001b[0;34m(value, from_value)\u001b[0m\n",
            "\u001b[0;31mInvalidArgumentError\u001b[0m: cannot compute Sub as input #1(zero-based) was expected to be a float tensor but is a double tensor [Op:Sub]"
          ]
        }
      ]
    },
    {
      "cell_type": "markdown",
      "metadata": {
        "id": "2NeL7Ov71vrs"
      },
      "source": [
        "- 만약 타입 변환이 진짜로 필요하다면 -> tf.cast()"
      ]
    },
    {
      "cell_type": "code",
      "metadata": {
        "colab": {
          "base_uri": "https://localhost:8080/"
        },
        "id": "vgWDpA101yo9",
        "outputId": "77b731e1-913d-4dbc-90ce-0d0f18179bff"
      },
      "source": [
        "t2= tf.constant(40, dtype=tf.float64)\r\n",
        "tf.constant(2.0) + tf.cast(t2 ,dtype=tf.float32)"
      ],
      "execution_count": null,
      "outputs": [
        {
          "output_type": "execute_result",
          "data": {
            "text/plain": [
              "<tf.Tensor: shape=(), dtype=float32, numpy=42.0>"
            ]
          },
          "metadata": {
            "tags": []
          },
          "execution_count": 44
        }
      ]
    },
    {
      "cell_type": "markdown",
      "metadata": {
        "id": "co203BR-2L9O"
      },
      "source": [
        "## 변수\r\n",
        "\r\n",
        "- <strong>tf.Tensor는 내용을 바꿀 수 없는 객체</strong>이다.\r\n",
        "\r\n",
        "### 하지만 내용을 바꿔야 한다면? \r\n",
        "- 역전파로 변경되어야 하는 신경망의 가중치라던지, \r\n",
        "- 시간에 따라 변경되야하는 모멘텀 옵티마이저(과거 gradient를 계속 업뎃)를 사용하는 경우\r\n",
        "\r\n",
        "=> <strong>tf.Variable</strong>이 필요한 이유"
      ]
    },
    {
      "cell_type": "markdown",
      "metadata": {
        "id": "zCxtxcpn2Tdl"
      },
      "source": [
        "tf..Variable은 tf.Tensor와 비슷하게 동작한다. 동일한 연산으로 수행할 수 있고 넘파이와도 잘 호환된다.\r\n",
        "\r\n",
        "- <strong>assign()메서드</strong>를 사용하여 변숫값을 바꿀 수 있다.\r\n",
        "- 단, tf.Variable은 tf.Tensor를 사용해서 값을 저장한다. 그래서 변수의 값을 변경하면 <strong>새로운 Tensor</strong>가 만들어 지는 것이다."
      ]
    },
    {
      "cell_type": "code",
      "metadata": {
        "colab": {
          "base_uri": "https://localhost:8080/"
        },
        "id": "koC7n2DU2M4T",
        "outputId": "44e04b91-e4cb-49a8-d9af-d50a87d15e18"
      },
      "source": [
        "v = tf.Variable([[1.,2.,3.],[4.,5.,6.]])\r\n",
        "v"
      ],
      "execution_count": null,
      "outputs": [
        {
          "output_type": "execute_result",
          "data": {
            "text/plain": [
              "<tf.Variable 'Variable:0' shape=(2, 3) dtype=float32, numpy=\n",
              "array([[1., 2., 3.],\n",
              "       [4., 5., 6.]], dtype=float32)>"
            ]
          },
          "metadata": {
            "tags": []
          },
          "execution_count": 45
        }
      ]
    },
    {
      "cell_type": "code",
      "metadata": {
        "colab": {
          "base_uri": "https://localhost:8080/"
        },
        "id": "tGCgxfpq3LH4",
        "outputId": "d46e716c-a380-4590-9e0f-e570b5393ffb"
      },
      "source": [
        "v.assign(2*v)"
      ],
      "execution_count": null,
      "outputs": [
        {
          "output_type": "execute_result",
          "data": {
            "text/plain": [
              "<tf.Variable 'UnreadVariable' shape=(2, 3) dtype=float32, numpy=\n",
              "array([[ 2.,  4.,  6.],\n",
              "       [ 8., 10., 12.]], dtype=float32)>"
            ]
          },
          "metadata": {
            "tags": []
          },
          "execution_count": 50
        }
      ]
    },
    {
      "cell_type": "code",
      "metadata": {
        "colab": {
          "base_uri": "https://localhost:8080/"
        },
        "id": "TPKsuCxE3SnJ",
        "outputId": "2173ec60-da62-41c3-9724-2fa4590dac8a"
      },
      "source": [
        "v[0,1].assign(42)"
      ],
      "execution_count": null,
      "outputs": [
        {
          "output_type": "execute_result",
          "data": {
            "text/plain": [
              "<tf.Variable 'UnreadVariable' shape=(2, 3) dtype=float32, numpy=\n",
              "array([[ 2., 42.,  6.],\n",
              "       [ 8., 10., 12.]], dtype=float32)>"
            ]
          },
          "metadata": {
            "tags": []
          },
          "execution_count": 54
        }
      ]
    },
    {
      "cell_type": "code",
      "metadata": {
        "colab": {
          "base_uri": "https://localhost:8080/"
        },
        "id": "lfpJTboK3p_F",
        "outputId": "5f2a0d11-e771-45bf-f7cf-e779926e2f23"
      },
      "source": [
        "v[:,1].assign([32,32])"
      ],
      "execution_count": null,
      "outputs": [
        {
          "output_type": "execute_result",
          "data": {
            "text/plain": [
              "<tf.Variable 'UnreadVariable' shape=(2, 3) dtype=float32, numpy=\n",
              "array([[ 2., 32.,  6.],\n",
              "       [ 8., 32., 12.]], dtype=float32)>"
            ]
          },
          "metadata": {
            "tags": []
          },
          "execution_count": 57
        }
      ]
    },
    {
      "cell_type": "code",
      "metadata": {
        "colab": {
          "base_uri": "https://localhost:8080/"
        },
        "id": "za4iRh4T3yBE",
        "outputId": "50031a5b-686b-4a3b-d48d-054c681e5cdf"
      },
      "source": [
        "v.scatter_nd_update([[0,0],[1,1]], updates=[77,70])#개별 원소(또는 슬라이스) 수정"
      ],
      "execution_count": null,
      "outputs": [
        {
          "output_type": "execute_result",
          "data": {
            "text/plain": [
              "<tf.Variable 'UnreadVariable' shape=(2, 3) dtype=float32, numpy=\n",
              "array([[77., 32.,  6.],\n",
              "       [ 8., 70., 12.]], dtype=float32)>"
            ]
          },
          "metadata": {
            "tags": []
          },
          "execution_count": 59
        }
      ]
    },
    {
      "cell_type": "markdown",
      "metadata": {
        "id": "T4B3ordR4o22"
      },
      "source": [
        "## 다른 데이터 구조\r\n",
        "\r\n",
        "텐서플로는 다음과 같은 몇 가지 다른 데이터 구조도 지원한다.\r\n",
        "- <strong>희소 텐서(sparse tensor)</strong> -> tf.SparseTensor: <strong>대부분 0으로 채워진 텐서</strong>를 효율적으로 나타낸다. \r\n",
        "- <strong>텐서 배열(tensor array)</strong> -> tf.TensorArray: <strong>텐서의 리스트</strong>이다. 기본적으로 고정된 길이를 가지지만 동적으로 바꿀 수 있다. 리스트에 포함된 모든 텐서는 크기와 데이터 타입이 동일해야한다.\r\n",
        "- <strong>래그드 텐서(ragged tensor)</strong> -> tf.RaggedTensor: 래그드 텐서는 <strong>리스트의 리스트</strong>를 나타낸다. 텐서에 포함된 값은 동일한 데이터 타입을 가져야 하지만 리스트의 길이는 다를 수 있다.\r\n",
        "- <strong>문자열 텐서(string tensor)</strong> -> tf.string 기본 데이터 타입의 텐서이다. 유니코드가 아닌 <strong>바이트 문자열</strong>을 나타낸다. (문자열 텐서를 만들면 자동으로 UTF-8로 인코딩된다)\r\n",
        "- <strong>집합</strong> -> tf.sets 패키지의 연산으로 다룬다. 일반적인 텐서(또는 희소 텐서)로 나타낸다. 예를 들면 tf.constant([[1,2],[3,4]])는 두 개의 집합 {1,2}와 {3,4}를 나타낸다. \r\n",
        "- <strong>큐</strong>->tf.queue패키지의 연산으로 다룬다. 단계별로 텐서를 저장한다. 텐서플로는 여러 종류의 큐를 제공한다. 간단한 FIFO 큐, Prioirity 큐, 원소를 섞는 큐(RandomShuffle Queue), 패딩을 추가하여 크기가 다른 원소의 배치를 만드는 큐(PaddingFIFOQueue) 등이 있다. "
      ]
    },
    {
      "cell_type": "markdown",
      "metadata": {
        "id": "cREcG9FN-eDx"
      },
      "source": [
        "# 사용자 정의 모델과 훈련 알고리즘"
      ]
    },
    {
      "cell_type": "markdown",
      "metadata": {
        "id": "AfQ-q0f8zx6A"
      },
      "source": [
        "##### 데이터 & 모델 준비"
      ]
    },
    {
      "cell_type": "code",
      "metadata": {
        "colab": {
          "base_uri": "https://localhost:8080/"
        },
        "id": "5ANZHSSCvJlA",
        "outputId": "1f1d1664-06e2-43b3-f1a9-46ad18193796"
      },
      "source": [
        "from sklearn.datasets import fetch_california_housing\r\n",
        "from sklearn.model_selection import train_test_split\r\n",
        "from sklearn.preprocessing import StandardScaler\r\n",
        "housing = fetch_california_housing()"
      ],
      "execution_count": null,
      "outputs": [
        {
          "output_type": "stream",
          "text": [
            "Downloading Cal. housing from https://ndownloader.figshare.com/files/5976036 to /root/scikit_learn_data\n"
          ],
          "name": "stderr"
        }
      ]
    },
    {
      "cell_type": "code",
      "metadata": {
        "id": "Z0J7P5lQy1q6"
      },
      "source": [
        "X_train_full, X_test, y_train_full, y_test = train_test_split(housing.data, housing.target)\r\n",
        "X_train, X_valid, y_train, y_valid = train_test_split(X_train_full, y_train_full)"
      ],
      "execution_count": null,
      "outputs": []
    },
    {
      "cell_type": "code",
      "metadata": {
        "colab": {
          "base_uri": "https://localhost:8080/"
        },
        "id": "Py3J3TLt0fBu",
        "outputId": "9e22c85b-682e-4a8d-b732-1e73f629e613"
      },
      "source": [
        "X_train.shape"
      ],
      "execution_count": null,
      "outputs": [
        {
          "output_type": "execute_result",
          "data": {
            "text/plain": [
              "(11610, 8)"
            ]
          },
          "metadata": {
            "tags": []
          },
          "execution_count": 23
        }
      ]
    },
    {
      "cell_type": "code",
      "metadata": {
        "colab": {
          "base_uri": "https://localhost:8080/"
        },
        "id": "C6gmWOMI0fwn",
        "outputId": "93a8f961-d507-4938-f647-67f0b2a80bec"
      },
      "source": [
        "y_train.shape"
      ],
      "execution_count": null,
      "outputs": [
        {
          "output_type": "execute_result",
          "data": {
            "text/plain": [
              "(11610,)"
            ]
          },
          "metadata": {
            "tags": []
          },
          "execution_count": 24
        }
      ]
    },
    {
      "cell_type": "code",
      "metadata": {
        "colab": {
          "base_uri": "https://localhost:8080/"
        },
        "id": "4BAayNs30hbS",
        "outputId": "9fb57ae1-0627-43fd-df5e-c7f96746b9a4"
      },
      "source": [
        "housing.feature_names"
      ],
      "execution_count": null,
      "outputs": [
        {
          "output_type": "execute_result",
          "data": {
            "text/plain": [
              "['MedInc',\n",
              " 'HouseAge',\n",
              " 'AveRooms',\n",
              " 'AveBedrms',\n",
              " 'Population',\n",
              " 'AveOccup',\n",
              " 'Latitude',\n",
              " 'Longitude']"
            ]
          },
          "metadata": {
            "tags": []
          },
          "execution_count": 25
        }
      ]
    },
    {
      "cell_type": "code",
      "metadata": {
        "id": "6PfEzRazzDPl"
      },
      "source": [
        "scaler = StandardScaler()\r\n",
        "X_train = scaler.fit_transform(X_train)\r\n",
        "X_valid = scaler.fit_transform(X_valid)\r\n",
        "X_test = scaler.transform(X_test)"
      ],
      "execution_count": null,
      "outputs": []
    },
    {
      "cell_type": "code",
      "metadata": {
        "id": "xyzm8rqazM-A"
      },
      "source": [
        "from tensorflow import keras"
      ],
      "execution_count": null,
      "outputs": []
    },
    {
      "cell_type": "code",
      "metadata": {
        "id": "5G9Bz4hxzZWm"
      },
      "source": [
        "model = keras.models.Sequential()\r\n",
        "model.add(keras.layers.Dense(10,activation='selu', kernel_initializer='lecun_normal', input_shape=X_train.shape[1:]))\r\n",
        "# model.add(keras.layers.Dense(30,activation='selu', kernel_initializer='lecun_normal'))\r\n",
        "model.add(keras.layers.Dense(1))"
      ],
      "execution_count": null,
      "outputs": []
    },
    {
      "cell_type": "code",
      "metadata": {
        "colab": {
          "base_uri": "https://localhost:8080/"
        },
        "id": "QQhLHh9t0ZN9",
        "outputId": "67051e05-2275-4ad1-852b-f480a57ebe5e"
      },
      "source": [
        "model.summary()"
      ],
      "execution_count": null,
      "outputs": [
        {
          "output_type": "stream",
          "text": [
            "Model: \"sequential_10\"\n",
            "_________________________________________________________________\n",
            "Layer (type)                 Output Shape              Param #   \n",
            "=================================================================\n",
            "dense_31 (Dense)             (None, 10)                90        \n",
            "_________________________________________________________________\n",
            "dense_32 (Dense)             (None, 1)                 11        \n",
            "=================================================================\n",
            "Total params: 101\n",
            "Trainable params: 101\n",
            "Non-trainable params: 0\n",
            "_________________________________________________________________\n"
          ],
          "name": "stdout"
        }
      ]
    },
    {
      "cell_type": "markdown",
      "metadata": {
        "id": "sxPNvzryvHiC"
      },
      "source": [
        "#### 사용자 정의 손실 함수\r\n",
        " 훈련세트에 잡음 데이터가 있다면? -> 이상치를 제거하는 건 비효율적(다 제거된다는 보장도 無)\r\n",
        "- 평균 제곱 오차(MSE): 큰 오차에 너무 과한 벌칙\r\n",
        "- 평균 절댓값 오차(MAE): 이상치에 관대해서 수렴하기 까지 시간이 오래걸림\r\n",
        "\r\n",
        "==> 후버 손실을 사용하면 좋다.\r\n",
        "\r\n",
        "\r\n",
        "*후버 손실: MSE와 MAE를 절충한 손실함수로, 오차가 특정 구간안이면 제곱, 아니면 절댓값"
      ]
    },
    {
      "cell_type": "code",
      "metadata": {
        "id": "2CeEZotdv3eU"
      },
      "source": [
        "def huber_fn(y_true, y_pred):\r\n",
        "  error= y_true-y_pred\r\n",
        "  is_small_error = tf.abs(error)<1 #기준(-1~1)\r\n",
        "  squared_loss = tf.square(error)/2 \r\n",
        "  linear_loss = tf.abs(error)-0.5\r\n",
        "  return tf.where(is_small_error, squared_loss, linear_loss)#오차가 -1~1사이면 MSE, 아니면 MAE"
      ],
      "execution_count": null,
      "outputs": []
    },
    {
      "cell_type": "markdown",
      "metadata": {
        "id": "q0tyUbn4x0_1"
      },
      "source": [
        "----------------\r\n",
        "전체 손실 평균이 아니라, 샘플마다 하나의 손실을 담은 텐서를 반환하는 것이 좋다. -> \r\n",
        "클래스 가중치나 샘플 가중치를 적용하기 위해"
      ]
    },
    {
      "cell_type": "code",
      "metadata": {
        "colab": {
          "base_uri": "https://localhost:8080/"
        },
        "id": "-wtIleeHzw8P",
        "outputId": "438a7116-5151-41f0-d8c7-4afa928f5136"
      },
      "source": [
        "model.compile(loss=huber_fn, optimizer='nadam')\r\n",
        "model.fit(X_train, y_train,batch_size=128, epochs=10, validation_data=(X_valid, y_valid))"
      ],
      "execution_count": null,
      "outputs": [
        {
          "output_type": "stream",
          "text": [
            "Epoch 1/10\n",
            "91/91 [==============================] - 1s 3ms/step - loss: 1.5238 - val_loss: 1.1627\n",
            "Epoch 2/10\n",
            "91/91 [==============================] - 0s 2ms/step - loss: 0.9426 - val_loss: 0.6064\n",
            "Epoch 3/10\n",
            "91/91 [==============================] - 0s 2ms/step - loss: 0.4817 - val_loss: 0.3196\n",
            "Epoch 4/10\n",
            "91/91 [==============================] - 0s 2ms/step - loss: 0.2862 - val_loss: 0.2366\n",
            "Epoch 5/10\n",
            "91/91 [==============================] - 0s 2ms/step - loss: 0.2367 - val_loss: 0.2104\n",
            "Epoch 6/10\n",
            "91/91 [==============================] - 0s 2ms/step - loss: 0.2302 - val_loss: 0.2051\n",
            "Epoch 7/10\n",
            "91/91 [==============================] - 0s 2ms/step - loss: 0.2147 - val_loss: 0.2159\n",
            "Epoch 8/10\n",
            "91/91 [==============================] - 0s 2ms/step - loss: 0.2143 - val_loss: 0.2384\n",
            "Epoch 9/10\n",
            "91/91 [==============================] - 0s 4ms/step - loss: 0.2125 - val_loss: 0.2369\n",
            "Epoch 10/10\n",
            "91/91 [==============================] - 0s 2ms/step - loss: 0.2101 - val_loss: 0.2551\n"
          ],
          "name": "stdout"
        },
        {
          "output_type": "execute_result",
          "data": {
            "text/plain": [
              "<tensorflow.python.keras.callbacks.History at 0x7fcc177ba208>"
            ]
          },
          "metadata": {
            "tags": []
          },
          "execution_count": 51
        }
      ]
    },
    {
      "cell_type": "markdown",
      "metadata": {
        "id": "Z4VgwF552YuV"
      },
      "source": [
        "##### 사용자 정의 요소(여기선 huber 손실)를 가진 모델을 저장하고 로드하기"
      ]
    },
    {
      "cell_type": "code",
      "metadata": {
        "id": "SUmFmeo02vXH"
      },
      "source": [
        "model.save('model.h5')"
      ],
      "execution_count": null,
      "outputs": []
    },
    {
      "cell_type": "code",
      "metadata": {
        "colab": {
          "base_uri": "https://localhost:8080/",
          "height": 344
        },
        "id": "NwOVyb0j2ooN",
        "outputId": "64a7bb7b-523a-4a98-b3ee-de0fdcc4c1e1"
      },
      "source": [
        "model2 = keras.models.load_model('model.h5')"
      ],
      "execution_count": null,
      "outputs": [
        {
          "output_type": "error",
          "ename": "ValueError",
          "evalue": "ignored",
          "traceback": [
            "\u001b[0;31m---------------------------------------------------------------------------\u001b[0m",
            "\u001b[0;31mValueError\u001b[0m                                Traceback (most recent call last)",
            "\u001b[0;32m<ipython-input-54-833172a8106d>\u001b[0m in \u001b[0;36m<module>\u001b[0;34m()\u001b[0m\n\u001b[0;32m----> 1\u001b[0;31m \u001b[0mmodel2\u001b[0m \u001b[0;34m=\u001b[0m \u001b[0mkeras\u001b[0m\u001b[0;34m.\u001b[0m\u001b[0mmodels\u001b[0m\u001b[0;34m.\u001b[0m\u001b[0mload_model\u001b[0m\u001b[0;34m(\u001b[0m\u001b[0;34m'model.h5'\u001b[0m\u001b[0;34m)\u001b[0m\u001b[0;34m\u001b[0m\u001b[0;34m\u001b[0m\u001b[0m\n\u001b[0m",
            "\u001b[0;32m/usr/local/lib/python3.6/dist-packages/tensorflow/python/keras/saving/save.py\u001b[0m in \u001b[0;36mload_model\u001b[0;34m(filepath, custom_objects, compile, options)\u001b[0m\n\u001b[1;32m    205\u001b[0m           (isinstance(filepath, h5py.File) or h5py.is_hdf5(filepath))):\n\u001b[1;32m    206\u001b[0m         return hdf5_format.load_model_from_hdf5(filepath, custom_objects,\n\u001b[0;32m--> 207\u001b[0;31m                                                 compile)\n\u001b[0m\u001b[1;32m    208\u001b[0m \u001b[0;34m\u001b[0m\u001b[0m\n\u001b[1;32m    209\u001b[0m       \u001b[0mfilepath\u001b[0m \u001b[0;34m=\u001b[0m \u001b[0mpath_to_string\u001b[0m\u001b[0;34m(\u001b[0m\u001b[0mfilepath\u001b[0m\u001b[0;34m)\u001b[0m\u001b[0;34m\u001b[0m\u001b[0;34m\u001b[0m\u001b[0m\n",
            "\u001b[0;32m/usr/local/lib/python3.6/dist-packages/tensorflow/python/keras/saving/hdf5_format.py\u001b[0m in \u001b[0;36mload_model_from_hdf5\u001b[0;34m(filepath, custom_objects, compile)\u001b[0m\n\u001b[1;32m    198\u001b[0m       \u001b[0;31m# Compile model.\u001b[0m\u001b[0;34m\u001b[0m\u001b[0;34m\u001b[0m\u001b[0;34m\u001b[0m\u001b[0m\n\u001b[1;32m    199\u001b[0m       model.compile(**saving_utils.compile_args_from_training_config(\n\u001b[0;32m--> 200\u001b[0;31m           training_config, custom_objects))\n\u001b[0m\u001b[1;32m    201\u001b[0m       \u001b[0msaving_utils\u001b[0m\u001b[0;34m.\u001b[0m\u001b[0mtry_build_compiled_arguments\u001b[0m\u001b[0;34m(\u001b[0m\u001b[0mmodel\u001b[0m\u001b[0;34m)\u001b[0m\u001b[0;34m\u001b[0m\u001b[0;34m\u001b[0m\u001b[0m\n\u001b[1;32m    202\u001b[0m \u001b[0;34m\u001b[0m\u001b[0m\n",
            "\u001b[0;32m/usr/local/lib/python3.6/dist-packages/tensorflow/python/keras/saving/saving_utils.py\u001b[0m in \u001b[0;36mcompile_args_from_training_config\u001b[0;34m(training_config, custom_objects)\u001b[0m\n\u001b[1;32m    216\u001b[0m     \u001b[0mloss_config\u001b[0m \u001b[0;34m=\u001b[0m \u001b[0mtraining_config\u001b[0m\u001b[0;34m.\u001b[0m\u001b[0mget\u001b[0m\u001b[0;34m(\u001b[0m\u001b[0;34m'loss'\u001b[0m\u001b[0;34m,\u001b[0m \u001b[0;32mNone\u001b[0m\u001b[0;34m)\u001b[0m\u001b[0;34m\u001b[0m\u001b[0;34m\u001b[0m\u001b[0m\n\u001b[1;32m    217\u001b[0m     \u001b[0;32mif\u001b[0m \u001b[0mloss_config\u001b[0m \u001b[0;32mis\u001b[0m \u001b[0;32mnot\u001b[0m \u001b[0;32mNone\u001b[0m\u001b[0;34m:\u001b[0m\u001b[0;34m\u001b[0m\u001b[0;34m\u001b[0m\u001b[0m\n\u001b[0;32m--> 218\u001b[0;31m       \u001b[0mloss\u001b[0m \u001b[0;34m=\u001b[0m \u001b[0m_deserialize_nested_config\u001b[0m\u001b[0;34m(\u001b[0m\u001b[0mlosses\u001b[0m\u001b[0;34m.\u001b[0m\u001b[0mdeserialize\u001b[0m\u001b[0;34m,\u001b[0m \u001b[0mloss_config\u001b[0m\u001b[0;34m)\u001b[0m\u001b[0;34m\u001b[0m\u001b[0;34m\u001b[0m\u001b[0m\n\u001b[0m\u001b[1;32m    219\u001b[0m \u001b[0;34m\u001b[0m\u001b[0m\n\u001b[1;32m    220\u001b[0m     \u001b[0;31m# Recover metrics.\u001b[0m\u001b[0;34m\u001b[0m\u001b[0;34m\u001b[0m\u001b[0;34m\u001b[0m\u001b[0m\n",
            "\u001b[0;32m/usr/local/lib/python3.6/dist-packages/tensorflow/python/keras/saving/saving_utils.py\u001b[0m in \u001b[0;36m_deserialize_nested_config\u001b[0;34m(deserialize_fn, config)\u001b[0m\n\u001b[1;32m    257\u001b[0m     \u001b[0;32mreturn\u001b[0m \u001b[0;32mNone\u001b[0m\u001b[0;34m\u001b[0m\u001b[0;34m\u001b[0m\u001b[0m\n\u001b[1;32m    258\u001b[0m   \u001b[0;32mif\u001b[0m \u001b[0m_is_single_object\u001b[0m\u001b[0;34m(\u001b[0m\u001b[0mconfig\u001b[0m\u001b[0;34m)\u001b[0m\u001b[0;34m:\u001b[0m\u001b[0;34m\u001b[0m\u001b[0;34m\u001b[0m\u001b[0m\n\u001b[0;32m--> 259\u001b[0;31m     \u001b[0;32mreturn\u001b[0m \u001b[0mdeserialize_fn\u001b[0m\u001b[0;34m(\u001b[0m\u001b[0mconfig\u001b[0m\u001b[0;34m)\u001b[0m\u001b[0;34m\u001b[0m\u001b[0;34m\u001b[0m\u001b[0m\n\u001b[0m\u001b[1;32m    260\u001b[0m   \u001b[0;32melif\u001b[0m \u001b[0misinstance\u001b[0m\u001b[0;34m(\u001b[0m\u001b[0mconfig\u001b[0m\u001b[0;34m,\u001b[0m \u001b[0mdict\u001b[0m\u001b[0;34m)\u001b[0m\u001b[0;34m:\u001b[0m\u001b[0;34m\u001b[0m\u001b[0;34m\u001b[0m\u001b[0m\n\u001b[1;32m    261\u001b[0m     return {\n",
            "\u001b[0;32m/usr/local/lib/python3.6/dist-packages/tensorflow/python/keras/losses.py\u001b[0m in \u001b[0;36mdeserialize\u001b[0;34m(name, custom_objects)\u001b[0m\n\u001b[1;32m   1856\u001b[0m       \u001b[0mmodule_objects\u001b[0m\u001b[0;34m=\u001b[0m\u001b[0mglobals\u001b[0m\u001b[0;34m(\u001b[0m\u001b[0;34m)\u001b[0m\u001b[0;34m,\u001b[0m\u001b[0;34m\u001b[0m\u001b[0;34m\u001b[0m\u001b[0m\n\u001b[1;32m   1857\u001b[0m       \u001b[0mcustom_objects\u001b[0m\u001b[0;34m=\u001b[0m\u001b[0mcustom_objects\u001b[0m\u001b[0;34m,\u001b[0m\u001b[0;34m\u001b[0m\u001b[0;34m\u001b[0m\u001b[0m\n\u001b[0;32m-> 1858\u001b[0;31m       printable_module_name='loss function')\n\u001b[0m\u001b[1;32m   1859\u001b[0m \u001b[0;34m\u001b[0m\u001b[0m\n\u001b[1;32m   1860\u001b[0m \u001b[0;34m\u001b[0m\u001b[0m\n",
            "\u001b[0;32m/usr/local/lib/python3.6/dist-packages/tensorflow/python/keras/utils/generic_utils.py\u001b[0m in \u001b[0;36mdeserialize_keras_object\u001b[0;34m(identifier, module_objects, custom_objects, printable_module_name)\u001b[0m\n\u001b[1;32m    376\u001b[0m       \u001b[0;32mif\u001b[0m \u001b[0mobj\u001b[0m \u001b[0;32mis\u001b[0m \u001b[0;32mNone\u001b[0m\u001b[0;34m:\u001b[0m\u001b[0;34m\u001b[0m\u001b[0;34m\u001b[0m\u001b[0m\n\u001b[1;32m    377\u001b[0m         raise ValueError(\n\u001b[0;32m--> 378\u001b[0;31m             'Unknown ' + printable_module_name + ': ' + object_name)\n\u001b[0m\u001b[1;32m    379\u001b[0m     \u001b[0;31m# Classes passed by name are instantiated with no args, functions are\u001b[0m\u001b[0;34m\u001b[0m\u001b[0;34m\u001b[0m\u001b[0;34m\u001b[0m\u001b[0m\n\u001b[1;32m    380\u001b[0m     \u001b[0;31m# returned as-is.\u001b[0m\u001b[0;34m\u001b[0m\u001b[0;34m\u001b[0m\u001b[0;34m\u001b[0m\u001b[0m\n",
            "\u001b[0;31mValueError\u001b[0m: Unknown loss function: huber_fn"
          ]
        }
      ]
    },
    {
      "cell_type": "markdown",
      "metadata": {
        "id": "-dwaBNo42319"
      },
      "source": [
        "--------------\r\n",
        "그냥 불러오면 위처럼 huber_fn을 모른다는 error가 뜬다."
      ]
    },
    {
      "cell_type": "code",
      "metadata": {
        "id": "q8v6dC5E289U"
      },
      "source": [
        "model2 = keras.models.load_model('model.h5', custom_objects={'huber_fn':huber_fn}) #custom_objects추가"
      ],
      "execution_count": null,
      "outputs": []
    },
    {
      "cell_type": "code",
      "metadata": {
        "colab": {
          "base_uri": "https://localhost:8080/"
        },
        "id": "Tp1ShUDO3C5_",
        "outputId": "477c9ce8-9ba7-4f2a-8569-b1349340c424"
      },
      "source": [
        "model2. summary()"
      ],
      "execution_count": null,
      "outputs": [
        {
          "output_type": "stream",
          "text": [
            "Model: \"sequential_10\"\n",
            "_________________________________________________________________\n",
            "Layer (type)                 Output Shape              Param #   \n",
            "=================================================================\n",
            "dense_31 (Dense)             (None, 10)                90        \n",
            "_________________________________________________________________\n",
            "dense_32 (Dense)             (None, 1)                 11        \n",
            "=================================================================\n",
            "Total params: 101\n",
            "Trainable params: 101\n",
            "Non-trainable params: 0\n",
            "_________________________________________________________________\n"
          ],
          "name": "stdout"
        }
      ]
    },
    {
      "cell_type": "markdown",
      "metadata": {
        "id": "U9zeTAES3VIF"
      },
      "source": [
        "##### 특정 오차를 지정해서 사용하고 싶을 때 -> 매개변수 생성"
      ]
    },
    {
      "cell_type": "code",
      "metadata": {
        "id": "uUx1KVJo3EAF"
      },
      "source": [
        "def create_huber(threshold=1.0):#default는 1.0\r\n",
        "  def huber_fn(y_true, y_pred):\r\n",
        "    error= y_true-y_pred\r\n",
        "    is_small_error = tf.abs(error)<threshold\r\n",
        "    squared_loss = tf.square(error)/2\r\n",
        "    linear_loss = threshold*tf.abs(error)-threshold**2/2\r\n",
        "    return tf.where(is_small_error, squared_loss, linear_loss)\r\n",
        "  return huber_fn"
      ],
      "execution_count": null,
      "outputs": []
    },
    {
      "cell_type": "code",
      "metadata": {
        "id": "B0v4RtQi36Gs"
      },
      "source": [
        "model2= keras.models.load_model('model.h5', custom_objects={'huber_fn':create_huber(2.0)})"
      ],
      "execution_count": null,
      "outputs": []
    },
    {
      "cell_type": "markdown",
      "metadata": {
        "id": "GEA4sg6n7eBJ"
      },
      "source": [
        "----------------\r\n",
        "- 기존에 저장된 손실함수 이름이 'huber_fn'이어서 여기도 그런 것이다\r\n",
        "- threshold값은 같이 저장이 안된다."
      ]
    },
    {
      "cell_type": "markdown",
      "metadata": {
        "id": "CiOnSj5R4gHn"
      },
      "source": [
        "##### Loss클래스 상속하고 get_config()메서드 구현하기"
      ]
    },
    {
      "cell_type": "code",
      "metadata": {
        "id": "7HoS75ON2lZ6"
      },
      "source": [
        "class HuberLoss(keras.losses.Loss):\r\n",
        "  def __init__(self, threshold=1.0,**kwargs):\r\n",
        "    self.threshold = threshold\r\n",
        "    super().__init__(**kwargs)\r\n",
        "\r\n",
        "  def call(self, y_true, y_pred):\r\n",
        "    error= y_true-y_pred\r\n",
        "    is_small_error = tf.abs(error)<threshold\r\n",
        "    squared_loss = tf.square(error)/2\r\n",
        "    linear_loss = threshold*tf.abs(error)-threshold**2/2\r\n",
        "    return tf.where(is_small_error, squared_loss, linear_loss)\r\n",
        "\r\n",
        "  def get_config(self): #하이퍼파라미터 이름과 같이 매핑된 딕셔너리 반환\r\n",
        "    base_config=super().get_config()\r\n",
        "    return {**base_config, 'threshold':self.threshold}"
      ],
      "execution_count": null,
      "outputs": []
    },
    {
      "cell_type": "code",
      "metadata": {
        "id": "9tjT7BHE-mBH"
      },
      "source": [
        "model.compile(loss=HuberLoss(2.), optimizer='nadam')"
      ],
      "execution_count": null,
      "outputs": []
    },
    {
      "cell_type": "code",
      "metadata": {
        "id": "3SuBFZg27Pec"
      },
      "source": [
        "model.save('model2.h5')"
      ],
      "execution_count": null,
      "outputs": []
    },
    {
      "cell_type": "code",
      "metadata": {
        "id": "CC0R_F6L7T5O"
      },
      "source": [
        "model3 = keras.models.load_model('model2.h5', custom_objects={'HuberLoss':HuberLoss})"
      ],
      "execution_count": null,
      "outputs": []
    },
    {
      "cell_type": "markdown",
      "metadata": {
        "id": "F1GMF6x37pqP"
      },
      "source": [
        "---------------\r\n",
        "- 모델을 저장할 때 threshold값도 같이 저장된다.\r\n",
        "- 로드할 때 클래스 이름과 클래스 자체를 매핑해주면 된다."
      ]
    },
    {
      "cell_type": "code",
      "metadata": {
        "id": "Ptx9XYOe4WS_",
        "colab": {
          "base_uri": "https://localhost:8080/"
        },
        "outputId": "e6c8416d-0053-4a92-9797-908eeae31d8a"
      },
      "source": [
        "model3.loss.get_config()"
      ],
      "execution_count": null,
      "outputs": [
        {
          "output_type": "execute_result",
          "data": {
            "text/plain": [
              "{'name': None, 'reduction': 'auto', 'threshold': 2.0}"
            ]
          },
          "metadata": {
            "tags": []
          },
          "execution_count": 77
        }
      ]
    },
    {
      "cell_type": "markdown",
      "metadata": {
        "id": "pnCHeBlO8Nfi"
      },
      "source": [
        "#### 활성화 함수, 초기화, 규제, 제한을 커스터마이징하기\r\n",
        "- 손실, 규제, 제한, 초기화, 지표, 활성화 함수, 층, 모델과 같은 대부분의 케라스 기능은 유사한 방법으로 커스터마이징할 수 있다.\r\n"
      ]
    },
    {
      "cell_type": "code",
      "metadata": {
        "id": "hO4N_d7a8X1C"
      },
      "source": [
        "def my_softplus(z):\r\n",
        "  return tf.math.log(tf.exp(z)+1.0)\r\n",
        "\r\n",
        "def my_glorot_initializer(shape, dtype=tf.float32):\r\n",
        "  stddev= tf.sqrt(2. / (shape[0] + shape[1]))\r\n",
        "  return tf.random.normal(shape, stddev=stddev, dtype = dtype)\r\n",
        "\r\n",
        "def my_l1_regularization(weights):#keras.regularizers.l1(0.01)과 동일\r\n",
        "  return tf.reduce_sum(tf.abs(0.01*weights)) #규제 하이퍼파라미터 값이 0.01\r\n",
        "\r\n",
        "def my_positive_weights(weights): #양수인 가중치만 남김(tf.nn.relu, keras.constraints.nonneg()와 동일)\r\n",
        "  return tf.where(weights<0.,tf.zeros_like(weights), weights)"
      ],
      "execution_count": null,
      "outputs": []
    },
    {
      "cell_type": "code",
      "metadata": {
        "id": "wboQd0FW9tev"
      },
      "source": [
        "layer= keras.layers.Dense(30, activation=my_softplus, \r\n",
        "                          kernel_initializer=my_glorot_initializer, \r\n",
        "                          kernel_regularizer=my_l1_regularization, \r\n",
        "                          kernel_constraint=my_positive_weights)"
      ],
      "execution_count": null,
      "outputs": []
    },
    {
      "cell_type": "markdown",
      "metadata": {
        "id": "0noF4WGv_kJJ"
      },
      "source": [
        "- factor 하이퍼파라미터를 저장하는 l1규제의 클래스 만들기"
      ]
    },
    {
      "cell_type": "code",
      "metadata": {
        "id": "bdmMdxkc_AQh"
      },
      "source": [
        "class MyL1Regularizer(keras.regularizers.Regularizer):\r\n",
        "  def __init__(self, factor):\r\n",
        "    self.factor = factor\r\n",
        "  def __call__(self, weights):#손실, 층, 모델의 경우 call메서드를 구현해야한다.\r\n",
        "    return tf.reduce_sum(tf.abs(self.factor * weights))\r\n",
        "  def get_config(self):\r\n",
        "    return {'factor':self.factor}"
      ],
      "execution_count": null,
      "outputs": []
    },
    {
      "cell_type": "markdown",
      "metadata": {
        "id": "lYJsXgH78nxF"
      },
      "source": [
        "#### 사용자 정의 지표\r\n",
        "- 손실과 지표가 개념적으로 다른 것은 아니다.\r\n",
        "- 그래서 아까 만든 huber 손실 함수를 지표로 사용해도 잘 동작한다."
      ]
    },
    {
      "cell_type": "code",
      "metadata": {
        "id": "YlhXI_moAWVd"
      },
      "source": [
        "model3.compile(loss='mse', optimizer='nadam', metrics=[create_huber(2.0)])"
      ],
      "execution_count": null,
      "outputs": []
    },
    {
      "cell_type": "markdown",
      "metadata": {
        "id": "T17ASnwDBVP_"
      },
      "source": [
        "케라스가 지표를 계산하는 방법은\r\n",
        "\r\n",
        "1. 훈련하는 동안 각 배치에 대해 지표 계산\r\n",
        "2. 현재까지의 평균에 더해서 또 평균\r\n",
        "\r\n",
        "ex) 이진분류기\r\n",
        "- 첫 번째 배치에서 정밀도 80%(5개를 positive라고 분류했고, 그 중 4개가 True)\r\n",
        "- 두 번째 배치에서 정밀도 0%(3개를 positive라고 분류했고, 그 중 0개가 True)\r\n",
        "=> 위 방식대로라면 (80+0)/2 = 40%\r\n",
        "\r\n",
        "하지만 옳은 방법이 아님!!\r\n",
        "(4+0)/(5+3) => 1/2 => 즉 50%여야한다."
      ]
    },
    {
      "cell_type": "code",
      "metadata": {
        "colab": {
          "base_uri": "https://localhost:8080/"
        },
        "id": "c7KWrs-hBUtO",
        "outputId": "0ab5470b-2a14-4a61-e4ca-df3eb21f7b3a"
      },
      "source": [
        "precision = keras.metrics.Precision()\r\n",
        "precision([0,1,1,1,0,1,0,1],[1,1,0,1,0,1,0,1])#첫 번째 배치"
      ],
      "execution_count": null,
      "outputs": [
        {
          "output_type": "execute_result",
          "data": {
            "text/plain": [
              "<tf.Tensor: shape=(), dtype=float32, numpy=0.8>"
            ]
          },
          "metadata": {
            "tags": []
          },
          "execution_count": 81
        }
      ]
    },
    {
      "cell_type": "code",
      "metadata": {
        "colab": {
          "base_uri": "https://localhost:8080/"
        },
        "id": "LKlUTl6WCcR5",
        "outputId": "8458b416-fbfe-4978-dfab-4e18a542bd5f"
      },
      "source": [
        "precision([0,1,0,0,1,0,1,1],[1,0,1,1,0,0,0,0]) #두 번째 배치"
      ],
      "execution_count": null,
      "outputs": [
        {
          "output_type": "execute_result",
          "data": {
            "text/plain": [
              "<tf.Tensor: shape=(), dtype=float32, numpy=0.5>"
            ]
          },
          "metadata": {
            "tags": []
          },
          "execution_count": 82
        }
      ]
    },
    {
      "cell_type": "markdown",
      "metadata": {
        "id": "uM7QJ0BQDBW6"
      },
      "source": [
        "------------\r\n",
        "두 번째 배치를 처리한 후 0.5가 되었다.\r\n",
        "\r\n",
        "배치마다 점진적으로 업데이트되기 때문에 이를 <strong>'스트리밍 지표' </strong>또는 '상태가 있는 지표'라고 부른다."
      ]
    },
    {
      "cell_type": "code",
      "metadata": {
        "colab": {
          "base_uri": "https://localhost:8080/"
        },
        "id": "c1Qltp3bCudc",
        "outputId": "8c448459-88c7-46d1-880f-bd81bf802dc7"
      },
      "source": [
        "precision.result() #현재 지푯값 얻기"
      ],
      "execution_count": null,
      "outputs": [
        {
          "output_type": "execute_result",
          "data": {
            "text/plain": [
              "<tf.Tensor: shape=(), dtype=float32, numpy=0.5>"
            ]
          },
          "metadata": {
            "tags": []
          },
          "execution_count": 83
        }
      ]
    },
    {
      "cell_type": "code",
      "metadata": {
        "colab": {
          "base_uri": "https://localhost:8080/"
        },
        "id": "k4h2xFZaDf90",
        "outputId": "65764c5b-9dc4-4e85-e408-6467b7b854ac"
      },
      "source": [
        "precision.variables #변수 확인"
      ],
      "execution_count": null,
      "outputs": [
        {
          "output_type": "execute_result",
          "data": {
            "text/plain": [
              "[<tf.Variable 'true_positives:0' shape=(1,) dtype=float32, numpy=array([4.], dtype=float32)>,\n",
              " <tf.Variable 'false_positives:0' shape=(1,) dtype=float32, numpy=array([4.], dtype=float32)>]"
            ]
          },
          "metadata": {
            "tags": []
          },
          "execution_count": 88
        }
      ]
    },
    {
      "cell_type": "code",
      "metadata": {
        "id": "uiRas2GNDsqb"
      },
      "source": [
        "precision.reset_states() #변수 초기화"
      ],
      "execution_count": null,
      "outputs": []
    },
    {
      "cell_type": "markdown",
      "metadata": {
        "id": "hSFErRVyD-zR"
      },
      "source": [
        "##### 스트리밍 지표 만들기\r\n",
        "- keras.metrics.Metric 클래스를 상속한다."
      ]
    },
    {
      "cell_type": "code",
      "metadata": {
        "id": "Yi4tDn4SEAKe"
      },
      "source": [
        "class HuberMetric(keras.metrics.Metric):\r\n",
        "  def __init__(self, threshold=1.0, **kwargs):\r\n",
        "    super().__init__(**kwargs) #기본 매개변수 처리(ex  dtype)\r\n",
        "    self.threshold = threshold\r\n",
        "    self.huber_fn = create_huber(threshold)\r\n",
        "    self.total = self.add_weight('total', initializer='zeros') #배치마다 업뎃되는 tf.Variable로 관리\r\n",
        "    self.count = self.add_weight('count', initializer='zeros')\r\n",
        "\r\n",
        "  def update_state(self, y_true, y_pred, sample_weight=None): #변수 업뎃(이 클래스를 함수처럼 사용할 때 호출된다)\r\n",
        "    metric=self.huber_fn(y_true, y_pred)\r\n",
        "    self.total.assign_add(tf.reduce_sum(metric))\r\n",
        "    self.count.assign_add(tf.cast(tf.size(y_true), tf.float32))\r\n",
        "\r\n",
        "  def result(self): #최종 결과 (평균 손실 값) 반환\r\n",
        "    return self.total/self.count\r\n",
        "\r\n",
        "  def get_config(self): #하이퍼파라미터 저장\r\n",
        "    base_config=super().get_config()\r\n",
        "    return {**base_config, \"threshold\":self.threshold}"
      ],
      "execution_count": null,
      "outputs": []
    },
    {
      "cell_type": "markdown",
      "metadata": {
        "id": "cfWEAxnmGtB3"
      },
      "source": [
        "#### 사용자 정의 층 \r\n"
      ]
    },
    {
      "cell_type": "markdown",
      "metadata": {
        "id": "Ktxd1emRG_HK"
      },
      "source": [
        "##### 가중치가 필요없는(Flatten, Pooling, ReLU등) 사용자 정의 층을 만들기\r\n",
        "- keras.layers.Lambda 사용 "
      ]
    },
    {
      "cell_type": "code",
      "metadata": {
        "id": "pMUDKIkaGv8g"
      },
      "source": [
        "exponential_layer = keras.layers.Lambda(lambda x: tf.exp(x))"
      ],
      "execution_count": null,
      "outputs": []
    },
    {
      "cell_type": "markdown",
      "metadata": {
        "id": "xtKCqEwLHY35"
      },
      "source": [
        "##### 가중치가 필요한(상태를 가진) 사용자 정의 층 만들기 \r\n",
        "- keras.layers.Layer 상속"
      ]
    },
    {
      "cell_type": "code",
      "metadata": {
        "id": "ZpbZue8CHfVy"
      },
      "source": [
        "class MyDense(keras.layers.Layer):\r\n",
        "  def __init__(self, units, activation=None, **kwargs):\r\n",
        "    super().__init__(**kwargs) #부모 생성자를 호출해서 매개변수 전달\r\n",
        "    self.units= units\r\n",
        "    self.activation = keras.activations.get(activation)#적절한 활성화 함수로 바꾸기\r\n",
        "\r\n",
        "  def build(self, batch_input_shape): #가중치마다 add_weight()메서드를 호출해서 층의 변수(tf.Variable)를 만듦 -> 층이 처음 사용될 때 호출\r\n",
        "    self.kernel = self.add_weight(\r\n",
        "        name='kernel', shape=[batch_input_shape[-1], self.units],#형상이 (n[L-1], n[L])이므로 n[L-1]은 이전 층의 뉴런 개수\r\n",
        "        initializer='glorot_normal'\r\n",
        "    )\r\n",
        "\r\n",
        "  def call(self, X):#필요한 연산 수행\r\n",
        "    return self.activation(X@self.kernel+self.bias)\r\n",
        "\r\n",
        "  def compute_output_shape(self, batch_input_shape):#이 층의 출력 크기\r\n",
        "    return tf.TensorShape(batch_input_shpae.as_list()[:-1]+[self.units])\r\n",
        "\r\n",
        "  def get_config(self): #설정 저장\r\n",
        "    base_config=super().get_config()\r\n",
        "    return {**base_config, 'units':self.units, 'activation':keras.activations.serialize(self.activation)}"
      ],
      "execution_count": null,
      "outputs": []
    },
    {
      "cell_type": "markdown",
      "metadata": {
        "id": "txRV5pdSMpXf"
      },
      "source": [
        "##### 여러 입력을 받는 층\r\n",
        "- 함수형 API와 서브 클래싱 API에만 사용 가능(시퀀셜 API는 사용 불가) "
      ]
    },
    {
      "cell_type": "code",
      "metadata": {
        "id": "GISRAGoBIe9w"
      },
      "source": [
        "class MyMultiLayer(keras.layers.Layer):\r\n",
        "  def call(self, X):\r\n",
        "    X1,X2= X\r\n",
        "    return [X1+X2, X1*X2, X1/X2]\r\n",
        "    \r\n",
        "  def compute_output_shape(self, batch_input_shape):\r\n",
        "    b1,b2 = batch_input_shape\r\n",
        "    return [b1,b1,b1] #올바르게 브로드캐스팅되어야 함"
      ],
      "execution_count": null,
      "outputs": []
    },
    {
      "cell_type": "markdown",
      "metadata": {
        "id": "EgMTEwvENSZ7"
      },
      "source": [
        "- 훈련과 테스트에서 다른 동작을 하는 층(Dropout, Batch Normalization 등)"
      ]
    },
    {
      "cell_type": "code",
      "metadata": {
        "id": "Cenej1DbHeWY"
      },
      "source": [
        "class MyGaussianNoise(keras.layers.Layer):\r\n",
        "  def __init__(self, stddev, **kwargs):\r\n",
        "    super().__init__(**kwargs)\r\n",
        "    self.stddev = stddev\r\n",
        "\r\n",
        "  def call(self, X ,training=True): #training 매개변수 추가\r\n",
        "    if training:\r\n",
        "      noise = tf.random.nomral(tf.shape(X), stddev= self.stddev)\r\n",
        "      return X+noise #가우스 잡음 추가(keras.layers.GaussianNoise와 동일)\r\n",
        "    else:\r\n",
        "      return X\r\n",
        "\r\n",
        "  def compute_output_shape(self, batch_input_shape):\r\n",
        "    return batch_input_shape"
      ],
      "execution_count": null,
      "outputs": []
    }
  ]
}